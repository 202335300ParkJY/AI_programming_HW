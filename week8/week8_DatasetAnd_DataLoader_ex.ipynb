{
  "nbformat": 4,
  "nbformat_minor": 0,
  "metadata": {
    "colab": {
      "provenance": []
    },
    "kernelspec": {
      "name": "python3",
      "display_name": "Python 3"
    },
    "language_info": {
      "name": "python"
    }
  },
  "cells": [
    {
      "cell_type": "markdown",
      "source": [
        "## Dataset"
      ],
      "metadata": {
        "id": "6Avvy9d-vVqZ"
      }
    },
    {
      "cell_type": "code",
      "source": [
        "import torch\n",
        "from torch.utils.data import Dataset"
      ],
      "metadata": {
        "id": "cbemUtuJdKx9"
      },
      "execution_count": 4,
      "outputs": []
    },
    {
      "cell_type": "code",
      "source": [
        "class CustomDataset_jy(Dataset):\n",
        "  def __init__(self, data, labels, transform=None):\n",
        "    self.data = torch.tensor(data).float()\n",
        "    # 작아서 이렇게 한번에 넣고 처리함\n",
        "    # 만약, 일반적인 경우에서도 이렇게 하면 부하가 많이 가해져서 위험할  수도 있음\n",
        "    self.labels = torch.tensor(labels).float()\n",
        "    self.transform = None # transform 설정\n",
        "\n",
        "  def __len__(self):\n",
        "    return len(self.data)\n",
        "\n",
        "  def __getitem__(self, idx):\n",
        "    sample = self.data[idx]\n",
        "    label = self.labels[idx]\n",
        "    if self.transform: # instance별로 transform 적용\n",
        "      sample = self.transform(sample)\n",
        "    return sample, label\n",
        "\n",
        "x = [0.5,  14.0, 15.0, 28.0, 11.0,  8.0,  3.0, -4.0,  6.0, 13.0, 21.0]\n",
        "y = [35.7, 55.9, 58.2, 81.9, 56.3, 48.9, 33.9, 21.8, 48.4, 60.4, 68.4]\n",
        "\n",
        "dataset = CustomDataset_jy(x, y)"
      ],
      "metadata": {
        "id": "qSDr52rNrO9x"
      },
      "execution_count": 9,
      "outputs": []
    },
    {
      "cell_type": "code",
      "source": [
        "i = iter(dataset)\n",
        "print(next(i))\n",
        "# print(i.__next__())"
      ],
      "metadata": {
        "colab": {
          "base_uri": "https://localhost:8080/"
        },
        "id": "VPixxv2dpPcZ",
        "outputId": "357679ba-709e-40a2-de11-ad143fa1ba05"
      },
      "execution_count": 15,
      "outputs": [
        {
          "output_type": "stream",
          "name": "stdout",
          "text": [
            "(tensor(0.5000), tensor(35.7000))\n"
          ]
        }
      ]
    },
    {
      "cell_type": "code",
      "source": [],
      "metadata": {
        "id": "KwsnKfoCsU0x"
      },
      "execution_count": null,
      "outputs": []
    },
    {
      "cell_type": "markdown",
      "source": [
        "## DataLoader"
      ],
      "metadata": {
        "id": "4ADyDnrevccy"
      }
    },
    {
      "cell_type": "code",
      "source": [
        "from torch.utils.data import DataLoader"
      ],
      "metadata": {
        "id": "E4BqrA9VvmLx"
      },
      "execution_count": 19,
      "outputs": []
    },
    {
      "cell_type": "code",
      "source": [
        "data_loader = DataLoader(\n",
        "    dataset,     # torch.utils.data.Dataset의 instance\n",
        "    batch_size,  # batch의 샘플수\n",
        "    shffule,     # boolean, 셔플링을 할지 여부(순서를 랜덤하게)\n",
        "    num_workers, # 데이터로딩에 사용되는 sub-process의 수 (CPU의 core수를 넘으면 안됨.)\n",
        "    pin_memory,  # boolean, GPU memory 영역을 예약할지 여부(pin).\n",
        "    drop_last,   # boolean, 마지막 batch가 샘플의 수가 맞지 않을 경우 dorp할지 여부.\n",
        "    collate_fn,  # callable, 샘플 리스트를 배치로 변환하는 함수\n",
        "                 # None: 기본 collate_fn 사용 (텐서 자동 스택, 딕셔너리 처리 등)\n",
        "                 # 커스텀 함수: 가변 길이 패딩, 배치 단위 전처리 등에 사용\n",
        "    )"
      ],
      "metadata": {
        "id": "M5HAP7hRvtrR"
      },
      "execution_count": null,
      "outputs": []
    },
    {
      "cell_type": "markdown",
      "source": [
        "위에는 그냥 두기"
      ],
      "metadata": {
        "id": "_EruAuL0vwdR"
      }
    },
    {
      "cell_type": "code",
      "source": [
        "data_loader = DataLoader(\n",
        "    dataset,\n",
        "    batch_size = 4,\n",
        "    shuffle = True,\n",
        ")\n",
        "\n",
        "for batch_idx, (data, labels) in enumerate(data_loader):\n",
        "    print(f'{batch_idx=}')\n",
        "    print(f'{data.shape} | {data=}')\n",
        "    print(f'{labels.shape} | {labels=}')\n",
        "\n",
        "    # training ..."
      ],
      "metadata": {
        "colab": {
          "base_uri": "https://localhost:8080/"
        },
        "id": "qCcSXPykvkOu",
        "outputId": "82046861-af18-43d3-b476-5d3e4ce5ec3f"
      },
      "execution_count": 20,
      "outputs": [
        {
          "output_type": "stream",
          "name": "stdout",
          "text": [
            "batch_idx=0\n",
            "torch.Size([4]) | data=tensor([ 0.5000,  8.0000, 14.0000, 13.0000])\n",
            "torch.Size([4]) | labels=tensor([35.7000, 48.9000, 55.9000, 60.4000])\n",
            "batch_idx=1\n",
            "torch.Size([4]) | data=tensor([ 6., 15., 11., 21.])\n",
            "torch.Size([4]) | labels=tensor([48.4000, 58.2000, 56.3000, 68.4000])\n",
            "batch_idx=2\n",
            "torch.Size([3]) | data=tensor([ 3., -4., 28.])\n",
            "torch.Size([3]) | labels=tensor([33.9000, 21.8000, 81.9000])\n"
          ]
        }
      ]
    },
    {
      "cell_type": "markdown",
      "source": [
        "## 이 아래는 dataset을 list로 해서 load로 ....."
      ],
      "metadata": {
        "id": "gHA_lAeqyOyx"
      }
    },
    {
      "cell_type": "code",
      "source": [
        "class ListDataset_jy(Dataset):\n",
        "    def __init__(self, transform=None):\n",
        "        self.data = [[1, 2, 3], [4, 5, 6], [7, 8, 9]]\n",
        "        self.labels = [1, 2, 3]\n",
        "        self.transform = transform  # transform을 초기화할 때 인자로 받기\n",
        "\n",
        "    def __len__(self):\n",
        "        return len(self.data)\n",
        "\n",
        "    def __getitem__(self, idx):\n",
        "        sample = self.data[idx]\n",
        "        label = self.labels[idx]\n",
        "        if self.transform:  # transform이 있을 때만 적용\n",
        "            sample = self.transform(sample)\n",
        "        return sample, label"
      ],
      "metadata": {
        "id": "6TRy1CTgw8Px"
      },
      "execution_count": 25,
      "outputs": []
    },
    {
      "cell_type": "code",
      "source": [
        "dataset = ListDataset_jy()\n",
        "print(dataset[0])"
      ],
      "metadata": {
        "colab": {
          "base_uri": "https://localhost:8080/"
        },
        "id": "mC0xui2NxZkp",
        "outputId": "baf8f540-86f9-45b0-8a54-187b49e01130"
      },
      "execution_count": 27,
      "outputs": [
        {
          "output_type": "stream",
          "name": "stdout",
          "text": [
            "([1, 2, 3], 1)\n"
          ]
        }
      ]
    },
    {
      "cell_type": "code",
      "source": [
        "for idx, i in enumerate(dataset):\n",
        "  print(f\"{idx = :02} | {i = }\")"
      ],
      "metadata": {
        "colab": {
          "base_uri": "https://localhost:8080/"
        },
        "id": "8Pw2soaRxex5",
        "outputId": "a8801373-f7d7-4853-f160-699c59e4e472"
      },
      "execution_count": 28,
      "outputs": [
        {
          "output_type": "stream",
          "name": "stdout",
          "text": [
            "idx = 00 | i = ([1, 2, 3], 1)\n",
            "idx = 01 | i = ([4, 5, 6], 2)\n",
            "idx = 02 | i = ([7, 8, 9], 3)\n"
          ]
        }
      ]
    },
    {
      "cell_type": "code",
      "source": [
        "dl = DataLoader(dataset, batch_size=2, )"
      ],
      "metadata": {
        "id": "0Bhan3QqxoSJ"
      },
      "execution_count": 29,
      "outputs": []
    },
    {
      "cell_type": "code",
      "source": [
        "for idx, i in enumerate(dl):\n",
        "  print(i)"
      ],
      "metadata": {
        "colab": {
          "base_uri": "https://localhost:8080/"
        },
        "id": "L_KDFyEAxvrp",
        "outputId": "cd950246-319c-434f-b396-a428a739e49f"
      },
      "execution_count": 30,
      "outputs": [
        {
          "output_type": "stream",
          "name": "stdout",
          "text": [
            "[[tensor([1, 4]), tensor([2, 5]), tensor([3, 6])], tensor([1, 2])]\n",
            "[[tensor([7]), tensor([8]), tensor([9])], tensor([3])]\n"
          ]
        }
      ]
    },
    {
      "cell_type": "code",
      "source": [
        "dl = DataLoader(dataset, batch_size=2, shuffle=False)"
      ],
      "metadata": {
        "id": "u7e9mMFlzMbR"
      },
      "execution_count": 32,
      "outputs": []
    },
    {
      "cell_type": "code",
      "source": [
        "for idx, i in enumerate(dl):\n",
        "  print(f\"{idx = :02} | {i = }\")"
      ],
      "metadata": {
        "colab": {
          "base_uri": "https://localhost:8080/"
        },
        "id": "PBpz5U8GzSam",
        "outputId": "48798216-b3e0-41a5-cde5-4cb592e0ba70"
      },
      "execution_count": 33,
      "outputs": [
        {
          "output_type": "stream",
          "name": "stdout",
          "text": [
            "idx = 00 | i = [[tensor([1, 4]), tensor([2, 5]), tensor([3, 6])], tensor([1, 2])]\n",
            "idx = 01 | i = [[tensor([7]), tensor([8]), tensor([9])], tensor([3])]\n"
          ]
        }
      ]
    }
  ]
}