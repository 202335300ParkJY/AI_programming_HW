{
  "nbformat": 4,
  "nbformat_minor": 0,
  "metadata": {
    "colab": {
      "provenance": []
    },
    "kernelspec": {
      "name": "python3",
      "display_name": "Python 3"
    },
    "language_info": {
      "name": "python"
    }
  },
  "cells": [
    {
      "cell_type": "code",
      "source": [
        "import torch\n",
        "import numpy as np"
      ],
      "metadata": {
        "id": "yMuaQLjnNNFw"
      },
      "execution_count": 10,
      "outputs": []
    },
    {
      "cell_type": "code",
      "execution_count": 36,
      "metadata": {
        "colab": {
          "base_uri": "https://localhost:8080/"
        },
        "id": "99_lBOXeMwcT",
        "outputId": "5c81fdf7-b02c-4aef-92f8-5f9de63d4062"
      },
      "outputs": [
        {
          "output_type": "execute_result",
          "data": {
            "text/plain": [
              "torch.Size([1, 1, 4, 4])"
            ]
          },
          "metadata": {},
          "execution_count": 36
        }
      ],
      "source": [
        "from torch.nn import MaxPool2d\n",
        "s = 4\n",
        "n = 2\n",
        "input = torch.tensor(\n",
        "    np.arange(16),\n",
        "    dtype = torch.float32,\n",
        ")\n",
        "input = input.reshape([4, -1])\n",
        "\n",
        "input = torch.unsqueeze(input, 0)\n",
        "input = torch.unsqueeze(input, 1)\n",
        "input.shape"
      ]
    },
    {
      "cell_type": "code",
      "source": [
        "input"
      ],
      "metadata": {
        "colab": {
          "base_uri": "https://localhost:8080/"
        },
        "id": "LpVSEJTXNMfZ",
        "outputId": "e706ea2a-9329-4237-e1ef-faaa32c821aa"
      },
      "execution_count": 29,
      "outputs": [
        {
          "output_type": "execute_result",
          "data": {
            "text/plain": [
              "tensor([[[[ 0.,  1.,  2.,  3.,  4.,  5.,  6.,  7.],\n",
              "          [ 8.,  9., 10., 11., 12., 13., 14., 15.],\n",
              "          [16., 17., 18., 19., 20., 21., 22., 23.],\n",
              "          [24., 25., 26., 27., 28., 29., 30., 31.]]]])"
            ]
          },
          "metadata": {},
          "execution_count": 29
        }
      ]
    },
    {
      "cell_type": "code",
      "source": [
        "tmp = input.clone()\n",
        "output = MaxPool2d(kernel_size=2, stride=2)(tmp)\n",
        "output.shape, output"
      ],
      "metadata": {
        "colab": {
          "base_uri": "https://localhost:8080/"
        },
        "id": "CvbznV9ENbR3",
        "outputId": "b634ddc1-08b3-4bdc-c0fd-38430e67422a"
      },
      "execution_count": 30,
      "outputs": [
        {
          "output_type": "execute_result",
          "data": {
            "text/plain": [
              "(torch.Size([1, 1, 2, 4]),\n",
              " tensor([[[[ 9., 11., 13., 15.],\n",
              "           [25., 27., 29., 31.]]]]))"
            ]
          },
          "metadata": {},
          "execution_count": 30
        }
      ]
    },
    {
      "cell_type": "code",
      "source": [
        "from torch.nn import AvgPool2d\n",
        "\n",
        "tmp = input.clone()\n",
        "output = AvgPool2d(kernel_size=2, stride=2)(tmp)\n",
        "output.shape, output"
      ],
      "metadata": {
        "colab": {
          "base_uri": "https://localhost:8080/"
        },
        "id": "lidbJnnnPIwo",
        "outputId": "efb47cba-ddca-4cb7-e5a3-0f30a6a85f8f"
      },
      "execution_count": 31,
      "outputs": [
        {
          "output_type": "execute_result",
          "data": {
            "text/plain": [
              "(torch.Size([1, 1, 2, 4]),\n",
              " tensor([[[[ 4.5000,  6.5000,  8.5000, 10.5000],\n",
              "           [20.5000, 22.5000, 24.5000, 26.5000]]]]))"
            ]
          },
          "metadata": {},
          "execution_count": 31
        }
      ]
    },
    {
      "cell_type": "code",
      "source": [
        "from torch.nn import Flatten\n",
        "\n",
        "tmp = input.clone()\n",
        "output = Flatten(start_dim=2)(tmp)\n",
        "output.shape, output"
      ],
      "metadata": {
        "colab": {
          "base_uri": "https://localhost:8080/"
        },
        "id": "0e_I78q0OxLh",
        "outputId": "92a291ab-10f1-42ad-b355-f2c44d3e2edf"
      },
      "execution_count": 33,
      "outputs": [
        {
          "output_type": "execute_result",
          "data": {
            "text/plain": [
              "(torch.Size([1, 1, 32]),\n",
              " tensor([[[ 0.,  1.,  2.,  3.,  4.,  5.,  6.,  7.,  8.,  9., 10., 11., 12., 13.,\n",
              "           14., 15., 16., 17., 18., 19., 20., 21., 22., 23., 24., 25., 26., 27.,\n",
              "           28., 29., 30., 31.]]]))"
            ]
          },
          "metadata": {},
          "execution_count": 33
        }
      ]
    },
    {
      "cell_type": "code",
      "source": [
        "from torch.nn import Dropout\n",
        "\n",
        "tmp = torch.ones((1, 1, 4, 4))\n",
        "print(f\"{tmp.shape=}\\n{tmp}\")\n",
        "\n",
        "dropout_layer = Dropout(p=0.75)\n",
        "output = dropout_layer(tmp)\n",
        "print(f\"{output.shape=}\\n{output}\")"
      ],
      "metadata": {
        "colab": {
          "base_uri": "https://localhost:8080/"
        },
        "id": "DbNqaf-BPK7O",
        "outputId": "d8fc187c-78b4-45a0-d4fd-76caa92eba33"
      },
      "execution_count": 42,
      "outputs": [
        {
          "output_type": "stream",
          "name": "stdout",
          "text": [
            "tmp.shape=torch.Size([1, 1, 4, 4])\n",
            "tensor([[[[1., 1., 1., 1.],\n",
            "          [1., 1., 1., 1.],\n",
            "          [1., 1., 1., 1.],\n",
            "          [1., 1., 1., 1.]]]])\n",
            "output.shape=torch.Size([1, 1, 4, 4])\n",
            "tensor([[[[4., 0., 0., 0.],\n",
            "          [0., 0., 0., 4.],\n",
            "          [0., 0., 0., 0.],\n",
            "          [0., 0., 0., 0.]]]])\n"
          ]
        }
      ]
    },
    {
      "cell_type": "markdown",
      "source": [
        "node 많으면 w 많음 => 복잡 => 에러가 나기 쉬움"
      ],
      "metadata": {
        "id": "IIObO4XVQXoA"
      }
    },
    {
      "cell_type": "code",
      "source": [
        "from torch.nn import BatchNorm2d\n",
        "\n",
        "tmp = torch.ones_like(input)\n",
        "l = BatchNorm2d(num_features=1)\n",
        "output = l(tmp)\n",
        "output.shape, output\n"
      ],
      "metadata": {
        "colab": {
          "base_uri": "https://localhost:8080/"
        },
        "id": "dDaAsx62QTz2",
        "outputId": "da1c0a59-04d2-4382-f21f-ebfbd043d981"
      },
      "execution_count": 52,
      "outputs": [
        {
          "output_type": "execute_result",
          "data": {
            "text/plain": [
              "(torch.Size([1, 1, 4, 4]),\n",
              " tensor([[[[0., 0., 0., 0.],\n",
              "           [0., 0., 0., 0.],\n",
              "           [0., 0., 0., 0.],\n",
              "           [0., 0., 0., 0.]]]], grad_fn=<NativeBatchNormBackward0>))"
            ]
          },
          "metadata": {},
          "execution_count": 52
        }
      ]
    },
    {
      "cell_type": "code",
      "source": [
        "tmp"
      ],
      "metadata": {
        "colab": {
          "base_uri": "https://localhost:8080/"
        },
        "id": "vYJXEbiCTVNQ",
        "outputId": "68e617de-200e-4f9a-df61-123850561aac"
      },
      "execution_count": 53,
      "outputs": [
        {
          "output_type": "execute_result",
          "data": {
            "text/plain": [
              "tensor([[[[1., 1., 1., 1.],\n",
              "          [1., 1., 1., 1.],\n",
              "          [1., 1., 1., 1.],\n",
              "          [1., 1., 1., 1.]]]])"
            ]
          },
          "metadata": {},
          "execution_count": 53
        }
      ]
    },
    {
      "cell_type": "code",
      "source": [
        "l.weight"
      ],
      "metadata": {
        "colab": {
          "base_uri": "https://localhost:8080/"
        },
        "id": "GC-12DPxSKOH",
        "outputId": "d6789f69-4c48-4cd2-8044-ec256afbc4c6"
      },
      "execution_count": 49,
      "outputs": [
        {
          "output_type": "execute_result",
          "data": {
            "text/plain": [
              "Parameter containing:\n",
              "tensor([1.], requires_grad=True)"
            ]
          },
          "metadata": {},
          "execution_count": 49
        }
      ]
    },
    {
      "cell_type": "code",
      "source": [
        "l.bias"
      ],
      "metadata": {
        "colab": {
          "base_uri": "https://localhost:8080/"
        },
        "id": "pJlzbfpyTIyY",
        "outputId": "fff0e759-cfb8-428b-c801-0ea13b548b6b"
      },
      "execution_count": 50,
      "outputs": [
        {
          "output_type": "execute_result",
          "data": {
            "text/plain": [
              "Parameter containing:\n",
              "tensor([0.], requires_grad=True)"
            ]
          },
          "metadata": {},
          "execution_count": 50
        }
      ]
    },
    {
      "cell_type": "markdown",
      "source": [
        "moving avarage를 할때 과거의 데이터의 영향을 받는데, exponential하게 되는 것은 exponential moving avarage임"
      ],
      "metadata": {
        "id": "NMxv6fKnSujp"
      }
    },
    {
      "cell_type": "markdown",
      "source": [
        "이걸 BatchNormalization은 하고 있음"
      ],
      "metadata": {
        "id": "AS2q93phS-AA"
      }
    },
    {
      "cell_type": "code",
      "source": [],
      "metadata": {
        "id": "eL-MtRnnSb7z"
      },
      "execution_count": null,
      "outputs": []
    }
  ]
}