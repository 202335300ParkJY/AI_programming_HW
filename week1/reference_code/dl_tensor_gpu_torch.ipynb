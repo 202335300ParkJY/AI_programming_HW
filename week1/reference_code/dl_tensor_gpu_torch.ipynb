{
  "nbformat": 4,
  "nbformat_minor": 0,
  "metadata": {
    "colab": {
      "provenance": [],
      "machine_shape": "hm",
      "gpuType": "A100"
    },
    "kernelspec": {
      "name": "python3",
      "display_name": "Python 3"
    },
    "language_info": {
      "name": "python"
    },
    "accelerator": "GPU"
  },
  "cells": [
    {
      "cell_type": "code",
      "source": [
        "import torch"
      ],
      "metadata": {
        "id": "LR9JxJ6zPnbs"
      },
      "execution_count": null,
      "outputs": []
    },
    {
      "cell_type": "markdown",
      "source": [
        "# GPU 확인.\n",
        "\n",
        "* `gpu:0` : colon 뒤에 번호를 이용하여 여러 gpu를 구분함.\n",
        "* 만약 하나만 있다면 `gpu`는 결국 `gpu:0`를 의미."
      ],
      "metadata": {
        "id": "p6BUY_ndN4Ez"
      }
    },
    {
      "cell_type": "code",
      "source": [
        "print(\"사용가능한 GPU가 있는가?\",\n",
        "      torch.cuda.is_available())"
      ],
      "metadata": {
        "colab": {
          "base_uri": "https://localhost:8080/"
        },
        "id": "uBhhx4wYPzvX",
        "outputId": "dc1cd9c4-5c86-465e-ffe5-674cbaaea0f2"
      },
      "execution_count": null,
      "outputs": [
        {
          "output_type": "stream",
          "name": "stdout",
          "text": [
            "사용가능한 GPU가 있는가? True\n"
          ]
        }
      ]
    },
    {
      "cell_type": "code",
      "source": [
        "print(\"사용가능한 GPU가 몇 개인가?\",\n",
        "      torch.cuda.device_count()) # returns number of available GPU. 1 in my case\n"
      ],
      "metadata": {
        "colab": {
          "base_uri": "https://localhost:8080/"
        },
        "id": "nWw4ICqtPrxf",
        "outputId": "40bd58af-25e1-4017-e09b-f543f43dc522"
      },
      "execution_count": null,
      "outputs": [
        {
          "output_type": "stream",
          "name": "stdout",
          "text": [
            "사용가능한 GPU가 몇 개인가? 1\n"
          ]
        }
      ]
    },
    {
      "cell_type": "code",
      "source": [
        "if torch.cuda.is_available():\n",
        "    print(\"현재 사용중인 GPU의 index는?\",\n",
        "          torch.cuda.current_device()) # returns index. 0 in my case\n",
        "else:\n",
        "    print(\"GPU가 사용불가능합니다.\")"
      ],
      "metadata": {
        "colab": {
          "base_uri": "https://localhost:8080/"
        },
        "id": "REpO6ZOgPuFI",
        "outputId": "d4369413-94ff-472f-a69a-9562fc4afd80"
      },
      "execution_count": null,
      "outputs": [
        {
          "output_type": "stream",
          "name": "stdout",
          "text": [
            "현재 사용중인 GPU의 index는? 0\n"
          ]
        }
      ]
    },
    {
      "cell_type": "code",
      "source": [
        "if torch.cuda.is_available():\n",
        "  print(torch.cuda.get_device_name(0)) # Tesla T4\n",
        "else:\n",
        "  print(\"GPU가 사용불가능합니다.\")"
      ],
      "metadata": {
        "colab": {
          "base_uri": "https://localhost:8080/"
        },
        "id": "UE-X8taLPvlL",
        "outputId": "498bb442-b1db-46ed-97db-b3b46e17ca1f"
      },
      "execution_count": null,
      "outputs": [
        {
          "output_type": "stream",
          "name": "stdout",
          "text": [
            "NVIDIA A100-SXM4-40GB\n"
          ]
        }
      ]
    },
    {
      "cell_type": "code",
      "source": [
        "a = torch.tensor([1,2,3])\n",
        "print(a.device)"
      ],
      "metadata": {
        "colab": {
          "base_uri": "https://localhost:8080/"
        },
        "id": "3yQka-g1PwVt",
        "outputId": "a1c00ff4-d428-4f6e-d9c2-27f33a7c0535"
      },
      "execution_count": null,
      "outputs": [
        {
          "output_type": "stream",
          "name": "stdout",
          "text": [
            "cpu\n"
          ]
        }
      ]
    },
    {
      "cell_type": "code",
      "source": [
        "b = a.cpu()      # b = a.to(device='cpu')\n",
        "print(b.is_cpu)"
      ],
      "metadata": {
        "colab": {
          "base_uri": "https://localhost:8080/"
        },
        "id": "ey5u4HMjQfLG",
        "outputId": "dab469b0-d76f-4b9d-87b8-338c9895689d"
      },
      "execution_count": null,
      "outputs": [
        {
          "output_type": "stream",
          "name": "stdout",
          "text": [
            "True\n"
          ]
        }
      ]
    },
    {
      "cell_type": "code",
      "source": [
        "c = a.to(device='cuda:0') # c = a.cuda()\n",
        "print(c.is_cuda)"
      ],
      "metadata": {
        "id": "F9kH1ow2Oidq",
        "outputId": "8e1227c7-d28a-464a-ef48-a69357b4639f",
        "colab": {
          "base_uri": "https://localhost:8080/"
        }
      },
      "execution_count": null,
      "outputs": [
        {
          "output_type": "stream",
          "name": "stdout",
          "text": [
            "True\n"
          ]
        }
      ]
    },
    {
      "cell_type": "code",
      "source": [
        "for i in (a,b,c):\n",
        "  print(i.dtype, i)"
      ],
      "metadata": {
        "id": "0u4WkgWpOsrW",
        "outputId": "8f66229c-d94c-40b8-f1da-c239172c2d7e",
        "colab": {
          "base_uri": "https://localhost:8080/"
        }
      },
      "execution_count": null,
      "outputs": [
        {
          "output_type": "stream",
          "name": "stdout",
          "text": [
            "torch.int64 tensor([1, 2, 3])\n",
            "torch.int64 tensor([1, 2, 3])\n",
            "torch.int64 tensor([1, 2, 3], device='cuda:0')\n"
          ]
        }
      ]
    },
    {
      "cell_type": "code",
      "source": [
        "b[1] = 999\n",
        "print(a)\n",
        "print(b)\n",
        "print(c) # copy본임을 확인 가능."
      ],
      "metadata": {
        "colab": {
          "base_uri": "https://localhost:8080/"
        },
        "id": "zcBbytV17-B_",
        "outputId": "f81859e9-e2f6-4700-8831-191af6127a3c"
      },
      "execution_count": null,
      "outputs": [
        {
          "output_type": "stream",
          "name": "stdout",
          "text": [
            "tensor([  1, 999,   3])\n",
            "tensor([  1, 999,   3])\n",
            "tensor([1, 2, 3], device='cuda:0')\n"
          ]
        }
      ]
    },
    {
      "cell_type": "code",
      "source": [
        "print(a.untyped_storage().data_ptr())\n",
        "print(b.untyped_storage().data_ptr())\n",
        "print(c.untyped_storage().data_ptr())\n"
      ],
      "metadata": {
        "colab": {
          "base_uri": "https://localhost:8080/"
        },
        "id": "T_21SkVG8Rv6",
        "outputId": "c7307602-dc4f-42d5-d541-b626a53e2106"
      },
      "execution_count": null,
      "outputs": [
        {
          "output_type": "stream",
          "name": "stdout",
          "text": [
            "100057592481536\n",
            "100057592481536\n",
            "132504289804288\n"
          ]
        }
      ]
    },
    {
      "cell_type": "code",
      "source": [
        "# d = a.to(torch.device(\"cuda\"))\n",
        "d = a.cuda(0)  # d = a.cuda()인 경우 무조건 gpu:0로 할당됨. 번호를 argument로 변경가능.\n",
        "print(d.is_cuda)"
      ],
      "metadata": {
        "colab": {
          "base_uri": "https://localhost:8080/"
        },
        "id": "Ahi4MwoPQ1GJ",
        "outputId": "6529f086-6553-4835-cdf4-a1ae724e89bc"
      },
      "execution_count": null,
      "outputs": [
        {
          "output_type": "stream",
          "name": "stdout",
          "text": [
            "True\n"
          ]
        }
      ]
    },
    {
      "cell_type": "code",
      "source": [
        "print(a)\n",
        "print(b)\n",
        "print(c)\n",
        "print(d) # 아까 c의 경우와 동일."
      ],
      "metadata": {
        "colab": {
          "base_uri": "https://localhost:8080/"
        },
        "id": "TgKzQoroQ6zB",
        "outputId": "032c2fba-f7fd-4925-e41e-f805b5725193"
      },
      "execution_count": null,
      "outputs": [
        {
          "output_type": "stream",
          "name": "stdout",
          "text": [
            "tensor([  1, 999,   3])\n",
            "tensor([  1., 999.,   3.])\n",
            "tensor([1, 2, 3], device='cuda:0')\n",
            "tensor([  1, 999,   3], device='cuda:0')\n"
          ]
        }
      ]
    },
    {
      "cell_type": "code",
      "source": [
        "d[1] = 777\n",
        "print(a)\n",
        "print(b)\n",
        "print(c)\n",
        "print(d)"
      ],
      "metadata": {
        "colab": {
          "base_uri": "https://localhost:8080/"
        },
        "id": "_eUKJ3ae8Kv5",
        "outputId": "839d5bc3-6ec7-412c-8fc4-8c155dc7bb14"
      },
      "execution_count": null,
      "outputs": [
        {
          "output_type": "stream",
          "name": "stdout",
          "text": [
            "tensor([  1, 999,   3])\n",
            "tensor([  1., 999.,   3.])\n",
            "tensor([1, 2, 3], device='cuda:0')\n",
            "tensor([  1, 777,   3], device='cuda:0')\n"
          ]
        }
      ]
    },
    {
      "cell_type": "code",
      "source": [
        "b = a.to(\"cpu\", torch.float) # dytpe 변경용도로 to를 활용가능함.\n",
        "\n",
        "print(id(a),a)\n",
        "print(id(b),b)\n",
        "print(id(c),c)"
      ],
      "metadata": {
        "colab": {
          "base_uri": "https://localhost:8080/"
        },
        "id": "Zv4JMNrE8c7C",
        "outputId": "9044c86c-3c9b-4e57-f681-e6b815b777ff"
      },
      "execution_count": null,
      "outputs": [
        {
          "output_type": "stream",
          "name": "stdout",
          "text": [
            "132504787224992 tensor([  1, 999,   3])\n",
            "132504892148208 tensor([  1., 999.,   3.])\n",
            "132508506569152 tensor([1, 2, 3], device='cuda:0')\n"
          ]
        }
      ]
    },
    {
      "cell_type": "code",
      "source": [
        "b[1] = 4 # dtype이 바뀌면 data 공유하지 않음.\n",
        "\n",
        "print(a)\n",
        "print(b)\n",
        "print(c)"
      ],
      "metadata": {
        "colab": {
          "base_uri": "https://localhost:8080/"
        },
        "id": "loDGFiNi9L_N",
        "outputId": "695f1e9f-1a0b-41ee-9352-5ab97d47a5f3"
      },
      "execution_count": null,
      "outputs": [
        {
          "output_type": "stream",
          "name": "stdout",
          "text": [
            "tensor([  1, 999,   3])\n",
            "tensor([1., 4., 3.])\n",
            "tensor([1, 2, 3], device='cuda:0')\n"
          ]
        }
      ]
    },
    {
      "cell_type": "code",
      "source": [],
      "metadata": {
        "id": "eebUVE2o9W5W"
      },
      "execution_count": null,
      "outputs": []
    }
  ]
}