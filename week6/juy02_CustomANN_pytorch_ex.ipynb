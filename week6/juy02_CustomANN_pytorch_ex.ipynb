{
  "nbformat": 4,
  "nbformat_minor": 0,
  "metadata": {
    "colab": {
      "provenance": [],
      "collapsed_sections": [
        "y9ssyCVHfoSr"
      ]
    },
    "kernelspec": {
      "name": "python3",
      "display_name": "Python 3"
    },
    "language_info": {
      "name": "python"
    }
  },
  "cells": [
    {
      "cell_type": "markdown",
      "source": [
        "# operational Lib.s\n",
        "* torchviz: 0.0.2 (여기선 0.0.3 으로 나옴)\n",
        "* torchsummary: 1.5.1"
      ],
      "metadata": {
        "id": "8NWkx82cSQXy"
      }
    },
    {
      "cell_type": "code",
      "execution_count": 43,
      "metadata": {
        "id": "-lNxzWXkSDds"
      },
      "outputs": [],
      "source": [
        "!pip install --quiet torchviz"
      ]
    },
    {
      "cell_type": "code",
      "source": [
        "#!pip install torchsummary\n",
        "!pip install --quiet torchinfo # 이것을 더 추천함!"
      ],
      "metadata": {
        "id": "oUZvK5zhS-UJ"
      },
      "execution_count": 44,
      "outputs": []
    },
    {
      "cell_type": "code",
      "source": [
        "# 특정 패키지를 찾을 때, !pip list |~~ 사용(l이 아니라 파이프임)\n",
        "!pip list |grep torchviz\n",
        "# !pip list |grep torchsummary\n",
        "!pip list |grep torchinfo"
      ],
      "metadata": {
        "colab": {
          "base_uri": "https://localhost:8080/"
        },
        "id": "4JRdakuxTpgB",
        "outputId": "5382295f-937f-4062-9517-883a628c8a66"
      },
      "execution_count": 45,
      "outputs": [
        {
          "output_type": "stream",
          "name": "stdout",
          "text": [
            "torchviz                           0.0.3\n",
            "torchinfo                          1.8.0\n"
          ]
        }
      ]
    },
    {
      "cell_type": "markdown",
      "source": [
        "# Custom ANN 코드 import 부분임\n",
        "# import lib."
      ],
      "metadata": {
        "id": "BL-IL5uxUU-B"
      }
    },
    {
      "cell_type": "code",
      "source": [
        "import numpy as np\n",
        "import torch\n",
        "import matplotlib.pyplot as plt\n",
        "\n",
        "# import torchviz, torchsummary"
      ],
      "metadata": {
        "id": "y866BkJ9ULeJ"
      },
      "execution_count": 46,
      "outputs": []
    },
    {
      "cell_type": "code",
      "source": [
        "from torch.nn import Module, init, Linear, Parameter, ReLU\n",
        "from torch import optim"
      ],
      "metadata": {
        "id": "uNCN1mrYVJw8"
      },
      "execution_count": 47,
      "outputs": []
    },
    {
      "cell_type": "code",
      "source": [
        "#for c in [np,torch,torchviz,torchsummary]:\n",
        "for c in [np, torch]:\n",
        "  print(f'{c.__name__}:{c.__version__}')"
      ],
      "metadata": {
        "colab": {
          "base_uri": "https://localhost:8080/"
        },
        "id": "q1EsX-48VVcm",
        "outputId": "a42a0643-d071-4173-eee2-5e2b884642f2"
      },
      "execution_count": 48,
      "outputs": [
        {
          "output_type": "stream",
          "name": "stdout",
          "text": [
            "numpy:2.0.2\n",
            "torch:2.6.0+cu124\n"
          ]
        }
      ]
    },
    {
      "cell_type": "markdown",
      "source": [
        "# =========================================================\n",
        "# 이론 관련 내용 확인하는 코드\n",
        "관련 강의 자료: https://ds31x.tistory.com/421\n"
      ],
      "metadata": {
        "id": "y9ssyCVHfoSr"
      }
    },
    {
      "cell_type": "code",
      "source": [
        "import torch\n",
        "import torch.nn as nn\n",
        "\n",
        "x = torch.randn(32, 10, 16)  # 배치 32, 시퀀스 길이 10, feature 16\n",
        "fc = nn.Linear(16, 8)\n",
        "y = fc(x)\n",
        "\n",
        "print(y.shape)  # torch.Size([32, 10, 8])"
      ],
      "metadata": {
        "colab": {
          "base_uri": "https://localhost:8080/"
        },
        "id": "9k3cSnaRfbNz",
        "outputId": "ca4e0462-76e6-492a-990e-b68495f2c805"
      },
      "execution_count": 11,
      "outputs": [
        {
          "output_type": "stream",
          "name": "stdout",
          "text": [
            "torch.Size([32, 10, 8])\n"
          ]
        }
      ]
    },
    {
      "cell_type": "code",
      "source": [
        "# 여기서 부터 parameters 확인하는 코드\n",
        "print(fc.weight.shape) # torch.Size([8, 16])\n",
        "print(fc.bias.shape) # torch.Size([8]"
      ],
      "metadata": {
        "colab": {
          "base_uri": "https://localhost:8080/"
        },
        "id": "RIYT-d5lfdnD",
        "outputId": "fff2ff2f-eaea-4f9e-8791-1531cd67b7f9"
      },
      "execution_count": 15,
      "outputs": [
        {
          "output_type": "stream",
          "name": "stdout",
          "text": [
            "torch.Size([8, 16])\n",
            "torch.Size([8])\n"
          ]
        }
      ]
    },
    {
      "cell_type": "code",
      "source": [
        "import torch.nn as nn\n",
        "model = nn.Linear(10, 5)\n",
        "for para in model.parameters():\n",
        "  print(para.shape)\n",
        "\n",
        "#torch.Size([5, 10])\n",
        "#torch.Size([5])"
      ],
      "metadata": {
        "colab": {
          "base_uri": "https://localhost:8080/"
        },
        "id": "tP8HjvwDfzgb",
        "outputId": "2ab4b7b4-dac4-4684-ed87-786ded6a054a"
      },
      "execution_count": 16,
      "outputs": [
        {
          "output_type": "stream",
          "name": "stdout",
          "text": [
            "torch.Size([5, 10])\n",
            "torch.Size([5])\n"
          ]
        }
      ]
    },
    {
      "cell_type": "code",
      "source": [
        "for name, param in model.named_parameters():\n",
        "    print(name, param.shape)"
      ],
      "metadata": {
        "colab": {
          "base_uri": "https://localhost:8080/"
        },
        "id": "u2aHHBpKhru0",
        "outputId": "5d7e6eae-1684-4578-c26c-e475391da83f"
      },
      "execution_count": 17,
      "outputs": [
        {
          "output_type": "stream",
          "name": "stdout",
          "text": [
            "weight torch.Size([5, 10])\n",
            "bias torch.Size([5])\n"
          ]
        }
      ]
    },
    {
      "cell_type": "code",
      "source": [
        "# 여기서 부터는 Activation Function과 연결 확인 코드임\n",
        "import torch.nn.functional as F\n",
        "\n",
        "x = torch.randn(4, 16)\n",
        "fc = nn.Linear(16, 8)\n",
        "out = F.relu(fc(x))  # Linear + ReLU"
      ],
      "metadata": {
        "id": "HNqHe0AciBlk"
      },
      "execution_count": 18,
      "outputs": []
    },
    {
      "cell_type": "code",
      "source": [
        "model = nn.Sequential(\n",
        "    nn.Linear(16, 8),\n",
        "    nn.ReLU()\n",
        ")\n",
        "#or seqantial로 구조화한 것 코드임"
      ],
      "metadata": {
        "id": "cdBbb9ofiJZt"
      },
      "execution_count": null,
      "outputs": []
    },
    {
      "cell_type": "markdown",
      "source": [
        "#==========================================================\n",
        "Custom ANN data생성 부분 코드부터 다시 쭉 이어짐."
      ],
      "metadata": {
        "id": "46JkImZCmR78"
      }
    },
    {
      "cell_type": "markdown",
      "source": [
        "# data 생성\n",
        "* input: -\n",
        "* output: x(tensor), y(tensor) = y_ideal + noise\n",
        "\n"
      ],
      "metadata": {
        "id": "yYh17RFeVxPi"
      }
    },
    {
      "cell_type": "code",
      "source": [
        "def gen_xy(cnt, std=4. ):\n",
        "  x = np.linspace(-10,10,cnt)\n",
        "  y_ideal = 1.8 * x +32.\n",
        "  y = y_ideal + std * np.random.randn((cnt))\n",
        "\n",
        "  x = torch.from_numpy(x).float().reshape(-1,1)\n",
        "  y = torch.from_numpy(y).float().reshape(-1,1)\n",
        "  y_ideal = torch.from_numpy(y_ideal).float().reshape(-1,1)\n",
        "\n",
        "  return x, y, y_ideal"
      ],
      "metadata": {
        "id": "D3feAiekVtDM"
      },
      "execution_count": 49,
      "outputs": []
    },
    {
      "cell_type": "markdown",
      "source": [
        "코드로 데이터 check하는 부분"
      ],
      "metadata": {
        "id": "e-Tllm92kb7E"
      }
    },
    {
      "cell_type": "code",
      "source": [
        "sample_cnt = 20\n",
        "\n",
        "x, y, y_ideal = gen_xy(sample_cnt)\n",
        "\n",
        "fig, axes = plt.subplots(1,2, figsize=(6,3))\n",
        "axes[0].plot(x.detach(), y_ideal.detach())\n",
        "axes[1].scatter(x.detach(), y.detach())\n",
        "fig.suptitle('celsius to fahrenheit')\n",
        "print(x.shape, y.shape, y_ideal.shape)"
      ],
      "metadata": {
        "colab": {
          "base_uri": "https://localhost:8080/",
          "height": 339
        },
        "id": "hLtGPTVOkfkR",
        "outputId": "8bdda0fb-acf2-4abb-a639-259c7be78256"
      },
      "execution_count": 51,
      "outputs": [
        {
          "output_type": "stream",
          "name": "stdout",
          "text": [
            "torch.Size([20, 1]) torch.Size([20, 1]) torch.Size([20, 1])\n"
          ]
        },
        {
          "output_type": "display_data",
          "data": {
            "text/plain": [
              "<Figure size 600x300 with 2 Axes>"
            ],
            "image/png": "[encoded data removed]"
          },
          "metadata": {}
        }
      ]
    },
    {
      "cell_type": "markdown",
      "source": [
        "# model 구현"
      ],
      "metadata": {
        "id": "qIQxwov1oSuk"
      }
    },
    {
      "cell_type": "code",
      "source": [
        "class Jy02ANN (Module): #custom module\n",
        "\n",
        "    def __init__(self,\n",
        "                 n_in_f,  # input vector의 차원수.\n",
        "                 n_out_f, # output vector의 차원수.\n",
        "                 ):\n",
        "        super().__init__() # required!\n",
        "\n",
        "        self.linear0 = Linear(n_in_f, 32)\n",
        "        self.relu0 = ReLU()\n",
        "\n",
        "        self.linear1 = Linear(32, 32)\n",
        "        self.relu1 = ReLU()\n",
        "\n",
        "        self.linear2 = Linear(32, n_out_f)\n",
        "\n",
        "        with torch.no_grad():\n",
        "            init.constant_(self.linear0.bias, 0.)\n",
        "            init.xavier_uniform_(self.linear0.weight)\n",
        "\n",
        "    def forward(self,x):\n",
        "        x = self.linear0(x)\n",
        "        x = self.relu0(x)\n",
        "        x = self.linear1(x)\n",
        "        x = self.relu1(x)\n",
        "        y = self.linear2(x)\n",
        "        return y\n",
        "\n",
        "model = Jy02ANN(1,1)"
      ],
      "metadata": {
        "id": "-8xAGs-Fn2EQ"
      },
      "execution_count": 70,
      "outputs": []
    },
    {
      "cell_type": "markdown",
      "source": [
        "# model 내부 확인"
      ],
      "metadata": {
        "id": "HCTD9v8ap-IF"
      }
    },
    {
      "cell_type": "markdown",
      "source": [
        "parameters 확인"
      ],
      "metadata": {
        "id": "TO7WHiUOqCYk"
      }
    },
    {
      "cell_type": "code",
      "source": [
        "for idx, (name, c) in enumerate(model.named_parameters()):\n",
        "  print(f\"{idx:02}: {name}: {c.shape}\")\n",
        "#for idx, c in enumerate(model.parameters()):\n",
        "  #print(idx, c.shape)"
      ],
      "metadata": {
        "colab": {
          "base_uri": "https://localhost:8080/"
        },
        "id": "AUPN-JOsp50X",
        "outputId": "187988bc-c10d-45fb-f767-68c2148c2f5b"
      },
      "execution_count": 71,
      "outputs": [
        {
          "output_type": "stream",
          "name": "stdout",
          "text": [
            "00: linear0.weight: torch.Size([32, 1])\n",
            "01: linear0.bias: torch.Size([32])\n",
            "02: linear1.weight: torch.Size([32, 32])\n",
            "03: linear1.bias: torch.Size([32])\n",
            "04: linear2.weight: torch.Size([1, 32])\n",
            "05: linear2.bias: torch.Size([1])\n"
          ]
        }
      ]
    },
    {
      "cell_type": "markdown",
      "source": [
        "childreb 확인\n",
        "* 내부 구성 확인"
      ],
      "metadata": {
        "id": "XEkibh_YqXO9"
      }
    },
    {
      "cell_type": "code",
      "source": [
        "for idx, cl in enumerate(model.named_children()):\n",
        "  print(f\"{idx:02}: {cl}\")\n",
        "#for idx, cl in enumerate(model.children()):\n",
        "  #print(idx, cl)"
      ],
      "metadata": {
        "colab": {
          "base_uri": "https://localhost:8080/"
        },
        "id": "VW6bOb9JqU4P",
        "outputId": "8cd22ae3-0fdf-4382-d346-e857c3778396"
      },
      "execution_count": 72,
      "outputs": [
        {
          "output_type": "stream",
          "name": "stdout",
          "text": [
            "00: ('linear0', Linear(in_features=1, out_features=32, bias=True))\n",
            "01: ('relu0', ReLU())\n",
            "02: ('linear1', Linear(in_features=32, out_features=32, bias=True))\n",
            "03: ('relu1', ReLU())\n",
            "04: ('linear2', Linear(in_features=32, out_features=1, bias=True))\n"
          ]
        }
      ]
    },
    {
      "cell_type": "markdown",
      "source": [
        "구성 modules확인"
      ],
      "metadata": {
        "id": "tyDOdjgCqx7t"
      }
    },
    {
      "cell_type": "code",
      "source": [
        "#for idx, module in enumerate(model.named_modules()):\n",
        "for idx, module in enumerate(model.modules()):\n",
        "    print(idx, module)"
      ],
      "metadata": {
        "colab": {
          "base_uri": "https://localhost:8080/"
        },
        "id": "BbU9MEOgqtzc",
        "outputId": "d2610ea4-30dc-41f7-9346-bf4ccec3f222"
      },
      "execution_count": 73,
      "outputs": [
        {
          "output_type": "stream",
          "name": "stdout",
          "text": [
            "0 Jy02ANN(\n",
            "  (linear0): Linear(in_features=1, out_features=32, bias=True)\n",
            "  (relu0): ReLU()\n",
            "  (linear1): Linear(in_features=32, out_features=32, bias=True)\n",
            "  (relu1): ReLU()\n",
            "  (linear2): Linear(in_features=32, out_features=1, bias=True)\n",
            ")\n",
            "1 Linear(in_features=1, out_features=32, bias=True)\n",
            "2 ReLU()\n",
            "3 Linear(in_features=32, out_features=32, bias=True)\n",
            "4 ReLU()\n",
            "5 Linear(in_features=32, out_features=1, bias=True)\n"
          ]
        }
      ]
    },
    {
      "cell_type": "markdown",
      "source": [
        "modules 확인\n",
        "\n",
        "자신을 포함한 전체 child modules를 다 확인"
      ],
      "metadata": {
        "id": "uUOR62ftvZcu"
      }
    },
    {
      "cell_type": "code",
      "source": [
        "for idx, (name, module) in enumerate(model.named_modules()):\n",
        "    print(f\"{idx:02}: [{name}] = {module}\")"
      ],
      "metadata": {
        "colab": {
          "base_uri": "https://localhost:8080/"
        },
        "id": "LZB31zgJvdQO",
        "outputId": "85094278-7e7f-484d-c7ad-e346ae66f444"
      },
      "execution_count": 74,
      "outputs": [
        {
          "output_type": "stream",
          "name": "stdout",
          "text": [
            "00: [] = Jy02ANN(\n",
            "  (linear0): Linear(in_features=1, out_features=32, bias=True)\n",
            "  (relu0): ReLU()\n",
            "  (linear1): Linear(in_features=32, out_features=32, bias=True)\n",
            "  (relu1): ReLU()\n",
            "  (linear2): Linear(in_features=32, out_features=1, bias=True)\n",
            ")\n",
            "01: [linear0] = Linear(in_features=1, out_features=32, bias=True)\n",
            "02: [relu0] = ReLU()\n",
            "03: [linear1] = Linear(in_features=32, out_features=32, bias=True)\n",
            "04: [relu1] = ReLU()\n",
            "05: [linear2] = Linear(in_features=32, out_features=1, bias=True)\n"
          ]
        }
      ]
    },
    {
      "cell_type": "code",
      "source": [
        "pred = model(x)\n",
        "pred.shape"
      ],
      "metadata": {
        "colab": {
          "base_uri": "https://localhost:8080/"
        },
        "id": "3U0Fl3ivt4CP",
        "outputId": "db832b23-7448-4d2d-c7e9-796226a0400e"
      },
      "execution_count": 75,
      "outputs": [
        {
          "output_type": "execute_result",
          "data": {
            "text/plain": [
              "torch.Size([20, 1])"
            ]
          },
          "metadata": {},
          "execution_count": 75
        }
      ]
    },
    {
      "cell_type": "markdown",
      "source": [
        "torchinfo 사용하기"
      ],
      "metadata": {
        "id": "MJhg6_E9wdXy"
      }
    },
    {
      "cell_type": "code",
      "source": [
        "from torchinfo import summary\n",
        "\n",
        "summary(model, (1,))\n",
        "# summary(model, (232,20,1), depth=1, )"
      ],
      "metadata": {
        "colab": {
          "base_uri": "https://localhost:8080/"
        },
        "id": "GVsNuIiwwId-",
        "outputId": "5bb890af-4e1c-4bdb-e038-13bb4506e387"
      },
      "execution_count": 89,
      "outputs": [
        {
          "output_type": "execute_result",
          "data": {
            "text/plain": [
              "==========================================================================================\n",
              "Layer (type:depth-idx)                   Output Shape              Param #\n",
              "==========================================================================================\n",
              "Jy02ANN                                  [1]                       --\n",
              "├─Linear: 1-1                            [32]                      64\n",
              "├─ReLU: 1-2                              [32]                      --\n",
              "├─Linear: 1-3                            [32]                      1,056\n",
              "├─ReLU: 1-4                              [32]                      --\n",
              "├─Linear: 1-5                            [1]                       33\n",
              "==========================================================================================\n",
              "Total params: 1,153\n",
              "Trainable params: 1,153\n",
              "Non-trainable params: 0\n",
              "Total mult-adds (Units.MEGABYTES): 0.04\n",
              "==========================================================================================\n",
              "Input size (MB): 0.00\n",
              "Forward/backward pass size (MB): 0.00\n",
              "Params size (MB): 0.00\n",
              "Estimated Total Size (MB): 0.01\n",
              "=========================================================================================="
            ]
          },
          "metadata": {},
          "execution_count": 89
        }
      ]
    },
    {
      "cell_type": "code",
      "source": [
        "32*32+32"
      ],
      "metadata": {
        "colab": {
          "base_uri": "https://localhost:8080/"
        },
        "id": "7p5Tg3Gaw2eu",
        "outputId": "e1f5d661-0a22-4ca1-d445-b07e4f290efc"
      },
      "execution_count": 90,
      "outputs": [
        {
          "output_type": "execute_result",
          "data": {
            "text/plain": [
              "1056"
            ]
          },
          "metadata": {},
          "execution_count": 90
        }
      ]
    },
    {
      "cell_type": "markdown",
      "source": [
        "# loss 구현"
      ],
      "metadata": {
        "id": "O3K_shdlwlDG"
      }
    },
    {
      "cell_type": "code",
      "source": [
        "from torch.nn import MSELoss\n",
        "\n",
        "loss_fnc = MSELoss()# MSELoss 객체 반환. (callable함)\n",
        "l = loss_fnc(pred, y)\n",
        "l"
      ],
      "metadata": {
        "colab": {
          "base_uri": "https://localhost:8080/"
        },
        "id": "LyXr5Zb2wctT",
        "outputId": "04ff1e22-c182-40d0-d1f4-b67ee532c72c"
      },
      "execution_count": 92,
      "outputs": [
        {
          "output_type": "execute_result",
          "data": {
            "text/plain": [
              "tensor(1142.1995, grad_fn=<MseLossBackward0>)"
            ]
          },
          "metadata": {},
          "execution_count": 92
        }
      ]
    },
    {
      "cell_type": "markdown",
      "source": [
        "# training loop"
      ],
      "metadata": {
        "id": "r-HgLNkSzuAP"
      }
    },
    {
      "cell_type": "code",
      "source": [
        "def training_loop(\n",
        "    x, y,\n",
        "    model,\n",
        "    lr,\n",
        "    n_epochs,\n",
        "    ):\n",
        "\n",
        "  model.train()\n",
        "  optimizer = optim.SGD(\n",
        "    model.parameters(),\n",
        "    lr = lr,\n",
        "  )\n",
        "  print(n_epochs)\n",
        "\n",
        "  for epoch in range(n_epochs):\n",
        "    pred = model(x)\n",
        "    l = loss_fnc(pred, y)\n",
        "    if torch.isinf(l).any():\n",
        "      print('Error: diverge!')\n",
        "      break\n",
        "\n",
        "    optimizer.zero_grad()\n",
        "    l.backward()\n",
        "    optimizer.step()\n",
        "\n",
        "    if epoch % 1_000 == 0:\n",
        "      print(f'Epoch {epoch}: Loss {float(l):0.4f}')\n",
        "\n",
        "  return model"
      ],
      "metadata": {
        "id": "R1jQC20-zeDc"
      },
      "execution_count": 96,
      "outputs": []
    },
    {
      "cell_type": "markdown",
      "source": [
        "여기서 중간에 가장 좋은 성능으로 학습된 것들도 있어서 그 epoch 학습된 것을 가져오거나, 그런식으로 여러 epoch 중 가장 좋은 성능을 뽑아야 함"
      ],
      "metadata": {
        "id": "WB8b48P_1m6O"
      }
    },
    {
      "cell_type": "markdown",
      "source": [
        "# training 수행"
      ],
      "metadata": {
        "id": "FswhgouG0pEe"
      }
    },
    {
      "cell_type": "code",
      "source": [
        "model = Jy02ANN(1,1)\n",
        "model = training_loop(\n",
        "    x, y,\n",
        "    model,\n",
        "    1e-3,\n",
        "    10000,\n",
        ")"
      ],
      "metadata": {
        "colab": {
          "base_uri": "https://localhost:8080/"
        },
        "id": "XezK5vPS0sHz",
        "outputId": "adc4d1f8-ddc0-4cde-cd1d-346729f8226c"
      },
      "execution_count": 101,
      "outputs": [
        {
          "output_type": "stream",
          "name": "stdout",
          "text": [
            "10000\n",
            "Epoch 0: Loss 1121.3682\n",
            "Epoch 1000: Loss 12.5589\n",
            "Epoch 2000: Loss 12.1145\n",
            "Epoch 3000: Loss 11.6820\n",
            "Epoch 4000: Loss 11.5809\n",
            "Epoch 5000: Loss 11.8287\n",
            "Epoch 6000: Loss 12.1536\n",
            "Epoch 7000: Loss 10.2478\n",
            "Epoch 8000: Loss 11.2793\n",
            "Epoch 9000: Loss 9.9750\n"
          ]
        }
      ]
    },
    {
      "cell_type": "markdown",
      "source": [
        "# Evaluation 수행"
      ],
      "metadata": {
        "id": "m4XHEIV01W6v"
      }
    },
    {
      "cell_type": "code",
      "source": [
        "pred = model(x)\n",
        "\n",
        "fig, axes = plt.subplots(1,1)\n",
        "axes.scatter(x.detach().numpy(),y.detach().numpy())\n",
        "axes.plot(x.detach().numpy(),pred.detach().numpy(), color='r')\n",
        "axes.plot(x.detach().numpy(),y_ideal, color='g')\n",
        "fig.suptitle('celsius to fahrenheit')"
      ],
      "metadata": {
        "colab": {
          "base_uri": "https://localhost:8080/",
          "height": 496
        },
        "id": "QVrECZZW1Zru",
        "outputId": "efd5c13b-3fc2-45b4-b31d-d2c6f8537db3"
      },
      "execution_count": 102,
      "outputs": [
        {
          "output_type": "execute_result",
          "data": {
            "text/plain": [
              "Text(0.5, 0.98, 'celsius to fahrenheit')"
            ]
          },
          "metadata": {},
          "execution_count": 102
        },
        {
          "output_type": "display_data",
          "data": {
            "text/plain": [
              "<Figure size 640x480 with 1 Axes>"
            ],
            "image/png": "[encoded data removed]"
          },
          "metadata": {}
        }
      ]
    },
    {
      "cell_type": "markdown",
      "source": [
        "여기서 보면 튀어나간 point들에 따라서 따라가는 것을 볼 수 있음. 이는 noise도 학습해버림"
      ],
      "metadata": {
        "id": "dAnduwzg2EGn"
      }
    },
    {
      "cell_type": "markdown",
      "source": [
        "# linear를 직접 사용"
      ],
      "metadata": {
        "id": "hXsoqHFF2OCY"
      }
    },
    {
      "cell_type": "code",
      "source": [
        "linear_model = training_loop(\n",
        "    x,y,\n",
        "    Linear(1,1),\n",
        "    1e-3,\n",
        "    10000,\n",
        ")"
      ],
      "metadata": {
        "colab": {
          "base_uri": "https://localhost:8080/"
        },
        "id": "menTgpph1_m7",
        "outputId": "40ff6bf4-8c2a-4f6f-c7c7-e50e19e3ab0a"
      },
      "execution_count": 104,
      "outputs": [
        {
          "output_type": "stream",
          "name": "stdout",
          "text": [
            "10000\n",
            "Epoch 0: Loss 1113.7577\n",
            "Epoch 1000: Loss 35.2222\n",
            "Epoch 2000: Loss 16.3363\n",
            "Epoch 3000: Loss 15.9918\n",
            "Epoch 4000: Loss 15.9855\n",
            "Epoch 5000: Loss 15.9854\n",
            "Epoch 6000: Loss 15.9854\n",
            "Epoch 7000: Loss 15.9854\n",
            "Epoch 8000: Loss 15.9854\n",
            "Epoch 9000: Loss 15.9854\n"
          ]
        }
      ]
    },
    {
      "cell_type": "code",
      "source": [
        "pred = linear_model(x)\n",
        "\n",
        "fig, axes = plt.subplots(1,1)\n",
        "axes.scatter(x.detach().numpy(),y.detach().numpy())\n",
        "axes.plot(x.detach().numpy(),pred.detach().numpy(), color='r')\n",
        "axes.plot(x.detach().numpy(),y_ideal, color='g')\n",
        "fig.suptitle('celsius to fahrenheit')"
      ],
      "metadata": {
        "colab": {
          "base_uri": "https://localhost:8080/",
          "height": 496
        },
        "id": "UnHdPS0-2TVF",
        "outputId": "2695c451-a29c-4b6d-9172-c4d06130a679"
      },
      "execution_count": 105,
      "outputs": [
        {
          "output_type": "execute_result",
          "data": {
            "text/plain": [
              "Text(0.5, 0.98, 'celsius to fahrenheit')"
            ]
          },
          "metadata": {},
          "execution_count": 105
        },
        {
          "output_type": "display_data",
          "data": {
            "text/plain": [
              "<Figure size 640x480 with 1 Axes>"
            ],
            "image/png": "[encoded data removed]"
          },
          "metadata": {}
        }
      ]
    }
  ]
}