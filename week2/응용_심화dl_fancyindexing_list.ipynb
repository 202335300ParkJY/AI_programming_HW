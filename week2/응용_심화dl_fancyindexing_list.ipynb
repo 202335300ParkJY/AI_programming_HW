{
  "nbformat": 4,
  "nbformat_minor": 0,
  "metadata": {
    "colab": {
      "provenance": [],
      "name": "응용_심화dl_fancyindexing_list.ipynb"
    },
    "kernelspec": {
      "name": "python3",
      "display_name": "Python 3"
    },
    "language_info": {
      "name": "python"
    }
  },
  "cells": [
    {
      "cell_type": "markdown",
      "source": [
        "# PyTorch에서 list를 indexing tensor로 삼을 경우 비교."
      ],
      "metadata": {
        "id": "knHfHkAXMhj8"
      }
    },
    {
      "cell_type": "code",
      "source": [
        "import torch\n",
        "import numpy as np\n",
        "\n",
        "a_np = np.arange(2*3*4).reshape(2,3,4)\n",
        "a = torch.arange(2*3*4).reshape(2,3,4)\n",
        "a"
      ],
      "metadata": {
        "colab": {
          "base_uri": "https://localhost:8080/"
        },
        "id": "m3RXUP6MMhFm",
        "outputId": "6edcbfd8-fa9b-43b7-cc38-0f8981c30df9"
      },
      "execution_count": null,
      "outputs": [
        {
          "output_type": "execute_result",
          "data": {
            "text/plain": [
              "tensor([[[ 0,  1,  2,  3],\n",
              "         [ 4,  5,  6,  7],\n",
              "         [ 8,  9, 10, 11]],\n",
              "\n",
              "        [[12, 13, 14, 15],\n",
              "         [16, 17, 18, 19],\n",
              "         [20, 21, 22, 23]]])"
            ]
          },
          "metadata": {},
          "execution_count": 1
        }
      ]
    },
    {
      "cell_type": "markdown",
      "source": [
        "## non-nested list의 경우\n",
        "\n",
        "tensor, ndarray, list 모두 같은 결과를 보임."
      ],
      "metadata": {
        "id": "06l-sSHmMm4_"
      }
    },
    {
      "cell_type": "code",
      "execution_count": null,
      "metadata": {
        "colab": {
          "base_uri": "https://localhost:8080/"
        },
        "id": "_7NMP3lnMSJD",
        "outputId": "5844d25f-8875-49ab-ff43-f4598e644ba4"
      },
      "outputs": [
        {
          "output_type": "execute_result",
          "data": {
            "text/plain": [
              "torch.Size([2, 3, 4])"
            ]
          },
          "metadata": {},
          "execution_count": 3
        }
      ],
      "source": [
        "i_list0 = [0,0] # unpakcing시 scalar이므로 a[i_list0,] 와 같이 동작\n",
        "a[i_list0].shape"
      ]
    },
    {
      "cell_type": "code",
      "source": [
        "a[i_list0] # a[0]가 0번째 축에 2개 반복되어 놓임."
      ],
      "metadata": {
        "colab": {
          "base_uri": "https://localhost:8080/"
        },
        "id": "zQikPOBwBtcl",
        "outputId": "8852cb8d-92a1-4679-c989-f83108eb6d9b"
      },
      "execution_count": null,
      "outputs": [
        {
          "output_type": "execute_result",
          "data": {
            "text/plain": [
              "tensor([[[ 0,  1,  2,  3],\n",
              "         [ 4,  5,  6,  7],\n",
              "         [ 8,  9, 10, 11]],\n",
              "\n",
              "        [[ 0,  1,  2,  3],\n",
              "         [ 4,  5,  6,  7],\n",
              "         [ 8,  9, 10, 11]]])"
            ]
          },
          "metadata": {},
          "execution_count": 4
        }
      ]
    },
    {
      "cell_type": "code",
      "source": [
        "a_np[i_list0].shape # ndarray도 같은 동작임."
      ],
      "metadata": {
        "colab": {
          "base_uri": "https://localhost:8080/"
        },
        "id": "fFUo1Qz7Muhr",
        "outputId": "b828b433-172a-41e7-8ee1-3fcb6b2c9dbf"
      },
      "execution_count": null,
      "outputs": [
        {
          "output_type": "execute_result",
          "data": {
            "text/plain": [
              "(2, 3, 4)"
            ]
          },
          "metadata": {},
          "execution_count": 5
        }
      ]
    },
    {
      "cell_type": "code",
      "source": [
        "a[i_list0,].shape # i_list1의 item scalar인 경우만 같음."
      ],
      "metadata": {
        "colab": {
          "base_uri": "https://localhost:8080/"
        },
        "id": "d76GfV4SMwYZ",
        "outputId": "86697545-3f68-4f92-ee90-945c9daa9798"
      },
      "execution_count": null,
      "outputs": [
        {
          "output_type": "execute_result",
          "data": {
            "text/plain": [
              "torch.Size([2, 3, 4])"
            ]
          },
          "metadata": {},
          "execution_count": 6
        }
      ]
    },
    {
      "cell_type": "code",
      "source": [
        "a_np[i_list0,].shape # ndarray도 같은 동작임."
      ],
      "metadata": {
        "colab": {
          "base_uri": "https://localhost:8080/"
        },
        "id": "rh2WgmGyM0Ni",
        "outputId": "ccf9affd-a499-456e-8397-f051be4dc6c1"
      },
      "execution_count": null,
      "outputs": [
        {
          "output_type": "execute_result",
          "data": {
            "text/plain": [
              "(2, 3, 4)"
            ]
          },
          "metadata": {},
          "execution_count": 7
        }
      ]
    },
    {
      "cell_type": "code",
      "source": [
        "a[torch.tensor(i_list0)].shape # 항상 a[i_list0,]과 같음."
      ],
      "metadata": {
        "colab": {
          "base_uri": "https://localhost:8080/"
        },
        "id": "wXg6YMMhM18d",
        "outputId": "ecbac66e-5fc1-4e17-ab87-94a68f456543"
      },
      "execution_count": null,
      "outputs": [
        {
          "output_type": "execute_result",
          "data": {
            "text/plain": [
              "torch.Size([2, 3, 4])"
            ]
          },
          "metadata": {},
          "execution_count": 8
        }
      ]
    },
    {
      "cell_type": "code",
      "source": [
        "a_np[np.array(i_list0)].shape # 역시 같은 동작"
      ],
      "metadata": {
        "colab": {
          "base_uri": "https://localhost:8080/"
        },
        "id": "4etpWAJ1M3nQ",
        "outputId": "1e7ac6e2-ff5c-4855-8dde-6e5815e45e98"
      },
      "execution_count": null,
      "outputs": [
        {
          "output_type": "execute_result",
          "data": {
            "text/plain": [
              "(2, 3, 4)"
            ]
          },
          "metadata": {},
          "execution_count": 9
        }
      ]
    },
    {
      "cell_type": "markdown",
      "source": [
        "## nested list: 1x2 의 경우\n",
        "\n",
        "원칙은 다음과 같음.\n",
        "\n",
        "* NumPy에선 index tensor로 list나 array 둘 다 같은 결과.\n",
        "* PyTorch에선 nested list이므로 list는 axis-0의 요소들이 분해(unpacking)되어 동작.\n",
        "* 단, list를 index로 넘겨줄 때, 뒤에 ,를 붙이면 unpacking이 일어나지 않고 index tensor처럼 동작.\n"
      ],
      "metadata": {
        "id": "kzGU1lIVM-P3"
      }
    },
    {
      "cell_type": "code",
      "source": [
        "i_list1 = [ [0,0] ] # axis-0를 제거해도 scalar가 아닌 list임.\n",
        "a[i_list1].shape    # unpacking 되어 들어감. a[ [0,0], ] 의 형태\n",
        "                    # 1x2 가 unpacking되어 2 가 되고, 이 것이 axis-0를 결정\n",
        "                    # 즉, 2 x 3x4 가 결과 tensor임."
      ],
      "metadata": {
        "colab": {
          "base_uri": "https://localhost:8080/"
        },
        "id": "ruF--ZKtM54f",
        "outputId": "f12cf180-f7de-440e-ced8-4f5a4df7b272"
      },
      "execution_count": null,
      "outputs": [
        {
          "output_type": "execute_result",
          "data": {
            "text/plain": [
              "torch.Size([2, 3, 4])"
            ]
          },
          "metadata": {},
          "execution_count": 25
        }
      ]
    },
    {
      "cell_type": "code",
      "source": [
        "a[i_list1]  # a[0]가 0번째 축에 2개 반복되어 놓임."
      ],
      "metadata": {
        "colab": {
          "base_uri": "https://localhost:8080/"
        },
        "id": "mwSXnP0hCL3j",
        "outputId": "1084f4a9-b312-4191-8ca3-c4452c2518f1"
      },
      "execution_count": null,
      "outputs": [
        {
          "output_type": "execute_result",
          "data": {
            "text/plain": [
              "tensor([[[ 0,  1,  2,  3],\n",
              "         [ 4,  5,  6,  7],\n",
              "         [ 8,  9, 10, 11]],\n",
              "\n",
              "        [[ 0,  1,  2,  3],\n",
              "         [ 4,  5,  6,  7],\n",
              "         [ 8,  9, 10, 11]]])"
            ]
          },
          "metadata": {},
          "execution_count": 26
        }
      ]
    },
    {
      "cell_type": "code",
      "source": [
        "tmp = a[*i_list1] # nested list와 같이 동작함 (non-nested list인 경우만 제외하곤)\n",
        "tmp.shape, tmp"
      ],
      "metadata": {
        "colab": {
          "base_uri": "https://localhost:8080/"
        },
        "id": "rKwMaC3jDvyz",
        "outputId": "e7dd5afc-86b5-48f4-d910-8a367ec1f422"
      },
      "execution_count": null,
      "outputs": [
        {
          "output_type": "execute_result",
          "data": {
            "text/plain": [
              "(torch.Size([2, 3, 4]),\n",
              " tensor([[[ 0,  1,  2,  3],\n",
              "          [ 4,  5,  6,  7],\n",
              "          [ 8,  9, 10, 11]],\n",
              " \n",
              "         [[ 0,  1,  2,  3],\n",
              "          [ 4,  5,  6,  7],\n",
              "          [ 8,  9, 10, 11]]]))"
            ]
          },
          "metadata": {},
          "execution_count": 27
        }
      ]
    },
    {
      "cell_type": "code",
      "source": [
        "a_np[i_list1].shape # NumPy에서는 list나 array나 indexing에 사용에서 같은 동작을 보임.\n",
        "                    # unpacking 없이 [[0,0]]으로 들어감 = a[ [[0,0]] ]\n",
        "                    # i_list1 이 1x2 형태 이므로 axis-0에가 1x2로 교체되어\n",
        "                    # 최종으로는 1x2 x 3x4로 바뀜."
      ],
      "metadata": {
        "colab": {
          "base_uri": "https://localhost:8080/"
        },
        "id": "Hj77xZYrNDyw",
        "outputId": "c02516d8-921c-4c70-b719-2b6758cf8e45"
      },
      "execution_count": null,
      "outputs": [
        {
          "output_type": "execute_result",
          "data": {
            "text/plain": [
              "(1, 2, 3, 4)"
            ]
          },
          "metadata": {},
          "execution_count": 28
        }
      ]
    },
    {
      "cell_type": "code",
      "source": [
        "a[i_list1,].shape # 뒤에 , 를 넣어줄 경우, 명시적으로 axis-0에 지정한다는 뜻임.\n",
        "                  # unpacking이 이루어지지 않으며, 이 경우엔\n",
        "                  # non-nested list 처럼 index tensor와 같은 결과를 보임."
      ],
      "metadata": {
        "colab": {
          "base_uri": "https://localhost:8080/"
        },
        "id": "LCXNatNwNFbB",
        "outputId": "51e0e5b9-5dd3-4cf9-c894-9f693cdc019d"
      },
      "execution_count": null,
      "outputs": [
        {
          "output_type": "execute_result",
          "data": {
            "text/plain": [
              "torch.Size([1, 2, 3, 4])"
            ]
          },
          "metadata": {},
          "execution_count": 29
        }
      ]
    },
    {
      "cell_type": "code",
      "source": [
        "a_np[i_list1,].shape # NumPy에선 i_list1과 차이 없음."
      ],
      "metadata": {
        "colab": {
          "base_uri": "https://localhost:8080/"
        },
        "id": "oIHQ9Lw8NHda",
        "outputId": "b77eca84-70ff-4aba-e1ce-320267391502"
      },
      "execution_count": null,
      "outputs": [
        {
          "output_type": "execute_result",
          "data": {
            "text/plain": [
              "(1, 2, 3, 4)"
            ]
          },
          "metadata": {},
          "execution_count": 30
        }
      ]
    },
    {
      "cell_type": "code",
      "source": [
        "a[torch.tensor(i_list1)].shape # index tensor를 사용한 경우\n",
        "                               # a[i_list1,] 와 항상 같은 결과"
      ],
      "metadata": {
        "colab": {
          "base_uri": "https://localhost:8080/"
        },
        "id": "zLaW77JzNJMn",
        "outputId": "baa27a49-ff94-4287-ab68-74a6acf86515"
      },
      "execution_count": null,
      "outputs": [
        {
          "output_type": "execute_result",
          "data": {
            "text/plain": [
              "torch.Size([1, 2, 3, 4])"
            ]
          },
          "metadata": {},
          "execution_count": 31
        }
      ]
    },
    {
      "cell_type": "markdown",
      "source": [
        "## 1x1x2 의 경우\n",
        "\n",
        "원칙에 변함이 없음.\n",
        "\n",
        "* NumPy에선 index tensor로 list나 array 둘 다 같은 결과.\n",
        "* PyTorch에선 nested list이므로 list는 axis-0의 요소들이 분해되어 동작."
      ],
      "metadata": {
        "id": "UpLdV2UrNMJo"
      }
    },
    {
      "cell_type": "code",
      "source": [
        "i_list2 = [ [ [0,0] ]] # 참고삼아 1차원을 더 넓힌 경우임.\n",
        "                       # 1x1x2 이므로 바깥쪽만 unpacking되어\n",
        "                       # 1x2가 첫번째 index로 주어짐.\n",
        "a[i_list2].shape       # axis-0에 1x2 형태로 a[0],a[1] 가 놓임"
      ],
      "metadata": {
        "colab": {
          "base_uri": "https://localhost:8080/"
        },
        "id": "fRUXhhjmNL4N",
        "outputId": "d2afaba7-d19a-4359-e84b-ca341d60f7b5"
      },
      "execution_count": null,
      "outputs": [
        {
          "output_type": "execute_result",
          "data": {
            "text/plain": [
              "torch.Size([1, 2, 3, 4])"
            ]
          },
          "metadata": {},
          "execution_count": 33
        }
      ]
    },
    {
      "cell_type": "code",
      "source": [
        "a[*i_list2].shape # unpacking!"
      ],
      "metadata": {
        "colab": {
          "base_uri": "https://localhost:8080/"
        },
        "id": "lFpC5HOdNQFz",
        "outputId": "fc61c9b6-7ce4-47a6-810a-eca658fd436c"
      },
      "execution_count": null,
      "outputs": [
        {
          "output_type": "execute_result",
          "data": {
            "text/plain": [
              "torch.Size([1, 2, 3, 4])"
            ]
          },
          "metadata": {},
          "execution_count": 34
        }
      ]
    },
    {
      "cell_type": "code",
      "source": [
        "a_np[i_list2].shape # NumPy에선 unpacking없이 np.array를 index로 삼은것과 같이 동작"
      ],
      "metadata": {
        "colab": {
          "base_uri": "https://localhost:8080/"
        },
        "id": "Fd1unPb3NSb3",
        "outputId": "245a8ab0-07db-44c4-8710-5eb595cc9117"
      },
      "execution_count": null,
      "outputs": [
        {
          "output_type": "execute_result",
          "data": {
            "text/plain": [
              "(1, 1, 2, 3, 4)"
            ]
          },
          "metadata": {},
          "execution_count": 35
        }
      ]
    },
    {
      "cell_type": "code",
      "source": [
        "a_np[np.array(i_list2)].shape # 역시 동일"
      ],
      "metadata": {
        "colab": {
          "base_uri": "https://localhost:8080/"
        },
        "id": "fsfkZwBfNTye",
        "outputId": "7764b895-89d2-45c6-b98a-d435c957b10d"
      },
      "execution_count": null,
      "outputs": [
        {
          "output_type": "execute_result",
          "data": {
            "text/plain": [
              "(1, 1, 2, 3, 4)"
            ]
          },
          "metadata": {},
          "execution_count": 36
        }
      ]
    },
    {
      "cell_type": "code",
      "source": [
        "a[i_list2,].shape # 뒤의 comma 때문에 index tensor와 같이 동작함"
      ],
      "metadata": {
        "colab": {
          "base_uri": "https://localhost:8080/"
        },
        "id": "0H6Za9kENVcj",
        "outputId": "20e82b38-3fee-4c5e-bdc7-5303f13c8a93"
      },
      "execution_count": null,
      "outputs": [
        {
          "output_type": "execute_result",
          "data": {
            "text/plain": [
              "torch.Size([1, 1, 2, 3, 4])"
            ]
          },
          "metadata": {},
          "execution_count": 37
        }
      ]
    },
    {
      "cell_type": "code",
      "source": [
        "a[torch.tensor(i_list2)].shape"
      ],
      "metadata": {
        "colab": {
          "base_uri": "https://localhost:8080/"
        },
        "id": "2QpxZUReNWxJ",
        "outputId": "bccbd0c5-ec2e-4f66-a5ee-eb25796f9d44"
      },
      "execution_count": null,
      "outputs": [
        {
          "output_type": "execute_result",
          "data": {
            "text/plain": [
              "torch.Size([1, 1, 2, 3, 4])"
            ]
          },
          "metadata": {},
          "execution_count": 38
        }
      ]
    },
    {
      "cell_type": "markdown",
      "source": [
        "## 2x2 인 경우.\n",
        "\n",
        "원칙은 그대로임."
      ],
      "metadata": {
        "id": "kNUJxvj9Nbe4"
      }
    },
    {
      "cell_type": "code",
      "source": [
        "i_list3 = [ [0,1] , [1,0]] # axis-0 의 각 요소가 scalar 아님.\n",
        "                           # a[i_list3[0],i_list3[1]] 과 같음.\n",
        "a[i_list3].shape"
      ],
      "metadata": {
        "colab": {
          "base_uri": "https://localhost:8080/"
        },
        "id": "C0-A4KIJNcFX",
        "outputId": "ec6c9baa-759e-43aa-e727-cee231933b21"
      },
      "execution_count": null,
      "outputs": [
        {
          "output_type": "execute_result",
          "data": {
            "text/plain": [
              "torch.Size([2, 4])"
            ]
          },
          "metadata": {},
          "execution_count": 39
        }
      ]
    },
    {
      "cell_type": "code",
      "source": [
        "a[*i_list3].shape # 즉 위의 경우는 이처럼 unpacking을 한 것임."
      ],
      "metadata": {
        "colab": {
          "base_uri": "https://localhost:8080/"
        },
        "id": "d2ieXr89Neqv",
        "outputId": "2a49897b-ea4c-4283-db75-fc1ee44df607"
      },
      "execution_count": null,
      "outputs": [
        {
          "output_type": "execute_result",
          "data": {
            "text/plain": [
              "torch.Size([2, 4])"
            ]
          },
          "metadata": {},
          "execution_count": 41
        }
      ]
    },
    {
      "cell_type": "code",
      "source": [
        "a[i_list3[0], i_list3[1]].shape # 분해되어 들어가는 것과 같음."
      ],
      "metadata": {
        "colab": {
          "base_uri": "https://localhost:8080/"
        },
        "id": "8rQ-WiI2NgjV",
        "outputId": "cecddf1f-3f2a-45d4-dfce-c612fedb684d"
      },
      "execution_count": null,
      "outputs": [
        {
          "output_type": "execute_result",
          "data": {
            "text/plain": [
              "torch.Size([2, 4])"
            ]
          },
          "metadata": {},
          "execution_count": 42
        }
      ]
    },
    {
      "cell_type": "code",
      "source": [
        "a[i_list3,].shape # 뒤의 ,로 인해 index로 주어진 list의 axis-0가 풀리지 않음."
      ],
      "metadata": {
        "colab": {
          "base_uri": "https://localhost:8080/"
        },
        "id": "LZQKBOYBNiGd",
        "outputId": "fe151f49-ab9e-4576-b720-b6b6bf7510ea"
      },
      "execution_count": null,
      "outputs": [
        {
          "output_type": "execute_result",
          "data": {
            "text/plain": [
              "torch.Size([2, 2, 3, 4])"
            ]
          },
          "metadata": {},
          "execution_count": 44
        }
      ]
    },
    {
      "cell_type": "code",
      "source": [
        "a[torch.tensor(i_list3)].shape # a[i_list3,] 과 같은 결과임."
      ],
      "metadata": {
        "colab": {
          "base_uri": "https://localhost:8080/"
        },
        "id": "LoUx7AhDNj2t",
        "outputId": "e6b7db43-86dc-4f70-ca6d-bf4446506386"
      },
      "execution_count": null,
      "outputs": [
        {
          "output_type": "execute_result",
          "data": {
            "text/plain": [
              "torch.Size([2, 2, 3, 4])"
            ]
          },
          "metadata": {},
          "execution_count": 45
        }
      ]
    },
    {
      "cell_type": "code",
      "source": [
        "a_np[i_list3].shape # NumPy에선 tensor와 같은 결과."
      ],
      "metadata": {
        "colab": {
          "base_uri": "https://localhost:8080/"
        },
        "id": "w5HX_QJSNlJz",
        "outputId": "a02abd0b-3513-40e7-cd34-dadc189b0e60"
      },
      "execution_count": null,
      "outputs": [
        {
          "output_type": "execute_result",
          "data": {
            "text/plain": [
              "(2, 2, 3, 4)"
            ]
          },
          "metadata": {},
          "execution_count": 46
        }
      ]
    },
    {
      "cell_type": "code",
      "source": [
        "a_np[np.array(i_list3)].shape #ndarray 역시 마찬가지임."
      ],
      "metadata": {
        "colab": {
          "base_uri": "https://localhost:8080/"
        },
        "id": "A3OyiuJkNmyu",
        "outputId": "2a993987-f1be-4195-d501-7048f83a5bba"
      },
      "execution_count": null,
      "outputs": [
        {
          "output_type": "execute_result",
          "data": {
            "text/plain": [
              "(2, 2, 3, 4)"
            ]
          },
          "metadata": {},
          "execution_count": 47
        }
      ]
    },
    {
      "cell_type": "markdown",
      "source": [
        "## 3x2 의 경우"
      ],
      "metadata": {
        "id": "wWrtFcXgNqq8"
      }
    },
    {
      "cell_type": "code",
      "source": [
        "i_list4 = [ [0,0], [0,1], [1,1] ] # 3개로 분해되어 들어감.\n",
        "                                  # a[i_list4[0],i_list4[1],i_list4[2]]\n",
        "a[i_list4].shape"
      ],
      "metadata": {
        "colab": {
          "base_uri": "https://localhost:8080/"
        },
        "id": "H-mKTGvENoUK",
        "outputId": "c5ae170a-e6d2-4e23-d5f1-9b5f04904382"
      },
      "execution_count": null,
      "outputs": [
        {
          "output_type": "execute_result",
          "data": {
            "text/plain": [
              "torch.Size([2])"
            ]
          },
          "metadata": {},
          "execution_count": 48
        }
      ]
    },
    {
      "cell_type": "code",
      "source": [
        "a.shape, a"
      ],
      "metadata": {
        "colab": {
          "base_uri": "https://localhost:8080/"
        },
        "id": "SFPn4DQuFUhV",
        "outputId": "40cce93c-cb1d-4190-e8d8-c3e537f9b4ab"
      },
      "execution_count": null,
      "outputs": [
        {
          "output_type": "execute_result",
          "data": {
            "text/plain": [
              "(torch.Size([2, 3, 4]),\n",
              " tensor([[[ 0,  1,  2,  3],\n",
              "          [ 4,  5,  6,  7],\n",
              "          [ 8,  9, 10, 11]],\n",
              " \n",
              "         [[12, 13, 14, 15],\n",
              "          [16, 17, 18, 19],\n",
              "          [20, 21, 22, 23]]]))"
            ]
          },
          "metadata": {},
          "execution_count": 52
        }
      ]
    },
    {
      "cell_type": "code",
      "source": [
        "a[i_list4] # a[0,0,1] (=1) 과 a[0,1,1] (=5) 로 구성된 2개의 요소가지는 tensor"
      ],
      "metadata": {
        "colab": {
          "base_uri": "https://localhost:8080/"
        },
        "id": "sZfXN2iaFVsn",
        "outputId": "1c447449-f528-47df-c407-58c5f5807fea"
      },
      "execution_count": null,
      "outputs": [
        {
          "output_type": "execute_result",
          "data": {
            "text/plain": [
              "tensor([1, 5])"
            ]
          },
          "metadata": {},
          "execution_count": 54
        }
      ]
    },
    {
      "cell_type": "code",
      "source": [
        "a[i_list4[0],i_list4[1],i_list4[2]].shape # 동일함을 확인 할 수 있음.\n",
        "                                          # [a[0,0,1], a[0,1,1]] 을 반환"
      ],
      "metadata": {
        "colab": {
          "base_uri": "https://localhost:8080/"
        },
        "id": "ENl5iJBMNsxA",
        "outputId": "c32b31f8-ea8b-4947-9a5c-dfbfced239ee"
      },
      "execution_count": null,
      "outputs": [
        {
          "output_type": "execute_result",
          "data": {
            "text/plain": [
              "torch.Size([2])"
            ]
          },
          "metadata": {},
          "execution_count": 55
        }
      ]
    },
    {
      "cell_type": "code",
      "source": [
        "a[i_list4[0],i_list4[1],i_list4[2]]"
      ],
      "metadata": {
        "colab": {
          "base_uri": "https://localhost:8080/"
        },
        "id": "wdubI1N_Fwzq",
        "outputId": "66b5ad0b-3617-4c5e-f89f-182d8000c2ae"
      },
      "execution_count": null,
      "outputs": [
        {
          "output_type": "execute_result",
          "data": {
            "text/plain": [
              "tensor([1, 5])"
            ]
          },
          "metadata": {},
          "execution_count": 56
        }
      ]
    },
    {
      "cell_type": "code",
      "source": [
        "a[*i_list4].shape # unpacking으로 표현"
      ],
      "metadata": {
        "colab": {
          "base_uri": "https://localhost:8080/"
        },
        "id": "YDLEM058Nurb",
        "outputId": "78dc24da-d1c3-4da9-d6bd-d7ec7bd0f0a7"
      },
      "execution_count": null,
      "outputs": [
        {
          "output_type": "execute_result",
          "data": {
            "text/plain": [
              "torch.Size([2])"
            ]
          },
          "metadata": {},
          "execution_count": 57
        }
      ]
    },
    {
      "cell_type": "code",
      "source": [
        "print(*i_list4) # unpacking 확인하는 방법"
      ],
      "metadata": {
        "colab": {
          "base_uri": "https://localhost:8080/"
        },
        "id": "cdj8L22tF1cH",
        "outputId": "506694b1-f271-41a1-ecaf-090f13f7be0f"
      },
      "execution_count": null,
      "outputs": [
        {
          "output_type": "stream",
          "name": "stdout",
          "text": [
            "[0, 0] [0, 1] [1, 1]\n"
          ]
        }
      ]
    },
    {
      "cell_type": "code",
      "source": [
        "a[i_list4,].shape # 이는 tensor로 바꾼 것과 같은 결과.\n",
        "                  # 3x2 개의 a[i]가 존재하니 3x2x3x4 가 됨."
      ],
      "metadata": {
        "colab": {
          "base_uri": "https://localhost:8080/"
        },
        "id": "TTmog4zTNwny",
        "outputId": "7d4b0232-98c2-464b-978f-70cdb4388c3f"
      },
      "execution_count": null,
      "outputs": [
        {
          "output_type": "execute_result",
          "data": {
            "text/plain": [
              "torch.Size([3, 2, 3, 4])"
            ]
          },
          "metadata": {},
          "execution_count": 61
        }
      ]
    },
    {
      "cell_type": "code",
      "source": [
        "a[torch.tensor(i_list4)].shape"
      ],
      "metadata": {
        "colab": {
          "base_uri": "https://localhost:8080/"
        },
        "id": "1d3GP1s2NyiX",
        "outputId": "d6372e64-f7e5-43c6-bc39-fdce507f0e74"
      },
      "execution_count": null,
      "outputs": [
        {
          "output_type": "execute_result",
          "data": {
            "text/plain": [
              "torch.Size([3, 2, 3, 4])"
            ]
          },
          "metadata": {},
          "execution_count": 62
        }
      ]
    },
    {
      "cell_type": "code",
      "source": [
        "a_np[i_list4].shape"
      ],
      "metadata": {
        "colab": {
          "base_uri": "https://localhost:8080/"
        },
        "id": "MIR3tdINN0DO",
        "outputId": "43915914-c85d-422a-a4f1-2f6037db20e8"
      },
      "execution_count": null,
      "outputs": [
        {
          "output_type": "execute_result",
          "data": {
            "text/plain": [
              "(3, 2, 3, 4)"
            ]
          },
          "metadata": {},
          "execution_count": 63
        }
      ]
    },
    {
      "cell_type": "code",
      "source": [
        "a_np[np.array(i_list4)].shape"
      ],
      "metadata": {
        "colab": {
          "base_uri": "https://localhost:8080/"
        },
        "id": "NvpDdQVbN1bU",
        "outputId": "885d927f-c314-4cbf-c352-345431a07954"
      },
      "execution_count": null,
      "outputs": [
        {
          "output_type": "execute_result",
          "data": {
            "text/plain": [
              "(3, 2, 3, 4)"
            ]
          },
          "metadata": {},
          "execution_count": 64
        }
      ]
    },
    {
      "cell_type": "markdown",
      "source": [
        "## 4x4 의 경우\n",
        "\n",
        "이 경우 dimension-0 (or axis-0)가 4로 원본 텐서의 ndim(=3)보다 큼."
      ],
      "metadata": {
        "id": "n8lad8VRN5vH"
      }
    },
    {
      "cell_type": "code",
      "source": [
        "# scalar를 item으로 가지지 않는 list는 unpacking이 되어 들어가므로\n",
        "# scalar를 itme으로 가지지 않으면서 원본 tensor의 ndim보다 많은\n",
        "# axis-0 의 size를 가질 경우 동작하지 않음.\n",
        "i_list5= [\n",
        "    [0,1,0,1],\n",
        "    [0,0,0,0],\n",
        "    [1,1,0,0],\n",
        "    [1,1,1,1],\n",
        "]\n",
        "a[i_list5]"
      ],
      "metadata": {
        "colab": {
          "base_uri": "https://localhost:8080/",
          "height": 176
        },
        "id": "vVi-petZN3je",
        "outputId": "34cfc6f5-8534-4684-fcc4-a43e340633d0"
      },
      "execution_count": null,
      "outputs": [
        {
          "output_type": "error",
          "ename": "IndexError",
          "evalue": "too many indices for tensor of dimension 3",
          "traceback": [
            "\u001b[0;31m---------------------------------------------------------------------------\u001b[0m",
            "\u001b[0;31mIndexError\u001b[0m                                Traceback (most recent call last)",
            "\u001b[0;32m<ipython-input-65-1d0aad31a9da>\u001b[0m in \u001b[0;36m<cell line: 0>\u001b[0;34m()\u001b[0m\n\u001b[1;32m      8\u001b[0m     \u001b[0;34m[\u001b[0m\u001b[0;36m1\u001b[0m\u001b[0;34m,\u001b[0m\u001b[0;36m1\u001b[0m\u001b[0;34m,\u001b[0m\u001b[0;36m1\u001b[0m\u001b[0;34m,\u001b[0m\u001b[0;36m1\u001b[0m\u001b[0;34m]\u001b[0m\u001b[0;34m,\u001b[0m\u001b[0;34m\u001b[0m\u001b[0;34m\u001b[0m\u001b[0m\n\u001b[1;32m      9\u001b[0m ]\n\u001b[0;32m---> 10\u001b[0;31m \u001b[0ma\u001b[0m\u001b[0;34m[\u001b[0m\u001b[0mi_list5\u001b[0m\u001b[0;34m]\u001b[0m\u001b[0;34m\u001b[0m\u001b[0;34m\u001b[0m\u001b[0m\n\u001b[0m",
            "\u001b[0;31mIndexError\u001b[0m: too many indices for tensor of dimension 3"
          ]
        }
      ]
    },
    {
      "cell_type": "code",
      "source": [
        "# 하지만 ,를 붙여서 tensor로 넘긴 효과를 주면 동작함.\n",
        "# axis-0 가 4x4로 대체되어\n",
        "# 4x4 x 3x4 가 결과임.\n",
        "a[i_list5,].shape"
      ],
      "metadata": {
        "colab": {
          "base_uri": "https://localhost:8080/"
        },
        "id": "ACsH32UWN7pt",
        "outputId": "4c4671f8-4d45-444b-bbbe-df9c87df80cf"
      },
      "execution_count": null,
      "outputs": [
        {
          "output_type": "execute_result",
          "data": {
            "text/plain": [
              "torch.Size([4, 4, 3, 4])"
            ]
          },
          "metadata": {},
          "execution_count": 67
        }
      ]
    },
    {
      "cell_type": "code",
      "source": [
        "a[torch.tensor(i_list5)].shape"
      ],
      "metadata": {
        "colab": {
          "base_uri": "https://localhost:8080/"
        },
        "id": "HV0mmag3N-LW",
        "outputId": "765df13d-6901-46f1-8b58-95afdc03d95a"
      },
      "execution_count": null,
      "outputs": [
        {
          "output_type": "execute_result",
          "data": {
            "text/plain": [
              "torch.Size([4, 4, 3, 4])"
            ]
          },
          "metadata": {},
          "execution_count": 68
        }
      ]
    },
    {
      "cell_type": "code",
      "source": [
        "a_np[i_list5].shape"
      ],
      "metadata": {
        "colab": {
          "base_uri": "https://localhost:8080/"
        },
        "id": "f41ERZVjN_58",
        "outputId": "3c28a480-0368-46dc-d6c4-dd4a2c4297bc"
      },
      "execution_count": null,
      "outputs": [
        {
          "output_type": "execute_result",
          "data": {
            "text/plain": [
              "(4, 4, 3, 4)"
            ]
          },
          "metadata": {},
          "execution_count": 69
        }
      ]
    },
    {
      "cell_type": "code",
      "source": [
        "a_np[np.array(i_list5)].shape"
      ],
      "metadata": {
        "colab": {
          "base_uri": "https://localhost:8080/"
        },
        "id": "G1DK-wNIOBAG",
        "outputId": "add43af4-6fb3-47a4-d439-f04ac0d5d977"
      },
      "execution_count": null,
      "outputs": [
        {
          "output_type": "execute_result",
          "data": {
            "text/plain": [
              "(4, 4, 3, 4)"
            ]
          },
          "metadata": {},
          "execution_count": 65
        }
      ]
    }
  ]
}