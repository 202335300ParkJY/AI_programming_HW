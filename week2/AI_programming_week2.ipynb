{
  "nbformat": 4,
  "nbformat_minor": 0,
  "metadata": {
    "colab": {
      "provenance": []
    },
    "kernelspec": {
      "name": "python3",
      "display_name": "Python 3"
    },
    "language_info": {
      "name": "python"
    }
  },
  "cells": [
    {
      "cell_type": "markdown",
      "source": [
        "Tensor 인스턴스의 Storage 인스턴스"
      ],
      "metadata": {
        "id": "DASnp-LLWKnY"
      }
    },
    {
      "cell_type": "code",
      "execution_count": 7,
      "metadata": {
        "colab": {
          "base_uri": "https://localhost:8080/"
        },
        "id": "uspAsGNML6Jx",
        "outputId": "6049196b-4c5e-4ab3-a2ea-2c51185d7ac9"
      },
      "outputs": [
        {
          "output_type": "stream",
          "name": "stdout",
          "text": [
            "<bound method Tensor.storage of tensor([[ 0.2975,  1.0263, -0.3536],\n",
            "        [-0.5901, -0.3142, -0.0712],\n",
            "        [-1.0195,  0.8401, -0.8353]])>\n"
          ]
        }
      ],
      "source": [
        "import torch\n",
        "\n",
        "x = torch.randn(3,3)\n",
        "x_storage = x.storage()\n",
        "\n",
        "print(x.storage)"
      ]
    },
    {
      "cell_type": "code",
      "source": [
        "x.untyped_storage # 최근엔 이것을 추천. byte로 되어있음 = untyped"
      ],
      "metadata": {
        "colab": {
          "base_uri": "https://localhost:8080/"
        },
        "id": "tkQYutgIWPNf",
        "outputId": "6aaf5f50-0f6c-4e0b-9f73-458b32837a36"
      },
      "execution_count": 8,
      "outputs": [
        {
          "output_type": "execute_result",
          "data": {
            "text/plain": [
              "<function Tensor.untyped_storage>"
            ]
          },
          "metadata": {},
          "execution_count": 8
        }
      ]
    },
    {
      "cell_type": "code",
      "source": [
        "x_storage = x.untyped_storage()\n",
        "print(x_storage)"
      ],
      "metadata": {
        "colab": {
          "base_uri": "https://localhost:8080/"
        },
        "id": "Yy6x642rWaev",
        "outputId": "d8327618-ebf2-4600-dd46-bb2bc54393c6"
      },
      "execution_count": 9,
      "outputs": [
        {
          "output_type": "stream",
          "name": "stdout",
          "text": [
            " 116\n",
            " 87\n",
            " 152\n",
            " 62\n",
            " 219\n",
            " 94\n",
            " 131\n",
            " 63\n",
            " 99\n",
            " 14\n",
            " 181\n",
            " 190\n",
            " 216\n",
            " 14\n",
            " 23\n",
            " 191\n",
            " 123\n",
            " 224\n",
            " 160\n",
            " 190\n",
            " 138\n",
            " 191\n",
            " 145\n",
            " 189\n",
            " 226\n",
            " 126\n",
            " 130\n",
            " 191\n",
            " 238\n",
            " 14\n",
            " 87\n",
            " 63\n",
            " 91\n",
            " 215\n",
            " 85\n",
            " 191\n",
            "[torch.storage.UntypedStorage(device=cpu) of size 36]\n"
          ]
        }
      ]
    },
    {
      "cell_type": "markdown",
      "source": [
        "#----------------"
      ],
      "metadata": {
        "id": "tKeOONdGdNWw"
      }
    },
    {
      "cell_type": "code",
      "source": [
        "import torch\n",
        "\n",
        "a = torch.tensor([ range(i,i+3) for i in [0,3,6]])\n",
        "a"
      ],
      "metadata": {
        "colab": {
          "base_uri": "https://localhost:8080/"
        },
        "id": "viT2LSMmdM6Y",
        "outputId": "65c96cc1-57a6-4fdf-a4f4-aa4dcf8572ff"
      },
      "execution_count": 53,
      "outputs": [
        {
          "output_type": "execute_result",
          "data": {
            "text/plain": [
              "tensor([[0, 1, 2],\n",
              "        [3, 4, 5],\n",
              "        [6, 7, 8]])"
            ]
          },
          "metadata": {},
          "execution_count": 53
        }
      ]
    },
    {
      "cell_type": "code",
      "source": [
        "a.storage()\n",
        "# a.untyped_storage()"
      ],
      "metadata": {
        "colab": {
          "base_uri": "https://localhost:8080/"
        },
        "id": "gdii-GXAdP9Y",
        "outputId": "20de40ec-90b8-4019-b5ad-3d5d0f6cba74"
      },
      "execution_count": 54,
      "outputs": [
        {
          "output_type": "execute_result",
          "data": {
            "text/plain": [
              " 0\n",
              " 1\n",
              " 2\n",
              " 3\n",
              " 4\n",
              " 5\n",
              " 6\n",
              " 7\n",
              " 8\n",
              "[torch.storage.TypedStorage(dtype=torch.int64, device=cpu) of size 9]"
            ]
          },
          "metadata": {},
          "execution_count": 54
        }
      ]
    },
    {
      "cell_type": "markdown",
      "source": [
        "여기서부터x를 a로 바꾸자"
      ],
      "metadata": {
        "id": "l7lj5M23dRiQ"
      }
    },
    {
      "cell_type": "code",
      "source": [
        "x.is_contiguous()#builrt_in func.임"
      ],
      "metadata": {
        "colab": {
          "base_uri": "https://localhost:8080/"
        },
        "id": "dmubrlwfYVdf",
        "outputId": "c3b7ff79-63fb-4986-c3e4-d1bb82e54621"
      },
      "execution_count": 17,
      "outputs": [
        {
          "output_type": "execute_result",
          "data": {
            "text/plain": [
              "True"
            ]
          },
          "metadata": {},
          "execution_count": 17
        }
      ]
    },
    {
      "cell_type": "code",
      "source": [
        "x_sub = x[1:,0]\n",
        "print(x_sub)"
      ],
      "metadata": {
        "colab": {
          "base_uri": "https://localhost:8080/"
        },
        "id": "_Jbnn8sqYhlQ",
        "outputId": "f535ce0e-f715-4803-cf9b-8753d3d017b9"
      },
      "execution_count": 18,
      "outputs": [
        {
          "output_type": "stream",
          "name": "stdout",
          "text": [
            "tensor([-0.5901, -1.0195])\n"
          ]
        }
      ]
    },
    {
      "cell_type": "code",
      "source": [
        "x"
      ],
      "metadata": {
        "colab": {
          "base_uri": "https://localhost:8080/"
        },
        "id": "6z8V3hGAY9vf",
        "outputId": "23d31f18-cfa6-4c77-81ec-25e68b42d8ec"
      },
      "execution_count": 19,
      "outputs": [
        {
          "output_type": "execute_result",
          "data": {
            "text/plain": [
              "tensor([[ 0.2975,  1.0263, -0.3536],\n",
              "        [-0.5901, -0.3142, -0.0712],\n",
              "        [-1.0195,  0.8401, -0.8353]])"
            ]
          },
          "metadata": {},
          "execution_count": 19
        }
      ]
    },
    {
      "cell_type": "code",
      "source": [
        "id(x_sub) == id(x)"
      ],
      "metadata": {
        "colab": {
          "base_uri": "https://localhost:8080/"
        },
        "id": "FMzxu2oqZD24",
        "outputId": "5c1237b1-ac39-4e04-e085-d149740ae965"
      },
      "execution_count": 20,
      "outputs": [
        {
          "output_type": "execute_result",
          "data": {
            "text/plain": [
              "False"
            ]
          },
          "metadata": {},
          "execution_count": 20
        }
      ]
    },
    {
      "cell_type": "code",
      "source": [
        "print(x_sub.storage())\n",
        "x_sub.storage() == x.storage()"
      ],
      "metadata": {
        "colab": {
          "base_uri": "https://localhost:8080/"
        },
        "id": "w1anuSbeY4to",
        "outputId": "6fd3dcf9-1aa6-409a-a9f0-4bcac4040e6f"
      },
      "execution_count": 21,
      "outputs": [
        {
          "output_type": "stream",
          "name": "stdout",
          "text": [
            " 0.2975422143936157\n",
            " 1.0263322591781616\n",
            " -0.3536253869533539\n",
            " -0.5900702476501465\n",
            " -0.3142126500606537\n",
            " -0.07116611301898956\n",
            " -1.0194971561431885\n",
            " 0.8400715589523315\n",
            " -0.8353173136711121\n",
            "[torch.storage.TypedStorage(dtype=torch.float32, device=cpu) of size 9]\n"
          ]
        },
        {
          "output_type": "execute_result",
          "data": {
            "text/plain": [
              "False"
            ]
          },
          "metadata": {},
          "execution_count": 21
        }
      ]
    },
    {
      "cell_type": "code",
      "source": [
        "x.untyped_storage().data_ptr() == x_sub.untyped_storage().data_ptr()"
      ],
      "metadata": {
        "colab": {
          "base_uri": "https://localhost:8080/"
        },
        "id": "boZiwxeaZSqf",
        "outputId": "1eb16044-37ef-48c9-d6bf-f64e69325a7b"
      },
      "execution_count": 22,
      "outputs": [
        {
          "output_type": "execute_result",
          "data": {
            "text/plain": [
              "True"
            ]
          },
          "metadata": {},
          "execution_count": 22
        }
      ]
    },
    {
      "cell_type": "code",
      "source": [
        "x_t = torch.transpose(x,0,1)\n",
        "x_t"
      ],
      "metadata": {
        "colab": {
          "base_uri": "https://localhost:8080/"
        },
        "id": "ZVBE7k-LZeDH",
        "outputId": "27595bf4-9dcd-4312-8321-80cc185faef5"
      },
      "execution_count": 23,
      "outputs": [
        {
          "output_type": "execute_result",
          "data": {
            "text/plain": [
              "tensor([[ 0.2975, -0.5901, -1.0195],\n",
              "        [ 1.0263, -0.3142,  0.8401],\n",
              "        [-0.3536, -0.0712, -0.8353]])"
            ]
          },
          "metadata": {},
          "execution_count": 23
        }
      ]
    },
    {
      "cell_type": "code",
      "source": [
        "print(x_t.storage())\n",
        "x_t.is_contiguous()"
      ],
      "metadata": {
        "colab": {
          "base_uri": "https://localhost:8080/"
        },
        "id": "wadFdIvyZnx4",
        "outputId": "524e508f-c67c-4540-e8f5-497a4a30ab28"
      },
      "execution_count": 24,
      "outputs": [
        {
          "output_type": "stream",
          "name": "stdout",
          "text": [
            " 0.2975422143936157\n",
            " 1.0263322591781616\n",
            " -0.3536253869533539\n",
            " -0.5900702476501465\n",
            " -0.3142126500606537\n",
            " -0.07116611301898956\n",
            " -1.0194971561431885\n",
            " 0.8400715589523315\n",
            " -0.8353173136711121\n",
            "[torch.storage.TypedStorage(dtype=torch.float32, device=cpu) of size 9]\n"
          ]
        },
        {
          "output_type": "execute_result",
          "data": {
            "text/plain": [
              "False"
            ]
          },
          "metadata": {},
          "execution_count": 24
        }
      ]
    },
    {
      "cell_type": "code",
      "source": [
        "x_t[0,1] = 999\n",
        "print(x_t)\n",
        "print('-----')\n",
        "print(x)\n",
        "print('-----')\n",
        "print(x_sub)"
      ],
      "metadata": {
        "colab": {
          "base_uri": "https://localhost:8080/"
        },
        "id": "TwCeYBtzZ0Yw",
        "outputId": "22e960e1-0a5a-4509-c2d6-df486b3cc3b4"
      },
      "execution_count": 25,
      "outputs": [
        {
          "output_type": "stream",
          "name": "stdout",
          "text": [
            "tensor([[ 2.9754e-01,  9.9900e+02, -1.0195e+00],\n",
            "        [ 1.0263e+00, -3.1421e-01,  8.4007e-01],\n",
            "        [-3.5363e-01, -7.1166e-02, -8.3532e-01]])\n",
            "-----\n",
            "tensor([[ 2.9754e-01,  1.0263e+00, -3.5363e-01],\n",
            "        [ 9.9900e+02, -3.1421e-01, -7.1166e-02],\n",
            "        [-1.0195e+00,  8.4007e-01, -8.3532e-01]])\n",
            "-----\n",
            "tensor([999.0000,  -1.0195])\n"
          ]
        }
      ]
    },
    {
      "cell_type": "code",
      "source": [
        "print(f\"{x.shape=}, {x.size()=}, {x.stride()=}, {x.storage_offset()=}\") #conti.함\n",
        "print(f\"{x_t.shape=}, {x_t.size()=}, {x_t.stride()=}, {x_t.storage_offset()=}\") #conti.안함 transpose되었기 때문 3,1 -> 3,1\n",
        "print(f\"{x_sub.shape=}, {x_sub.size()=}, {x_sub.stride()=}, {x_sub.storage_offset()=}\")"
      ],
      "metadata": {
        "colab": {
          "base_uri": "https://localhost:8080/"
        },
        "id": "p8gUJ-SjaCcY",
        "outputId": "48df4ca9-1fa8-4828-ada3-4843ffad3277"
      },
      "execution_count": 28,
      "outputs": [
        {
          "output_type": "stream",
          "name": "stdout",
          "text": [
            "x.shape=torch.Size([3, 3]), x.size()=torch.Size([3, 3]), x.stride()=(3, 1), x.storage_offset()=0\n",
            "x_t.shape=torch.Size([3, 3]), x_t.size()=torch.Size([3, 3]), x_t.stride()=(1, 3), x_t.storage_offset()=0\n",
            "x_sub.shape=torch.Size([2]), x_sub.size()=torch.Size([2]), x_sub.stride()=(3,), x_sub.storage_offset()=3\n"
          ]
        }
      ]
    },
    {
      "cell_type": "code",
      "source": [
        "x_v = x.view((9,))\n",
        "x_v"
      ],
      "metadata": {
        "colab": {
          "base_uri": "https://localhost:8080/"
        },
        "id": "tdqcDc96atPx",
        "outputId": "0723251b-1678-4279-9b8f-f7251f4fafc7"
      },
      "execution_count": 29,
      "outputs": [
        {
          "output_type": "execute_result",
          "data": {
            "text/plain": [
              "tensor([ 2.9754e-01,  1.0263e+00, -3.5363e-01,  9.9900e+02, -3.1421e-01,\n",
              "        -7.1166e-02, -1.0195e+00,  8.4007e-01, -8.3532e-01])"
            ]
          },
          "metadata": {},
          "execution_count": 29
        }
      ]
    },
    {
      "cell_type": "code",
      "source": [
        "x_r = x.reshape((9,))\n",
        "x_r[3] = 777\n",
        "print('데이터 저장공간 share')\n",
        "print('x_r: af.reshape')\n",
        "print(x_r)\n",
        "print('x: af.original')\n",
        "print(x)\n",
        "print('x_t: af.transpose')\n",
        "print(x_t)"
      ],
      "metadata": {
        "colab": {
          "base_uri": "https://localhost:8080/"
        },
        "id": "r0jF4laEa1UY",
        "outputId": "c2ecde54-5c43-49fa-ce7d-dab881a1b6f0"
      },
      "execution_count": 30,
      "outputs": [
        {
          "output_type": "stream",
          "name": "stdout",
          "text": [
            "데이터 저장공간 share\n",
            "x_r: af.reshape\n",
            "tensor([ 2.9754e-01,  1.0263e+00, -3.5363e-01,  7.7700e+02, -3.1421e-01,\n",
            "        -7.1166e-02, -1.0195e+00,  8.4007e-01, -8.3532e-01])\n",
            "x: af.original\n",
            "tensor([[ 2.9754e-01,  1.0263e+00, -3.5363e-01],\n",
            "        [ 7.7700e+02, -3.1421e-01, -7.1166e-02],\n",
            "        [-1.0195e+00,  8.4007e-01, -8.3532e-01]])\n",
            "x_t: af.transpose\n",
            "tensor([[ 2.9754e-01,  7.7700e+02, -1.0195e+00],\n",
            "        [ 1.0263e+00, -3.1421e-01,  8.4007e-01],\n",
            "        [-3.5363e-01, -7.1166e-02, -8.3532e-01]])\n"
          ]
        }
      ]
    },
    {
      "cell_type": "markdown",
      "source": [
        "Storage는 실제 data가 저장되는 memory를 가르키는 위치를 반환하는 메서드를 가짐.\n",
        "\n",
        "이를 통해 실제로 Tensor 인스턴스가 Data를 공유하는지를 확인"
      ],
      "metadata": {
        "id": "wsvSdm_IWIMo"
      }
    },
    {
      "cell_type": "markdown",
      "source": [
        "#-------------------------------------------\n",
        "\n",
        "Tensor 인스턴스와 이에 대한 slicing을 통한 Tensor 인스턴스의 관계를 확인"
      ],
      "metadata": {
        "id": "g9Pcy8TmWxFo"
      }
    },
    {
      "cell_type": "code",
      "source": [
        "import torch\n",
        "\n",
        "a = torch.tensor([range(i,i+3) for i in [0,3,6]])\n",
        "a_sub = a[1:,0] # 부분에 대한 view\n",
        "\n",
        "# Tensor a 와 a_sub 의 contiguous 여부 확인.\n",
        "print(a.is_contiguous(), a_sub.is_contiguous())\n",
        "\n",
        "# Tensor a 와 a_sub 가 같은 메모리의 데이터를 공유하는지 여부.\n",
        "print(a.storage().data_ptr() == a_sub.storage().data_ptr())\n",
        "\n",
        "# Storage 인스턴스는 각 Tensor 인스턴스 별로 생성됨.\n",
        "print(id(a.storage()) == id(a_sub.storage()))\n",
        "\n",
        "# Tensor 인스턴스의 meta data\n",
        "print(f\"{a.shape=}, {a.size()=}, {a.stride()=}, {a.storage_offset()=}\")\n",
        "print(f\"{a_sub.shape=}, {a_sub.size()=}, {a_sub.stride()=}, {a_sub.storage_offset()=}\")"
      ],
      "metadata": {
        "colab": {
          "base_uri": "https://localhost:8080/"
        },
        "id": "hc74susQWqKI",
        "outputId": "3a8e897c-ace8-434c-9ca5-5c11d22a34fb"
      },
      "execution_count": 12,
      "outputs": [
        {
          "output_type": "stream",
          "name": "stdout",
          "text": [
            "True False\n",
            "True\n",
            "True\n",
            "a.shape=torch.Size([3, 3]), a.size()=torch.Size([3, 3]), a.stride()=(3, 1), a.storage_offset()=0\n",
            "a_sub.shape=torch.Size([2]), a_sub.size()=torch.Size([2]), a_sub.stride()=(3,), a_sub.storage_offset()=3\n"
          ]
        }
      ]
    },
    {
      "cell_type": "code",
      "source": [
        "x_t.view((9,)) # not working"
      ],
      "metadata": {
        "colab": {
          "base_uri": "https://localhost:8080/",
          "height": 166
        },
        "id": "-eoyOSptbjWR",
        "outputId": "7bc2fc00-155f-4627-ca95-b5b80621e2bf"
      },
      "execution_count": 31,
      "outputs": [
        {
          "output_type": "error",
          "ename": "RuntimeError",
          "evalue": "view size is not compatible with input tensor's size and stride (at least one dimension spans across two contiguous subspaces). Use .reshape(...) instead.",
          "traceback": [
            "\u001b[0;31m---------------------------------------------------------------------------\u001b[0m",
            "\u001b[0;31mRuntimeError\u001b[0m                              Traceback (most recent call last)",
            "\u001b[0;32m<ipython-input-31-69313e56eb30>\u001b[0m in \u001b[0;36m<cell line: 0>\u001b[0;34m()\u001b[0m\n\u001b[0;32m----> 1\u001b[0;31m \u001b[0mx_t\u001b[0m\u001b[0;34m.\u001b[0m\u001b[0mview\u001b[0m\u001b[0;34m(\u001b[0m\u001b[0;34m(\u001b[0m\u001b[0;36m9\u001b[0m\u001b[0;34m,\u001b[0m\u001b[0;34m)\u001b[0m\u001b[0;34m)\u001b[0m \u001b[0;31m# not working\u001b[0m\u001b[0;34m\u001b[0m\u001b[0;34m\u001b[0m\u001b[0m\n\u001b[0m",
            "\u001b[0;31mRuntimeError\u001b[0m: view size is not compatible with input tensor's size and stride (at least one dimension spans across two contiguous subspaces). Use .reshape(...) instead."
          ]
        }
      ]
    },
    {
      "cell_type": "code",
      "source": [
        "x_t_r = x_t.reshape((9,)) # uncontiguous tensor에서는 새로 생성이 이루어짐.\n",
        "x_t_r"
      ],
      "metadata": {
        "colab": {
          "base_uri": "https://localhost:8080/"
        },
        "id": "6YwoAlONblXY",
        "outputId": "f8f80573-371a-444c-a23a-cd86b19cf1a7"
      },
      "execution_count": 32,
      "outputs": [
        {
          "output_type": "execute_result",
          "data": {
            "text/plain": [
              "tensor([ 2.9754e-01,  7.7700e+02, -1.0195e+00,  1.0263e+00, -3.1421e-01,\n",
              "         8.4007e-01, -3.5363e-01, -7.1166e-02, -8.3532e-01])"
            ]
          },
          "metadata": {},
          "execution_count": 32
        }
      ]
    },
    {
      "cell_type": "code",
      "source": [
        "x_t_r[1] = 999\n",
        "print(x_t_r)\n",
        "print(x_t) # 달라짐."
      ],
      "metadata": {
        "colab": {
          "base_uri": "https://localhost:8080/"
        },
        "id": "VUKhG-W0bpiw",
        "outputId": "4aa52543-8d19-4f4e-cb59-586fe9c106bd"
      },
      "execution_count": 33,
      "outputs": [
        {
          "output_type": "stream",
          "name": "stdout",
          "text": [
            "tensor([ 2.9754e-01,  9.9900e+02, -1.0195e+00,  1.0263e+00, -3.1421e-01,\n",
            "         8.4007e-01, -3.5363e-01, -7.1166e-02, -8.3532e-01])\n",
            "tensor([[ 2.9754e-01,  7.7700e+02, -1.0195e+00],\n",
            "        [ 1.0263e+00, -3.1421e-01,  8.4007e-01],\n",
            "        [-3.5363e-01, -7.1166e-02, -8.3532e-01]])\n"
          ]
        }
      ]
    },
    {
      "cell_type": "code",
      "source": [
        "act = x_t.contiguous()\n",
        "act"
      ],
      "metadata": {
        "colab": {
          "base_uri": "https://localhost:8080/"
        },
        "id": "6VeCdglxbrFw",
        "outputId": "1f1be185-4ece-4ad5-d8b0-18501073d6b8"
      },
      "execution_count": 34,
      "outputs": [
        {
          "output_type": "execute_result",
          "data": {
            "text/plain": [
              "tensor([[ 2.9754e-01,  7.7700e+02, -1.0195e+00],\n",
              "        [ 1.0263e+00, -3.1421e-01,  8.4007e-01],\n",
              "        [-3.5363e-01, -7.1166e-02, -8.3532e-01]])"
            ]
          },
          "metadata": {},
          "execution_count": 34
        }
      ]
    },
    {
      "cell_type": "code",
      "source": [
        "act.storage()"
      ],
      "metadata": {
        "colab": {
          "base_uri": "https://localhost:8080/"
        },
        "id": "s7i1yW8Dby_4",
        "outputId": "410dc113-d60a-46bd-b635-fdfb5206e713"
      },
      "execution_count": 35,
      "outputs": [
        {
          "output_type": "execute_result",
          "data": {
            "text/plain": [
              " 0.2975422143936157\n",
              " 777.0\n",
              " -1.0194971561431885\n",
              " 1.0263322591781616\n",
              " -0.3142126500606537\n",
              " 0.8400715589523315\n",
              " -0.3536253869533539\n",
              " -0.07116611301898956\n",
              " -0.8353173136711121\n",
              "[torch.storage.TypedStorage(dtype=torch.float32, device=cpu) of size 9]"
            ]
          },
          "metadata": {},
          "execution_count": 35
        }
      ]
    },
    {
      "cell_type": "code",
      "source": [
        "act[1] = 999\n",
        "print(act)\n",
        "print(x_t)"
      ],
      "metadata": {
        "colab": {
          "base_uri": "https://localhost:8080/"
        },
        "id": "m3tBJFR8b26o",
        "outputId": "340b3e5c-7c61-4d8b-b653-ebc14a2d4e8e"
      },
      "execution_count": 36,
      "outputs": [
        {
          "output_type": "stream",
          "name": "stdout",
          "text": [
            "tensor([[ 2.9754e-01,  7.7700e+02, -1.0195e+00],\n",
            "        [ 9.9900e+02,  9.9900e+02,  9.9900e+02],\n",
            "        [-3.5363e-01, -7.1166e-02, -8.3532e-01]])\n",
            "tensor([[ 2.9754e-01,  7.7700e+02, -1.0195e+00],\n",
            "        [ 1.0263e+00, -3.1421e-01,  8.4007e-01],\n",
            "        [-3.5363e-01, -7.1166e-02, -8.3532e-01]])\n"
          ]
        }
      ]
    },
    {
      "cell_type": "markdown",
      "source": [
        "# permutation (순열)\n",
        "\n",
        "\n",
        "\n",
        "* `permute`: 축의 순서를 바꿈."
      ],
      "metadata": {
        "id": "cobP-NXJcAmx"
      }
    },
    {
      "cell_type": "code",
      "source": [
        "print(a)\n",
        "print('------')\n",
        "print('permute axis-0 and axis-1 = transpose')\n",
        "ap = a.permute([1,0]) # permute axis-0 and axis-1\n",
        "ap"
      ],
      "metadata": {
        "colab": {
          "base_uri": "https://localhost:8080/"
        },
        "id": "2PTOCBUnOR0g",
        "outputId": "9c7c486d-60c5-480a-f24f-c5a7d778e873"
      },
      "execution_count": 43,
      "outputs": [
        {
          "output_type": "stream",
          "name": "stdout",
          "text": [
            "tensor([[0, 1, 2],\n",
            "        [3, 4, 5],\n",
            "        [6, 7, 8]])\n",
            "------\n",
            "permute axis-0 and axis-1 = transpose\n"
          ]
        },
        {
          "output_type": "execute_result",
          "data": {
            "text/plain": [
              "tensor([[0, 3, 6],\n",
              "        [1, 4, 7],\n",
              "        [2, 5, 8]])"
            ]
          },
          "metadata": {},
          "execution_count": 43
        }
      ]
    },
    {
      "cell_type": "code",
      "source": [
        "a.storage().data_ptr() == ap.storage().data_ptr()"
      ],
      "metadata": {
        "colab": {
          "base_uri": "https://localhost:8080/"
        },
        "id": "awn1ylMbcqPw",
        "outputId": "d546a633-b979-4096-dd3d-bca60891f081"
      },
      "execution_count": 46,
      "outputs": [
        {
          "output_type": "execute_result",
          "data": {
            "text/plain": [
              "True"
            ]
          },
          "metadata": {},
          "execution_count": 46
        }
      ]
    },
    {
      "cell_type": "code",
      "source": [
        "print(ap.is_contiguous())"
      ],
      "metadata": {
        "colab": {
          "base_uri": "https://localhost:8080/"
        },
        "id": "cnv1Z5XecocS",
        "outputId": "562fa2a0-171e-4dc4-e209-326776a98279"
      },
      "execution_count": 47,
      "outputs": [
        {
          "output_type": "stream",
          "name": "stdout",
          "text": [
            "False\n"
          ]
        }
      ]
    },
    {
      "cell_type": "code",
      "source": [
        "ap2 = ap.contiguous()\n",
        "a.storage().data_ptr() == ap2.storage().data_ptr()"
      ],
      "metadata": {
        "colab": {
          "base_uri": "https://localhost:8080/"
        },
        "id": "uHLXufukcvXA",
        "outputId": "bed9aae5-f760-4cbc-8701-a5583eff8bb9"
      },
      "execution_count": 48,
      "outputs": [
        {
          "output_type": "execute_result",
          "data": {
            "text/plain": [
              "False"
            ]
          },
          "metadata": {},
          "execution_count": 48
        }
      ]
    },
    {
      "cell_type": "code",
      "source": [
        "ap2.is_contiguous()"
      ],
      "metadata": {
        "colab": {
          "base_uri": "https://localhost:8080/"
        },
        "id": "7a_-LhUJcw16",
        "outputId": "0a2abd02-1a77-4659-d943-14bcc2a61c11"
      },
      "execution_count": 49,
      "outputs": [
        {
          "output_type": "execute_result",
          "data": {
            "text/plain": [
              "True"
            ]
          },
          "metadata": {},
          "execution_count": 49
        }
      ]
    },
    {
      "cell_type": "code",
      "source": [
        "a"
      ],
      "metadata": {
        "colab": {
          "base_uri": "https://localhost:8080/"
        },
        "id": "mn9x02-Kc9J3",
        "outputId": "6a945f11-a88d-4ce0-a46d-ee19aa81414c"
      },
      "execution_count": 50,
      "outputs": [
        {
          "output_type": "execute_result",
          "data": {
            "text/plain": [
              "tensor([[0, 1, 2],\n",
              "        [3, 4, 5],\n",
              "        [6, 7, 8]])"
            ]
          },
          "metadata": {},
          "execution_count": 50
        }
      ]
    },
    {
      "cell_type": "code",
      "source": [
        "ap"
      ],
      "metadata": {
        "colab": {
          "base_uri": "https://localhost:8080/"
        },
        "id": "IrlZg_a2c-UH",
        "outputId": "ce3c5790-b6f8-4fba-ab42-c9e78dcab3b1"
      },
      "execution_count": 51,
      "outputs": [
        {
          "output_type": "execute_result",
          "data": {
            "text/plain": [
              "tensor([[0, 3, 6],\n",
              "        [1, 4, 7],\n",
              "        [2, 5, 8]])"
            ]
          },
          "metadata": {},
          "execution_count": 51
        }
      ]
    },
    {
      "cell_type": "code",
      "source": [
        "ap2"
      ],
      "metadata": {
        "colab": {
          "base_uri": "https://localhost:8080/"
        },
        "id": "q1kqMU52c_ge",
        "outputId": "c2593745-192c-41d7-b2b7-c93a56eda355"
      },
      "execution_count": 52,
      "outputs": [
        {
          "output_type": "execute_result",
          "data": {
            "text/plain": [
              "tensor([[0, 3, 6],\n",
              "        [1, 4, 7],\n",
              "        [2, 5, 8]])"
            ]
          },
          "metadata": {},
          "execution_count": 52
        }
      ]
    },
    {
      "cell_type": "code",
      "source": [],
      "metadata": {
        "id": "vQ2sXkmudAEH"
      },
      "execution_count": null,
      "outputs": []
    }
  ]
}