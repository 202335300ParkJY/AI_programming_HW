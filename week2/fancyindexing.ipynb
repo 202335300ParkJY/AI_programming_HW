{
  "nbformat": 4,
  "nbformat_minor": 0,
  "metadata": {
    "colab": {
      "provenance": [],
      "machine_shape": "hm",
      "gpuType": "T4"
    },
    "kernelspec": {
      "name": "python3",
      "display_name": "Python 3"
    },
    "language_info": {
      "name": "python"
    }
  },
  "cells": [
    {
      "cell_type": "markdown",
      "source": [
        "# 관련 자료:\n",
        "\n",
        "https://dsaint31.tistory.com/374\n"
      ],
      "metadata": {
        "id": "YxA7ctwoU432"
      }
    },
    {
      "cell_type": "code",
      "execution_count": 2,
      "metadata": {
        "id": "spIczoqfFcHR"
      },
      "outputs": [],
      "source": [
        "import numpy as np\n",
        "import torch\n",
        "import tensorflow as tf\n"
      ]
    },
    {
      "cell_type": "code",
      "source": [
        "a = [[1,2,3]]\n",
        "print(type(a))\n",
        "print(a)"
      ],
      "metadata": {
        "colab": {
          "base_uri": "https://localhost:8080/"
        },
        "id": "edpn4IOmsxTh",
        "outputId": "55446245-a6d7-4891-c7f0-6769ec9b17a9"
      },
      "execution_count": 3,
      "outputs": [
        {
          "output_type": "stream",
          "name": "stdout",
          "text": [
            "<class 'list'>\n",
            "[[1, 2, 3]]\n"
          ]
        }
      ]
    },
    {
      "cell_type": "markdown",
      "source": [
        "# 1D Tensor에서의 Fancy Indexing"
      ],
      "metadata": {
        "id": "IYmv6cNG6amF"
      }
    },
    {
      "cell_type": "code",
      "source": [
        "x = np.array([10.,20.,30.,40.,50.])\n",
        "x_torch = torch.tensor([10.,20.,30.,40.,50.])\n",
        "x_tf = tf.constant([10.,20.,30.,40.,50.])\n",
        "\n",
        "f_indices = [3, 4, 1]\n",
        "print(x[f_indices])\n",
        "print(x_torch[f_indices])\n",
        "print(tf.gather(x_tf,f_indices)) #1D 에선 gahter, 2D 이상시 gather_nd\n",
        "print(tf.gather_nd(x_tf, [ i for i in zip(f_indices,)])) # 굳이 쓴다면, 다음과 같이."
      ],
      "metadata": {
        "colab": {
          "base_uri": "https://localhost:8080/"
        },
        "id": "ACqYmcl_FgGg",
        "outputId": "e9db7728-4cf7-4212-b08e-c3f6a0491a44"
      },
      "execution_count": null,
      "outputs": [
        {
          "output_type": "stream",
          "name": "stdout",
          "text": [
            "[40. 50. 20.]\n",
            "tensor([40., 50., 20.])\n",
            "tf.Tensor([40. 50. 20.], shape=(3,), dtype=float32)\n",
            "tf.Tensor([40. 50. 20.], shape=(3,), dtype=float32)\n"
          ]
        }
      ]
    },
    {
      "cell_type": "markdown",
      "source": [
        "# 2D Tensor에서의 Fancy Indexiing"
      ],
      "metadata": {
        "id": "-8utlOgB6fAU"
      }
    },
    {
      "cell_type": "code",
      "source": [
        "x = np.arange(5*5).reshape(5,5) * 10\n",
        "x_torch = torch.arange(5*5).view(size=(5,5)) * 10\n",
        "x_tf = tf.constant(x)\n",
        "\n",
        "indices_0 = [0, 1, 2]\n",
        "indices_1 = [0, 1, 2]\n",
        "\n",
        "\n",
        "b = x[indices_0, indices_1]\n",
        "print(b.shape)\n",
        "print(b)\n",
        "print('----------')\n",
        "c = x_torch[indices_0, indices_1]\n",
        "print(c.shape)\n",
        "print(c)\n",
        "print('----------')\n",
        "d = tf.gather_nd(x_tf, [ i for i in zip(indices_0, indices_1)])\n",
        "print(d.shape)\n",
        "print(d)"
      ],
      "metadata": {
        "colab": {
          "base_uri": "https://localhost:8080/"
        },
        "id": "qpNxntnl3e-w",
        "outputId": "27db4b3d-c0e2-4086-96ea-7b5bd0a00aa5"
      },
      "execution_count": null,
      "outputs": [
        {
          "output_type": "stream",
          "name": "stdout",
          "text": [
            "(3,)\n",
            "[  0  60 120]\n",
            "----------\n",
            "torch.Size([3])\n",
            "tensor([  0,  60, 120])\n",
            "----------\n",
            "(3,)\n",
            "tf.Tensor([  0  60 120], shape=(3,), dtype=int64)\n"
          ]
        }
      ]
    },
    {
      "cell_type": "markdown",
      "source": [
        "# 3D Tensor Example"
      ],
      "metadata": {
        "id": "UOkz8TTs7P5P"
      }
    },
    {
      "cell_type": "code",
      "source": [
        "x = np.arange(5*5*5).reshape(5,5,5) * 10\n",
        "x_torch = torch.arange(5*5*5).view(size=(5,5,5)) * 10\n",
        "x_tf = tf.constant(x)\n",
        "\n",
        "indices_0 = [0, 1]\n",
        "indices_1 = [1, 2]\n",
        "indices_2 = [2, 0]\n",
        "\n",
        "b = x[indices_0, indices_1, indices_2]\n",
        "print(b.shape)\n",
        "print(b)\n",
        "print('----------')\n",
        "c = x_torch[indices_0, indices_1, indices_2]\n",
        "print(c.shape)\n",
        "print(c)\n",
        "print('----------')\n",
        "d = tf.gather_nd(x_tf, [ i for i in zip(indices_0, indices_1, indices_2)]) # multi-dim 에선 gater_nd 임.\n",
        "print(d.shape)\n",
        "print(d)"
      ],
      "metadata": {
        "colab": {
          "base_uri": "https://localhost:8080/"
        },
        "id": "VdnF6uJAFhf3",
        "outputId": "729c4dcd-b415-4e90-8c90-28e1c615de3a"
      },
      "execution_count": null,
      "outputs": [
        {
          "output_type": "stream",
          "name": "stdout",
          "text": [
            "(2,)\n",
            "[ 70 350]\n",
            "----------\n",
            "torch.Size([2])\n",
            "tensor([ 70, 350])\n",
            "----------\n",
            "(2,)\n",
            "tf.Tensor([ 70 350], shape=(2,), dtype=int64)\n"
          ]
        }
      ]
    },
    {
      "cell_type": "markdown",
      "source": [
        "# Boolean Mask"
      ],
      "metadata": {
        "id": "wGILBv1uADTc"
      }
    },
    {
      "cell_type": "code",
      "source": [
        "x = np.arange(3*3*3).reshape(3,3,3) * 10\n",
        "\n",
        "b = x <= 270/2\n",
        "print(b.shape)\n",
        "print(b)\n",
        "print('----------')\n",
        "print(x[b])\n",
        "print('----------')\n",
        "print(x[x<=270/2])\n",
        "\n",
        "b1 = b | (x >= 200)\n",
        "print('----------')\n",
        "print(b1)\n",
        "print('----------')\n",
        "print(x[b1])\n",
        "print('----------')\n",
        "print(x[ (x<=270/2) | (x>=200)])"
      ],
      "metadata": {
        "colab": {
          "base_uri": "https://localhost:8080/"
        },
        "id": "HbPhJsuW7aPy",
        "outputId": "1ec745a3-e531-4635-e6fe-28f47b5d656f"
      },
      "execution_count": null,
      "outputs": [
        {
          "output_type": "stream",
          "name": "stdout",
          "text": [
            "(3, 3, 3)\n",
            "[[[ True  True  True]\n",
            "  [ True  True  True]\n",
            "  [ True  True  True]]\n",
            "\n",
            " [[ True  True  True]\n",
            "  [ True  True False]\n",
            "  [False False False]]\n",
            "\n",
            " [[False False False]\n",
            "  [False False False]\n",
            "  [False False False]]]\n",
            "----------\n",
            "[  0  10  20  30  40  50  60  70  80  90 100 110 120 130]\n",
            "----------\n",
            "[  0  10  20  30  40  50  60  70  80  90 100 110 120 130]\n",
            "----------\n",
            "[[[ True  True  True]\n",
            "  [ True  True  True]\n",
            "  [ True  True  True]]\n",
            "\n",
            " [[ True  True  True]\n",
            "  [ True  True False]\n",
            "  [False False False]]\n",
            "\n",
            " [[False False  True]\n",
            "  [ True  True  True]\n",
            "  [ True  True  True]]]\n",
            "----------\n",
            "[  0  10  20  30  40  50  60  70  80  90 100 110 120 130 200 210 220 230\n",
            " 240 250 260]\n",
            "----------\n",
            "[  0  10  20  30  40  50  60  70  80  90 100 110 120 130 200 210 220 230\n",
            " 240 250 260]\n"
          ]
        }
      ]
    },
    {
      "cell_type": "code",
      "source": [
        "x_torch = torch.arange(3*3*3).view(size=(3,3,3)) * 10\n",
        "\n",
        "print(x_torch[ (x_torch<=270/2) | (x_torch>=200)])\n",
        "\n"
      ],
      "metadata": {
        "colab": {
          "base_uri": "https://localhost:8080/"
        },
        "id": "aooVbv_HAMW4",
        "outputId": "b3f44c27-4662-411d-d33f-5d1b7142ad4e"
      },
      "execution_count": null,
      "outputs": [
        {
          "output_type": "stream",
          "name": "stdout",
          "text": [
            "tensor([  0,  10,  20,  30,  40,  50,  60,  70,  80,  90, 100, 110, 120, 130,\n",
            "        200, 210, 220, 230, 240, 250, 260])\n"
          ]
        }
      ]
    },
    {
      "cell_type": "code",
      "source": [
        "x_tf = tf.constant(x)\n",
        "\n",
        "print(x_tf[ (x_tf<= tf.cast(270/2, tf.int64)) | (x_tf>=200)])"
      ],
      "metadata": {
        "colab": {
          "base_uri": "https://localhost:8080/"
        },
        "id": "hYF0pR0VAptn",
        "outputId": "6593385d-0ce5-4774-9e1e-f57af249abe1"
      },
      "execution_count": null,
      "outputs": [
        {
          "output_type": "stream",
          "name": "stdout",
          "text": [
            "tf.Tensor(\n",
            "[  0  10  20  30  40  50  60  70  80  90 100 110 120 130 200 210 220 230\n",
            " 240 250 260], shape=(21,), dtype=int64)\n"
          ]
        }
      ]
    },
    {
      "cell_type": "markdown",
      "source": [
        "# combined indexing\n",
        "\n",
        "기존의 scalar indexing, slicing, fancy indexing, boolear mask 등을 서로 조합하여 사용하는 것.\n",
        "\n",
        "numpy에선 효용도가 있으나,\n",
        "pytorch 나 tensorflow 에서는 사용이 쉽지 않음 (고차원에선 처리가 쉽지 않ㅁ)"
      ],
      "metadata": {
        "id": "Mj-WONtDa2G2"
      }
    },
    {
      "cell_type": "code",
      "source": [
        "import numpy as np\n",
        "\n",
        "x = np.array([0,1,2,3,4,5,6,7,8]).reshape((3,3))\n",
        "print(x.shape)\n",
        "\n",
        "mask = np.array([True, False, True])\n",
        "cidx = np.array([2,0,1])\n",
        "print(mask.shape)\n",
        "print(cidx.shape)\n",
        "\n",
        "print('--------')\n",
        "print(x)\n",
        "print('--------')\n",
        "print(x[mask,cidx[:,np.newaxis]]) # broadcasting 으로 fancyindexing 이 이루어짐."
      ],
      "metadata": {
        "colab": {
          "base_uri": "https://localhost:8080/"
        },
        "id": "WsfkGlroH7dy",
        "outputId": "a3d34c91-7da7-4f89-9c9b-86425e0e013b"
      },
      "execution_count": null,
      "outputs": [
        {
          "output_type": "stream",
          "name": "stdout",
          "text": [
            "(3, 3)\n",
            "(3,)\n",
            "(3,)\n",
            "--------\n",
            "[[0 1 2]\n",
            " [3 4 5]\n",
            " [6 7 8]]\n",
            "--------\n",
            "[[2 8]\n",
            " [0 6]\n",
            " [1 7]]\n"
          ]
        }
      ]
    },
    {
      "cell_type": "code",
      "source": [
        "import torch\n",
        "\n",
        "x_torch = torch.tensor([0,1,2,3,4,5,6,7,8]).reshape((3,3))\n",
        "if torch.cuda.is_available():\n",
        "    x_torch = x_torch.to(\"cuda\")\n",
        "\n",
        "x_torch[mask,cidx[:,np.newaxis]]"
      ],
      "metadata": {
        "colab": {
          "base_uri": "https://localhost:8080/"
        },
        "id": "yO5EqGdfdz-y",
        "outputId": "75544435-1418-4b11-f0ae-cc230eb2acf8"
      },
      "execution_count": null,
      "outputs": [
        {
          "output_type": "execute_result",
          "data": {
            "text/plain": [
              "tensor([[2, 8],\n",
              "        [0, 6],\n",
              "        [1, 7]], device='cuda:0')"
            ]
          },
          "metadata": {},
          "execution_count": 4
        }
      ]
    },
    {
      "cell_type": "code",
      "source": [
        "a = np.array([1,0,1])\n",
        "b = cidx[:,np.newaxis]\n",
        "a*b"
      ],
      "metadata": {
        "colab": {
          "base_uri": "https://localhost:8080/"
        },
        "id": "aFuP8G83cYVw",
        "outputId": "caa79994-9a1b-45d3-b330-de4666ac3f3a"
      },
      "execution_count": null,
      "outputs": [
        {
          "output_type": "execute_result",
          "data": {
            "text/plain": [
              "array([[2, 0, 2],\n",
              "       [0, 0, 0],\n",
              "       [1, 0, 1]])"
            ]
          },
          "metadata": {},
          "execution_count": 53
        }
      ]
    },
    {
      "cell_type": "code",
      "source": [
        "x = np.array([0,1,2,3,4,5,6,7,8]).reshape((3,3))\n",
        "\n",
        "# booelan mask 대신, 일반적인 수치로도 가능.\n",
        "r = x[[0,2],cidx[:,np.newaxis]] # combined indexing의 경우, ₩내부에서 broadcasting 룰이 적용됨.\n",
        "\n",
        "print(x)\n",
        "print('--------')\n",
        "print(r)"
      ],
      "metadata": {
        "colab": {
          "base_uri": "https://localhost:8080/"
        },
        "id": "KXmgc0plJpW5",
        "outputId": "c139fb8d-58ca-4e86-f763-e59c7690177b"
      },
      "execution_count": null,
      "outputs": [
        {
          "output_type": "stream",
          "name": "stdout",
          "text": [
            "[[0 1 2]\n",
            " [3 4 5]\n",
            " [6 7 8]]\n",
            "--------\n",
            "[[2 8]\n",
            " [0 6]\n",
            " [1 7]]\n"
          ]
        }
      ]
    },
    {
      "cell_type": "code",
      "source": [
        "import numpy as np\n",
        "\n",
        "x = np.array([0,1,2,3,4,5,6,7]).reshape(2,2,2)\n",
        "t = np.array([0,1])\n",
        "r = x[[False,True],t[np.newaxis,:]]\n",
        "print(x.shape)\n",
        "print(x)\n",
        "print('--------')\n",
        "print(r.shape)\n",
        "print(r)\n",
        "print('--------')\n",
        "print(t[np.newaxis, :].shape)\n",
        "print(t[np.newaxis, :])"
      ],
      "metadata": {
        "colab": {
          "base_uri": "https://localhost:8080/"
        },
        "id": "1dhpJ8JDrWd7",
        "outputId": "2cf535ee-d061-4ffe-eebb-bb3453488b4b"
      },
      "execution_count": null,
      "outputs": [
        {
          "output_type": "stream",
          "name": "stdout",
          "text": [
            "(2, 2, 2)\n",
            "[[[0 1]\n",
            "  [2 3]]\n",
            "\n",
            " [[4 5]\n",
            "  [6 7]]]\n",
            "--------\n",
            "(1, 2, 2)\n",
            "[[[4 5]\n",
            "  [6 7]]]\n",
            "--------\n",
            "(1, 2)\n",
            "[[0 1]]\n"
          ]
        }
      ]
    },
    {
      "cell_type": "markdown",
      "source": [
        "# fancy indexing을 활용한 처리."
      ],
      "metadata": {
        "id": "rSMSnHlthkLS"
      }
    },
    {
      "cell_type": "code",
      "source": [
        "x = np.arange(10).reshape(1,10)\n",
        "print('before:',x)\n",
        "r_idx = np.array([0])\n",
        "c_idx = np.array([9, 1, 3, 9]) # 중복되어도 더해지진 않음.\n",
        "x[r_idx,c_idx] = x[r_idx,c_idx] +10\n",
        "print('after :',x)"
      ],
      "metadata": {
        "colab": {
          "base_uri": "https://localhost:8080/"
        },
        "id": "GxyD7prVKFYZ",
        "outputId": "5ccfb704-2859-4743-ace5-426a040da003"
      },
      "execution_count": null,
      "outputs": [
        {
          "output_type": "stream",
          "name": "stdout",
          "text": [
            "before: [[0 1 2 3 4 5 6 7 8 9]]\n",
            "after : [[ 0 11  2 13  4  5  6  7  8 19]]\n"
          ]
        }
      ]
    },
    {
      "cell_type": "code",
      "source": [
        "x = np.arange(10)\n",
        "print('before:',x)\n",
        "np.add.at(x,i,10) # 중복된 index를 더해줌.\n",
        "print('after :',x)"
      ],
      "metadata": {
        "colab": {
          "base_uri": "https://localhost:8080/"
        },
        "id": "W_V4k-67LH-O",
        "outputId": "1ec8084b-2d70-4fee-d3b5-1e08c0a23f00"
      },
      "execution_count": null,
      "outputs": [
        {
          "output_type": "stream",
          "name": "stdout",
          "text": [
            "before: [0 1 2 3 4 5 6 7 8 9]\n",
            "after : [ 0 11  2 13  4  5  6  7  8 29]\n"
          ]
        }
      ]
    },
    {
      "cell_type": "code",
      "source": [
        "x_torch = torch.arange(10)\n",
        "print(x_torch.dtype)\n",
        "print('before:',x_torch)\n",
        "i = torch.tensor([9, 1, 3, 9]) # 중복되어도 더해지진 않음.\n",
        "x_torch[i] = x_torch[i] +10\n",
        "print('after :',x_torch)"
      ],
      "metadata": {
        "id": "qVbjvaVbMVcl",
        "colab": {
          "base_uri": "https://localhost:8080/"
        },
        "outputId": "0a094195-a952-4cfb-efe6-d810571fb4c1"
      },
      "execution_count": null,
      "outputs": [
        {
          "output_type": "stream",
          "name": "stdout",
          "text": [
            "torch.int64\n",
            "before: tensor([0, 1, 2, 3, 4, 5, 6, 7, 8, 9])\n",
            "after : tensor([ 0, 11,  2, 13,  4,  5,  6,  7,  8, 19])\n"
          ]
        }
      ]
    },
    {
      "cell_type": "code",
      "source": [
        "import numpy as np\n",
        "\n",
        "rng = np.random.default_rng(1)\n",
        "x = rng.random((5,2))\n"
      ],
      "metadata": {
        "id": "m1hBVUxHoF9B"
      },
      "execution_count": null,
      "outputs": []
    },
    {
      "cell_type": "code",
      "source": [
        "y0 = x[:, np.newaxis]\n",
        ".shape"
      ],
      "metadata": {
        "id": "awkm5pHJoXGY",
        "outputId": "33aa8a05-ce5f-44d9-8add-dfcc147354d8",
        "colab": {
          "base_uri": "https://localhost:8080/"
        }
      },
      "execution_count": null,
      "outputs": [
        {
          "output_type": "execute_result",
          "data": {
            "text/plain": [
              "(5, 1, 2)"
            ]
          },
          "metadata": {},
          "execution_count": 8
        }
      ]
    },
    {
      "cell_type": "markdown",
      "source": [
        "# Fancy Indexing"
      ],
      "metadata": {
        "id": "UA1jF9i1d5xo"
      }
    },
    {
      "cell_type": "code",
      "source": [
        "import numpy as np\n",
        "x = np.array([0,1,2,3,4,5,6,7,8])"
      ],
      "metadata": {
        "id": "uP6xZxUEoqF0"
      },
      "execution_count": null,
      "outputs": []
    },
    {
      "cell_type": "code",
      "source": [
        "fidx = [3,7,1]\n",
        "x[fidx]"
      ],
      "metadata": {
        "id": "wrb3huF9eDmw",
        "outputId": "4a9244f3-7d4e-4dca-8b14-2680c9fecd7f",
        "colab": {
          "base_uri": "https://localhost:8080/"
        }
      },
      "execution_count": null,
      "outputs": [
        {
          "output_type": "execute_result",
          "data": {
            "text/plain": [
              "array([3, 7, 1])"
            ]
          },
          "metadata": {},
          "execution_count": 2
        }
      ]
    },
    {
      "cell_type": "code",
      "source": [
        "fidx = [[3,7],\n",
        "        [4,2]]\n",
        "fidx = np.array(fidx)\n",
        "x[fidx]"
      ],
      "metadata": {
        "id": "q4pxlhsFeJYX",
        "outputId": "72c94d25-6a67-4152-9864-5f9882fec8f4",
        "colab": {
          "base_uri": "https://localhost:8080/"
        }
      },
      "execution_count": null,
      "outputs": [
        {
          "output_type": "execute_result",
          "data": {
            "text/plain": [
              "array([[3, 7],\n",
              "       [4, 2]])"
            ]
          },
          "metadata": {},
          "execution_count": 3
        }
      ]
    },
    {
      "cell_type": "code",
      "source": [
        "x = x.reshape(3,3)\n",
        "ridx = np.array([0,1,2])\n",
        "cidx = np.array([2,0,1])\n",
        "x[ridx,cidx]"
      ],
      "metadata": {
        "id": "wVF4wigTeSD5",
        "outputId": "1d09f1f6-699a-4941-b646-2a5248aa5756",
        "colab": {
          "base_uri": "https://localhost:8080/"
        }
      },
      "execution_count": null,
      "outputs": [
        {
          "output_type": "execute_result",
          "data": {
            "text/plain": [
              "array([2, 3, 7])"
            ]
          },
          "metadata": {},
          "execution_count": 4
        }
      ]
    },
    {
      "cell_type": "code",
      "source": [
        "fidx = np.array(\n",
        "    [ [[0,0],[0,1]],\n",
        "     [[1,0],[1,1]]]\n",
        ")\n",
        "a = x[fidx]\n",
        "a.shape"
      ],
      "metadata": {
        "id": "naraM8RMeaNX",
        "outputId": "5e6521bb-eebe-4afd-93ce-39ede5b3ec4f",
        "colab": {
          "base_uri": "https://localhost:8080/"
        }
      },
      "execution_count": null,
      "outputs": [
        {
          "output_type": "execute_result",
          "data": {
            "text/plain": [
              "(2, 2, 2, 3)"
            ]
          },
          "metadata": {},
          "execution_count": 7
        }
      ]
    },
    {
      "cell_type": "code",
      "source": [
        "fidx.shape"
      ],
      "metadata": {
        "id": "Zonv3ChtfATE",
        "outputId": "f1f0135c-12f6-4357-a86b-6ad8f6490ff5",
        "colab": {
          "base_uri": "https://localhost:8080/"
        }
      },
      "execution_count": null,
      "outputs": [
        {
          "output_type": "execute_result",
          "data": {
            "text/plain": [
              "(2, 2, 2)"
            ]
          },
          "metadata": {},
          "execution_count": 6
        }
      ]
    },
    {
      "cell_type": "code",
      "source": [
        "fidx[0,1]"
      ],
      "metadata": {
        "id": "mS4hGjZbfG28",
        "outputId": "17978ce4-9b3d-4cc9-fbfc-f7b46467929f",
        "colab": {
          "base_uri": "https://localhost:8080/"
        }
      },
      "execution_count": null,
      "outputs": [
        {
          "output_type": "execute_result",
          "data": {
            "text/plain": [
              "array([0, 1])"
            ]
          },
          "metadata": {},
          "execution_count": 11
        }
      ]
    },
    {
      "cell_type": "code",
      "source": [
        "a[0,1]"
      ],
      "metadata": {
        "id": "c2sLrQ0Nfq6Y",
        "outputId": "05d135be-9764-463e-f0e3-65334c34309c",
        "colab": {
          "base_uri": "https://localhost:8080/"
        }
      },
      "execution_count": null,
      "outputs": [
        {
          "output_type": "execute_result",
          "data": {
            "text/plain": [
              "array([[0, 1, 2],\n",
              "       [3, 4, 5]])"
            ]
          },
          "metadata": {},
          "execution_count": 12
        }
      ]
    },
    {
      "cell_type": "code",
      "source": [
        "x[::-1]"
      ],
      "metadata": {
        "id": "i7SxcqpXftyR",
        "outputId": "d7cd3ca2-6e48-4b6e-a239-f81b1b869456",
        "colab": {
          "base_uri": "https://localhost:8080/"
        }
      },
      "execution_count": null,
      "outputs": [
        {
          "output_type": "execute_result",
          "data": {
            "text/plain": [
              "array([[6, 7, 8],\n",
              "       [3, 4, 5],\n",
              "       [0, 1, 2]])"
            ]
          },
          "metadata": {},
          "execution_count": 13
        }
      ]
    },
    {
      "cell_type": "code",
      "source": [
        "cidx[:,np.newaxis]"
      ],
      "metadata": {
        "id": "WIBmD-CsgkUh",
        "outputId": "82a7fa99-74d1-400f-9844-73b30c5cb146",
        "colab": {
          "base_uri": "https://localhost:8080/"
        }
      },
      "execution_count": null,
      "outputs": [
        {
          "output_type": "execute_result",
          "data": {
            "text/plain": [
              "array([[2],\n",
              "       [0],\n",
              "       [1]])"
            ]
          },
          "metadata": {},
          "execution_count": 15
        }
      ]
    },
    {
      "cell_type": "code",
      "source": [
        "cidx.shape"
      ],
      "metadata": {
        "id": "hH8K8kuGg2Oe",
        "outputId": "c70a9da5-29db-4a7d-c407-d2c30af1dc6f",
        "colab": {
          "base_uri": "https://localhost:8080/"
        }
      },
      "execution_count": null,
      "outputs": [
        {
          "output_type": "execute_result",
          "data": {
            "text/plain": [
              "(3,)"
            ]
          },
          "metadata": {},
          "execution_count": 16
        }
      ]
    },
    {
      "cell_type": "code",
      "source": [
        "[0,2], cidx[:,np.newaxis]"
      ],
      "metadata": {
        "id": "gtfE1Tz_hHxr",
        "outputId": "abdb6b03-b636-4df3-e499-4b0b5dcdd377",
        "colab": {
          "base_uri": "https://localhost:8080/"
        }
      },
      "execution_count": null,
      "outputs": [
        {
          "output_type": "execute_result",
          "data": {
            "text/plain": [
              "([0, 2],\n",
              " array([[2],\n",
              "        [0],\n",
              "        [1]]))"
            ]
          },
          "metadata": {},
          "execution_count": 17
        }
      ]
    },
    {
      "cell_type": "code",
      "source": [
        "x[[0,2],cidx[:,np.newaxis]]"
      ],
      "metadata": {
        "id": "BWMGh2hwhT_0",
        "outputId": "c7ede1ad-95aa-41bb-8e1b-5d8ca6f9c8cf",
        "colab": {
          "base_uri": "https://localhost:8080/"
        }
      },
      "execution_count": null,
      "outputs": [
        {
          "output_type": "execute_result",
          "data": {
            "text/plain": [
              "array([[2, 8],\n",
              "       [0, 6],\n",
              "       [1, 7]])"
            ]
          },
          "metadata": {},
          "execution_count": 18
        }
      ]
    },
    {
      "cell_type": "code",
      "source": [
        "x"
      ],
      "metadata": {
        "id": "JU2fXvBkhePj",
        "outputId": "819a357e-5a58-4069-90f2-148e8e8909a3",
        "colab": {
          "base_uri": "https://localhost:8080/"
        }
      },
      "execution_count": null,
      "outputs": [
        {
          "output_type": "execute_result",
          "data": {
            "text/plain": [
              "array([[0, 1, 2],\n",
              "       [3, 4, 5],\n",
              "       [6, 7, 8]])"
            ]
          },
          "metadata": {},
          "execution_count": 19
        }
      ]
    },
    {
      "cell_type": "markdown",
      "source": [
        "# PyTorch에서 list를 indexing tensor로 삼을 경우 비교.\n"
      ],
      "metadata": {
        "id": "aZeiYJTq2_Ry"
      }
    },
    {
      "cell_type": "code",
      "source": [
        "import torch\n",
        "import numpy as np\n",
        "\n",
        "a_np = np.arange(2*3*4).reshape(2,3,4)\n",
        "a = torch.arange(2*3*4).reshape(2,3,4)\n",
        "a"
      ],
      "metadata": {
        "id": "e-muI0bkhe-I",
        "outputId": "266af790-a601-4782-f01d-c43672ca6156",
        "colab": {
          "base_uri": "https://localhost:8080/"
        }
      },
      "execution_count": null,
      "outputs": [
        {
          "output_type": "execute_result",
          "data": {
            "text/plain": [
              "tensor([[[ 0,  1,  2,  3],\n",
              "         [ 4,  5,  6,  7],\n",
              "         [ 8,  9, 10, 11]],\n",
              "\n",
              "        [[12, 13, 14, 15],\n",
              "         [16, 17, 18, 19],\n",
              "         [20, 21, 22, 23]]])"
            ]
          },
          "metadata": {},
          "execution_count": 36
        }
      ]
    },
    {
      "cell_type": "markdown",
      "source": [
        "## non-nested list의 경우\n",
        "\n",
        "tensor, ndarray, list 모두 같은 결과를 보임."
      ],
      "metadata": {
        "id": "D35_m5leBk2Z"
      }
    },
    {
      "cell_type": "code",
      "source": [
        "i_list0 = [0,0] # unpakcing시 scalar이므로 a[i_list0,] 와 같이 동작\n",
        "a[i_list0].shape"
      ],
      "metadata": {
        "id": "cm2v6BaMv3oG",
        "outputId": "bd9181f4-5ea0-4170-9c9a-6b97bf620135",
        "colab": {
          "base_uri": "https://localhost:8080/"
        }
      },
      "execution_count": null,
      "outputs": [
        {
          "output_type": "execute_result",
          "data": {
            "text/plain": [
              "torch.Size([2, 3, 4])"
            ]
          },
          "metadata": {},
          "execution_count": 3
        }
      ]
    },
    {
      "cell_type": "code",
      "source": [
        "a_np[i_list0].shape # ndarray도 같은 동작임."
      ],
      "metadata": {
        "id": "nQsUXr2fBPrN",
        "outputId": "ed90c05b-103d-42a9-d779-1306206af9fc",
        "colab": {
          "base_uri": "https://localhost:8080/"
        }
      },
      "execution_count": null,
      "outputs": [
        {
          "output_type": "execute_result",
          "data": {
            "text/plain": [
              "(2, 3, 4)"
            ]
          },
          "metadata": {},
          "execution_count": 37
        }
      ]
    },
    {
      "cell_type": "code",
      "source": [
        "a[i_list0,].shape # i_list1의 item scalar인 경우만 같음."
      ],
      "metadata": {
        "id": "fC-awf9u1e4x",
        "outputId": "492cfc16-7587-4238-f801-369dcbe0fff5",
        "colab": {
          "base_uri": "https://localhost:8080/"
        }
      },
      "execution_count": null,
      "outputs": [
        {
          "output_type": "execute_result",
          "data": {
            "text/plain": [
              "torch.Size([2, 3, 4])"
            ]
          },
          "metadata": {},
          "execution_count": 5
        }
      ]
    },
    {
      "cell_type": "code",
      "source": [
        "a_np[i_list0,].shape # ndarray도 같은 동작임."
      ],
      "metadata": {
        "id": "TI9jxneOBXWi",
        "outputId": "ebfc54c1-1232-42e1-e91f-9de49c8af79f",
        "colab": {
          "base_uri": "https://localhost:8080/"
        }
      },
      "execution_count": null,
      "outputs": [
        {
          "output_type": "execute_result",
          "data": {
            "text/plain": [
              "(2, 3, 4)"
            ]
          },
          "metadata": {},
          "execution_count": 39
        }
      ]
    },
    {
      "cell_type": "code",
      "source": [
        "a[torch.tensor(i_list0)].shape # 항상 a[i_list0,]과 같음."
      ],
      "metadata": {
        "id": "SkMd7MRWwuBg",
        "outputId": "2fc057f5-eeaf-4743-ce96-598055c0b3cd",
        "colab": {
          "base_uri": "https://localhost:8080/"
        }
      },
      "execution_count": null,
      "outputs": [
        {
          "output_type": "execute_result",
          "data": {
            "text/plain": [
              "torch.Size([2, 3, 4])"
            ]
          },
          "metadata": {},
          "execution_count": 40
        }
      ]
    },
    {
      "cell_type": "code",
      "source": [
        "a_np[np.array(i_list0)].shape # 역시 같은 동작"
      ],
      "metadata": {
        "id": "UiN6q6EbBe1K",
        "outputId": "1ce8ad44-dcad-4315-84b3-c9e0d4503a6e",
        "colab": {
          "base_uri": "https://localhost:8080/"
        }
      },
      "execution_count": null,
      "outputs": [
        {
          "output_type": "execute_result",
          "data": {
            "text/plain": [
              "(2, 3, 4)"
            ]
          },
          "metadata": {},
          "execution_count": 41
        }
      ]
    },
    {
      "cell_type": "markdown",
      "source": [
        "## nested list: 1x2 의 경우\n",
        "\n"
      ],
      "metadata": {
        "id": "l2XmEN9nBvOF"
      }
    },
    {
      "cell_type": "code",
      "source": [
        "i_list1 = [ [0,0] ] # axis-0를 제거해도 scalar가 아닌 list임.\n",
        "a[i_list1].shape"
      ],
      "metadata": {
        "id": "4yB9jChWwL2E",
        "outputId": "7f312a9d-cd2e-4f80-f298-c4bd54b8eed0",
        "colab": {
          "base_uri": "https://localhost:8080/"
        }
      },
      "execution_count": null,
      "outputs": [
        {
          "output_type": "execute_result",
          "data": {
            "text/plain": [
              "torch.Size([2, 3, 4])"
            ]
          },
          "metadata": {},
          "execution_count": 42
        }
      ]
    },
    {
      "cell_type": "code",
      "source": [
        "a_np[i_list1].shape # NumPy에서는 list나 array나 indexing에 사용에서 같은 동작을 보임."
      ],
      "metadata": {
        "id": "uBe24_z0B2Zq",
        "outputId": "a6714f81-0697-46de-d1ca-8c37a25e87df",
        "colab": {
          "base_uri": "https://localhost:8080/"
        }
      },
      "execution_count": null,
      "outputs": [
        {
          "output_type": "execute_result",
          "data": {
            "text/plain": [
              "(1, 2, 3, 4)"
            ]
          },
          "metadata": {},
          "execution_count": 44
        }
      ]
    },
    {
      "cell_type": "code",
      "source": [
        "a[i_list1,].shape # unpacking시 scalar인 경우에만 같으므로 다른 결과"
      ],
      "metadata": {
        "id": "PBH1ktrM2Aol",
        "outputId": "9fd0f2ff-1f76-4c4e-e5ff-55c780e4b965",
        "colab": {
          "base_uri": "https://localhost:8080/"
        }
      },
      "execution_count": null,
      "outputs": [
        {
          "output_type": "execute_result",
          "data": {
            "text/plain": [
              "torch.Size([1, 2, 3, 4])"
            ]
          },
          "metadata": {},
          "execution_count": 9
        }
      ]
    },
    {
      "cell_type": "code",
      "source": [
        "a_np[i_list1,].shape # NumPy에선 i_list1과 차이 없음."
      ],
      "metadata": {
        "id": "bzEaDOKDCCNV",
        "outputId": "0cd8d93f-8d7b-4770-c2ee-4e2a9a726c6c",
        "colab": {
          "base_uri": "https://localhost:8080/"
        }
      },
      "execution_count": null,
      "outputs": [
        {
          "output_type": "execute_result",
          "data": {
            "text/plain": [
              "(1, 2, 3, 4)"
            ]
          },
          "metadata": {},
          "execution_count": 45
        }
      ]
    },
    {
      "cell_type": "code",
      "source": [
        "a[torch.tensor(i_list1)].shape # a[i_list1,] 와 항상 같은 결과"
      ],
      "metadata": {
        "id": "FHkbt8Ztwqe_",
        "outputId": "78c8be60-fc65-4966-a8b9-36098f180a55",
        "colab": {
          "base_uri": "https://localhost:8080/"
        }
      },
      "execution_count": null,
      "outputs": [
        {
          "output_type": "execute_result",
          "data": {
            "text/plain": [
              "torch.Size([1, 2, 3, 4])"
            ]
          },
          "metadata": {},
          "execution_count": 46
        }
      ]
    },
    {
      "cell_type": "markdown",
      "source": [
        "## 1x1x2 의 경우\n",
        "\n",
        "원칙에 변함이 없음.\n",
        "\n",
        "* NumPy에선 index tensor로 list나 array 둘 다 같은 결과.\n",
        "* PyTorch에선 nested list이므로 list는 axis-0의 요소들이 분해되어 동작."
      ],
      "metadata": {
        "id": "dklwbJjxC9tG"
      }
    },
    {
      "cell_type": "code",
      "source": [
        "i_list2 = [ [ [0,0] ]] # 참고삼아 1차원을 더 넓힌 경우, 1x1x2 이므로 1x2가 첫번째 index로 주어짐.\n",
        "a[i_list2].shape # 1x2 형태로 a[0],a[1] 가 놓임"
      ],
      "metadata": {
        "id": "c6S0Lurgw6os",
        "outputId": "4d23aa59-86af-4415-b61d-ee9fda613740",
        "colab": {
          "base_uri": "https://localhost:8080/"
        }
      },
      "execution_count": null,
      "outputs": [
        {
          "output_type": "execute_result",
          "data": {
            "text/plain": [
              "torch.Size([1, 2, 3, 4])"
            ]
          },
          "metadata": {},
          "execution_count": 47
        }
      ]
    },
    {
      "cell_type": "code",
      "source": [
        "a[*i_list2].shape # unpacking!"
      ],
      "metadata": {
        "id": "J6A3ERXADuGY",
        "outputId": "6b584d8e-fe8d-44a5-e90f-a53d8bf305ff",
        "colab": {
          "base_uri": "https://localhost:8080/"
        }
      },
      "execution_count": null,
      "outputs": [
        {
          "output_type": "execute_result",
          "data": {
            "text/plain": [
              "torch.Size([1, 2, 3, 4])"
            ]
          },
          "metadata": {},
          "execution_count": 54
        }
      ]
    },
    {
      "cell_type": "code",
      "source": [
        "a_np[i_list2].shape"
      ],
      "metadata": {
        "id": "JYGaB8tdDYxY",
        "outputId": "bba822db-0e4d-4437-872c-01e9aed5c03e",
        "colab": {
          "base_uri": "https://localhost:8080/"
        }
      },
      "execution_count": null,
      "outputs": [
        {
          "output_type": "execute_result",
          "data": {
            "text/plain": [
              "(1, 1, 2, 3, 4)"
            ]
          },
          "metadata": {},
          "execution_count": 55
        }
      ]
    },
    {
      "cell_type": "code",
      "source": [
        "a_np[np.array(i_list2)].shape"
      ],
      "metadata": {
        "id": "BJEByoghDfAj",
        "outputId": "23fe3fb7-48ac-4d32-e6f9-1664a3be4e85",
        "colab": {
          "base_uri": "https://localhost:8080/"
        }
      },
      "execution_count": null,
      "outputs": [
        {
          "output_type": "execute_result",
          "data": {
            "text/plain": [
              "(1, 1, 2, 3, 4)"
            ]
          },
          "metadata": {},
          "execution_count": 56
        }
      ]
    },
    {
      "cell_type": "code",
      "source": [
        "a[i_list2,].shape"
      ],
      "metadata": {
        "id": "1bt9PnBkDjaB",
        "outputId": "b1ee7910-8c92-4c09-f369-e8e241dde291",
        "colab": {
          "base_uri": "https://localhost:8080/"
        }
      },
      "execution_count": null,
      "outputs": [
        {
          "output_type": "execute_result",
          "data": {
            "text/plain": [
              "torch.Size([1, 1, 2, 3, 4])"
            ]
          },
          "metadata": {},
          "execution_count": 57
        }
      ]
    },
    {
      "cell_type": "code",
      "source": [
        "a[torch.tensor(i_list2)].shape"
      ],
      "metadata": {
        "id": "o1ws6cLWDnB-",
        "outputId": "d6df38ef-b202-4ced-dc10-10943b5a83bc",
        "colab": {
          "base_uri": "https://localhost:8080/"
        }
      },
      "execution_count": null,
      "outputs": [
        {
          "output_type": "execute_result",
          "data": {
            "text/plain": [
              "torch.Size([1, 1, 2, 3, 4])"
            ]
          },
          "metadata": {},
          "execution_count": 58
        }
      ]
    },
    {
      "cell_type": "markdown",
      "source": [
        "## 2x2 인 경우.\n",
        "\n",
        "원칙은 그대로임."
      ],
      "metadata": {
        "id": "iJLos22xD2zK"
      }
    },
    {
      "cell_type": "code",
      "source": [
        "i_list3 = [ [0,1] , [1,0]] # axis-0 의 각 요소가 scalar 아님.\n",
        "                           # a[i_list3[0],i_list3[1]] 과 같음.\n",
        "a[i_list3].shape"
      ],
      "metadata": {
        "id": "uCbdasEpxWj0",
        "outputId": "c1bbda2f-cd7a-4c2a-d75a-9fdd5e942efb",
        "colab": {
          "base_uri": "https://localhost:8080/"
        }
      },
      "execution_count": null,
      "outputs": [
        {
          "output_type": "execute_result",
          "data": {
            "text/plain": [
              "torch.Size([2, 4])"
            ]
          },
          "metadata": {},
          "execution_count": 59
        }
      ]
    },
    {
      "cell_type": "code",
      "source": [
        "a[*i_list3].shape"
      ],
      "metadata": {
        "id": "SCRVaWdtD-CN",
        "outputId": "a933b5e7-3c54-49cc-a59f-db89052f0044",
        "colab": {
          "base_uri": "https://localhost:8080/"
        }
      },
      "execution_count": null,
      "outputs": [
        {
          "output_type": "execute_result",
          "data": {
            "text/plain": [
              "torch.Size([2, 4])"
            ]
          },
          "metadata": {},
          "execution_count": 65
        }
      ]
    },
    {
      "cell_type": "code",
      "source": [
        "a[i_list3[0], i_list3[1]].shape # 분해되어 들어가는 것과 같음."
      ],
      "metadata": {
        "id": "jSIKBwww3lTD",
        "outputId": "d8c0cae7-5eb7-4c6d-8711-d8fb9c0e773a",
        "colab": {
          "base_uri": "https://localhost:8080/"
        }
      },
      "execution_count": null,
      "outputs": [
        {
          "output_type": "execute_result",
          "data": {
            "text/plain": [
              "torch.Size([2, 4])"
            ]
          },
          "metadata": {},
          "execution_count": 66
        }
      ]
    },
    {
      "cell_type": "code",
      "source": [
        "a[i_list3,].shape # 뒤의 ,로 인해 tuple로 인식되고 이로 인해 axis-0가 풀리지 않음."
      ],
      "metadata": {
        "id": "e1tLdFjz36ID",
        "outputId": "1a8cd7ef-e48c-4e9a-fcf6-ca0a974138d5",
        "colab": {
          "base_uri": "https://localhost:8080/"
        }
      },
      "execution_count": null,
      "outputs": [
        {
          "output_type": "execute_result",
          "data": {
            "text/plain": [
              "torch.Size([2, 2, 3, 4])"
            ]
          },
          "metadata": {},
          "execution_count": 67
        }
      ]
    },
    {
      "cell_type": "code",
      "source": [
        "a[torch.tensor(i_list3)].shape # a[i_list3,] 과 같은 결과임."
      ],
      "metadata": {
        "id": "HD-l_0YRzocb",
        "outputId": "03367b3b-2641-4fb4-d2f8-1af24b6490d1",
        "colab": {
          "base_uri": "https://localhost:8080/"
        }
      },
      "execution_count": null,
      "outputs": [
        {
          "output_type": "execute_result",
          "data": {
            "text/plain": [
              "torch.Size([2, 2, 3, 4])"
            ]
          },
          "metadata": {},
          "execution_count": 68
        }
      ]
    },
    {
      "cell_type": "code",
      "source": [
        "a_np[i_list3].shape # NumPy에선 tensor와 같은 결과."
      ],
      "metadata": {
        "id": "p6_51SVNERPl",
        "outputId": "3bd285ed-d5ca-4673-ad0a-9d0b55b89b90",
        "colab": {
          "base_uri": "https://localhost:8080/"
        }
      },
      "execution_count": null,
      "outputs": [
        {
          "output_type": "execute_result",
          "data": {
            "text/plain": [
              "(2, 2, 3, 4)"
            ]
          },
          "metadata": {},
          "execution_count": 71
        }
      ]
    },
    {
      "cell_type": "code",
      "source": [
        "a_np[np.array(i_list3)].shape #ndarray 역시 마찬가지임."
      ],
      "metadata": {
        "id": "gzpUw-MeETuv",
        "outputId": "ddcdc58c-47e8-412d-e77c-3353ae43fb49",
        "colab": {
          "base_uri": "https://localhost:8080/"
        }
      },
      "execution_count": null,
      "outputs": [
        {
          "output_type": "execute_result",
          "data": {
            "text/plain": [
              "(2, 2, 3, 4)"
            ]
          },
          "metadata": {},
          "execution_count": 72
        }
      ]
    },
    {
      "cell_type": "markdown",
      "source": [
        "## 3x2 의 경우"
      ],
      "metadata": {
        "id": "OY9ONyuUEn0W"
      }
    },
    {
      "cell_type": "code",
      "source": [
        "i_list4 = [ [0,0], [0,1], [1,1] ] # 3개로 분해되어 들어감.\n",
        "                                  # a[i_list4[0],i_list4[1],i_list4[2]]\n",
        "a[i_list4].shape"
      ],
      "metadata": {
        "id": "BHdxjP570HCV",
        "outputId": "cc080d37-9741-4763-ff55-323b8cc914ce",
        "colab": {
          "base_uri": "https://localhost:8080/"
        }
      },
      "execution_count": null,
      "outputs": [
        {
          "output_type": "execute_result",
          "data": {
            "text/plain": [
              "torch.Size([2])"
            ]
          },
          "metadata": {},
          "execution_count": 21
        }
      ]
    },
    {
      "cell_type": "code",
      "source": [
        "a[i_list4[0],i_list4[1],i_list4[2]].shape # 동일함을 확인 할 수 있음.\n",
        "                                          # [a[0,0,1], a[0,1,1]] 을 반환"
      ],
      "metadata": {
        "id": "JmAcwcSu5SnH",
        "outputId": "03168dee-7318-45d3-87c9-e7a6dbe992a2",
        "colab": {
          "base_uri": "https://localhost:8080/"
        }
      },
      "execution_count": null,
      "outputs": [
        {
          "output_type": "execute_result",
          "data": {
            "text/plain": [
              "torch.Size([2])"
            ]
          },
          "metadata": {},
          "execution_count": 24
        }
      ]
    },
    {
      "cell_type": "code",
      "source": [
        "a[*i_list4].shape"
      ],
      "metadata": {
        "id": "QUjxJNJnEqf9",
        "outputId": "c37f48df-d8d9-4dc7-cf27-edc37305b86e",
        "colab": {
          "base_uri": "https://localhost:8080/"
        }
      },
      "execution_count": null,
      "outputs": [
        {
          "output_type": "execute_result",
          "data": {
            "text/plain": [
              "torch.Size([2])"
            ]
          },
          "metadata": {},
          "execution_count": 74
        }
      ]
    },
    {
      "cell_type": "code",
      "source": [
        "a[i_list4,].shape # 이는 tensor로 바꾼 것과 같은 결과.\n",
        "                  # 3x2 개의 a[i]가 존재하니 3x2x3x4 가 됨."
      ],
      "metadata": {
        "id": "mmUmxBbV5mBw",
        "outputId": "2d4966b6-46c4-49d1-b45c-a4f08fe4e4c7",
        "colab": {
          "base_uri": "https://localhost:8080/"
        }
      },
      "execution_count": null,
      "outputs": [
        {
          "output_type": "execute_result",
          "data": {
            "text/plain": [
              "torch.Size([3, 2, 3, 4])"
            ]
          },
          "metadata": {},
          "execution_count": 25
        }
      ]
    },
    {
      "cell_type": "code",
      "source": [
        "a[torch.tensor(i_list4)].shape"
      ],
      "metadata": {
        "id": "yx8FXgby55QY",
        "outputId": "6a34a648-b064-4b46-d5b9-db30d32c030a",
        "colab": {
          "base_uri": "https://localhost:8080/"
        }
      },
      "execution_count": null,
      "outputs": [
        {
          "output_type": "execute_result",
          "data": {
            "text/plain": [
              "torch.Size([3, 2, 3, 4])"
            ]
          },
          "metadata": {},
          "execution_count": 26
        }
      ]
    },
    {
      "cell_type": "code",
      "source": [
        "a_np[i_list4].shape"
      ],
      "metadata": {
        "id": "9ke4aXR_EukG",
        "outputId": "c86f0fb8-34c0-4d3a-eab6-c565238d2f4f",
        "colab": {
          "base_uri": "https://localhost:8080/"
        }
      },
      "execution_count": null,
      "outputs": [
        {
          "output_type": "execute_result",
          "data": {
            "text/plain": [
              "(3, 2, 3, 4)"
            ]
          },
          "metadata": {},
          "execution_count": 75
        }
      ]
    },
    {
      "cell_type": "code",
      "source": [
        "a_np[np.array(i_list4)].shape"
      ],
      "metadata": {
        "id": "OK81LO0gExqB",
        "outputId": "45f3408a-e19d-405c-efab-0af939607588",
        "colab": {
          "base_uri": "https://localhost:8080/"
        }
      },
      "execution_count": null,
      "outputs": [
        {
          "output_type": "execute_result",
          "data": {
            "text/plain": [
              "(3, 2, 3, 4)"
            ]
          },
          "metadata": {},
          "execution_count": 76
        }
      ]
    },
    {
      "cell_type": "markdown",
      "source": [
        "## 4x4 의 경우\n",
        "\n",
        "이 경우 dimension-0 (or axis-0)가 4로 원본 텐서의 ndim(=3)보다 큼."
      ],
      "metadata": {
        "id": "28kIQw58E4N_"
      }
    },
    {
      "cell_type": "code",
      "source": [
        "# scalar를 item으로 가지지 않는 list는 unpacking이 되어 들어가므로\n",
        "# scalar를 itme으로 가지지 않으면서 원본 tensor의 ndim보다 많은\n",
        "# axis-0 의 size를 가질 경우 동작하지 않음.\n",
        "i_list5= [\n",
        "    [0,1,0,1],\n",
        "    [0,0,0,0],\n",
        "    [1,1,0,0],\n",
        "    [1,1,1,1],\n",
        "]\n",
        "a[i_list5]"
      ],
      "metadata": {
        "id": "6qPFhZ_QxtEI",
        "outputId": "dbdb14f3-f590-4fa8-d293-407e7719e239",
        "colab": {
          "base_uri": "https://localhost:8080/",
          "height": 211
        }
      },
      "execution_count": null,
      "outputs": [
        {
          "output_type": "error",
          "ename": "IndexError",
          "evalue": "too many indices for tensor of dimension 3",
          "traceback": [
            "\u001b[0;31m---------------------------------------------------------------------------\u001b[0m",
            "\u001b[0;31mIndexError\u001b[0m                                Traceback (most recent call last)",
            "\u001b[0;32m<ipython-input-77-c07830ecab21>\u001b[0m in \u001b[0;36m<cell line: 0>\u001b[0;34m()\u001b[0m\n\u001b[1;32m      8\u001b[0m     \u001b[0;34m[\u001b[0m\u001b[0;36m1\u001b[0m\u001b[0;34m,\u001b[0m\u001b[0;36m1\u001b[0m\u001b[0;34m,\u001b[0m\u001b[0;36m1\u001b[0m\u001b[0;34m,\u001b[0m\u001b[0;36m1\u001b[0m\u001b[0;34m]\u001b[0m\u001b[0;34m,\u001b[0m\u001b[0;34m\u001b[0m\u001b[0;34m\u001b[0m\u001b[0m\n\u001b[1;32m      9\u001b[0m ] \n\u001b[0;32m---> 10\u001b[0;31m \u001b[0ma\u001b[0m\u001b[0;34m[\u001b[0m\u001b[0mi_list5\u001b[0m\u001b[0;34m]\u001b[0m\u001b[0;34m\u001b[0m\u001b[0;34m\u001b[0m\u001b[0m\n\u001b[0m",
            "\u001b[0;31mIndexError\u001b[0m: too many indices for tensor of dimension 3"
          ]
        }
      ]
    },
    {
      "cell_type": "code",
      "source": [
        "# 하지만 ,를 붙여서 tensor로 넘긴 효과를 주면 동작함.\n",
        "a[i_list5,].shape"
      ],
      "metadata": {
        "id": "LyyE4IXWx3Pu",
        "outputId": "1a29c784-88d6-4f87-cdee-079b31b907b3",
        "colab": {
          "base_uri": "https://localhost:8080/"
        }
      },
      "execution_count": null,
      "outputs": [
        {
          "output_type": "execute_result",
          "data": {
            "text/plain": [
              "torch.Size([4, 4, 3, 4])"
            ]
          },
          "metadata": {},
          "execution_count": 78
        }
      ]
    },
    {
      "cell_type": "code",
      "source": [
        "a[torch.tensor(i_list5)].shape"
      ],
      "metadata": {
        "id": "7XFdxq8D672Q",
        "outputId": "e97c5295-1c20-47c6-cbf4-6236ed2f3c95",
        "colab": {
          "base_uri": "https://localhost:8080/"
        }
      },
      "execution_count": null,
      "outputs": [
        {
          "output_type": "execute_result",
          "data": {
            "text/plain": [
              "torch.Size([4, 4, 3, 4])"
            ]
          },
          "metadata": {},
          "execution_count": 79
        }
      ]
    },
    {
      "cell_type": "code",
      "source": [
        "a_np[i_list5].shape"
      ],
      "metadata": {
        "id": "KXTKWV3F7AcP",
        "outputId": "2a37570e-9014-4ac1-ff6d-58da37a60386",
        "colab": {
          "base_uri": "https://localhost:8080/"
        }
      },
      "execution_count": null,
      "outputs": [
        {
          "output_type": "execute_result",
          "data": {
            "text/plain": [
              "(4, 4, 3, 4)"
            ]
          },
          "metadata": {},
          "execution_count": 81
        }
      ]
    },
    {
      "cell_type": "code",
      "source": [
        "a_np[np.array(i_list5)].shape"
      ],
      "metadata": {
        "id": "IyT9dR19FFoA",
        "outputId": "050c638e-e5bc-404a-8031-25d87d8e5dc9",
        "colab": {
          "base_uri": "https://localhost:8080/"
        }
      },
      "execution_count": null,
      "outputs": [
        {
          "output_type": "execute_result",
          "data": {
            "text/plain": [
              "(4, 4, 3, 4)"
            ]
          },
          "metadata": {},
          "execution_count": 82
        }
      ]
    },
    {
      "cell_type": "code",
      "source": [],
      "metadata": {
        "id": "6XbSIAtoFJ6u"
      },
      "execution_count": null,
      "outputs": []
    }
  ]
}