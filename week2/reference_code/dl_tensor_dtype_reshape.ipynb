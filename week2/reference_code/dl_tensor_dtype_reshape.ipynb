{
  "nbformat": 4,
  "nbformat_minor": 0,
  "metadata": {
    "colab": {
      "provenance": []
    },
    "kernelspec": {
      "name": "python3",
      "display_name": "Python 3"
    },
    "language_info": {
      "name": "python"
    }
  },
  "cells": [
    {
      "cell_type": "code",
      "execution_count": null,
      "metadata": {
        "id": "4MAWvTx8O1cn"
      },
      "outputs": [],
      "source": [
        "import numpy as np\n",
        "import tensorflow as tf\n",
        "import torch"
      ]
    },
    {
      "cell_type": "code",
      "source": [
        "a = np.ones((3,3))\n",
        "b = np.uint8(a)\n",
        "c = a.astype('float32')\n",
        "print(f\"{c = }\")\n",
        "\n",
        "print(f\"{a.dtype = }\\n{b.dtype = }\\n{c.dtype = }\")\n",
        "print(f\"{np.may_share_memory(a,b) = }\")\n",
        "print(f\"{np.may_share_memory(a,c) = }\")\n",
        "print(f\"{np.may_share_memory(b,c) = }\")"
      ],
      "metadata": {
        "colab": {
          "base_uri": "https://localhost:8080/"
        },
        "id": "DhvSoUbuTEMY",
        "outputId": "91f9fc39-b493-4e45-e934-74841aa0d0e0"
      },
      "execution_count": null,
      "outputs": [
        {
          "output_type": "stream",
          "name": "stdout",
          "text": [
            "c = array([[1., 1., 1.],\n",
            "       [1., 1., 1.],\n",
            "       [1., 1., 1.]], dtype=float32)\n",
            "a.dtype = dtype('float64')\n",
            "b.dtype = dtype('uint8')\n",
            "c.dtype = dtype('float32')\n",
            "np.may_share_memory(a,b) = False\n",
            "np.may_share_memory(a,c) = False\n",
            "np.may_share_memory(b,c) = False\n"
          ]
        }
      ]
    },
    {
      "cell_type": "code",
      "source": [
        "c[0,0] = 1000\n",
        "print(f\"{a = }\")\n",
        "print(\"---------\")\n",
        "print(f\"{c = }\")"
      ],
      "metadata": {
        "colab": {
          "base_uri": "https://localhost:8080/"
        },
        "id": "_87dmZ6nTEL7",
        "outputId": "a6cbf4d1-49bd-4e54-86be-63bb12640d6a"
      },
      "execution_count": null,
      "outputs": [
        {
          "output_type": "stream",
          "name": "stdout",
          "text": [
            "a = array([[1., 1., 1.],\n",
            "       [1., 1., 1.],\n",
            "       [1., 1., 1.]])\n",
            "---------\n",
            "c = array([[1000.,    1.,    1.],\n",
            "       [   1.,    1.,    1.],\n",
            "       [   1.,    1.,    1.]], dtype=float32)\n"
          ]
        }
      ]
    },
    {
      "cell_type": "markdown",
      "source": [
        "### PyTorch"
      ],
      "metadata": {
        "id": "YjnTRsaK84V0"
      }
    },
    {
      "cell_type": "code",
      "source": [
        "def share_memory(a,b):\n",
        "  return a.untyped_storage().data_ptr() == b.untyped_storage().data_ptr()"
      ],
      "metadata": {
        "id": "2_MM1apf07vz"
      },
      "execution_count": null,
      "outputs": []
    },
    {
      "cell_type": "code",
      "source": [
        "a_torch = torch.rand(3,4)\n",
        "b_torch = a_torch.to(torch.uint8)\n",
        "c_torch = a_torch.type(torch.float64)\n",
        "print(f\"{a_torch.dtype = }\\n{b_torch.dtype = }\\n{c_torch.dtype = }\")\n",
        "print(\"-----------\")\n",
        "print(f\"{share_memory(a_torch,b_torch) = }\")\n",
        "print(f\"{share_memory(a_torch,c_torch) = }\")\n",
        "print(f\"{share_memory(b_torch,c_torch) = }\")\n",
        "print(\"-----------\")\n",
        "b_torch[0,1] = 9\n",
        "c_torch[0,0] = 1000\n",
        "print(f\"{a_torch = }\")\n",
        "print(f\"{b_torch = }\")\n",
        "print(f\"{c_torch = }\")"
      ],
      "metadata": {
        "colab": {
          "base_uri": "https://localhost:8080/"
        },
        "id": "HiSVy4Q-WX8U",
        "outputId": "d18e1c7b-52de-42ca-b0fc-d8e72ecbb1d2"
      },
      "execution_count": null,
      "outputs": [
        {
          "output_type": "stream",
          "name": "stdout",
          "text": [
            "a_torch.dtype = torch.float32\n",
            "b_torch.dtype = torch.uint8\n",
            "c_torch.dtype = torch.float64\n",
            "-----------\n",
            "share_memory(a_torch,b_torch) = False\n",
            "share_memory(a_torch,c_torch) = False\n",
            "share_memory(b_torch,c_torch) = False\n",
            "-----------\n",
            "a_torch = tensor([[0.3738, 0.5342, 0.0702, 0.0080],\n",
            "        [0.1860, 0.7505, 0.4290, 0.7671],\n",
            "        [0.3760, 0.1961, 0.2042, 0.5005]])\n",
            "b_torch = tensor([[0, 9, 0, 0],\n",
            "        [0, 0, 0, 0],\n",
            "        [0, 0, 0, 0]], dtype=torch.uint8)\n",
            "c_torch = tensor([[1.0000e+03, 5.3418e-01, 7.0162e-02, 8.0060e-03],\n",
            "        [1.8603e-01, 7.5053e-01, 4.2901e-01, 7.6709e-01],\n",
            "        [3.7597e-01, 1.9611e-01, 2.0425e-01, 5.0046e-01]], dtype=torch.float64)\n"
          ]
        }
      ]
    },
    {
      "cell_type": "code",
      "source": [
        "print(f\"{a_torch = }\")\n",
        "c_torch[0,0] = 777.\n",
        "print(f\"{a_torch = }\")\n",
        "print(f\"{c_torch = }\")"
      ],
      "metadata": {
        "colab": {
          "base_uri": "https://localhost:8080/"
        },
        "id": "B3-rSCYbKBOQ",
        "outputId": "c76ee477-0aa0-414c-d57d-82b485293fea"
      },
      "execution_count": null,
      "outputs": [
        {
          "output_type": "stream",
          "name": "stdout",
          "text": [
            "a_torch = tensor([[0.3738, 0.5342, 0.0702, 0.0080],\n",
            "        [0.1860, 0.7505, 0.4290, 0.7671],\n",
            "        [0.3760, 0.1961, 0.2042, 0.5005]])\n",
            "a_torch = tensor([[0.3738, 0.5342, 0.0702, 0.0080],\n",
            "        [0.1860, 0.7505, 0.4290, 0.7671],\n",
            "        [0.3760, 0.1961, 0.2042, 0.5005]])\n",
            "c_torch = tensor([[7.7700e+02, 5.3418e-01, 7.0162e-02, 8.0060e-03],\n",
            "        [1.8603e-01, 7.5053e-01, 4.2901e-01, 7.6709e-01],\n",
            "        [3.7597e-01, 1.9611e-01, 2.0425e-01, 5.0046e-01]], dtype=torch.float64)\n"
          ]
        }
      ]
    },
    {
      "cell_type": "code",
      "source": [
        "d_torch = a_torch.to(torch.float64)\n",
        "print(f\"{share_memory(a_torch,d_torch) = }\")"
      ],
      "metadata": {
        "colab": {
          "base_uri": "https://localhost:8080/"
        },
        "id": "hi0l6v0VKnuN",
        "outputId": "3763fbf8-7184-4721-92b8-a4e80ed399dc"
      },
      "execution_count": null,
      "outputs": [
        {
          "output_type": "stream",
          "name": "stdout",
          "text": [
            "share_memory(a_torch,d_torch) = False\n"
          ]
        }
      ]
    },
    {
      "cell_type": "code",
      "source": [
        "e_torch = a_torch.float()\n",
        "print(f\"{a_torch.dtype = }\")\n",
        "print(f\"{e_torch.dtype = }\")\n",
        "print(f\"{share_memory(a_torch,e_torch) = }\")"
      ],
      "metadata": {
        "id": "G1tCBcYL9sr-",
        "outputId": "730dda93-9d97-4123-d2db-0c9605964c8e",
        "colab": {
          "base_uri": "https://localhost:8080/"
        }
      },
      "execution_count": null,
      "outputs": [
        {
          "output_type": "stream",
          "name": "stdout",
          "text": [
            "a_torch.dtype = torch.float32\n",
            "e_torch.dtype = torch.float32\n",
            "share_memory(a_torch,e_torch) = True\n"
          ]
        }
      ]
    },
    {
      "cell_type": "code",
      "source": [
        "f_torch = a_torch.int()\n",
        "print(f\"{a_torch.dtype = }\")\n",
        "print(f\"{f_torch.dtype = }\")\n",
        "print(f\"{share_memory(a_torch,f_torch) = }\")"
      ],
      "metadata": {
        "id": "wsvDXb0i-y-I",
        "outputId": "ac42a077-c0b5-4057-96da-ed63e6a4c4e4",
        "colab": {
          "base_uri": "https://localhost:8080/"
        }
      },
      "execution_count": null,
      "outputs": [
        {
          "output_type": "stream",
          "name": "stdout",
          "text": [
            "a_torch.dtype = torch.float32\n",
            "f_torch.dtype = torch.int32\n",
            "share_memory(a_torch,f_torch) = False\n"
          ]
        }
      ]
    },
    {
      "cell_type": "markdown",
      "source": [
        "### TensorFlwo"
      ],
      "metadata": {
        "id": "OpxVPfpC8ATX"
      }
    },
    {
      "cell_type": "code",
      "source": [
        "import tensorflow as tf\n",
        "\n",
        "a_tf = tf.random.uniform(shape=(3,4))\n",
        "c_tf = tf.dtypes.cast(a_tf, tf.float64)\n",
        "print(f\"{a_tf.dtype = }\\n{c_tf.dtype = }\")\n",
        "\n",
        "# # not working\n",
        "# print(f\"{tf.experimental.numpy.shares_memory(a_tf,c_tf) = }\")"
      ],
      "metadata": {
        "id": "E4VI7_AF7abd",
        "outputId": "cc0751e6-5760-4a37-a865-26c7e9585a84",
        "colab": {
          "base_uri": "https://localhost:8080/"
        }
      },
      "execution_count": null,
      "outputs": [
        {
          "output_type": "stream",
          "name": "stdout",
          "text": [
            "a_tf.dtype = tf.float32\n",
            "c_tf.dtype = tf.float64\n"
          ]
        }
      ]
    },
    {
      "cell_type": "markdown",
      "source": [
        "# shape 변경"
      ],
      "metadata": {
        "id": "LPaNvtmZ2GnH"
      }
    },
    {
      "cell_type": "markdown",
      "source": [
        "### NumPy"
      ],
      "metadata": {
        "id": "3XdW0bz_6uxo"
      }
    },
    {
      "cell_type": "code",
      "source": [
        "a = np.arange(0,10,1) # [ s:e :step_size]\n",
        "b = a.reshape((2,5))\n",
        "print(f\"{a.shape = }\\n{b.shape = }\")\n",
        "print(f\"{np.may_share_memory(a,b) = }\")"
      ],
      "metadata": {
        "colab": {
          "base_uri": "https://localhost:8080/"
        },
        "id": "ayBjFPr8Rtyr",
        "outputId": "649c5156-2c1e-452a-c87c-4ac866c3d2d1"
      },
      "execution_count": null,
      "outputs": [
        {
          "output_type": "stream",
          "name": "stdout",
          "text": [
            "a.shape = (10,)\n",
            "b.shape = (2, 5)\n",
            "np.may_share_memory(a,b) = True\n"
          ]
        }
      ]
    },
    {
      "cell_type": "code",
      "source": [
        "c = np.reshape(a,(5,2))\n",
        "print(f\"{c.shape = }\")\n",
        "print(f\"{np.may_share_memory(a,c) = }\")"
      ],
      "metadata": {
        "colab": {
          "base_uri": "https://localhost:8080/"
        },
        "id": "ifO3RTpyR1Q6",
        "outputId": "8a619cee-7ae1-4a7f-abbd-7a95b8dd1f10"
      },
      "execution_count": null,
      "outputs": [
        {
          "output_type": "stream",
          "name": "stdout",
          "text": [
            "c.shape = (5, 2)\n",
            "np.may_share_memory(a,c) = True\n"
          ]
        }
      ]
    },
    {
      "cell_type": "code",
      "source": [
        "c[0,0] = 1000\n",
        "print(f\"{a = }\")\n",
        "print(f\"{b = }\")\n",
        "print(f\"{c = }\")"
      ],
      "metadata": {
        "colab": {
          "base_uri": "https://localhost:8080/"
        },
        "id": "dxQfg3iBTOuM",
        "outputId": "65055af5-cb63-401a-e1b3-24604d2a65df"
      },
      "execution_count": null,
      "outputs": [
        {
          "output_type": "stream",
          "name": "stdout",
          "text": [
            "a = array([1000,    1,    2,    3,    4,    5,    6,    7,    8,    9])\n",
            "b = array([[1000,    1,    2,    3,    4],\n",
            "       [   5,    6,    7,    8,    9]])\n",
            "c = array([[1000,    1],\n",
            "       [   2,    3],\n",
            "       [   4,    5],\n",
            "       [   6,    7],\n",
            "       [   8,    9]])\n"
          ]
        }
      ]
    },
    {
      "cell_type": "markdown",
      "source": [
        "### PyTorch"
      ],
      "metadata": {
        "id": "S5T-z41m4yJa"
      }
    },
    {
      "cell_type": "code",
      "source": [
        "a_torch = torch.arange(0,10,1)\n",
        "b_torch = a_torch.reshape((2,5))\n",
        "print(f\"{a_torch.shape = }\\n{b_torch.shape} = \")\n",
        "print(f\"{share_memory(a_torch,b_torch) = }\")"
      ],
      "metadata": {
        "colab": {
          "base_uri": "https://localhost:8080/"
        },
        "id": "MlaeN-D_SAac",
        "outputId": "a6f6c3c6-24b4-4046-8316-ffde0a133473"
      },
      "execution_count": null,
      "outputs": [
        {
          "output_type": "stream",
          "name": "stdout",
          "text": [
            "a_torch.shape = torch.Size([10])\n",
            "torch.Size([2, 5]) = \n",
            "share_memory(a_torch,b_torch) = True\n"
          ]
        }
      ]
    },
    {
      "cell_type": "code",
      "source": [
        "c_torch = torch.reshape(a_torch,(5,2))\n",
        "print(f\"{c_torch.shape = }\")\n",
        "print(f\"{share_memory(a_torch,c_torch) = }\")"
      ],
      "metadata": {
        "colab": {
          "base_uri": "https://localhost:8080/"
        },
        "id": "KQsRchECSjXU",
        "outputId": "2899032a-2106-4657-c4cc-8c2b9e3dc3ce"
      },
      "execution_count": null,
      "outputs": [
        {
          "output_type": "stream",
          "name": "stdout",
          "text": [
            "c_torch.shape = torch.Size([5, 2])\n",
            "share_memory(a_torch,c_torch) = True\n"
          ]
        }
      ]
    },
    {
      "cell_type": "code",
      "source": [
        "c_torch[0,0] = 1000\n",
        "\n",
        "print(f\"{a_torch = }\")\n",
        "print(f\"{b_torch = }\")\n",
        "print(f\"{c_torch = }\")"
      ],
      "metadata": {
        "colab": {
          "base_uri": "https://localhost:8080/"
        },
        "id": "EOm2JwBDSn5h",
        "outputId": "6c7b701a-bae8-40c2-d696-a9521794f73b"
      },
      "execution_count": null,
      "outputs": [
        {
          "output_type": "stream",
          "name": "stdout",
          "text": [
            "a_torch = tensor([1000,    1,    2,    3,    4,    5,    6,    7,    8,    9])\n",
            "b_torch = tensor([[1000,    1,    2,    3,    4],\n",
            "        [   5,    6,    7,    8,    9]])\n",
            "c_torch = tensor([[1000,    1],\n",
            "        [   2,    3],\n",
            "        [   4,    5],\n",
            "        [   6,    7],\n",
            "        [   8,    9]])\n"
          ]
        }
      ]
    },
    {
      "cell_type": "markdown",
      "source": [
        "### TensorFlow\n",
        "\n",
        "* TensorFlow는 메모리 최적화와 효율성을 위해 내부적으로 복잡한 메모리 관리를 수행\n",
        "* PyTorch나 NumPy처럼 명확하게 메모리 공유 상태를 확인하는 공식 API는 제한적\n",
        "\n",
        "> 기본적으로 새로 만들어진다고 보면 됨."
      ],
      "metadata": {
        "id": "4UEbDJAA39ka"
      }
    },
    {
      "cell_type": "code",
      "source": [
        "a_tf = tf.range(0,10,1)\n",
        "b_tf = tf.reshape(a_tf,(2,5))\n",
        "# b_tf = a_tf.reshape((2,5)) # not working\n",
        "print(f\"{a_tf.shape = }\\n{b_tf.shape = }\")\n",
        "# not working!\n",
        "# print(f\"{tf.experimental.numpy.shares_memory(a_tf,b_tf) = }\")"
      ],
      "metadata": {
        "colab": {
          "base_uri": "https://localhost:8080/"
        },
        "id": "NPv3vYPMSz2O",
        "outputId": "eebfc7cb-7ec5-402f-84fd-3bf4be184f74"
      },
      "execution_count": null,
      "outputs": [
        {
          "output_type": "stream",
          "name": "stdout",
          "text": [
            "a_tf.shape = TensorShape([10])\n",
            "b_tf.shape = TensorShape([2, 5])\n"
          ]
        }
      ]
    },
    {
      "cell_type": "code",
      "source": [
        "c_tf = tf.reshape(a_tf,(5,2))\n",
        "print(f\"{c_tf.shape = }\")"
      ],
      "metadata": {
        "colab": {
          "base_uri": "https://localhost:8080/"
        },
        "id": "vZdA95QbTzO_",
        "outputId": "8435a9f4-bada-4885-b9f6-98bc3a0aae0d"
      },
      "execution_count": null,
      "outputs": [
        {
          "output_type": "stream",
          "name": "stdout",
          "text": [
            "c_tf.shape = TensorShape([5, 2])\n"
          ]
        }
      ]
    },
    {
      "cell_type": "code",
      "source": [
        "# 변경하고 싶은 위치와 값을 정의\n",
        "indices = tf.constant([[0, 0]]) # (2, 2) 위치를 변경하고자 함\n",
        "updates = tf.constant([999]) # 해당 위치에 넣고 싶은 값\n",
        "\n",
        "# 업데이트 적용\n",
        "d_tf = tf.tensor_scatter_nd_update(c_tf, indices, updates)\n",
        "\n",
        "print(f\"{a_tf = }\")\n",
        "print(f\"{b_tf = }\")\n",
        "print(f\"{c_tf = }\")\n",
        "print(f\"{d_tf = }\")"
      ],
      "metadata": {
        "colab": {
          "base_uri": "https://localhost:8080/"
        },
        "id": "UcOkxcxAT4f7",
        "outputId": "423b5175-5b09-415b-b007-5f7a65bc1dd6"
      },
      "execution_count": null,
      "outputs": [
        {
          "output_type": "stream",
          "name": "stdout",
          "text": [
            "a_tf = <tf.Tensor: shape=(10,), dtype=int32, numpy=array([0, 1, 2, 3, 4, 5, 6, 7, 8, 9], dtype=int32)>\n",
            "b_tf = <tf.Tensor: shape=(2, 5), dtype=int32, numpy=\n",
            "array([[0, 1, 2, 3, 4],\n",
            "       [5, 6, 7, 8, 9]], dtype=int32)>\n",
            "c_tf = <tf.Tensor: shape=(5, 2), dtype=int32, numpy=\n",
            "array([[0, 1],\n",
            "       [2, 3],\n",
            "       [4, 5],\n",
            "       [6, 7],\n",
            "       [8, 9]], dtype=int32)>\n",
            "d_tf = <tf.Tensor: shape=(5, 2), dtype=int32, numpy=\n",
            "array([[999,   1],\n",
            "       [  2,   3],\n",
            "       [  4,   5],\n",
            "       [  6,   7],\n",
            "       [  8,   9]], dtype=int32)>\n"
          ]
        }
      ]
    }
  ]
}