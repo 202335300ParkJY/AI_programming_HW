{
  "nbformat": 4,
  "nbformat_minor": 0,
  "metadata": {
    "colab": {
      "provenance": []
    },
    "kernelspec": {
      "name": "python3",
      "display_name": "Python 3"
    },
    "language_info": {
      "name": "python"
    }
  },
  "cells": [
    {
      "cell_type": "code",
      "execution_count": null,
      "metadata": {
        "id": "a1vaWW5uuUHD"
      },
      "outputs": [],
      "source": [
        "import numpy as np\n",
        "import tensorflow as tf\n",
        "import torch"
      ]
    },
    {
      "cell_type": "code",
      "source": [
        "t = (1,2,3,4,5,6)\n",
        "\n",
        "a = np.array(t)\n",
        "a_tf = tf.constant(t)\n",
        "a_torch = torch.tensor(t)"
      ],
      "metadata": {
        "id": "XtwSgCtYueZo"
      },
      "execution_count": null,
      "outputs": []
    },
    {
      "cell_type": "code",
      "source": [
        "a1 = a_tf.numpy()\n",
        "a2 = a_torch.numpy()"
      ],
      "metadata": {
        "id": "k6CavvrrukC_"
      },
      "execution_count": null,
      "outputs": []
    },
    {
      "cell_type": "code",
      "source": [
        "a2[0] = 777\n",
        "print(a2)\n",
        "print(a_torch)"
      ],
      "metadata": {
        "colab": {
          "base_uri": "https://localhost:8080/"
        },
        "id": "cxsq1zWSunHr",
        "outputId": "9d73c977-bcd8-47e7-be5b-ee252205b018"
      },
      "execution_count": null,
      "outputs": [
        {
          "output_type": "stream",
          "name": "stdout",
          "text": [
            "[777   2   3   4   5   6]\n",
            "tensor([777,   2,   3,   4,   5,   6])\n"
          ]
        }
      ]
    },
    {
      "cell_type": "code",
      "source": [
        "print(a1)\n",
        "print(a_tf)\n",
        "a1[0] = 888\n",
        "print(a1)\n",
        "print(a_tf)"
      ],
      "metadata": {
        "colab": {
          "base_uri": "https://localhost:8080/"
        },
        "id": "wDqbghA0uvmP",
        "outputId": "d652d1c6-d4c1-4ce5-89d2-ade7c49ec962"
      },
      "execution_count": null,
      "outputs": [
        {
          "output_type": "stream",
          "name": "stdout",
          "text": [
            "[1 2 3 4 5 6]\n",
            "tf.Tensor([1 2 3 4 5 6], shape=(6,), dtype=int32)\n",
            "[888   2   3   4   5   6]\n",
            "tf.Tensor([1 2 3 4 5 6], shape=(6,), dtype=int32)\n"
          ]
        }
      ]
    },
    {
      "cell_type": "code",
      "source": [
        "print(a_torch)\n",
        "a3 = a_torch.numpy().copy()\n",
        "a3[0] = 999\n",
        "print(a3)\n",
        "print(a_torch)"
      ],
      "metadata": {
        "colab": {
          "base_uri": "https://localhost:8080/"
        },
        "id": "iuZPQf97vI0W",
        "outputId": "ad6e392d-a2bf-472b-c222-2967b9fb8d59"
      },
      "execution_count": null,
      "outputs": [
        {
          "output_type": "stream",
          "name": "stdout",
          "text": [
            "tensor([777,   2,   3,   4,   5,   6])\n",
            "[999   2   3   4   5   6]\n",
            "tensor([777,   2,   3,   4,   5,   6])\n"
          ]
        }
      ]
    },
    {
      "cell_type": "code",
      "source": [
        "type(a_torch.data)"
      ],
      "metadata": {
        "colab": {
          "base_uri": "https://localhost:8080/"
        },
        "id": "xUSKvqsOw3Ct",
        "outputId": "64c10c42-d84e-4f3d-dbed-91df58afcd26"
      },
      "execution_count": null,
      "outputs": [
        {
          "output_type": "execute_result",
          "data": {
            "text/plain": [
              "torch.Tensor"
            ]
          },
          "metadata": {},
          "execution_count": 48
        }
      ]
    },
    {
      "cell_type": "code",
      "source": [
        "a_tf = tf.convert_to_tensor(a)\n",
        "a_torch = torch.from_numpy(a)\n",
        "print(a_tf)\n",
        "print(a_torch)"
      ],
      "metadata": {
        "colab": {
          "base_uri": "https://localhost:8080/"
        },
        "id": "yGVLSFuNzKIn",
        "outputId": "087b12bc-e8e9-49ec-c879-1cef6b06954b"
      },
      "execution_count": null,
      "outputs": [
        {
          "output_type": "stream",
          "name": "stdout",
          "text": [
            "tf.Tensor([1 2 3 4 5 6], shape=(6,), dtype=int64)\n",
            "tensor([1, 2, 3, 4, 5, 6])\n"
          ]
        }
      ]
    },
    {
      "cell_type": "code",
      "source": [
        "a_torch[0] = 999\n",
        "print(a_torch)\n",
        "print(a)"
      ],
      "metadata": {
        "colab": {
          "base_uri": "https://localhost:8080/"
        },
        "id": "f27qu_uc0Pyb",
        "outputId": "b6cf0c6b-376a-44f1-df7d-cfe1f1d2fbd0"
      },
      "execution_count": null,
      "outputs": [
        {
          "output_type": "stream",
          "name": "stdout",
          "text": [
            "tensor([999,   2,   3,   4,   5,   6])\n",
            "[999   2   3   4   5   6]\n"
          ]
        }
      ]
    }
  ]
}