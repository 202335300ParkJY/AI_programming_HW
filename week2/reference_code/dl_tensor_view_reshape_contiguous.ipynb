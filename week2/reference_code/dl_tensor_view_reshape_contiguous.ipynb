{
  "nbformat": 4,
  "nbformat_minor": 0,
  "metadata": {
    "colab": {
      "provenance": []
    },
    "kernelspec": {
      "name": "python3",
      "display_name": "Python 3"
    },
    "language_info": {
      "name": "python"
    }
  },
  "cells": [
    {
      "cell_type": "code",
      "source": [
        "import torch\n",
        "\n",
        "a = torch.tensor([ range(i,i+3) for i in [0,3,6]])\n",
        "a"
      ],
      "metadata": {
        "colab": {
          "base_uri": "https://localhost:8080/"
        },
        "id": "ovnwx3vjCpQM",
        "outputId": "f8c86717-b5cd-400e-f860-12ba6defd253"
      },
      "execution_count": null,
      "outputs": [
        {
          "output_type": "execute_result",
          "data": {
            "text/plain": [
              "tensor([[0, 1, 2],\n",
              "        [3, 4, 5],\n",
              "        [6, 7, 8]])"
            ]
          },
          "metadata": {},
          "execution_count": 1
        }
      ]
    },
    {
      "cell_type": "code",
      "source": [
        "a.storage()\n",
        "# a.untyped_storage()"
      ],
      "metadata": {
        "colab": {
          "base_uri": "https://localhost:8080/"
        },
        "id": "H7hY3MSvC2_u",
        "outputId": "88b2a9c0-020e-4ebe-bed0-73d193d011ce"
      },
      "execution_count": null,
      "outputs": [
        {
          "output_type": "stream",
          "name": "stderr",
          "text": [
            "<ipython-input-2-07cd75b5fe08>:1: UserWarning: TypedStorage is deprecated. It will be removed in the future and UntypedStorage will be the only storage class. This should only matter to you if you are using storages directly.  To access UntypedStorage directly, use tensor.untyped_storage() instead of tensor.storage()\n",
            "  a.storage()\n"
          ]
        },
        {
          "output_type": "execute_result",
          "data": {
            "text/plain": [
              " 0\n",
              " 1\n",
              " 2\n",
              " 3\n",
              " 4\n",
              " 5\n",
              " 6\n",
              " 7\n",
              " 8\n",
              "[torch.storage.TypedStorage(dtype=torch.int64, device=cpu) of size 9]"
            ]
          },
          "metadata": {},
          "execution_count": 2
        }
      ]
    },
    {
      "cell_type": "markdown",
      "source": [
        "\n",
        "# Contiguous란?\n",
        "\n",
        "https://dsaint31.tistory.com/538#Continuous%--%EC%--%--%--Contiguous%--%EC%-D%--%--%EC%B-%A-%EC%-D%B--"
      ],
      "metadata": {
        "id": "zwUlQ2ezoiMZ"
      }
    },
    {
      "cell_type": "code",
      "source": [
        "a.is_contiguous()"
      ],
      "metadata": {
        "colab": {
          "base_uri": "https://localhost:8080/"
        },
        "id": "XwB7rh3BC7Q5",
        "outputId": "32a0dd17-4ed2-494c-fef1-b8ae1069fc92"
      },
      "execution_count": null,
      "outputs": [
        {
          "output_type": "execute_result",
          "data": {
            "text/plain": [
              "True"
            ]
          },
          "metadata": {},
          "execution_count": 3
        }
      ]
    },
    {
      "cell_type": "code",
      "source": [
        "a_sub = a[1:,0]\n",
        "print(a_sub)"
      ],
      "metadata": {
        "colab": {
          "base_uri": "https://localhost:8080/"
        },
        "id": "3PMk3F99pzN_",
        "outputId": "413dc1e6-8aa7-4c49-fa96-79aee6067866"
      },
      "execution_count": null,
      "outputs": [
        {
          "output_type": "stream",
          "name": "stdout",
          "text": [
            "tensor([3, 6])\n"
          ]
        }
      ]
    },
    {
      "cell_type": "code",
      "source": [
        "print(a_sub.storage())\n",
        "a_sub.is_contiguous()"
      ],
      "metadata": {
        "colab": {
          "base_uri": "https://localhost:8080/"
        },
        "id": "0sQW4J3QqDcO",
        "outputId": "e817abfa-9d46-4408-ab14-6debd9c439bb"
      },
      "execution_count": null,
      "outputs": [
        {
          "output_type": "stream",
          "name": "stdout",
          "text": [
            " 0\n",
            " 1\n",
            " 2\n",
            " 3\n",
            " 4\n",
            " 5\n",
            " 6\n",
            " 7\n",
            " 8\n",
            "[torch.storage.TypedStorage(dtype=torch.int64, device=cpu) of size 9]\n"
          ]
        },
        {
          "output_type": "execute_result",
          "data": {
            "text/plain": [
              "False"
            ]
          },
          "metadata": {},
          "execution_count": 5
        }
      ]
    },
    {
      "cell_type": "code",
      "source": [
        "a.storage().data_ptr() == a_sub.storage().data_ptr()"
      ],
      "metadata": {
        "colab": {
          "base_uri": "https://localhost:8080/"
        },
        "id": "Tlp0bzMq5owF",
        "outputId": "41278d1b-a9e9-4ae0-9f0b-95c710275f1f"
      },
      "execution_count": null,
      "outputs": [
        {
          "output_type": "execute_result",
          "data": {
            "text/plain": [
              "True"
            ]
          },
          "metadata": {},
          "execution_count": 6
        }
      ]
    },
    {
      "cell_type": "code",
      "source": [
        "a_t = torch.transpose(a,0,1)\n",
        "a_t"
      ],
      "metadata": {
        "colab": {
          "base_uri": "https://localhost:8080/"
        },
        "id": "KmmaXB0MDL2-",
        "outputId": "16a218f4-63b1-4f54-c472-d90dea66cb51"
      },
      "execution_count": null,
      "outputs": [
        {
          "output_type": "execute_result",
          "data": {
            "text/plain": [
              "tensor([[0, 3, 6],\n",
              "        [1, 4, 7],\n",
              "        [2, 5, 8]])"
            ]
          },
          "metadata": {},
          "execution_count": 7
        }
      ]
    },
    {
      "cell_type": "code",
      "source": [
        "print(a_t.storage())\n",
        "a_t.is_contiguous()"
      ],
      "metadata": {
        "colab": {
          "base_uri": "https://localhost:8080/"
        },
        "id": "biV6cwkpDf4z",
        "outputId": "2d88d077-b66f-4100-fe07-a585754e4374"
      },
      "execution_count": null,
      "outputs": [
        {
          "output_type": "stream",
          "name": "stdout",
          "text": [
            " 0\n",
            " 1\n",
            " 2\n",
            " 3\n",
            " 4\n",
            " 5\n",
            " 6\n",
            " 7\n",
            " 8\n",
            "[torch.storage.TypedStorage(dtype=torch.int64, device=cpu) of size 9]\n"
          ]
        },
        {
          "output_type": "execute_result",
          "data": {
            "text/plain": [
              "False"
            ]
          },
          "metadata": {},
          "execution_count": 8
        }
      ]
    },
    {
      "cell_type": "code",
      "source": [
        "a_t[0,1] = 999\n",
        "print(a_t)\n",
        "print('-------')\n",
        "print(a)\n",
        "print('-------')\n",
        "print(a_sub)"
      ],
      "metadata": {
        "colab": {
          "base_uri": "https://localhost:8080/"
        },
        "id": "UxcYY-2YIenf",
        "outputId": "8322a6a8-5d38-45ce-fd5d-830b65d1d71b"
      },
      "execution_count": null,
      "outputs": [
        {
          "output_type": "stream",
          "name": "stdout",
          "text": [
            "tensor([[  0, 999,   6],\n",
            "        [  1,   4,   7],\n",
            "        [  2,   5,   8]])\n",
            "-------\n",
            "tensor([[  0,   1,   2],\n",
            "        [999,   4,   5],\n",
            "        [  6,   7,   8]])\n",
            "-------\n",
            "tensor([999,   6])\n"
          ]
        }
      ]
    },
    {
      "cell_type": "code",
      "source": [
        "print(f\"{a.shape=}, {a.size()=}, {a.stride()=}, {a.storage_offset()=}\")\n",
        "print(f\"{a_t.shape=}, {a_t.size()=}, {a_t.stride()=}, {a_t.storage_offset()=}\")\n",
        "print(f\"{a_sub.shape=}, {a_sub.size()=}, {a_sub.stride()=}, {a_sub.storage_offset()=}\")\n"
      ],
      "metadata": {
        "colab": {
          "base_uri": "https://localhost:8080/"
        },
        "id": "ygRXkhsUpkzw",
        "outputId": "a48e236e-1ef5-4d6c-aea2-3df636268c91"
      },
      "execution_count": null,
      "outputs": [
        {
          "output_type": "stream",
          "name": "stdout",
          "text": [
            "a.shape=torch.Size([3, 3]), a.size()=torch.Size([3, 3]), a.stride()=(3, 1), a.storage_offset()=0\n",
            "a_t.shape=torch.Size([3, 3]), a_t.size()=torch.Size([3, 3]), a_t.stride()=(1, 3), a_t.storage_offset()=0\n",
            "a_sub.shape=torch.Size([2]), a_sub.size()=torch.Size([2]), a_sub.stride()=(3,), a_sub.storage_offset()=3\n"
          ]
        }
      ]
    },
    {
      "cell_type": "code",
      "source": [
        "a_v = a.view((9,))\n",
        "a_v"
      ],
      "metadata": {
        "colab": {
          "base_uri": "https://localhost:8080/"
        },
        "id": "EjQvJx5_Iuns",
        "outputId": "0950fb14-31b6-4166-c19a-5a0968cd5ccb"
      },
      "execution_count": null,
      "outputs": [
        {
          "output_type": "execute_result",
          "data": {
            "text/plain": [
              "tensor([  0,   1,   2, 999,   4,   5,   6,   7,   8])"
            ]
          },
          "metadata": {},
          "execution_count": 11
        }
      ]
    },
    {
      "cell_type": "code",
      "source": [
        "a_r = a.reshape((9,))\n",
        "a_r[3] = 777\n",
        "print('데이터 저장공간을 share함.')\n",
        "print('a_r: af.reshape')\n",
        "print(a_r)\n",
        "print('a: orginal')\n",
        "print(a)\n",
        "print('a_t: transposed')\n",
        "print(a_t)"
      ],
      "metadata": {
        "colab": {
          "base_uri": "https://localhost:8080/"
        },
        "id": "kPyhz71IIz4U",
        "outputId": "c328d98c-2128-4312-d024-17493a33de70"
      },
      "execution_count": null,
      "outputs": [
        {
          "output_type": "stream",
          "name": "stdout",
          "text": [
            "데이터 저장공간을 share함.\n",
            "a_r: af.reshape\n",
            "tensor([  0,   1,   2, 777,   4,   5,   6,   7,   8])\n",
            "a: orginal\n",
            "tensor([[  0,   1,   2],\n",
            "        [777,   4,   5],\n",
            "        [  6,   7,   8]])\n",
            "a_t: transposed\n",
            "tensor([[  0, 777,   6],\n",
            "        [  1,   4,   7],\n",
            "        [  2,   5,   8]])\n"
          ]
        }
      ]
    },
    {
      "cell_type": "code",
      "source": [
        "a_t.view((9,)) # not working"
      ],
      "metadata": {
        "colab": {
          "base_uri": "https://localhost:8080/",
          "height": 162
        },
        "id": "JYp1BQZpHPgm",
        "outputId": "a9beafc5-740d-41a2-988a-e28b4e45d26d"
      },
      "execution_count": null,
      "outputs": [
        {
          "output_type": "error",
          "ename": "RuntimeError",
          "evalue": "view size is not compatible with input tensor's size and stride (at least one dimension spans across two contiguous subspaces). Use .reshape(...) instead.",
          "traceback": [
            "\u001b[0;31m---------------------------------------------------------------------------\u001b[0m",
            "\u001b[0;31mRuntimeError\u001b[0m                              Traceback (most recent call last)",
            "\u001b[0;32m<ipython-input-13-00d44977d133>\u001b[0m in \u001b[0;36m<cell line: 1>\u001b[0;34m()\u001b[0m\n\u001b[0;32m----> 1\u001b[0;31m \u001b[0ma_t\u001b[0m\u001b[0;34m.\u001b[0m\u001b[0mview\u001b[0m\u001b[0;34m(\u001b[0m\u001b[0;34m(\u001b[0m\u001b[0;36m9\u001b[0m\u001b[0;34m,\u001b[0m\u001b[0;34m)\u001b[0m\u001b[0;34m)\u001b[0m \u001b[0;31m# not working\u001b[0m\u001b[0;34m\u001b[0m\u001b[0;34m\u001b[0m\u001b[0m\n\u001b[0m",
            "\u001b[0;31mRuntimeError\u001b[0m: view size is not compatible with input tensor's size and stride (at least one dimension spans across two contiguous subspaces). Use .reshape(...) instead."
          ]
        }
      ]
    },
    {
      "cell_type": "code",
      "source": [
        "a_t_r = a_t.reshape((9,)) # uncontiguous tensor에서는 새로 생성이 이루어짐.\n",
        "a_t_r"
      ],
      "metadata": {
        "colab": {
          "base_uri": "https://localhost:8080/"
        },
        "id": "0zOkqFFiHZYJ",
        "outputId": "7975255a-2b8c-48f7-a4e7-5081e13fc8d6"
      },
      "execution_count": null,
      "outputs": [
        {
          "output_type": "execute_result",
          "data": {
            "text/plain": [
              "tensor([  0, 777,   6,   1,   4,   7,   2,   5,   8])"
            ]
          },
          "metadata": {},
          "execution_count": 14
        }
      ]
    },
    {
      "cell_type": "code",
      "source": [
        "a_t_r[1] = 999\n",
        "print(a_t_r)\n",
        "print(a_t) # 달라짐."
      ],
      "metadata": {
        "colab": {
          "base_uri": "https://localhost:8080/"
        },
        "id": "vE6LVnTEIFA1",
        "outputId": "ff3d97f7-ad8a-41b5-ee62-4a920307ad40"
      },
      "execution_count": null,
      "outputs": [
        {
          "output_type": "stream",
          "name": "stdout",
          "text": [
            "tensor([  0, 999,   6,   1,   4,   7,   2,   5,   8])\n",
            "tensor([[  0, 777,   6],\n",
            "        [  1,   4,   7],\n",
            "        [  2,   5,   8]])\n"
          ]
        }
      ]
    },
    {
      "cell_type": "code",
      "source": [
        "act = a_t.contiguous()\n",
        "act"
      ],
      "metadata": {
        "colab": {
          "base_uri": "https://localhost:8080/"
        },
        "id": "Fr6cy99kEVLB",
        "outputId": "222400ac-8fc1-4110-c1c8-436aa96aa10b"
      },
      "execution_count": null,
      "outputs": [
        {
          "output_type": "execute_result",
          "data": {
            "text/plain": [
              "tensor([[  0, 777,   6],\n",
              "        [  1,   4,   7],\n",
              "        [  2,   5,   8]])"
            ]
          },
          "metadata": {},
          "execution_count": 16
        }
      ]
    },
    {
      "cell_type": "code",
      "source": [
        "act.storage()"
      ],
      "metadata": {
        "colab": {
          "base_uri": "https://localhost:8080/"
        },
        "id": "CmUCABYNEaVy",
        "outputId": "4d4f936c-d556-405e-8d79-759f57d00b91"
      },
      "execution_count": null,
      "outputs": [
        {
          "output_type": "execute_result",
          "data": {
            "text/plain": [
              " 0\n",
              " 777\n",
              " 6\n",
              " 1\n",
              " 4\n",
              " 7\n",
              " 2\n",
              " 5\n",
              " 8\n",
              "[torch.storage.TypedStorage(dtype=torch.int64, device=cpu) of size 9]"
            ]
          },
          "metadata": {},
          "execution_count": 17
        }
      ]
    },
    {
      "cell_type": "code",
      "source": [
        "act[1] = 999\n",
        "print(act)\n",
        "print(a_t)"
      ],
      "metadata": {
        "colab": {
          "base_uri": "https://localhost:8080/"
        },
        "id": "WX4COmONtuPu",
        "outputId": "d00ef36e-6800-4d6b-a991-81017380a477"
      },
      "execution_count": null,
      "outputs": [
        {
          "output_type": "stream",
          "name": "stdout",
          "text": [
            "tensor([[  0, 777,   6],\n",
            "        [999, 999, 999],\n",
            "        [  2,   5,   8]])\n",
            "tensor([[  0, 777,   6],\n",
            "        [  1,   4,   7],\n",
            "        [  2,   5,   8]])\n"
          ]
        }
      ]
    },
    {
      "cell_type": "markdown",
      "source": [
        "# permutation (순열)\n",
        "\n",
        "> 인용구 추가\n",
        "\n",
        "\n",
        "\n",
        "* `permute`: 축의 순서를 바꿈."
      ],
      "metadata": {
        "id": "4qVibmEBt4n5"
      }
    },
    {
      "cell_type": "code",
      "source": [
        "print(a)\n",
        "print('------')\n",
        "print('permute axis-0 and axis-1 = transpose')\n",
        "ap = a.permute([1,0]) # permute axis-0 and axis-1\n",
        "ap"
      ],
      "metadata": {
        "colab": {
          "base_uri": "https://localhost:8080/"
        },
        "id": "PSHZ4k-DEfCQ",
        "outputId": "a79ca6ac-23b2-44b1-c6c1-9921481c65ad"
      },
      "execution_count": null,
      "outputs": [
        {
          "output_type": "stream",
          "name": "stdout",
          "text": [
            "tensor([[  0,   1,   2],\n",
            "        [777,   4,   5],\n",
            "        [  6,   7,   8]])\n",
            "------\n",
            "permute axis-0 and axis-1 = transpose\n"
          ]
        },
        {
          "output_type": "execute_result",
          "data": {
            "text/plain": [
              "tensor([[  0, 777,   6],\n",
              "        [  1,   4,   7],\n",
              "        [  2,   5,   8]])"
            ]
          },
          "metadata": {},
          "execution_count": 19
        }
      ]
    },
    {
      "cell_type": "code",
      "source": [
        "a.storage().data_ptr() == ap.storage().data_ptr()"
      ],
      "metadata": {
        "colab": {
          "base_uri": "https://localhost:8080/"
        },
        "id": "8fKDxGCsEnXJ",
        "outputId": "0e9116b7-2432-41ed-a65a-bf8d8a0f7b32"
      },
      "execution_count": null,
      "outputs": [
        {
          "output_type": "execute_result",
          "data": {
            "text/plain": [
              "True"
            ]
          },
          "metadata": {},
          "execution_count": 20
        }
      ]
    },
    {
      "cell_type": "code",
      "source": [
        "print(ap.is_contiguous())"
      ],
      "metadata": {
        "colab": {
          "base_uri": "https://localhost:8080/"
        },
        "id": "nnpaxRplGDuf",
        "outputId": "2d8b7cda-73c5-4737-831b-4498760e50ef"
      },
      "execution_count": null,
      "outputs": [
        {
          "output_type": "stream",
          "name": "stdout",
          "text": [
            "False\n"
          ]
        }
      ]
    },
    {
      "cell_type": "code",
      "source": [
        "ap2 = ap.contiguous()\n",
        "a.storage().data_ptr() == ap2.storage().data_ptr()"
      ],
      "metadata": {
        "colab": {
          "base_uri": "https://localhost:8080/"
        },
        "id": "AovaBKVmGIfX",
        "outputId": "7bc88bcb-4705-4d3f-e42e-101e2355cab8"
      },
      "execution_count": null,
      "outputs": [
        {
          "output_type": "execute_result",
          "data": {
            "text/plain": [
              "False"
            ]
          },
          "metadata": {},
          "execution_count": 22
        }
      ]
    },
    {
      "cell_type": "code",
      "source": [
        "ap2.is_contiguous()"
      ],
      "metadata": {
        "colab": {
          "base_uri": "https://localhost:8080/"
        },
        "id": "wTdD4nNcGMoO",
        "outputId": "b31f54ee-e514-4b5b-e6cc-d4c4f759da3f"
      },
      "execution_count": null,
      "outputs": [
        {
          "output_type": "execute_result",
          "data": {
            "text/plain": [
              "True"
            ]
          },
          "metadata": {},
          "execution_count": 23
        }
      ]
    },
    {
      "cell_type": "code",
      "source": [
        "a"
      ],
      "metadata": {
        "id": "o0r5iLsQGOpy",
        "colab": {
          "base_uri": "https://localhost:8080/"
        },
        "outputId": "252ae687-f2f9-4626-fdc7-2e32cd5dc504"
      },
      "execution_count": null,
      "outputs": [
        {
          "output_type": "execute_result",
          "data": {
            "text/plain": [
              "tensor([[  0,   1,   2],\n",
              "        [777,   4,   5],\n",
              "        [  6,   7,   8]])"
            ]
          },
          "metadata": {},
          "execution_count": 24
        }
      ]
    },
    {
      "cell_type": "code",
      "source": [
        "ap"
      ],
      "metadata": {
        "colab": {
          "base_uri": "https://localhost:8080/"
        },
        "id": "8GqlnFYR5bmO",
        "outputId": "2974b6fe-0488-44af-8a2c-9901ae038cd0"
      },
      "execution_count": null,
      "outputs": [
        {
          "output_type": "execute_result",
          "data": {
            "text/plain": [
              "tensor([[  0, 777,   6],\n",
              "        [  1,   4,   7],\n",
              "        [  2,   5,   8]])"
            ]
          },
          "metadata": {},
          "execution_count": 25
        }
      ]
    },
    {
      "cell_type": "code",
      "source": [
        "ap2"
      ],
      "metadata": {
        "colab": {
          "base_uri": "https://localhost:8080/"
        },
        "id": "muaN9n-45ePg",
        "outputId": "93470ca2-8cdb-4888-ab6b-37d0f0fb486e"
      },
      "execution_count": null,
      "outputs": [
        {
          "output_type": "execute_result",
          "data": {
            "text/plain": [
              "tensor([[  0, 777,   6],\n",
              "        [  1,   4,   7],\n",
              "        [  2,   5,   8]])"
            ]
          },
          "metadata": {},
          "execution_count": 26
        }
      ]
    },
    {
      "cell_type": "code",
      "source": [],
      "metadata": {
        "id": "Cd36JJGzGlh3"
      },
      "execution_count": null,
      "outputs": []
    }
  ]
}