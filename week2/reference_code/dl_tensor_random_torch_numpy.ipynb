{
  "nbformat": 4,
  "nbformat_minor": 0,
  "metadata": {
    "colab": {
      "provenance": []
    },
    "kernelspec": {
      "name": "python3",
      "display_name": "Python 3"
    },
    "language_info": {
      "name": "python"
    }
  },
  "cells": [
    {
      "cell_type": "code",
      "execution_count": 2,
      "metadata": {
        "id": "XQ3EOU4RYq17"
      },
      "outputs": [],
      "source": [
        "import numpy as np\n",
        "import torch"
      ]
    },
    {
      "cell_type": "code",
      "source": [
        "np.__version__"
      ],
      "metadata": {
        "colab": {
          "base_uri": "https://localhost:8080/",
          "height": 35
        },
        "id": "woHAB5QqYsyp",
        "outputId": "fb381615-4e1c-4f71-933d-15505e649389"
      },
      "execution_count": 3,
      "outputs": [
        {
          "output_type": "execute_result",
          "data": {
            "text/plain": [
              "'1.26.4'"
            ],
            "application/vnd.google.colaboratory.intrinsic+json": {
              "type": "string"
            }
          },
          "metadata": {},
          "execution_count": 3
        }
      ]
    },
    {
      "cell_type": "code",
      "source": [
        "torch.__version__"
      ],
      "metadata": {
        "colab": {
          "base_uri": "https://localhost:8080/",
          "height": 35
        },
        "id": "dPHobY_qGvk-",
        "outputId": "376a0ef7-cb2a-4128-bc03-862363d0d26b"
      },
      "execution_count": 4,
      "outputs": [
        {
          "output_type": "execute_result",
          "data": {
            "text/plain": [
              "'2.5.1+cu124'"
            ],
            "application/vnd.google.colaboratory.intrinsic+json": {
              "type": "string"
            }
          },
          "metadata": {},
          "execution_count": 4
        }
      ]
    },
    {
      "cell_type": "markdown",
      "source": [
        "# Randomness 고정하기."
      ],
      "metadata": {
        "id": "NQ5xCSU-H0Pg"
      }
    },
    {
      "cell_type": "code",
      "source": [
        "np.random.seed(23) #seed가 시작점이고, 이 seed 뒤부턴 거의 동일함. s여기선 edd는 23으로 고정됨"
      ],
      "metadata": {
        "id": "Wmm3IbAKYvGu"
      },
      "execution_count": 5,
      "outputs": []
    },
    {
      "cell_type": "code",
      "source": [
        "torch.manual_seed(23)\n",
        "torch.backends.cudnn.deterministic = True # 연산속도가 느려짐. 학습단계에선 권하지 않음. 여기서 고정된 것\n",
        "torch.backends.cudnn.benchmark = False #하지만 이 줄 처럼 끄면 엄청 느려짐"
      ],
      "metadata": {
        "id": "llDST0ZoG0E0"
      },
      "execution_count": 6,
      "outputs": []
    },
    {
      "cell_type": "code",
      "source": [
        "# python randomness 제어.\n",
        "import random\n",
        "\n",
        "random.seed(23)"
      ],
      "metadata": {
        "id": "XsKAqD_iHnN_"
      },
      "execution_count": 10,
      "outputs": []
    },
    {
      "cell_type": "markdown",
      "source": [
        "---\n",
        "\n",
        "---\n",
        "\n",
        "# Uniform Distribution"
      ],
      "metadata": {
        "id": "yUmEu4edORp6"
      }
    },
    {
      "cell_type": "markdown",
      "source": [
        "## np.random.randint, torch.randint\n",
        "\n",
        "주어진 범위 내에서 정수의 난수 생성 (uniform distribution)하는데 이용됨.\n",
        "\n",
        "* `np.random.choice` 와 매우 유사하지만,  \n",
        "* 뽑히는 값을 가지고 있는 array를 첫번째 argument로 받는 `np.random.choice` 와 달리,  \n",
        "* positional argument로 `min`, `max+1` 의 형태로 분리하여 값의 범위를 지정함.  \n",
        "* 하나의 int로 값의 범위를 지정할 경우, `max+1` 로 처리됨.\n",
        "\n",
        "> `torch.randint` 에서 제공.\n",
        "\n",
        "다음 예를 확인할 것."
      ],
      "metadata": {
        "id": "G1Wzl5x1aWzo"
      }
    },
    {
      "cell_type": "code",
      "source": [
        "np.random.randint(3, size=(3,2)) # 3은 0부터 3까지, 3,2는 세로3, 가로2"
      ],
      "metadata": {
        "colab": {
          "base_uri": "https://localhost:8080/"
        },
        "id": "ZSCug-YMaJxh",
        "outputId": "8cd6fd09-3eda-4939-90bf-7e7567a4cd49"
      },
      "execution_count": 12,
      "outputs": [
        {
          "output_type": "execute_result",
          "data": {
            "text/plain": [
              "array([[1, 0],\n",
              "       [0, 1],\n",
              "       [0, 1]])"
            ]
          },
          "metadata": {},
          "execution_count": 12
        }
      ]
    },
    {
      "cell_type": "code",
      "source": [
        "# min, max+1, size\n",
        "np.random.randint(3,5, size=5)"
      ],
      "metadata": {
        "colab": {
          "base_uri": "https://localhost:8080/"
        },
        "id": "7A5nT8aCZuVL",
        "outputId": "388ab12c-6117-4a16-b061-6588e6ad2b6c"
      },
      "execution_count": 20,
      "outputs": [
        {
          "output_type": "execute_result",
          "data": {
            "text/plain": [
              "array([3, 3, 4, 3, 3])"
            ]
          },
          "metadata": {},
          "execution_count": 20
        }
      ]
    },
    {
      "cell_type": "code",
      "source": [
        "# min, max+1, size\n",
        "torch.randint(3,5, size=(5,)) # size에 tuple로 입력받아야 함. scalar로 입력시 error.\n",
        "# but. rand는 위에처럼 size를 tuple로 감싸주는게 좀 까다로움"
      ],
      "metadata": {
        "colab": {
          "base_uri": "https://localhost:8080/"
        },
        "id": "CjW42kcMKHMv",
        "outputId": "b3a4800c-33b7-43e2-da8a-c5236987ef1d"
      },
      "execution_count": 24,
      "outputs": [
        {
          "output_type": "execute_result",
          "data": {
            "text/plain": [
              "tensor([4, 3, 4, 4, 3])"
            ]
          },
          "metadata": {},
          "execution_count": 24
        }
      ]
    },
    {
      "cell_type": "code",
      "source": [
        " torch.randint(5, size=(5,))"
      ],
      "metadata": {
        "colab": {
          "base_uri": "https://localhost:8080/"
        },
        "id": "03sgdQz3Kim9",
        "outputId": "c2a5bbf8-a2b1-42e1-9700-197cfd19be38"
      },
      "execution_count": 25,
      "outputs": [
        {
          "output_type": "execute_result",
          "data": {
            "text/plain": [
              "tensor([2, 0, 2, 4, 3])"
            ]
          },
          "metadata": {},
          "execution_count": 25
        }
      ]
    },
    {
      "cell_type": "markdown",
      "source": [
        "## np.random.choice\n",
        "\n",
        "uniform distribution으로 array로 주어진 값들로 이루어진 array를 반환.\n",
        "\n",
        "* 첫번째 argument로 1d ndarray 객체의 요소들을 입력받아, 해당 array의 item들을 같은 확률로 뽑하내어   \n",
        "* 두번째 argument로 주어진 `size`에 해당하는 shape의\n",
        "* array 인스턴스를 반환.\n",
        "\n",
        "> `torch`에서 그대로 지원하지는 않으나,  \n",
        "> 가장 유사한 기능을 `torch.randperm(max+1)` 가 지원됨."
      ],
      "metadata": {
        "id": "bLpSY9-rZ34Q"
      }
    },
    {
      "cell_type": "markdown",
      "source": [
        "다음의 예제는\n",
        "\n",
        "3,4,5 의 값들을 각각 1/3 의 확률로 선택하여,\n",
        "$2 \\times 3$ array 인스턴스를 반환함."
      ],
      "metadata": {
        "id": "qPiZkfnnAADR"
      }
    },
    {
      "cell_type": "code",
      "source": [
        "vals = np.array([3,4,5])\n",
        "\n",
        "np.random.choice(vals, size=(2,3))"
      ],
      "metadata": {
        "id": "VTFygaKqY2HV",
        "colab": {
          "base_uri": "https://localhost:8080/"
        },
        "outputId": "406f2697-bade-4056-b6bc-01ac58929732"
      },
      "execution_count": 26,
      "outputs": [
        {
          "output_type": "execute_result",
          "data": {
            "text/plain": [
              "array([[5, 5, 5],\n",
              "       [4, 5, 4]])"
            ]
          },
          "metadata": {},
          "execution_count": 26
        }
      ]
    },
    {
      "cell_type": "markdown",
      "source": [
        "다음은 3 이라는 scalar 값을 argument로 줄 경우,\n",
        "\n",
        "0부터 3-1=2의 값을 동일확률로 선택하여  \n",
        "`size=(2,3)`에 걸맞는 $2\\times 3$ array 인스턴스를 반환함."
      ],
      "metadata": {
        "id": "mSJ2uLiH_Bzy"
      }
    },
    {
      "cell_type": "code",
      "source": [
        "np.random.choice(3, size=(2,3)) #"
      ],
      "metadata": {
        "colab": {
          "base_uri": "https://localhost:8080/"
        },
        "id": "yYDrF0GBZUDn",
        "outputId": "7ba00d25-f1e3-4c83-e756-3e71c6c04173"
      },
      "execution_count": 30,
      "outputs": [
        {
          "output_type": "execute_result",
          "data": {
            "text/plain": [
              "array([[0, 2, 1],\n",
              "       [1, 1, 0]])"
            ]
          },
          "metadata": {},
          "execution_count": 30
        }
      ]
    },
    {
      "cell_type": "code",
      "source": [
        "vals = np.array([0., 0.5, 1.]) # int만 사용하지는건 아님\n",
        "np.random.choice(vals, size=(2,2))"
      ],
      "metadata": {
        "colab": {
          "base_uri": "https://localhost:8080/"
        },
        "id": "bsMmgNZaCEhP",
        "outputId": "a36b47ab-fb2d-464a-c25e-c93d0c8dcce1"
      },
      "execution_count": 31,
      "outputs": [
        {
          "output_type": "execute_result",
          "data": {
            "text/plain": [
              "array([[0.5, 1. ],\n",
              "       [0. , 0.5]])"
            ]
          },
          "metadata": {},
          "execution_count": 31
        }
      ]
    },
    {
      "cell_type": "markdown",
      "source": [
        "`torch.randperm` 은 하나의 argument로 `int` 형의 숫자를 입력받아 0부터 해당 숫자-1까지의 `int`를 무작위로 섞어서 만든 tensor 객체를 반환함."
      ],
      "metadata": {
        "id": "mXUW-1lNPwTU"
      }
    },
    {
      "cell_type": "code",
      "source": [
        "torch.randperm(3)"
      ],
      "metadata": {
        "colab": {
          "base_uri": "https://localhost:8080/"
        },
        "id": "a6gHO1e1PLAT",
        "outputId": "f8fd06e0-6ba2-4bd8-ae4b-a52e92e5ca54"
      },
      "execution_count": 32,
      "outputs": [
        {
          "output_type": "execute_result",
          "data": {
            "text/plain": [
              "tensor([0, 2, 1])"
            ]
          },
          "metadata": {},
          "execution_count": 32
        }
      ]
    },
    {
      "cell_type": "markdown",
      "source": [
        "## np.random.rand and torch.rand\n",
        "\n",
        "uniform distribution에 기반.\n",
        "\n",
        "[0,1) 의 범위 내의 값들로 구성된 array를 만들지만, 각 차원의 크기를 분리된 argument로 받는다는 특징을 가짐.\n",
        "\n",
        "* `np.random.random_sample`과 `np.random.random` 과 비슷.\n",
        "* 단, 각 차원의 크기를 각각 argument 로 받음.\n",
        "* (`random_sample` 은 tuple 등으로 하나의 argument로 받음)\n",
        "\n",
        "> `torch.rand` 로 지원됨."
      ],
      "metadata": {
        "id": "IX10CcvlboVQ"
      }
    },
    {
      "cell_type": "code",
      "source": [
        "np.random.rand(2,3)"
      ],
      "metadata": {
        "colab": {
          "base_uri": "https://localhost:8080/"
        },
        "id": "tQDW7nYZbExx",
        "outputId": "bbe7ab8e-5c54-45fe-916f-aa236724d6de"
      },
      "execution_count": 36,
      "outputs": [
        {
          "output_type": "execute_result",
          "data": {
            "text/plain": [
              "array([[0.04375338, 0.69617197, 0.24759255],\n",
              "       [0.98908649, 0.78330846, 0.49698947]])"
            ]
          },
          "metadata": {},
          "execution_count": 36
        }
      ]
    },
    {
      "cell_type": "code",
      "source": [
        "# Error\n",
        "# np.random.random_sample 또는 np.random.random 과 달리\n",
        "# shape를 하나의 collection type로 입력받을 경우\n",
        "# 동작하지 않음.\n",
        "np.random.rand((2,3))"
      ],
      "metadata": {
        "colab": {
          "base_uri": "https://localhost:8080/",
          "height": 294
        },
        "id": "ml0tk_GLbd1F",
        "outputId": "6f962c84-1a1d-4fe0-9113-4c576f370783"
      },
      "execution_count": 37,
      "outputs": [
        {
          "output_type": "error",
          "ename": "TypeError",
          "evalue": "'tuple' object cannot be interpreted as an integer",
          "traceback": [
            "\u001b[0;31m---------------------------------------------------------------------------\u001b[0m",
            "\u001b[0;31mTypeError\u001b[0m                                 Traceback (most recent call last)",
            "\u001b[0;32m<ipython-input-37-40d1383c5db1>\u001b[0m in \u001b[0;36m<cell line: 0>\u001b[0;34m()\u001b[0m\n\u001b[1;32m      3\u001b[0m \u001b[0;31m# shape를 하나의 collection type로 입력받을 경우\u001b[0m\u001b[0;34m\u001b[0m\u001b[0;34m\u001b[0m\u001b[0m\n\u001b[1;32m      4\u001b[0m \u001b[0;31m# 동작하지 않음.\u001b[0m\u001b[0;34m\u001b[0m\u001b[0;34m\u001b[0m\u001b[0m\n\u001b[0;32m----> 5\u001b[0;31m \u001b[0mnp\u001b[0m\u001b[0;34m.\u001b[0m\u001b[0mrandom\u001b[0m\u001b[0;34m.\u001b[0m\u001b[0mrand\u001b[0m\u001b[0;34m(\u001b[0m\u001b[0;34m(\u001b[0m\u001b[0;36m2\u001b[0m\u001b[0;34m,\u001b[0m\u001b[0;36m3\u001b[0m\u001b[0;34m)\u001b[0m\u001b[0;34m)\u001b[0m\u001b[0;34m\u001b[0m\u001b[0;34m\u001b[0m\u001b[0m\n\u001b[0m",
            "\u001b[0;32mnumpy/random/mtrand.pyx\u001b[0m in \u001b[0;36mnumpy.random.mtrand.RandomState.rand\u001b[0;34m()\u001b[0m\n",
            "\u001b[0;32mnumpy/random/mtrand.pyx\u001b[0m in \u001b[0;36mnumpy.random.mtrand.RandomState.random_sample\u001b[0;34m()\u001b[0m\n",
            "\u001b[0;32m_common.pyx\u001b[0m in \u001b[0;36mnumpy.random._common.double_fill\u001b[0;34m()\u001b[0m\n",
            "\u001b[0;31mTypeError\u001b[0m: 'tuple' object cannot be interpreted as an integer"
          ]
        }
      ]
    },
    {
      "cell_type": "code",
      "source": [
        "torch.rand((2,3)) # [0,1) 내에서의 숫자로 tensor 생성."
      ],
      "metadata": {
        "colab": {
          "base_uri": "https://localhost:8080/"
        },
        "id": "o2d3xpSOMQ8H",
        "outputId": "26879881-2de5-45c5-d18c-990f217c45af"
      },
      "execution_count": 38,
      "outputs": [
        {
          "output_type": "execute_result",
          "data": {
            "text/plain": [
              "tensor([[0.3122, 0.1976, 0.5466],\n",
              "        [0.0213, 0.9049, 0.8444]])"
            ]
          },
          "metadata": {},
          "execution_count": 38
        }
      ]
    },
    {
      "cell_type": "code",
      "source": [
        "np.random.random((2,3))\n",
        "\n",
        "torch.rand(2,3)"
      ],
      "metadata": {
        "colab": {
          "base_uri": "https://localhost:8080/"
        },
        "id": "7YEIr37zDBjm",
        "outputId": "329c7902-315f-4057-c953-38f8be287f8d"
      },
      "execution_count": 41,
      "outputs": [
        {
          "output_type": "execute_result",
          "data": {
            "text/plain": [
              "tensor([[0.9330, 0.2950, 0.4773],\n",
              "        [0.4787, 0.3440, 0.6732]])"
            ]
          },
          "metadata": {},
          "execution_count": 41
        }
      ]
    },
    {
      "cell_type": "markdown",
      "source": [
        "## np.random.random_sample\n",
        "\n",
        "uniform distribution 에 기반.\n",
        "\n",
        "* `size`로 주어진 shape로,\n",
        "* 다음의 범위 [0.0, 1.0) 내의 값을 동일한 확률로 뽑아내어\n",
        "* array객체를 반환.\n",
        "\n",
        "size를 나타내는 argument가 1개로 주어져야 하므로 collection type의 객체로 주어짐.\n",
        "\n",
        "> `np.random.random` 과 같은 기능임.\n",
        "\n",
        "`torch`에서는 지원하지 않음."
      ],
      "metadata": {
        "id": "kh6XPupgauyA"
      }
    },
    {
      "cell_type": "code",
      "source": [
        "np.random.random_sample((2,3))"
      ],
      "metadata": {
        "colab": {
          "base_uri": "https://localhost:8080/"
        },
        "id": "hsrrLdm_amfW",
        "outputId": "184219c0-261e-4bbb-9e64-249fc534b9cc"
      },
      "execution_count": 42,
      "outputs": [
        {
          "output_type": "execute_result",
          "data": {
            "text/plain": [
              "array([[0.85117401, 0.75826885, 0.33062283],\n",
              "       [0.54606087, 0.66616536, 0.97966744]])"
            ]
          },
          "metadata": {},
          "execution_count": 42
        }
      ]
    },
    {
      "cell_type": "code",
      "source": [
        "# Error: 분리하여 shape를 지정할 수 없음.\n",
        "np.random.random_sample(2,3)"
      ],
      "metadata": {
        "colab": {
          "base_uri": "https://localhost:8080/",
          "height": 202
        },
        "id": "1LbsUsjdbA7x",
        "outputId": "a7ea8a54-779b-4258-9e54-290813404906"
      },
      "execution_count": 44,
      "outputs": [
        {
          "output_type": "error",
          "ename": "TypeError",
          "evalue": "random_sample() takes at most 1 positional argument (2 given)",
          "traceback": [
            "\u001b[0;31m---------------------------------------------------------------------------\u001b[0m",
            "\u001b[0;31mTypeError\u001b[0m                                 Traceback (most recent call last)",
            "\u001b[0;32m<ipython-input-44-fcf5ffb58111>\u001b[0m in \u001b[0;36m<cell line: 0>\u001b[0;34m()\u001b[0m\n\u001b[1;32m      1\u001b[0m \u001b[0;31m# Error: 분리하여 shape를 지정할 수 없음.\u001b[0m\u001b[0;34m\u001b[0m\u001b[0;34m\u001b[0m\u001b[0m\n\u001b[0;32m----> 2\u001b[0;31m \u001b[0mnp\u001b[0m\u001b[0;34m.\u001b[0m\u001b[0mrandom\u001b[0m\u001b[0;34m.\u001b[0m\u001b[0mrandom_sample\u001b[0m\u001b[0;34m(\u001b[0m\u001b[0;36m2\u001b[0m\u001b[0;34m,\u001b[0m\u001b[0;36m3\u001b[0m\u001b[0;34m)\u001b[0m\u001b[0;34m\u001b[0m\u001b[0;34m\u001b[0m\u001b[0m\n\u001b[0m",
            "\u001b[0;32mnumpy/random/mtrand.pyx\u001b[0m in \u001b[0;36mnumpy.random.mtrand.RandomState.random_sample\u001b[0;34m()\u001b[0m\n",
            "\u001b[0;31mTypeError\u001b[0m: random_sample() takes at most 1 positional argument (2 given)"
          ]
        }
      ]
    },
    {
      "cell_type": "markdown",
      "source": [
        "## np.random.random\n",
        "\n",
        "`np.random.random_sample` 과 같은 기능.\n",
        "\n",
        "> `torch` 에서 지원하지 않음."
      ],
      "metadata": {
        "id": "tMQC5Hu1DOj7"
      }
    },
    {
      "cell_type": "markdown",
      "source": [
        "---\n",
        "\n",
        "---\n",
        "\n",
        "# Normal Distribution"
      ],
      "metadata": {
        "id": "5O2MeWxSRTS1"
      }
    },
    {
      "cell_type": "markdown",
      "source": [
        "## np.random.normal and torch.normal\n",
        "\n",
        "normal distribution 에 기반하기 때문에 다음의 3개의 argument와 같이 호출됨.\n",
        "\n",
        "* `mean`: mean\n",
        "* `std`: standard deviation\n",
        "* `size`: 결과 array의 shape에 해당.\n",
        "\n",
        "`mean`과 `std`가 생략될 경우, 0과 1이 기본값으로 설정됨.  \n",
        "(이 경우는 `np.random.standard_norma` 과 같음)\n",
        "\n",
        "> `torch.normal`로 지원됨."
      ],
      "metadata": {
        "id": "yB5b5aj6dDIL"
      }
    },
    {
      "cell_type": "code",
      "source": [
        "np.random.normal(1,2, size=(2,3))"
      ],
      "metadata": {
        "colab": {
          "base_uri": "https://localhost:8080/"
        },
        "id": "ZRyFsFRTbhbH",
        "outputId": "09d8ccef-c89c-4a9d-ea63-b72bd6cf08f3"
      },
      "execution_count": 45,
      "outputs": [
        {
          "output_type": "execute_result",
          "data": {
            "text/plain": [
              "array([[ 5.93381036, -1.13553168,  0.20318666],\n",
              "       [-0.25757176,  0.07809645,  2.24464844]])"
            ]
          },
          "metadata": {},
          "execution_count": 45
        }
      ]
    },
    {
      "cell_type": "code",
      "source": [
        "np.random.normal(size=(2,3))"
      ],
      "metadata": {
        "colab": {
          "base_uri": "https://localhost:8080/"
        },
        "id": "d7QRjHX9Ehse",
        "outputId": "f2bf5a62-03fc-421b-b01e-73671f9c1a78"
      },
      "execution_count": 46,
      "outputs": [
        {
          "output_type": "execute_result",
          "data": {
            "text/plain": [
              "array([[-1.45536865,  0.00526793,  0.92413789],\n",
              "       [-1.04952012, -1.31319176,  0.43805064]])"
            ]
          },
          "metadata": {},
          "execution_count": 46
        }
      ]
    },
    {
      "cell_type": "code",
      "source": [
        "torch.normal(1,2,size=(2,3))"
      ],
      "metadata": {
        "colab": {
          "base_uri": "https://localhost:8080/"
        },
        "id": "d0u-yn1VMp7g",
        "outputId": "cb687932-67f4-4e45-ee1f-06ddf4b3c373"
      },
      "execution_count": 47,
      "outputs": [
        {
          "output_type": "execute_result",
          "data": {
            "text/plain": [
              "tensor([[ 0.5636,  3.8123,  0.2391],\n",
              "        [-0.9122, -0.3682,  1.7205]])"
            ]
          },
          "metadata": {},
          "execution_count": 47
        }
      ]
    },
    {
      "cell_type": "markdown",
      "source": [
        "## np.random.randn and torch.randn\n",
        "\n",
        "standard normal distribution에 기반.\n",
        "\n",
        "단, shape를 분리된 arguments로 반환되는 array 객체의 shape가 결정됨.\n",
        "\n",
        "> `torch.randn` 으로 지원."
      ],
      "metadata": {
        "id": "dczpx4l5Fch9"
      }
    },
    {
      "cell_type": "code",
      "source": [
        "np.random.randn(2,3)"
      ],
      "metadata": {
        "colab": {
          "base_uri": "https://localhost:8080/"
        },
        "id": "yx4dzzPQcepk",
        "outputId": "e9a920f7-efac-4ca6-c638-ee9a66949863"
      },
      "execution_count": 48,
      "outputs": [
        {
          "output_type": "execute_result",
          "data": {
            "text/plain": [
              "array([[-0.26227358,  0.33485026, -0.00409705],\n",
              "       [-0.48021776, -0.61902472, -0.13071634]])"
            ]
          },
          "metadata": {},
          "execution_count": 48
        }
      ]
    },
    {
      "cell_type": "code",
      "source": [
        "torch.randn(2,3)"
      ],
      "metadata": {
        "colab": {
          "base_uri": "https://localhost:8080/"
        },
        "id": "3r35T89kNZhY",
        "outputId": "eb7164f3-f75b-4e05-d13b-5d745c3db128"
      },
      "execution_count": 49,
      "outputs": [
        {
          "output_type": "execute_result",
          "data": {
            "text/plain": [
              "tensor([[ 1.1056,  0.6353,  0.2864],\n",
              "        [-1.0203, -0.6752, -0.5612]])"
            ]
          },
          "metadata": {},
          "execution_count": 49
        }
      ]
    },
    {
      "cell_type": "code",
      "source": [],
      "metadata": {
        "id": "Gvh3h_15NcvF"
      },
      "execution_count": null,
      "outputs": []
    },
    {
      "cell_type": "markdown",
      "source": [
        "## np.random.standard_normal\n",
        "\n",
        "standard normal distribution에 기반.\n",
        "\n",
        "즉, `mean=0.` 이고 `std=1` 이며,  \n",
        "`size`를 이용하여 반환되는 array 객체의 shape가 결정됨.\n",
        "\n",
        "> `torch` 에서 제공하지 않음."
      ],
      "metadata": {
        "id": "-nei03BoE70o"
      }
    },
    {
      "cell_type": "code",
      "source": [
        "np.random.standard_normal(size=(2,3))"
      ],
      "metadata": {
        "colab": {
          "base_uri": "https://localhost:8080/"
        },
        "id": "LE0HD0EVcbvr",
        "outputId": "e9c61c28-1c52-488f-b39e-bf43df0c8a8d"
      },
      "execution_count": 50,
      "outputs": [
        {
          "output_type": "execute_result",
          "data": {
            "text/plain": [
              "array([[-0.13056894, -0.43515686, -0.25809151],\n",
              "       [-1.07148856, -0.87069574,  0.50169634]])"
            ]
          },
          "metadata": {},
          "execution_count": 50
        }
      ]
    },
    {
      "cell_type": "markdown",
      "source": [
        "---\n",
        "\n",
        "---\n",
        "\n",
        "# PyTorch: Same shape as input tensor\n",
        "\n",
        "PyTorch 의 경우, 특정 tensor 인스턴스와 같은 shape로 random tensor를 생성하는 다음의 함수를 지원함.\n",
        "\n",
        "* `torch.randint_like(ori, min, max+1)`\n",
        "* `torch.rand_like(ori)`\n",
        "* `torch.randn_like(ori)`"
      ],
      "metadata": {
        "id": "kAjXx-a2SZLs"
      }
    },
    {
      "cell_type": "code",
      "source": [
        "ori = torch.tensor([[1.,2.,3.],[4.,5.,6.]])"
      ],
      "metadata": {
        "id": "tdMCJUfETDC3"
      },
      "execution_count": 51,
      "outputs": []
    },
    {
      "cell_type": "code",
      "source": [
        "torch.randint_like(ori,2,6)"
      ],
      "metadata": {
        "colab": {
          "base_uri": "https://localhost:8080/"
        },
        "id": "nxi6j1bZUkCQ",
        "outputId": "0f44c7a3-2d85-43c8-e389-ab9ae7e72bc3"
      },
      "execution_count": null,
      "outputs": [
        {
          "output_type": "execute_result",
          "data": {
            "text/plain": [
              "tensor([[3., 4., 3.],\n",
              "        [3., 4., 3.]])"
            ]
          },
          "metadata": {},
          "execution_count": 86
        }
      ]
    },
    {
      "cell_type": "code",
      "source": [
        "torch.rand_like(ori)"
      ],
      "metadata": {
        "colab": {
          "base_uri": "https://localhost:8080/"
        },
        "id": "ZWQSPjCzTaA6",
        "outputId": "f1722f26-165d-4988-e2a4-fe02de830f73"
      },
      "execution_count": null,
      "outputs": [
        {
          "output_type": "execute_result",
          "data": {
            "text/plain": [
              "tensor([[0.5259, 0.6364, 0.7610],\n",
              "        [0.4425, 0.1400, 0.8017]])"
            ]
          },
          "metadata": {},
          "execution_count": 87
        }
      ]
    },
    {
      "cell_type": "code",
      "source": [
        "torch.randn_like(ori)"
      ],
      "metadata": {
        "colab": {
          "base_uri": "https://localhost:8080/"
        },
        "id": "0t2mU3hKTSUL",
        "outputId": "85c9adf1-22e3-411b-af07-ebee56429181"
      },
      "execution_count": null,
      "outputs": [
        {
          "output_type": "execute_result",
          "data": {
            "text/plain": [
              "tensor([[-1.3659e+00, -1.0878e-03,  1.2655e-01],\n",
              "        [ 2.7223e-01,  1.5985e-01, -8.8835e-01]])"
            ]
          },
          "metadata": {},
          "execution_count": 88
        }
      ]
    }
  ]
}