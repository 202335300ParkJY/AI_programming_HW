{
  "nbformat": 4,
  "nbformat_minor": 0,
  "metadata": {
    "colab": {
      "provenance": []
    },
    "kernelspec": {
      "name": "python3",
      "display_name": "Python 3"
    },
    "language_info": {
      "name": "python"
    }
  },
  "cells": [
    {
      "cell_type": "code",
      "execution_count": null,
      "metadata": {
        "colab": {
          "base_uri": "https://localhost:8080/"
        },
        "id": "uxiWmyJrijba",
        "outputId": "a5ed6ddf-bc5e-43aa-f33b-0ac1f38d1f27"
      },
      "outputs": [
        {
          "output_type": "stream",
          "name": "stdout",
          "text": [
            "1.25.2\n",
            "2.15.0\n",
            "2.2.1+cu121\n"
          ]
        }
      ],
      "source": [
        "import numpy as np\n",
        "import tensorflow as tf\n",
        "import torch\n",
        "\n",
        "print(np.__version__)\n",
        "print(tf.__version__)\n",
        "print(torch.__version__)"
      ]
    },
    {
      "cell_type": "code",
      "source": [
        "a = np.random.rand(2, 3)\n",
        "t1 = np.transpose(a)\n",
        "# t1 = np.transpose(a, (1, 0))\n",
        "t2 = a.T\n",
        "print(a.shape)\n",
        "print(t1.shape)\n",
        "print(t2.shape)\n",
        "\n",
        "t2[0,1] = 77\n",
        "print(a[1,0])\n",
        "print(t1[0,1])\n",
        "print(t2[0,1])\n"
      ],
      "metadata": {
        "colab": {
          "base_uri": "https://localhost:8080/"
        },
        "id": "dS-6TndoiuBB",
        "outputId": "ba0ca935-1933-4645-b8e9-eb32ac32a951"
      },
      "execution_count": null,
      "outputs": [
        {
          "output_type": "stream",
          "name": "stdout",
          "text": [
            "(2, 3)\n",
            "(3, 2)\n",
            "(3, 2)\n",
            "77.0\n",
            "77.0\n",
            "77.0\n"
          ]
        }
      ]
    },
    {
      "cell_type": "code",
      "source": [
        "a_torch = torch.rand(2, 3)\n",
        "t1_torch = torch.transpose(a_torch, 0, 1)\n",
        "t2_torch = a_torch.T\n",
        "print(a_torch.shape)\n",
        "print(t1_torch.shape)\n",
        "print(t2_torch.shape)\n",
        "\n",
        "t2_torch[0,1] = 77\n",
        "print(a_torch[1,0])\n",
        "print(t1_torch[0,1])\n",
        "print(t2_torch[0,1])"
      ],
      "metadata": {
        "colab": {
          "base_uri": "https://localhost:8080/"
        },
        "id": "aOIJ1ONujCn_",
        "outputId": "0d250f7e-d34f-447e-fcbd-d3895f441819"
      },
      "execution_count": null,
      "outputs": [
        {
          "output_type": "stream",
          "name": "stdout",
          "text": [
            "torch.Size([2, 3])\n",
            "torch.Size([3, 2])\n",
            "torch.Size([3, 2])\n",
            "tensor(77.)\n",
            "tensor(77.)\n",
            "tensor(77.)\n"
          ]
        }
      ]
    },
    {
      "cell_type": "code",
      "source": [
        "a_tf = tf.random.normal([2, 3])\n",
        "t1_tf = tf.transpose(a_tf)\n",
        "t2_tf = tf.transpose(a_tf, perm=[1, 0])\n",
        "print(a_tf.shape, a_tf.dtype)\n",
        "print(t1_tf.shape, t1_tf.dtype)\n",
        "print(t2_tf.shape, t2_tf.dtype)\n",
        "\n",
        "indices = tf.constant([[0, 1]]) # (2, 2) 위치를 변경하고자 함\n",
        "updates = tf.constant([77], dtype=tf.float32) # 해당 위치에 넣고 싶은 값\n",
        "t2_tf = tf.tensor_scatter_nd_update(t2_tf, indices, updates)\n",
        "print(a_tf[1,0])\n",
        "print(t1_tf[0,1])\n",
        "print(t2_tf[0,1])"
      ],
      "metadata": {
        "colab": {
          "base_uri": "https://localhost:8080/"
        },
        "id": "8IGwH_Q5j84w",
        "outputId": "5cfb12d7-da1b-49a4-c84a-3cbbaecbe212"
      },
      "execution_count": null,
      "outputs": [
        {
          "output_type": "stream",
          "name": "stdout",
          "text": [
            "(2, 3) <dtype: 'float32'>\n",
            "(3, 2) <dtype: 'float32'>\n",
            "(3, 2) <dtype: 'float32'>\n",
            "tf.Tensor(-0.7926074, shape=(), dtype=float32)\n",
            "tf.Tensor(-0.7926074, shape=(), dtype=float32)\n",
            "tf.Tensor(77.0, shape=(), dtype=float32)\n"
          ]
        }
      ]
    },
    {
      "cell_type": "code",
      "source": [
        "a = np.random.rand(2, 3, 4)\n",
        "t1 = np.transpose(a, (0, 2, 1))\n",
        "print(a.shape)\n",
        "print(t1.shape)\n",
        "t1[0,1,2] = 77\n",
        "print(a[0,2,1])\n",
        "print(t1[0,1,2])"
      ],
      "metadata": {
        "colab": {
          "base_uri": "https://localhost:8080/"
        },
        "id": "flRhUWiXknjf",
        "outputId": "6fa8b21e-4563-4665-87b4-01d9da4abf4e"
      },
      "execution_count": null,
      "outputs": [
        {
          "output_type": "stream",
          "name": "stdout",
          "text": [
            "(2, 3, 4)\n",
            "(2, 4, 3)\n",
            "77.0\n",
            "77.0\n"
          ]
        }
      ]
    },
    {
      "cell_type": "code",
      "source": [
        "a_torch = torch.rand(2, 3, 4)\n",
        "t1_torch = torch.permute(a_torch, (0, 2, 1))\n",
        "print(a_torch.shape)\n",
        "print(t1_torch.shape)\n",
        "t1_torch[0,1,2] = 77\n",
        "print(a_torch[0,2,1])\n",
        "print(t1_torch[0,1,2])"
      ],
      "metadata": {
        "colab": {
          "base_uri": "https://localhost:8080/"
        },
        "id": "Ld4rGo4Om2SU",
        "outputId": "60b182cb-2561-4df2-ebc2-0e164af2c647"
      },
      "execution_count": null,
      "outputs": [
        {
          "output_type": "stream",
          "name": "stdout",
          "text": [
            "torch.Size([2, 3, 4])\n",
            "torch.Size([2, 4, 3])\n",
            "tensor(77.)\n",
            "tensor(77.)\n"
          ]
        }
      ]
    },
    {
      "cell_type": "code",
      "source": [
        "a_tf = tf.random.normal([2, 3, 4])\n",
        "t1_tf = tf.transpose(a_tf, perm=[0, 2, 1])\n",
        "print(a_tf.shape, a_tf.dtype)\n",
        "print(t1_tf.shape, t1_tf.dtype)"
      ],
      "metadata": {
        "colab": {
          "base_uri": "https://localhost:8080/"
        },
        "id": "pB9pLUXRnmNR",
        "outputId": "b0e36f92-54cf-4088-a751-975e79c2ae77"
      },
      "execution_count": null,
      "outputs": [
        {
          "output_type": "stream",
          "name": "stdout",
          "text": [
            "(2, 3, 4) <dtype: 'float32'>\n",
            "(2, 4, 3) <dtype: 'float32'>\n"
          ]
        }
      ]
    },
    {
      "cell_type": "code",
      "source": [],
      "metadata": {
        "id": "BiAxotgcn_vI"
      },
      "execution_count": null,
      "outputs": []
    }
  ]
}