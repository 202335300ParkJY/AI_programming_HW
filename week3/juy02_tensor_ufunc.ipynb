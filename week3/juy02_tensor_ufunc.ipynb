{
  "nbformat": 4,
  "nbformat_minor": 0,
  "metadata": {
    "colab": {
      "provenance": []
    },
    "kernelspec": {
      "name": "python3",
      "display_name": "Python 3"
    },
    "language_info": {
      "name": "python"
    }
  },
  "cells": [
    {
      "cell_type": "code",
      "execution_count": 1,
      "metadata": {
        "id": "GlT-nFmpP0-f"
      },
      "outputs": [],
      "source": [
        "import numpy as np\n",
        "import torch\n",
        "import tensorflow as tf"
      ]
    },
    {
      "cell_type": "code",
      "source": [
        "for i in [np,torch,tf]:\n",
        "  print(f\"{i.__name__}:{i.__version__}\")"
      ],
      "metadata": {
        "colab": {
          "base_uri": "https://localhost:8080/"
        },
        "id": "iTTAEpTbP7Ip",
        "outputId": "a1766ee1-5589-4e45-f0ce-7556e23cafbe"
      },
      "execution_count": 2,
      "outputs": [
        {
          "output_type": "stream",
          "name": "stdout",
          "text": [
            "numpy:2.0.2\n",
            "torch:2.6.0+cu124\n",
            "tensorflow:2.18.0\n"
          ]
        }
      ]
    },
    {
      "cell_type": "code",
      "source": [
        "import timeit\n",
        "\n",
        "N = 10**6\n",
        "\n",
        "a = torch.rand(N)\n",
        "b = torch.rand(N)\n",
        "\n",
        "dev = torch.device(\"cuda\") if torch.cuda.is_available() else torch.device(\"cpu\")\n",
        "a = a.to(device=dev) # a,b 둘다 기본 형태는 float 32로 나올거\n",
        "b = b.to(device=dev)\n",
        "\n",
        "def vectorized_add(a,b):\n",
        "  return a+b\n",
        "\n",
        "def loop_add(a,b):\n",
        "  result = np.empty(N)\n",
        "  for i in range(N):\n",
        "    result[i] = a[i]+b[1]\n",
        "\n",
        "  return result\n",
        "\n",
        "torch.cuda.synchronize()\n",
        "v_p = timeit.timeit(\"vectorized_add(a,b)\",\n",
        "                    number = 10,\n",
        "                    globals=globals(),\n",
        ")\n",
        "torch.cuda.synchronize()\n",
        "\n",
        "torch.cuda.synchronize()\n",
        "l_p = timeit.timeit(\"loop_add(a,b)\",\n",
        "                    number = 10,\n",
        "                    globals=globals(),\n",
        ")\n",
        "torch.cuda.synchronize()\n",
        "\n",
        "print(f\"{torch.allclose(a,b) = }\")\n",
        "\n",
        "print(f\"vectorized add : {v_p:4.6f} sec\") # f는 float, 6은 여섯자리까지\n",
        "print(f\"loop add: {l_p:4.6f} sec\")"
      ],
      "metadata": {
        "colab": {
          "base_uri": "https://localhost:8080/"
        },
        "id": "2BdXUjkUQYRE",
        "outputId": "c1174b03-6926-4a5a-c53b-4683852d2fd9"
      },
      "execution_count": 9,
      "outputs": [
        {
          "output_type": "stream",
          "name": "stdout",
          "text": [
            "torch.allclose(a,b) = False\n",
            "vectorized add : 0.000154 sec\n",
            "loop add: 289.199925 sec\n"
          ]
        }
      ]
    },
    {
      "cell_type": "code",
      "source": [
        "import timeit\n",
        "\n",
        "N = 10**6\n",
        "\n"
      ],
      "metadata": {
        "id": "iXbV7Ha9S9iW"
      },
      "execution_count": null,
      "outputs": []
    },
    {
      "cell_type": "code",
      "source": [
        "a = np.arange(6).reshape((3,2)).astype(np.float32)\n",
        "b = np.ones((3,2),dtype=np.float32)\n",
        "print(f\"{a.dtype=}, {b.dtype=}\")\n",
        "\n",
        "a_t = torch.tensor(a).float() # half는 float16, float은 32,double은 64임\n",
        "b_t = torch.tensor(b).float()\n",
        "print(f\"{a_t.dtype=}, {b_t.dtype=}\")\n",
        "\n",
        "a_tf = tf.convert_to_tensor(a,dtype=tf.float32)\n",
        "b_tf = tf.convert_to_tensor(b,dtype=tf.float32)\n",
        "print(f\"{a_tf.dtype=}, {b_tf.dtype=}\")"
      ],
      "metadata": {
        "colab": {
          "base_uri": "https://localhost:8080/"
        },
        "id": "xxIQw_1TVAqp",
        "outputId": "7e88769c-7949-469b-83f8-69f74b7c10ba"
      },
      "execution_count": 6,
      "outputs": [
        {
          "output_type": "stream",
          "name": "stdout",
          "text": [
            "a.dtype=dtype('float32'), b.dtype=dtype('float32')\n",
            "a_t.dtype=torch.float32, b_t.dtype=torch.float32\n",
            "a_tf.dtype=tf.float32, b_tf.dtype=tf.float32\n"
          ]
        }
      ]
    },
    {
      "cell_type": "markdown",
      "source": [
        "# addition"
      ],
      "metadata": {
        "id": "rv-Km9gPXNiY"
      }
    },
    {
      "cell_type": "code",
      "source": [
        "c = a + b\n",
        "print(f\"{c=}\")\n",
        "c_t = a_t + b_t\n",
        "print(f\"{c_t=}\")\n",
        "c_tf = a_tf + b_tf\n",
        "print(f\"{c_tf=}\")"
      ],
      "metadata": {
        "colab": {
          "base_uri": "https://localhost:8080/"
        },
        "id": "u15gsaY2XKxR",
        "outputId": "c49a9fc7-05ec-47e4-c0c0-831da6ee2431"
      },
      "execution_count": 7,
      "outputs": [
        {
          "output_type": "stream",
          "name": "stdout",
          "text": [
            "c=array([[1., 2.],\n",
            "       [3., 4.],\n",
            "       [5., 6.]], dtype=float32)\n",
            "c_t=tensor([[1., 2.],\n",
            "        [3., 4.],\n",
            "        [5., 6.]])\n",
            "c_tf=<tf.Tensor: shape=(3, 2), dtype=float32, numpy=\n",
            "array([[1., 2.],\n",
            "       [3., 4.],\n",
            "       [5., 6.]], dtype=float32)>\n"
          ]
        }
      ]
    },
    {
      "cell_type": "markdown",
      "source": [
        "# multiplication"
      ],
      "metadata": {
        "id": "YsbOP0alXU6I"
      }
    },
    {
      "cell_type": "code",
      "source": [
        "c = a * b\n",
        "print(c)\n",
        "c_t = a_t * b_t\n",
        "print(c_t)\n",
        "c_tf = a_tf * b_tf\n",
        "print(c_tf)"
      ],
      "metadata": {
        "colab": {
          "base_uri": "https://localhost:8080/"
        },
        "id": "Cda985qdXSD6",
        "outputId": "85a2c695-bf83-462a-8d80-573ef42eb222"
      },
      "execution_count": 10,
      "outputs": [
        {
          "output_type": "stream",
          "name": "stdout",
          "text": [
            "[[0. 1.]\n",
            " [2. 3.]\n",
            " [4. 5.]]\n",
            "tensor([[0., 1.],\n",
            "        [2., 3.],\n",
            "        [4., 5.]])\n",
            "tf.Tensor(\n",
            "[[0. 1.]\n",
            " [2. 3.]\n",
            " [4. 5.]], shape=(3, 2), dtype=float32)\n"
          ]
        }
      ]
    },
    {
      "cell_type": "markdown",
      "source": [
        "# subtraction"
      ],
      "metadata": {
        "id": "sIwRuxDWXx_F"
      }
    },
    {
      "cell_type": "code",
      "source": [
        "c = a - b\n",
        "print(c)\n",
        "c_t = a_t - b_t\n",
        "print(c_t)\n",
        "c_tf = a_tf - b_tf\n",
        "print(c_tf)"
      ],
      "metadata": {
        "colab": {
          "base_uri": "https://localhost:8080/"
        },
        "id": "ht6LETt7XjBN",
        "outputId": "4a3ea0f8-00b9-421e-c90a-8266f5696ba2"
      },
      "execution_count": 11,
      "outputs": [
        {
          "output_type": "stream",
          "name": "stdout",
          "text": [
            "[[-1.  0.]\n",
            " [ 1.  2.]\n",
            " [ 3.  4.]]\n",
            "tensor([[-1.,  0.],\n",
            "        [ 1.,  2.],\n",
            "        [ 3.,  4.]])\n",
            "tf.Tensor(\n",
            "[[-1.  0.]\n",
            " [ 1.  2.]\n",
            " [ 3.  4.]], shape=(3, 2), dtype=float32)\n"
          ]
        }
      ]
    },
    {
      "cell_type": "markdown",
      "source": [
        "# division\n"
      ],
      "metadata": {
        "id": "tBVk2YgKYHTA"
      }
    },
    {
      "cell_type": "code",
      "source": [
        "c = a / b\n",
        "print(c)\n",
        "c_t = a_t / b_t\n",
        "print(c_t)\n",
        "c_tf = a_tf / b_tf\n",
        "print(c_tf)"
      ],
      "metadata": {
        "colab": {
          "base_uri": "https://localhost:8080/"
        },
        "id": "zWMp3JQEYCs1",
        "outputId": "8d96aaf4-5155-40b6-bbac-d55b6ccfff54"
      },
      "execution_count": 12,
      "outputs": [
        {
          "output_type": "stream",
          "name": "stdout",
          "text": [
            "[[0. 1.]\n",
            " [2. 3.]\n",
            " [4. 5.]]\n",
            "tensor([[0., 1.],\n",
            "        [2., 3.],\n",
            "        [4., 5.]])\n",
            "tf.Tensor(\n",
            "[[0. 1.]\n",
            " [2. 3.]\n",
            " [4. 5.]], shape=(3, 2), dtype=float32)\n"
          ]
        }
      ]
    },
    {
      "cell_type": "markdown",
      "source": [
        "# negation"
      ],
      "metadata": {
        "id": "QL0IaeLZYMDw"
      }
    },
    {
      "cell_type": "code",
      "source": [
        "c = -a\n",
        "print(c)\n",
        "c_t = -a_t\n",
        "print(c_t)\n",
        "c_tf = -a_tf\n",
        "print(c_tf)"
      ],
      "metadata": {
        "colab": {
          "base_uri": "https://localhost:8080/"
        },
        "id": "uXcViFk5YLG5",
        "outputId": "c25ec2c8-9049-41d7-8c51-49f8a1b37236"
      },
      "execution_count": 13,
      "outputs": [
        {
          "output_type": "stream",
          "name": "stdout",
          "text": [
            "[[-0. -1.]\n",
            " [-2. -3.]\n",
            " [-4. -5.]]\n",
            "tensor([[-0., -1.],\n",
            "        [-2., -3.],\n",
            "        [-4., -5.]])\n",
            "tf.Tensor(\n",
            "[[-0. -1.]\n",
            " [-2. -3.]\n",
            " [-4. -5.]], shape=(3, 2), dtype=float32)\n"
          ]
        }
      ]
    },
    {
      "cell_type": "markdown",
      "source": [
        "# power & exponentiation"
      ],
      "metadata": {
        "id": "FlyqaNcvYTlA"
      }
    },
    {
      "cell_type": "code",
      "source": [
        "c = a**2\n",
        "c_t = a_t**2\n",
        "c_tf = a_tf**2\n",
        "\n",
        "print(f\"{c  =}\")\n",
        "print(f\"{c_t =}\")\n",
        "print(f\"{c_tf=}\")"
      ],
      "metadata": {
        "colab": {
          "base_uri": "https://localhost:8080/"
        },
        "id": "Glls0p0yYXL7",
        "outputId": "1a5eb996-67e7-49c3-d5c7-c4f7850b1efc"
      },
      "execution_count": 14,
      "outputs": [
        {
          "output_type": "stream",
          "name": "stdout",
          "text": [
            "c  =array([[ 0.,  1.],\n",
            "       [ 4.,  9.],\n",
            "       [16., 25.]], dtype=float32)\n",
            "c_t =tensor([[ 0.,  1.],\n",
            "        [ 4.,  9.],\n",
            "        [16., 25.]])\n",
            "c_tf=<tf.Tensor: shape=(3, 2), dtype=float32, numpy=\n",
            "array([[ 0.,  1.],\n",
            "       [ 4.,  9.],\n",
            "       [16., 25.]], dtype=float32)>\n"
          ]
        }
      ]
    },
    {
      "cell_type": "code",
      "source": [
        "c_t = a_t**(1/3)\n",
        "c_t"
      ],
      "metadata": {
        "colab": {
          "base_uri": "https://localhost:8080/"
        },
        "id": "-V37-dWJYn5L",
        "outputId": "1202e9a0-c459-4366-b054-67335be3cfde"
      },
      "execution_count": 16,
      "outputs": [
        {
          "output_type": "execute_result",
          "data": {
            "text/plain": [
              "tensor([[0.0000, 1.0000],\n",
              "        [1.2599, 1.4422],\n",
              "        [1.5874, 1.7100]])"
            ]
          },
          "metadata": {},
          "execution_count": 16
        }
      ]
    },
    {
      "cell_type": "code",
      "source": [
        "c_t.square()"
      ],
      "metadata": {
        "colab": {
          "base_uri": "https://localhost:8080/"
        },
        "id": "CUV8MWTxb3bB",
        "outputId": "956ce27c-b8e3-4156-eae1-7715f8bfa29f"
      },
      "execution_count": 23,
      "outputs": [
        {
          "output_type": "execute_result",
          "data": {
            "text/plain": [
              "tensor([[  0.,   1.],\n",
              "        [ 16.,  81.],\n",
              "        [256., 625.]])"
            ]
          },
          "metadata": {},
          "execution_count": 23
        }
      ]
    },
    {
      "cell_type": "code",
      "source": [
        "c.square() #not working!!!!!!!"
      ],
      "metadata": {
        "colab": {
          "base_uri": "https://localhost:8080/",
          "height": 147
        },
        "id": "cDp2Xn93cNvL",
        "outputId": "5cf790b6-afc5-46e3-a9ab-3eb9a52e490b"
      },
      "execution_count": 24,
      "outputs": [
        {
          "output_type": "error",
          "ename": "AttributeError",
          "evalue": "'numpy.ndarray' object has no attribute 'square'",
          "traceback": [
            "\u001b[0;31m---------------------------------------------------------------------------\u001b[0m",
            "\u001b[0;31mAttributeError\u001b[0m                            Traceback (most recent call last)",
            "\u001b[0;32m<ipython-input-24-a25764b29cc3>\u001b[0m in \u001b[0;36m<cell line: 0>\u001b[0;34m()\u001b[0m\n\u001b[0;32m----> 1\u001b[0;31m \u001b[0mc\u001b[0m\u001b[0;34m.\u001b[0m\u001b[0msquare\u001b[0m\u001b[0;34m(\u001b[0m\u001b[0;34m)\u001b[0m \u001b[0;31m#not working!!!!!!!\u001b[0m\u001b[0;34m\u001b[0m\u001b[0;34m\u001b[0m\u001b[0m\n\u001b[0m",
            "\u001b[0;31mAttributeError\u001b[0m: 'numpy.ndarray' object has no attribute 'square'"
          ]
        }
      ]
    },
    {
      "cell_type": "code",
      "source": [
        "c_t = a_t**(1/2)\n",
        "c_t"
      ],
      "metadata": {
        "colab": {
          "base_uri": "https://localhost:8080/"
        },
        "id": "IQsZFLTpcZdR",
        "outputId": "4405a98a-2add-46ad-ca3e-0a6816e534b1"
      },
      "execution_count": 25,
      "outputs": [
        {
          "output_type": "execute_result",
          "data": {
            "text/plain": [
              "tensor([[0.0000, 1.0000],\n",
              "        [1.4142, 1.7321],\n",
              "        [2.0000, 2.2361]])"
            ]
          },
          "metadata": {},
          "execution_count": 25
        }
      ]
    },
    {
      "cell_type": "code",
      "source": [
        "d_t = torch.sqrt(a_t)\n",
        "torch.allclose(c_t,d_t)"
      ],
      "metadata": {
        "colab": {
          "base_uri": "https://localhost:8080/"
        },
        "id": "MCW6QU03cerp",
        "outputId": "bfa4b723-6d17-4bee-ba13-7feadc3972fa"
      },
      "execution_count": 26,
      "outputs": [
        {
          "output_type": "execute_result",
          "data": {
            "text/plain": [
              "True"
            ]
          },
          "metadata": {},
          "execution_count": 26
        }
      ]
    },
    {
      "cell_type": "code",
      "source": [
        "# c = np.square(a)\n",
        "c = np.power(a,2)\n",
        "c_t = torch.pow(a_t,2)\n",
        "c_tf = tf.pow(a_tf,2)\n",
        "print(f\"{c   =}\")\n",
        "print(f\"{c_t =}\")\n",
        "print(f\"{c_tf=}\")"
      ],
      "metadata": {
        "colab": {
          "base_uri": "https://localhost:8080/"
        },
        "id": "4r3vBRX7Yu2l",
        "outputId": "7b427b85-5e01-417b-a9be-dce92ada7ca1"
      },
      "execution_count": 17,
      "outputs": [
        {
          "output_type": "stream",
          "name": "stdout",
          "text": [
            "c   =array([[ 0.,  1.],\n",
            "       [ 4.,  9.],\n",
            "       [16., 25.]], dtype=float32)\n",
            "c_t =tensor([[ 0.,  1.],\n",
            "        [ 4.,  9.],\n",
            "        [16., 25.]])\n",
            "c_tf=<tf.Tensor: shape=(3, 2), dtype=float32, numpy=\n",
            "array([[ 0.,  1.],\n",
            "       [ 4.,  9.],\n",
            "       [16., 25.]], dtype=float32)>\n"
          ]
        }
      ]
    },
    {
      "cell_type": "code",
      "source": [
        "c = np.exp(a)\n",
        "c_t = torch.exp(a_t)\n",
        "c_tf = tf.exp(a_tf)\n",
        "print(f\"{c   =}\")\n",
        "print(f\"{c_t =}\")\n",
        "print(f\"{c_tf=}\")"
      ],
      "metadata": {
        "colab": {
          "base_uri": "https://localhost:8080/"
        },
        "id": "WIsYE-JgY3WR",
        "outputId": "75481edf-ef05-4e73-b597-471622454e9d"
      },
      "execution_count": 19,
      "outputs": [
        {
          "output_type": "stream",
          "name": "stdout",
          "text": [
            "c   =array([[  1.       ,   2.718282 ],\n",
            "       [  7.3890557,  20.085537 ],\n",
            "       [ 54.59815  , 148.41316  ]], dtype=float32)\n",
            "c_t =tensor([[  1.0000,   2.7183],\n",
            "        [  7.3891,  20.0855],\n",
            "        [ 54.5981, 148.4132]])\n",
            "c_tf=<tf.Tensor: shape=(3, 2), dtype=float32, numpy=\n",
            "array([[  1.       ,   2.7182817],\n",
            "       [  7.389056 ,  20.085537 ],\n",
            "       [ 54.59815  , 148.41316  ]], dtype=float32)>\n"
          ]
        }
      ]
    },
    {
      "cell_type": "code",
      "source": [
        "c = np.exp(a)\n",
        "print(c)\n",
        "c_t = torch.exp(a_t)\n",
        "print(c_t)\n",
        "#c_t = tf.exp2(a_tf) # not working!!!!!!!!!!\n",
        "#print(c_tf) 얘도!!!!\n",
        "c_tf = tf.exp(a_tf)\n",
        "print(c_tf)"
      ],
      "metadata": {
        "colab": {
          "base_uri": "https://localhost:8080/"
        },
        "id": "HuHctce9Y0gf",
        "outputId": "ae315901-ada9-46f5-aa47-168158eb4d42"
      },
      "execution_count": 20,
      "outputs": [
        {
          "output_type": "stream",
          "name": "stdout",
          "text": [
            "[[  1.          2.718282 ]\n",
            " [  7.3890557  20.085537 ]\n",
            " [ 54.59815   148.41316  ]]\n",
            "tensor([[  1.0000,   2.7183],\n",
            "        [  7.3891,  20.0855],\n",
            "        [ 54.5981, 148.4132]])\n",
            "tf.Tensor(\n",
            "[[  1.          2.7182817]\n",
            " [  7.389056   20.085537 ]\n",
            " [ 54.59815   148.41316  ]], shape=(3, 2), dtype=float32)\n"
          ]
        }
      ]
    },
    {
      "cell_type": "markdown",
      "source": [
        "# log (natural lod)"
      ],
      "metadata": {
        "id": "34wzCWANZWxJ"
      }
    },
    {
      "cell_type": "code",
      "source": [
        "c = np.log(a)\n",
        "c_t = torch.log(a_t)\n",
        "c_tf = tf.math.log(a_tf)\n",
        "print(f\"{c   =}\")\n",
        "print(f\"{c_t =}\")\n",
        "print(f\"{c_tf=}\")"
      ],
      "metadata": {
        "colab": {
          "base_uri": "https://localhost:8080/"
        },
        "id": "gpJV0wa9ZVrF",
        "outputId": "ce7919fd-2033-4025-ce21-84df830ee7d5"
      },
      "execution_count": 21,
      "outputs": [
        {
          "output_type": "stream",
          "name": "stdout",
          "text": [
            "c   =array([[     -inf, 0.       ],\n",
            "       [0.6931472, 1.0986123],\n",
            "       [1.3862944, 1.609438 ]], dtype=float32)\n",
            "c_t =tensor([[  -inf, 0.0000],\n",
            "        [0.6931, 1.0986],\n",
            "        [1.3863, 1.6094]])\n",
            "c_tf=<tf.Tensor: shape=(3, 2), dtype=float32, numpy=\n",
            "array([[     -inf, 0.       ],\n",
            "       [0.6931472, 1.0986123],\n",
            "       [1.3862944, 1.609438 ]], dtype=float32)>\n"
          ]
        },
        {
          "output_type": "stream",
          "name": "stderr",
          "text": [
            "<ipython-input-21-9674b9c9ff57>:1: RuntimeWarning: divide by zero encountered in log\n",
            "  c = np.log(a)\n"
          ]
        }
      ]
    },
    {
      "cell_type": "markdown",
      "source": [
        "# log 2"
      ],
      "metadata": {
        "id": "55AvEWwTbkZ5"
      }
    },
    {
      "cell_type": "code",
      "source": [
        "c = np.log2(a)\n",
        "c_t = torch.log2(a_t)\n",
        "#c_tf = tf.math.log2(a_tf) not working!!!!!!!!!!!\n",
        "c_tf = tf.experimental.numpy.log2(a_tf)\n",
        "print(f\"{c   =}\")\n",
        "print(f\"{c_t =}\")\n",
        "print(f\"{c_tf=}\")"
      ],
      "metadata": {
        "colab": {
          "base_uri": "https://localhost:8080/"
        },
        "id": "4KQiBOD3bkB6",
        "outputId": "8b3d7096-06e1-434c-d916-846c66972748"
      },
      "execution_count": 29,
      "outputs": [
        {
          "output_type": "stream",
          "name": "stdout",
          "text": [
            "c   =array([[     -inf, 0.       ],\n",
            "       [1.       , 1.5849625],\n",
            "       [2.       , 2.321928 ]], dtype=float32)\n",
            "c_t =tensor([[  -inf, 0.0000],\n",
            "        [1.0000, 1.5850],\n",
            "        [2.0000, 2.3219]])\n",
            "c_tf=<tf.Tensor: shape=(3, 2), dtype=float32, numpy=\n",
            "array([[     -inf, 0.       ],\n",
            "       [1.       , 1.5849625],\n",
            "       [2.       , 2.321928 ]], dtype=float32)>\n"
          ]
        },
        {
          "output_type": "stream",
          "name": "stderr",
          "text": [
            "<ipython-input-29-a9bcd554500b>:1: RuntimeWarning: divide by zero encountered in log2\n",
            "  c = np.log2(a)\n"
          ]
        }
      ]
    },
    {
      "cell_type": "code",
      "source": [
        "c_tf = tf.math.log(a_tf) / tf.math.log(tf.constant(2.0))\n",
        "print(f\"{c_tf = }\")"
      ],
      "metadata": {
        "colab": {
          "base_uri": "https://localhost:8080/"
        },
        "id": "__57MnOXc2O0",
        "outputId": "ee9f03f9-f525-495e-dce8-279035d918f7"
      },
      "execution_count": 30,
      "outputs": [
        {
          "output_type": "stream",
          "name": "stdout",
          "text": [
            "c_tf = <tf.Tensor: shape=(3, 2), dtype=float32, numpy=\n",
            "array([[     -inf, 0.       ],\n",
            "       [1.       , 1.5849625],\n",
            "       [2.       , 2.321928 ]], dtype=float32)>\n"
          ]
        }
      ]
    },
    {
      "cell_type": "markdown",
      "source": [
        "# commmon log"
      ],
      "metadata": {
        "id": "5oR93B8gd1Di"
      }
    },
    {
      "cell_type": "code",
      "source": [
        "c = np.log10(a)\n",
        "c_t = torch.log10(a_t)\n",
        "# c_tf = tf.math.log10(a_tf) # not working\n",
        "c_tf = tf.experimental.numpy.log10(a_tf)\n",
        "print(f\"{c   =}\")\n",
        "print(f\"{c_t =}\")\n",
        "print(f\"{c_tf=}\")\n",
        "#"
      ],
      "metadata": {
        "colab": {
          "base_uri": "https://localhost:8080/"
        },
        "id": "cBIKxXlWdwxr",
        "outputId": "932299eb-3b24-4f05-e199-c4d23129b8b4"
      },
      "execution_count": 31,
      "outputs": [
        {
          "output_type": "stream",
          "name": "stdout",
          "text": [
            "c   =array([[      -inf, 0.        ],\n",
            "       [0.30103   , 0.47712123],\n",
            "       [0.60206   , 0.69897   ]], dtype=float32)\n",
            "c_t =tensor([[  -inf, 0.0000],\n",
            "        [0.3010, 0.4771],\n",
            "        [0.6021, 0.6990]])\n",
            "c_tf=<tf.Tensor: shape=(3, 2), dtype=float32, numpy=\n",
            "array([[      -inf, 0.        ],\n",
            "       [0.30102998, 0.47712126],\n",
            "       [0.60205996, 0.69897   ]], dtype=float32)>\n"
          ]
        },
        {
          "output_type": "stream",
          "name": "stderr",
          "text": [
            "<ipython-input-31-233b6d7b9e13>:1: RuntimeWarning: divide by zero encountered in log10\n",
            "  c = np.log10(a)\n"
          ]
        }
      ]
    },
    {
      "cell_type": "markdown",
      "source": [
        "# square root"
      ],
      "metadata": {
        "id": "DuYXYtb3d__F"
      }
    },
    {
      "cell_type": "code",
      "source": [
        "c = np.sqrt(a)\n",
        "c_t = torch.sqrt(a_t)\n",
        "c_tf = tf.math.sqrt(a_tf)\n",
        "print(f\"{c   =}\")\n",
        "print(f\"{c_t =}\")\n",
        "print(f\"{c_tf=}\")"
      ],
      "metadata": {
        "colab": {
          "base_uri": "https://localhost:8080/"
        },
        "id": "PpFfwurVd-90",
        "outputId": "a1cc53fb-293c-4a73-9570-9f84a841c72e"
      },
      "execution_count": 32,
      "outputs": [
        {
          "output_type": "stream",
          "name": "stdout",
          "text": [
            "c   =array([[0.       , 1.       ],\n",
            "       [1.4142135, 1.7320508],\n",
            "       [2.       , 2.236068 ]], dtype=float32)\n",
            "c_t =tensor([[0.0000, 1.0000],\n",
            "        [1.4142, 1.7321],\n",
            "        [2.0000, 2.2361]])\n",
            "c_tf=<tf.Tensor: shape=(3, 2), dtype=float32, numpy=\n",
            "array([[0.       , 1.       ],\n",
            "       [1.4142135, 1.7320508],\n",
            "       [2.       , 2.236068 ]], dtype=float32)>\n"
          ]
        }
      ]
    },
    {
      "cell_type": "markdown",
      "source": [
        "pow 이용 가능"
      ],
      "metadata": {
        "id": "1x1AjVU5eFsy"
      }
    },
    {
      "cell_type": "code",
      "source": [
        "c = np.power  (a  ,1/2)\n",
        "c_t = torch.pow(a_t,1/2)\n",
        "c_tf = tf.pow(a_tf,1/2)\n",
        "print(f\"{c   =}\")\n",
        "print(f\"{c_t =}\")\n",
        "print(f\"{c_tf=}\")\n",
        "#"
      ],
      "metadata": {
        "colab": {
          "base_uri": "https://localhost:8080/"
        },
        "id": "p-4T5CwqeD82",
        "outputId": "0414f4a3-704d-44f6-c76b-727ab8fa09c9"
      },
      "execution_count": 33,
      "outputs": [
        {
          "output_type": "stream",
          "name": "stdout",
          "text": [
            "c   =array([[0.       , 1.       ],\n",
            "       [1.4142135, 1.7320508],\n",
            "       [2.       , 2.236068 ]], dtype=float32)\n",
            "c_t =tensor([[0.0000, 1.0000],\n",
            "        [1.4142, 1.7321],\n",
            "        [2.0000, 2.2361]])\n",
            "c_tf=<tf.Tensor: shape=(3, 2), dtype=float32, numpy=\n",
            "array([[0.       , 1.       ],\n",
            "       [1.4142135, 1.7320508],\n",
            "       [2.       , 2.236068 ]], dtype=float32)>\n"
          ]
        }
      ]
    },
    {
      "cell_type": "markdown",
      "source": [
        "# absolute value"
      ],
      "metadata": {
        "id": "kY5i3d9neQVq"
      }
    },
    {
      "cell_type": "code",
      "source": [
        "c = np.abs(a)\n",
        "print(f\"{c   =}\")\n",
        "c_t = torch.abs(a_t)\n",
        "print(f\"{c_t =}\")\n",
        "c_tf = tf.math.abs(a_tf)\n",
        "print(f\"{c_tf=}\")"
      ],
      "metadata": {
        "colab": {
          "base_uri": "https://localhost:8080/"
        },
        "id": "5ZxS55NoeOog",
        "outputId": "c56adc2f-b5f3-416d-dbd3-e8fe092031bf"
      },
      "execution_count": 35,
      "outputs": [
        {
          "output_type": "stream",
          "name": "stdout",
          "text": [
            "c   =array([[0., 1.],\n",
            "       [2., 3.],\n",
            "       [4., 5.]], dtype=float32)\n",
            "c_t =tensor([[0., 1.],\n",
            "        [2., 3.],\n",
            "        [4., 5.]])\n",
            "c_tf=<tf.Tensor: shape=(3, 2), dtype=float32, numpy=\n",
            "array([[0., 1.],\n",
            "       [2., 3.],\n",
            "       [4., 5.]], dtype=float32)>\n"
          ]
        }
      ]
    },
    {
      "cell_type": "markdown",
      "source": [
        "# rational op."
      ],
      "metadata": {
        "id": "3b2mWTyteePC"
      }
    },
    {
      "cell_type": "code",
      "source": [
        "c = a > b\n",
        "print(f\"{c   =}\")\n",
        "c_t = a_t > b_t\n",
        "print(f\"{c_t =}\")\n",
        "c_tf = a_tf > b_tf\n",
        "print(f\"{c_tf=}\")"
      ],
      "metadata": {
        "colab": {
          "base_uri": "https://localhost:8080/"
        },
        "id": "24j2r5D8eUvS",
        "outputId": "fcdf4b21-946e-4f1a-dfff-2a18e354e08d"
      },
      "execution_count": 36,
      "outputs": [
        {
          "output_type": "stream",
          "name": "stdout",
          "text": [
            "c   =array([[False, False],\n",
            "       [ True,  True],\n",
            "       [ True,  True]])\n",
            "c_t =tensor([[False, False],\n",
            "        [ True,  True],\n",
            "        [ True,  True]])\n",
            "c_tf=<tf.Tensor: shape=(3, 2), dtype=bool, numpy=\n",
            "array([[False, False],\n",
            "       [ True,  True],\n",
            "       [ True,  True]])>\n"
          ]
        }
      ]
    },
    {
      "cell_type": "markdown",
      "source": [
        "# trigonmetric func.\n",
        "radian."
      ],
      "metadata": {
        "id": "G5TQakgveo3y"
      }
    },
    {
      "cell_type": "code",
      "source": [
        "c = np.sin(a)\n",
        "print(f\"{c   =}\")\n",
        "c_t = torch.sin(a_t)\n",
        "print(f\"{c_t =}\")\n",
        "c_tf = tf.sin(a_tf)\n",
        "print(f\"{c_tf=}\")"
      ],
      "metadata": {
        "colab": {
          "base_uri": "https://localhost:8080/"
        },
        "id": "tRPOrfgUemsb",
        "outputId": "45ee1dc2-41f5-45bd-a9ce-5efe0cf44641"
      },
      "execution_count": 37,
      "outputs": [
        {
          "output_type": "stream",
          "name": "stdout",
          "text": [
            "c   =array([[ 0.       ,  0.841471 ],\n",
            "       [ 0.9092974,  0.14112  ],\n",
            "       [-0.7568025, -0.9589243]], dtype=float32)\n",
            "c_t =tensor([[ 0.0000,  0.8415],\n",
            "        [ 0.9093,  0.1411],\n",
            "        [-0.7568, -0.9589]])\n",
            "c_tf=<tf.Tensor: shape=(3, 2), dtype=float32, numpy=\n",
            "array([[ 0.        ,  0.84147096],\n",
            "       [ 0.9092974 ,  0.14112   ],\n",
            "       [-0.7568025 , -0.9589243 ]], dtype=float32)>\n"
          ]
        }
      ]
    },
    {
      "cell_type": "code",
      "source": [
        "c = np.cos(a)\n",
        "print(f\"{c   =}\")\n",
        "c_t = torch.cos(a_t)\n",
        "print(f\"{c_t =}\")\n",
        "c_tf = tf.cos(a_tf)\n",
        "print(f\"{c_tf=}\")\n",
        "#"
      ],
      "metadata": {
        "colab": {
          "base_uri": "https://localhost:8080/"
        },
        "id": "T3eUHlwVe07I",
        "outputId": "125cb6c4-f198-4640-e764-709150855e29"
      },
      "execution_count": 39,
      "outputs": [
        {
          "output_type": "stream",
          "name": "stdout",
          "text": [
            "c   =array([[ 1.        ,  0.5403023 ],\n",
            "       [-0.4161468 , -0.9899925 ],\n",
            "       [-0.6536436 ,  0.28366217]], dtype=float32)\n",
            "c_t =tensor([[ 1.0000,  0.5403],\n",
            "        [-0.4161, -0.9900],\n",
            "        [-0.6536,  0.2837]])\n",
            "c_tf=<tf.Tensor: shape=(3, 2), dtype=float32, numpy=\n",
            "array([[ 1.        ,  0.5403023 ],\n",
            "       [-0.41614684, -0.9899925 ],\n",
            "       [-0.6536436 ,  0.2836622 ]], dtype=float32)>\n"
          ]
        }
      ]
    },
    {
      "cell_type": "code",
      "source": [
        "c = np.tan(a)\n",
        "print(f\"{c   =}\")\n",
        "c_t = torch.tan(a_t)\n",
        "print(f\"{c_t =}\")\n",
        "c_tf = tf.tan(a_tf)\n",
        "print(f\"{c_tf=}\")"
      ],
      "metadata": {
        "colab": {
          "base_uri": "https://localhost:8080/"
        },
        "id": "MCbay7KWe5YC",
        "outputId": "d6ed2430-3c25-4717-c076-3d1082479fab"
      },
      "execution_count": 41,
      "outputs": [
        {
          "output_type": "stream",
          "name": "stdout",
          "text": [
            "c   =array([[ 0.        ,  1.5574077 ],\n",
            "       [-2.1850398 , -0.14254655],\n",
            "       [ 1.1578213 , -3.380515  ]], dtype=float32)\n",
            "c_t =tensor([[ 0.0000,  1.5574],\n",
            "        [-2.1850, -0.1425],\n",
            "        [ 1.1578, -3.3805]])\n",
            "c_tf=<tf.Tensor: shape=(3, 2), dtype=float32, numpy=\n",
            "array([[ 0.        ,  1.5574077 ],\n",
            "       [-2.1850398 , -0.14254655],\n",
            "       [ 1.1578213 , -3.380515  ]], dtype=float32)>\n"
          ]
        }
      ]
    },
    {
      "cell_type": "markdown",
      "source": [
        "# hyperbolic func."
      ],
      "metadata": {
        "id": "ytXnFetqfAZ7"
      }
    },
    {
      "cell_type": "code",
      "source": [
        "c = np.tanh(a)\n",
        "print(f\"{c   =}\")\n",
        "c_t = torch.tanh(a_t)\n",
        "print(f\"{c_t =}\")\n",
        "c_tf = tf.tanh(a_tf)\n",
        "print(f\"{c_tf=}\")"
      ],
      "metadata": {
        "colab": {
          "base_uri": "https://localhost:8080/"
        },
        "id": "sWOJpXxxe9k_",
        "outputId": "8769811c-b1ac-43f5-a98e-c227fae0ae2d"
      },
      "execution_count": 42,
      "outputs": [
        {
          "output_type": "stream",
          "name": "stdout",
          "text": [
            "c   =array([[0.       , 0.7615942],\n",
            "       [0.9640276, 0.9950548],\n",
            "       [0.9993293, 0.9999092]], dtype=float32)\n",
            "c_t =tensor([[0.0000, 0.7616],\n",
            "        [0.9640, 0.9951],\n",
            "        [0.9993, 0.9999]])\n",
            "c_tf=<tf.Tensor: shape=(3, 2), dtype=float32, numpy=\n",
            "array([[0.        , 0.7615942 ],\n",
            "       [0.9640276 , 0.9950547 ],\n",
            "       [0.9993292 , 0.99990916]], dtype=float32)>\n"
          ]
        }
      ]
    },
    {
      "cell_type": "markdown",
      "source": [
        "## Aggregation op."
      ],
      "metadata": {
        "id": "dPNoWQcbfJ1S"
      }
    },
    {
      "cell_type": "markdown",
      "source": [
        "# 전체 대해서"
      ],
      "metadata": {
        "id": "BJ_dmKMQfPC6"
      }
    },
    {
      "cell_type": "code",
      "source": [
        "c = np.max(a)\n",
        "print(c)\n",
        "c_t = torch.max(a_t)\n",
        "print(c_t)\n",
        "c_tf = tf.reduce_max(a_tf)\n",
        "print(c_tf)"
      ],
      "metadata": {
        "colab": {
          "base_uri": "https://localhost:8080/"
        },
        "id": "mDztZmBvfIzl",
        "outputId": "806261ed-e4cb-4c4f-c7a3-94651c1acb1c"
      },
      "execution_count": 43,
      "outputs": [
        {
          "output_type": "stream",
          "name": "stdout",
          "text": [
            "5.0\n",
            "tensor(5.)\n",
            "tf.Tensor(5.0, shape=(), dtype=float32)\n"
          ]
        }
      ]
    },
    {
      "cell_type": "code",
      "source": [
        "c = np.min(a)\n",
        "print(c)\n",
        "c_t = torch.min(a_t)\n",
        "print(c_t)\n",
        "c_tf = tf.reduce_min(a_tf)\n",
        "print(c_tf)"
      ],
      "metadata": {
        "colab": {
          "base_uri": "https://localhost:8080/"
        },
        "id": "BYmHibyPfoG3",
        "outputId": "7dc0849c-4eb4-4136-a9b0-a78b86cb281e"
      },
      "execution_count": 44,
      "outputs": [
        {
          "output_type": "stream",
          "name": "stdout",
          "text": [
            "0.0\n",
            "tensor(0.)\n",
            "tf.Tensor(0.0, shape=(), dtype=float32)\n"
          ]
        }
      ]
    },
    {
      "cell_type": "code",
      "source": [
        "c = np.sum(a)\n",
        "print(c)\n",
        "c_t = torch.sum(a_t)\n",
        "print(c_t)\n",
        "c_tf = tf.reduce_sum(a_tf)\n",
        "print(c_tf)"
      ],
      "metadata": {
        "colab": {
          "base_uri": "https://localhost:8080/"
        },
        "id": "U6Vy_HYPfrCz",
        "outputId": "272b8e97-61a1-4d07-f787-29af33945257"
      },
      "execution_count": 45,
      "outputs": [
        {
          "output_type": "stream",
          "name": "stdout",
          "text": [
            "15.0\n",
            "tensor(15.)\n",
            "tf.Tensor(15.0, shape=(), dtype=float32)\n"
          ]
        }
      ]
    },
    {
      "cell_type": "code",
      "source": [
        "c = np.mean(a, axis=0)\n",
        "print(c)\n",
        "c_t = torch.mean(a_t, dim=0)\n",
        "print(c_t)\n",
        "c_tf = tf.reduce_mean(a_tf, axis=0)\n",
        "print(c_tf)"
      ],
      "metadata": {
        "colab": {
          "base_uri": "https://localhost:8080/"
        },
        "id": "gj3Rj4D6f4Qo",
        "outputId": "fd4ab6d5-21ec-43a7-8fb2-d5c159fd0a47"
      },
      "execution_count": 48,
      "outputs": [
        {
          "output_type": "stream",
          "name": "stdout",
          "text": [
            "[2. 3.]\n",
            "tensor([2., 3.])\n",
            "tf.Tensor([2. 3.], shape=(2,), dtype=float32)\n"
          ]
        }
      ]
    },
    {
      "cell_type": "markdown",
      "source": [
        "# 특정 축 차원에서의 aggregation\n",
        "집계 연산에서 해당 축 제거(특정 축에서)\n",
        "- 해당 축, 차원의 크기가 1\n",
        "- 보관하고자 하면 keep_dim =  True 사용"
      ],
      "metadata": {
        "id": "20KJ1yHggHVU"
      }
    },
    {
      "cell_type": "code",
      "source": [
        "c = np.median(a, axis=0)\n",
        "print(c)\n",
        "#print(c.shape)\n",
        "#c_t = torch.median(a_t, dim=0)\n",
        "c_t = torch.median(a_t, dim=0).values #indices 구함\n",
        "print(c_t)\n",
        "c_tf = tf.math.reduce_mean(a_tf, axis=0)\n",
        "print(c_tf)"
      ],
      "metadata": {
        "colab": {
          "base_uri": "https://localhost:8080/"
        },
        "id": "J_FVugvWf7EG",
        "outputId": "5d34f203-001a-4d65-f63d-11a89125cf93"
      },
      "execution_count": 56,
      "outputs": [
        {
          "output_type": "stream",
          "name": "stdout",
          "text": [
            "[2. 3.]\n",
            "tensor([2., 3.])\n",
            "tf.Tensor([2. 3.], shape=(2,), dtype=float32)\n"
          ]
        }
      ]
    },
    {
      "cell_type": "code",
      "source": [
        "# pytorch는 indices를 통해 위치도 반환\n",
        "print(f\"{a_t = }\")\n",
        "c_t = torch.median(a_t, dim=0) # indices도 구함.\n",
        "print(c_t)"
      ],
      "metadata": {
        "colab": {
          "base_uri": "https://localhost:8080/"
        },
        "id": "8aZ-PTx9glXG",
        "outputId": "c4be9f79-c733-468d-cc2e-49be974409e9"
      },
      "execution_count": 52,
      "outputs": [
        {
          "output_type": "stream",
          "name": "stdout",
          "text": [
            "a_t = tensor([[0., 1.],\n",
            "        [2., 3.],\n",
            "        [4., 5.]])\n",
            "torch.return_types.median(\n",
            "values=tensor([2., 3.]),\n",
            "indices=tensor([1, 1]))\n"
          ]
        }
      ]
    },
    {
      "cell_type": "code",
      "source": [
        "# keepdim은 크기가 1인된 aggregated axis도 보존.\n",
        "print(f\"{a_t.size() = }\")\n",
        "print(\"---------------\")\n",
        "c_t = torch.max(a_t, dim=0, keepdim=True)\n",
        "print(f\"{c_t.values.size() = }\")\n",
        "print(\"---------------\")\n",
        "print(f\"{c_t = }\")"
      ],
      "metadata": {
        "colab": {
          "base_uri": "https://localhost:8080/"
        },
        "id": "AsSifIaYg2Vp",
        "outputId": "c751d36f-59b1-4700-dc63-696330caefc4"
      },
      "execution_count": 53,
      "outputs": [
        {
          "output_type": "stream",
          "name": "stdout",
          "text": [
            "a_t.size() = torch.Size([3, 2])\n",
            "---------------\n",
            "c_t.values.size() = torch.Size([1, 2])\n",
            "---------------\n",
            "c_t = torch.return_types.max(\n",
            "values=tensor([[4., 5.]]),\n",
            "indices=tensor([[2, 2]]))\n"
          ]
        }
      ]
    },
    {
      "cell_type": "markdown",
      "source": [
        "집에 가서 2,3,3 으로 해보는 것도 권장하신다고 하시네"
      ],
      "metadata": {
        "id": "TNgaCCj0hrxi"
      }
    },
    {
      "cell_type": "markdown",
      "source": [
        "# boolean op."
      ],
      "metadata": {
        "id": "STGChNtFheWD"
      }
    },
    {
      "cell_type": "code",
      "source": [
        "bm0 = a > 2.5\n",
        "bm1 = a > 3.5\n",
        "print(f'{bm0=}')\n",
        "print(f'{bm1=}')\n",
        "print(f'{bm0.dtype=} / {bm1.dtype=}')\n",
        "print(\"-------------------------\")\n",
        "bm0_t = a_t > 2.5\n",
        "bm1_t = a_t > 3.5\n",
        "print(f'{bm0_t=}')\n",
        "print(f'{bm1_t=}')\n",
        "print(\"-------------------------\")\n",
        "bm0_tf = a_tf > 2.5\n",
        "bm1_tf = a_tf > 3.5\n",
        "print(f'{bm0_tf=}')\n",
        "print(f'{bm1_tf=}')"
      ],
      "metadata": {
        "colab": {
          "base_uri": "https://localhost:8080/"
        },
        "id": "JJFrvpCjg3uL",
        "outputId": "4d7d119e-e666-4a13-e439-733dfcf014cc"
      },
      "execution_count": 57,
      "outputs": [
        {
          "output_type": "stream",
          "name": "stdout",
          "text": [
            "bm0=array([[False, False],\n",
            "       [False,  True],\n",
            "       [ True,  True]])\n",
            "bm1=array([[False, False],\n",
            "       [False, False],\n",
            "       [ True,  True]])\n",
            "bm0.dtype=dtype('bool') / bm1.dtype=dtype('bool')\n",
            "-------------------------\n",
            "bm0_t=tensor([[False, False],\n",
            "        [False,  True],\n",
            "        [ True,  True]])\n",
            "bm1_t=tensor([[False, False],\n",
            "        [False, False],\n",
            "        [ True,  True]])\n",
            "-------------------------\n",
            "bm0_tf=<tf.Tensor: shape=(3, 2), dtype=bool, numpy=\n",
            "array([[False, False],\n",
            "       [False,  True],\n",
            "       [ True,  True]])>\n",
            "bm1_tf=<tf.Tensor: shape=(3, 2), dtype=bool, numpy=\n",
            "array([[False, False],\n",
            "       [False, False],\n",
            "       [ True,  True]])>\n"
          ]
        }
      ]
    },
    {
      "cell_type": "code",
      "source": [
        "c = bm0 & bm1 #and\n",
        "print(f'{c=}')\n",
        "c_t = bm0_t & bm1_t\n",
        "print(f'{c_t=}')\n",
        "c_tf = bm0_tf & bm1_tf\n",
        "print(f'{c_tf=}')"
      ],
      "metadata": {
        "colab": {
          "base_uri": "https://localhost:8080/"
        },
        "id": "6xMnlqOWic2u",
        "outputId": "1b9978ed-e5b0-4acf-9f00-2ce8b40b9334"
      },
      "execution_count": 58,
      "outputs": [
        {
          "output_type": "stream",
          "name": "stdout",
          "text": [
            "c=array([[False, False],\n",
            "       [False, False],\n",
            "       [ True,  True]])\n",
            "c_t=tensor([[False, False],\n",
            "        [False, False],\n",
            "        [ True,  True]])\n",
            "c_tf=<tf.Tensor: shape=(3, 2), dtype=bool, numpy=\n",
            "array([[False, False],\n",
            "       [False, False],\n",
            "       [ True,  True]])>\n"
          ]
        }
      ]
    },
    {
      "cell_type": "code",
      "source": [
        "c = np.bitwise_and(bm0, bm1)\n",
        "print(f'{c=}')\n",
        "c_t = torch.bitwise_and(bm0_t, bm1_t)\n",
        "print(f'{c_t=}')\n",
        "# c_tf = tf.bitwise.bitwise_and(tf.cast(bm0_tf,tf.int32), tf.cast(bm1_tf, tf.int32))\n",
        "# print(tf.cast(c_tf,tf.bool))\n",
        "c_tf = tf.logical_and(bm0_tf, bm1_tf)\n",
        "print(f\"{c_tf=}\")"
      ],
      "metadata": {
        "colab": {
          "base_uri": "https://localhost:8080/"
        },
        "id": "BoIi3E7HiiQi",
        "outputId": "e94ff485-d39e-4489-db9f-34535b26736b"
      },
      "execution_count": 62,
      "outputs": [
        {
          "output_type": "stream",
          "name": "stdout",
          "text": [
            "c=array([[False, False],\n",
            "       [False, False],\n",
            "       [ True,  True]])\n",
            "c_t=tensor([[False, False],\n",
            "        [False, False],\n",
            "        [ True,  True]])\n",
            "c_tf=<tf.Tensor: shape=(3, 2), dtype=bool, numpy=\n",
            "array([[False, False],\n",
            "       [False, False],\n",
            "       [ True,  True]])>\n"
          ]
        }
      ]
    },
    {
      "cell_type": "markdown",
      "source": [
        "# tf에서는 bitwuse__xxx 연산\n",
        "- tf.int32, tf.int64 등의 int 형으로 casting이 필요.\n",
        "\n",
        "TensorFlow의 경우,\n",
        "- |, &, ^, ~ 등의 연산자에서 operand의 종류에 따라,\n",
        "- bitwise_xxx 가 호출되기도 하고, logical_xxx가 호출됨."
      ],
      "metadata": {
        "id": "ZXEo5AUyji1y"
      }
    },
    {
      "cell_type": "code",
      "source": [
        "c_tf = tf.bitwise.bitwise_and(tf.cast(bm0_tf,tf.int32), tf.cast(bm1_tf, tf.int32))\n",
        "print(tf.cast(c_tf,tf.bool))"
      ],
      "metadata": {
        "colab": {
          "base_uri": "https://localhost:8080/"
        },
        "id": "RMAl35a4iy3r",
        "outputId": "41ec07c6-69a7-4c26-9bde-aa34016edfa0"
      },
      "execution_count": 63,
      "outputs": [
        {
          "output_type": "stream",
          "name": "stdout",
          "text": [
            "tf.Tensor(\n",
            "[[False False]\n",
            " [False False]\n",
            " [ True  True]], shape=(3, 2), dtype=bool)\n"
          ]
        }
      ]
    },
    {
      "cell_type": "markdown",
      "source": [
        "or op."
      ],
      "metadata": {
        "id": "PBUgBU5Zj1Ki"
      }
    },
    {
      "cell_type": "code",
      "source": [
        "c = bm0 | bm1 # or op.\n",
        "print(f'{c=}')\n",
        "c_t = bm0_t | bm1_t\n",
        "print(f'{c_t=}')\n",
        "c_tf = bm0_tf | bm1_tf\n",
        "print(f'{c_tf=}')"
      ],
      "metadata": {
        "colab": {
          "base_uri": "https://localhost:8080/"
        },
        "id": "vAN4KrXEj0OC",
        "outputId": "47be87ce-c958-4acd-fc4b-338637490ed3"
      },
      "execution_count": 64,
      "outputs": [
        {
          "output_type": "stream",
          "name": "stdout",
          "text": [
            "c=array([[False, False],\n",
            "       [False,  True],\n",
            "       [ True,  True]])\n",
            "c_t=tensor([[False, False],\n",
            "        [False,  True],\n",
            "        [ True,  True]])\n",
            "c_tf=<tf.Tensor: shape=(3, 2), dtype=bool, numpy=\n",
            "array([[False, False],\n",
            "       [False,  True],\n",
            "       [ True,  True]])>\n"
          ]
        }
      ]
    },
    {
      "cell_type": "markdown",
      "source": [
        "xor op."
      ],
      "metadata": {
        "id": "Bj41kSXIj94z"
      }
    },
    {
      "cell_type": "code",
      "source": [
        "c = bm0 ^ bm1 # xor op.\n",
        "print(f'{c=}')\n",
        "c_t = bm0_t ^ bm1_t\n",
        "print(f'{c_t=}')\n",
        "c_tf = bm0_tf ^ bm1_tf\n",
        "print(f'{c_tf=}')"
      ],
      "metadata": {
        "colab": {
          "base_uri": "https://localhost:8080/"
        },
        "id": "WxSjtMKVj6lL",
        "outputId": "ab0797bc-8dd6-4527-cc23-a281582e39a7"
      },
      "execution_count": 65,
      "outputs": [
        {
          "output_type": "stream",
          "name": "stdout",
          "text": [
            "c=array([[False, False],\n",
            "       [False,  True],\n",
            "       [False, False]])\n",
            "c_t=tensor([[False, False],\n",
            "        [False,  True],\n",
            "        [False, False]])\n",
            "c_tf=<tf.Tensor: shape=(3, 2), dtype=bool, numpy=\n",
            "array([[False, False],\n",
            "       [False,  True],\n",
            "       [False, False]])>\n"
          ]
        }
      ]
    },
    {
      "cell_type": "markdown",
      "source": [
        "not op."
      ],
      "metadata": {
        "id": "vQLJ6pYJkExa"
      }
    },
    {
      "cell_type": "code",
      "source": [
        "c = ~bm0 # not op.\n",
        "print(f'{c=}')\n",
        "c_t = ~bm0_t\n",
        "print(f'{c_t=}')\n",
        "c_tf = ~bm0_tf\n",
        "print(f'{c_tf=}')"
      ],
      "metadata": {
        "colab": {
          "base_uri": "https://localhost:8080/"
        },
        "id": "x0LdhJ65kB3H",
        "outputId": "b7af1474-aac7-48fb-a836-74ed5fd33d1e"
      },
      "execution_count": 66,
      "outputs": [
        {
          "output_type": "stream",
          "name": "stdout",
          "text": [
            "c=array([[ True,  True],\n",
            "       [ True, False],\n",
            "       [False, False]])\n",
            "c_t=tensor([[ True,  True],\n",
            "        [ True, False],\n",
            "        [False, False]])\n",
            "c_tf=<tf.Tensor: shape=(3, 2), dtype=bool, numpy=\n",
            "array([[ True,  True],\n",
            "       [ True, False],\n",
            "       [False, False]])>\n"
          ]
        }
      ]
    },
    {
      "cell_type": "markdown",
      "source": [
        "# tf에서 실제 처리를 확인하는 코드\n",
        "tf는 operand에 따라 bitwise__XXX 와 logical_XXX 중 하나 호출"
      ],
      "metadata": {
        "id": "c1u-Vs5xkIwi"
      }
    },
    {
      "cell_type": "code",
      "source": [
        "import tensorflow as tf\n",
        "\n",
        "@tf.function\n",
        "def or_test(a, b):\n",
        "    return a | b  # 논리 OR인지 비트 OR인지 확인\n",
        "\n",
        "@tf.function\n",
        "def xor_test(a, b):\n",
        "    return a ^ b  # 논리 XOR인지 비트 XOR인지 확인\n",
        "\n",
        "@tf.function\n",
        "def not_test(a):\n",
        "    return ~a  # 논리 NOT인지 비트 NOT인지 확인\n",
        "\n",
        "# 입력값 정의 (bool 텐서)\n",
        "a = tf.constant([True, False, True, False])\n",
        "b = tf.constant([False, False, True, True])\n",
        "\n",
        "# Concrete Function 변환\n",
        "or_concrete = or_test.get_concrete_function(a, b)\n",
        "xor_concrete = xor_test.get_concrete_function(a, b)\n",
        "not_concrete = not_test.get_concrete_function(a)\n",
        "\n",
        "# 내부 그래프 출력\n",
        "print(\"OR Graph:\")\n",
        "print(or_concrete.graph.as_graph_def())\n",
        "\n",
        "print(\"\\nXOR Graph:\")\n",
        "print(xor_concrete.graph.as_graph_def())\n",
        "\n",
        "print(\"\\nNOT Graph:\")\n",
        "print(not_concrete.graph.as_graph_def())\n"
      ],
      "metadata": {
        "colab": {
          "base_uri": "https://localhost:8080/"
        },
        "id": "ydChU8S7kHST",
        "outputId": "e918102e-c51a-49f5-d82e-6e08971a9540"
      },
      "execution_count": 67,
      "outputs": [
        {
          "output_type": "stream",
          "name": "stdout",
          "text": [
            "OR Graph:\n",
            "node {\n",
            "  name: \"a\"\n",
            "  op: \"Placeholder\"\n",
            "  attr {\n",
            "    key: \"shape\"\n",
            "    value {\n",
            "      shape {\n",
            "        dim {\n",
            "          size: 4\n",
            "        }\n",
            "      }\n",
            "    }\n",
            "  }\n",
            "  attr {\n",
            "    key: \"dtype\"\n",
            "    value {\n",
            "      type: DT_BOOL\n",
            "    }\n",
            "  }\n",
            "  attr {\n",
            "    key: \"_user_specified_name\"\n",
            "    value {\n",
            "      s: \"a\"\n",
            "    }\n",
            "  }\n",
            "}\n",
            "node {\n",
            "  name: \"b\"\n",
            "  op: \"Placeholder\"\n",
            "  attr {\n",
            "    key: \"shape\"\n",
            "    value {\n",
            "      shape {\n",
            "        dim {\n",
            "          size: 4\n",
            "        }\n",
            "      }\n",
            "    }\n",
            "  }\n",
            "  attr {\n",
            "    key: \"dtype\"\n",
            "    value {\n",
            "      type: DT_BOOL\n",
            "    }\n",
            "  }\n",
            "  attr {\n",
            "    key: \"_user_specified_name\"\n",
            "    value {\n",
            "      s: \"b\"\n",
            "    }\n",
            "  }\n",
            "}\n",
            "node {\n",
            "  name: \"or\"\n",
            "  op: \"LogicalOr\"\n",
            "  input: \"a\"\n",
            "  input: \"b\"\n",
            "}\n",
            "node {\n",
            "  name: \"Identity\"\n",
            "  op: \"Identity\"\n",
            "  input: \"or\"\n",
            "  attr {\n",
            "    key: \"T\"\n",
            "    value {\n",
            "      type: DT_BOOL\n",
            "    }\n",
            "  }\n",
            "}\n",
            "versions {\n",
            "  producer: 1994\n",
            "}\n",
            "\n",
            "\n",
            "XOR Graph:\n",
            "node {\n",
            "  name: \"a\"\n",
            "  op: \"Placeholder\"\n",
            "  attr {\n",
            "    key: \"shape\"\n",
            "    value {\n",
            "      shape {\n",
            "        dim {\n",
            "          size: 4\n",
            "        }\n",
            "      }\n",
            "    }\n",
            "  }\n",
            "  attr {\n",
            "    key: \"dtype\"\n",
            "    value {\n",
            "      type: DT_BOOL\n",
            "    }\n",
            "  }\n",
            "  attr {\n",
            "    key: \"_user_specified_name\"\n",
            "    value {\n",
            "      s: \"a\"\n",
            "    }\n",
            "  }\n",
            "}\n",
            "node {\n",
            "  name: \"b\"\n",
            "  op: \"Placeholder\"\n",
            "  attr {\n",
            "    key: \"shape\"\n",
            "    value {\n",
            "      shape {\n",
            "        dim {\n",
            "          size: 4\n",
            "        }\n",
            "      }\n",
            "    }\n",
            "  }\n",
            "  attr {\n",
            "    key: \"dtype\"\n",
            "    value {\n",
            "      type: DT_BOOL\n",
            "    }\n",
            "  }\n",
            "  attr {\n",
            "    key: \"_user_specified_name\"\n",
            "    value {\n",
            "      s: \"b\"\n",
            "    }\n",
            "  }\n",
            "}\n",
            "node {\n",
            "  name: \"xor/LogicalOr\"\n",
            "  op: \"LogicalOr\"\n",
            "  input: \"a\"\n",
            "  input: \"b\"\n",
            "}\n",
            "node {\n",
            "  name: \"xor/LogicalAnd\"\n",
            "  op: \"LogicalAnd\"\n",
            "  input: \"a\"\n",
            "  input: \"b\"\n",
            "}\n",
            "node {\n",
            "  name: \"xor/LogicalNot\"\n",
            "  op: \"LogicalNot\"\n",
            "  input: \"xor/LogicalAnd\"\n",
            "}\n",
            "node {\n",
            "  name: \"xor\"\n",
            "  op: \"LogicalAnd\"\n",
            "  input: \"xor/LogicalOr\"\n",
            "  input: \"xor/LogicalNot\"\n",
            "}\n",
            "node {\n",
            "  name: \"Identity\"\n",
            "  op: \"Identity\"\n",
            "  input: \"xor\"\n",
            "  attr {\n",
            "    key: \"T\"\n",
            "    value {\n",
            "      type: DT_BOOL\n",
            "    }\n",
            "  }\n",
            "}\n",
            "versions {\n",
            "  producer: 1994\n",
            "}\n",
            "\n",
            "\n",
            "NOT Graph:\n",
            "node {\n",
            "  name: \"a\"\n",
            "  op: \"Placeholder\"\n",
            "  attr {\n",
            "    key: \"shape\"\n",
            "    value {\n",
            "      shape {\n",
            "        dim {\n",
            "          size: 4\n",
            "        }\n",
            "      }\n",
            "    }\n",
            "  }\n",
            "  attr {\n",
            "    key: \"dtype\"\n",
            "    value {\n",
            "      type: DT_BOOL\n",
            "    }\n",
            "  }\n",
            "  attr {\n",
            "    key: \"_user_specified_name\"\n",
            "    value {\n",
            "      s: \"a\"\n",
            "    }\n",
            "  }\n",
            "}\n",
            "node {\n",
            "  name: \"LogicalNot\"\n",
            "  op: \"LogicalNot\"\n",
            "  input: \"a\"\n",
            "}\n",
            "node {\n",
            "  name: \"Identity\"\n",
            "  op: \"Identity\"\n",
            "  input: \"LogicalNot\"\n",
            "  attr {\n",
            "    key: \"T\"\n",
            "    value {\n",
            "      type: DT_BOOL\n",
            "    }\n",
            "  }\n",
            "}\n",
            "versions {\n",
            "  producer: 1994\n",
            "}\n",
            "\n"
          ]
        }
      ]
    },
    {
      "cell_type": "code",
      "source": [],
      "metadata": {
        "id": "5uPNQPDCkZsk"
      },
      "execution_count": null,
      "outputs": []
    }
  ]
}