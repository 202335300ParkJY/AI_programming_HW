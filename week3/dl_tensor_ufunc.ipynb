{
  "nbformat": 4,
  "nbformat_minor": 0,
  "metadata": {
    "colab": {
      "provenance": [],
      "toc_visible": true
    },
    "kernelspec": {
      "name": "python3",
      "display_name": "Python 3"
    },
    "language_info": {
      "name": "python"
    }
  },
  "cells": [
    {
      "cell_type": "code",
      "execution_count": null,
      "metadata": {
        "id": "DQIQf1WtcKJK"
      },
      "outputs": [],
      "source": [
        "import numpy as np\n",
        "import torch\n",
        "import tensorflow as tf"
      ]
    },
    {
      "cell_type": "code",
      "source": [
        "for i in [np,torch,tf]:\n",
        "  print( f\"{i.__name__}:{i.__version__}\")"
      ],
      "metadata": {
        "colab": {
          "base_uri": "https://localhost:8080/"
        },
        "id": "IWAK_YmkcP9e",
        "outputId": "001b8dc0-109f-436f-a70d-5c02f2ac63a3"
      },
      "execution_count": null,
      "outputs": [
        {
          "output_type": "stream",
          "name": "stdout",
          "text": [
            "numpy:1.26.4\n",
            "torch:2.6.0+cu124\n",
            "tensorflow:2.18.0\n"
          ]
        }
      ]
    },
    {
      "cell_type": "code",
      "source": [
        "a = np.arange(6).reshape((3,2)).astype(np.float32)\n",
        "b = np.ones((3,2),dtype=np.float32)\n",
        "print(f\"{a.dtype=}, {b.dtype=}\")\n",
        "\n",
        "a_t = torch.tensor(a).float()\n",
        "b_t = torch.tensor(b).float()\n",
        "print(f\"{a_t.dtype=}, {b_t.dtype=}\")\n",
        "\n",
        "a_tf = tf.convert_to_tensor(a,dtype=tf.float32)\n",
        "b_tf = tf.convert_to_tensor(b,dtype=tf.float32)\n",
        "print(f\"{a_tf.dtype=}, {b_tf.dtype=}\")"
      ],
      "metadata": {
        "colab": {
          "base_uri": "https://localhost:8080/"
        },
        "id": "LjJHJAt2cXWB",
        "outputId": "9d827527-6116-4a02-9773-ed110a8beecb"
      },
      "execution_count": null,
      "outputs": [
        {
          "output_type": "stream",
          "name": "stdout",
          "text": [
            "a.dtype=dtype('float32'), b.dtype=dtype('float32')\n",
            "a_t.dtype=torch.float32, b_t.dtype=torch.float32\n",
            "a_tf.dtype=tf.float32, b_tf.dtype=tf.float32\n"
          ]
        }
      ]
    },
    {
      "cell_type": "markdown",
      "source": [
        "# addition"
      ],
      "metadata": {
        "id": "2UE_DQp9mqgp"
      }
    },
    {
      "cell_type": "code",
      "source": [
        "c = a + b\n",
        "print(f\"{c=}\")\n",
        "c_t = a_t + b_t\n",
        "print(f\"{c_t=}\")\n",
        "c_tf = a_tf + b_tf\n",
        "print(f\"{c_tf=}\")"
      ],
      "metadata": {
        "colab": {
          "base_uri": "https://localhost:8080/"
        },
        "id": "LZOKkSVHdQ0B",
        "outputId": "022d685e-cbba-4ce5-a5dd-581bdb80a032"
      },
      "execution_count": null,
      "outputs": [
        {
          "output_type": "stream",
          "name": "stdout",
          "text": [
            "c=array([[1., 2.],\n",
            "       [3., 4.],\n",
            "       [5., 6.]], dtype=float32)\n",
            "c_t=tensor([[1., 2.],\n",
            "        [3., 4.],\n",
            "        [5., 6.]])\n",
            "c_tf=<tf.Tensor: shape=(3, 2), dtype=float32, numpy=\n",
            "array([[1., 2.],\n",
            "       [3., 4.],\n",
            "       [5., 6.]], dtype=float32)>\n"
          ]
        }
      ]
    },
    {
      "cell_type": "markdown",
      "source": [
        "# multiplication"
      ],
      "metadata": {
        "id": "Hu6vy4QDmngq"
      }
    },
    {
      "cell_type": "code",
      "source": [
        "c = a * b\n",
        "print(c)\n",
        "c_t = a_t * b_t\n",
        "print(c_t)\n",
        "c_tf = a_tf * b_tf\n",
        "print(c_tf)"
      ],
      "metadata": {
        "colab": {
          "base_uri": "https://localhost:8080/"
        },
        "id": "FurFxepSeMlY",
        "outputId": "e5dbc871-9c57-49d6-acff-8f222f12346b"
      },
      "execution_count": null,
      "outputs": [
        {
          "output_type": "stream",
          "name": "stdout",
          "text": [
            "[[0. 1.]\n",
            " [2. 3.]\n",
            " [4. 5.]]\n",
            "tensor([[0., 1.],\n",
            "        [2., 3.],\n",
            "        [4., 5.]])\n",
            "tf.Tensor(\n",
            "[[0. 1.]\n",
            " [2. 3.]\n",
            " [4. 5.]], shape=(3, 2), dtype=float32)\n"
          ]
        }
      ]
    },
    {
      "cell_type": "markdown",
      "source": [
        "# subtraction"
      ],
      "metadata": {
        "id": "aFsd-ua-mkSB"
      }
    },
    {
      "cell_type": "code",
      "source": [
        "c = a - b\n",
        "print(c)\n",
        "c_t = a_t - b_t\n",
        "print(c_t)\n",
        "c_tf = a_tf - b_tf\n",
        "print(c_tf)"
      ],
      "metadata": {
        "colab": {
          "base_uri": "https://localhost:8080/"
        },
        "id": "6XO3g8KqeRPZ",
        "outputId": "f0345333-1a60-47b9-a68d-213a03db02fa"
      },
      "execution_count": null,
      "outputs": [
        {
          "output_type": "stream",
          "name": "stdout",
          "text": [
            "[[-1.  0.]\n",
            " [ 1.  2.]\n",
            " [ 3.  4.]]\n",
            "tensor([[-1.,  0.],\n",
            "        [ 1.,  2.],\n",
            "        [ 3.,  4.]])\n",
            "tf.Tensor(\n",
            "[[-1.  0.]\n",
            " [ 1.  2.]\n",
            " [ 3.  4.]], shape=(3, 2), dtype=float32)\n"
          ]
        }
      ]
    },
    {
      "cell_type": "markdown",
      "source": [
        "# division"
      ],
      "metadata": {
        "id": "Jx_sqFWwmieN"
      }
    },
    {
      "cell_type": "code",
      "source": [
        "c = a / b\n",
        "print(c)\n",
        "c_t = a_t / b_t\n",
        "print(c_t)\n",
        "c_tf = a_tf / b_tf\n",
        "print(c_tf)"
      ],
      "metadata": {
        "colab": {
          "base_uri": "https://localhost:8080/"
        },
        "id": "GawfvPNyebN9",
        "outputId": "429e0392-cd22-4147-80c3-c785fdea579b"
      },
      "execution_count": null,
      "outputs": [
        {
          "output_type": "stream",
          "name": "stdout",
          "text": [
            "[[0. 1.]\n",
            " [2. 3.]\n",
            " [4. 5.]]\n",
            "tensor([[0., 1.],\n",
            "        [2., 3.],\n",
            "        [4., 5.]])\n",
            "tf.Tensor(\n",
            "[[0. 1.]\n",
            " [2. 3.]\n",
            " [4. 5.]], shape=(3, 2), dtype=float32)\n"
          ]
        }
      ]
    },
    {
      "cell_type": "markdown",
      "source": [
        "# negation"
      ],
      "metadata": {
        "id": "4fqA-a-YmgZB"
      }
    },
    {
      "cell_type": "code",
      "source": [
        "c = -a\n",
        "print(c)\n",
        "c_t = -a_t\n",
        "print(c_t)\n",
        "c_tf = -a_tf\n",
        "print(c_tf)"
      ],
      "metadata": {
        "colab": {
          "base_uri": "https://localhost:8080/"
        },
        "id": "h8A8n8gCrEKD",
        "outputId": "18fefd63-0cc7-456d-d59b-15e1aa7cb082"
      },
      "execution_count": null,
      "outputs": [
        {
          "output_type": "stream",
          "name": "stdout",
          "text": [
            "[[-0. -1.]\n",
            " [-2. -3.]\n",
            " [-4. -5.]]\n",
            "tensor([[-0., -1.],\n",
            "        [-2., -3.],\n",
            "        [-4., -5.]])\n",
            "tf.Tensor(\n",
            "[[-0. -1.]\n",
            " [-2. -3.]\n",
            " [-4. -5.]], shape=(3, 2), dtype=float32)\n"
          ]
        }
      ]
    },
    {
      "cell_type": "markdown",
      "source": [
        "# power and exponentiation"
      ],
      "metadata": {
        "id": "hGFwK0JAmHUR"
      }
    },
    {
      "cell_type": "code",
      "source": [
        "c = a**2\n",
        "c_t = a_t**2\n",
        "c_tf = a_tf**2\n",
        "\n",
        "print(f\"{c   =}\")\n",
        "print(f\"{c_t =}\")\n",
        "print(f\"{c_tf=}\")"
      ],
      "metadata": {
        "colab": {
          "base_uri": "https://localhost:8080/"
        },
        "id": "vg5ouDKlef-k",
        "outputId": "aff7902a-7372-4f08-ca19-e13e11f13d19"
      },
      "execution_count": null,
      "outputs": [
        {
          "output_type": "stream",
          "name": "stdout",
          "text": [
            "c   =array([[ 0.,  1.],\n",
            "       [ 4.,  9.],\n",
            "       [16., 25.]], dtype=float32)\n",
            "c_t =tensor([[ 0.,  1.],\n",
            "        [ 4.,  9.],\n",
            "        [16., 25.]])\n",
            "c_tf=<tf.Tensor: shape=(3, 2), dtype=float32, numpy=\n",
            "array([[ 0.,  1.],\n",
            "       [ 4.,  9.],\n",
            "       [16., 25.]], dtype=float32)>\n"
          ]
        }
      ]
    },
    {
      "cell_type": "code",
      "source": [
        "# c = np.square(a)\n",
        "c = np.power(a,2)\n",
        "c_t = torch.pow(a_t,2)\n",
        "c_tf = tf.pow(a_tf,2)\n",
        "print(f\"{c   =}\")\n",
        "print(f\"{c_t =}\")\n",
        "print(f\"{c_tf=}\")"
      ],
      "metadata": {
        "colab": {
          "base_uri": "https://localhost:8080/"
        },
        "id": "HT4PkpEke39h",
        "outputId": "14dc961f-f308-4687-f986-9d187fec9195"
      },
      "execution_count": null,
      "outputs": [
        {
          "output_type": "stream",
          "name": "stdout",
          "text": [
            "c   =array([[ 0.,  1.],\n",
            "       [ 4.,  9.],\n",
            "       [16., 25.]], dtype=float32)\n",
            "c_t =tensor([[ 0.,  1.],\n",
            "        [ 4.,  9.],\n",
            "        [16., 25.]])\n",
            "c_tf=<tf.Tensor: shape=(3, 2), dtype=float32, numpy=\n",
            "array([[ 0.,  1.],\n",
            "       [ 4.,  9.],\n",
            "       [16., 25.]], dtype=float32)>\n"
          ]
        }
      ]
    },
    {
      "cell_type": "code",
      "source": [
        "c = np.exp(a)\n",
        "c_t = torch.exp(a_t)\n",
        "c_tf = tf.exp(a_tf)\n",
        "print(f\"{c   =}\")\n",
        "print(f\"{c_t =}\")\n",
        "print(f\"{c_tf=}\")"
      ],
      "metadata": {
        "colab": {
          "base_uri": "https://localhost:8080/"
        },
        "id": "6EI942d_TIuf",
        "outputId": "f0951b96-d8a1-43bf-c619-671d86f141ef"
      },
      "execution_count": null,
      "outputs": [
        {
          "output_type": "stream",
          "name": "stdout",
          "text": [
            "c   =array([[  1.       ,   2.718282 ],\n",
            "       [  7.3890557,  20.085537 ],\n",
            "       [ 54.59815  , 148.41316  ]], dtype=float32)\n",
            "c_t =tensor([[  1.0000,   2.7183],\n",
            "        [  7.3891,  20.0855],\n",
            "        [ 54.5981, 148.4132]])\n",
            "c_tf=<tf.Tensor: shape=(3, 2), dtype=float32, numpy=\n",
            "array([[  1.       ,   2.7182817],\n",
            "       [  7.389056 ,  20.085537 ],\n",
            "       [ 54.59815  , 148.41316  ]], dtype=float32)>\n"
          ]
        }
      ]
    },
    {
      "cell_type": "code",
      "source": [
        "c = np.exp2(a)\n",
        "print(c)\n",
        "c_t = torch.exp2(a_t)\n",
        "print(c_t)\n",
        "# c_tf = tf.exp2(a_tf) # not working\n",
        "# print(c_tf)\n",
        "c_tf = tf.pow(2.,a_tf)\n",
        "print(c_tf)"
      ],
      "metadata": {
        "colab": {
          "base_uri": "https://localhost:8080/"
        },
        "id": "xMBJnX-uTO4_",
        "outputId": "52ecfea4-bc11-42b0-fd9e-d53bb661ef0c"
      },
      "execution_count": null,
      "outputs": [
        {
          "output_type": "stream",
          "name": "stdout",
          "text": [
            "[[ 1.  2.]\n",
            " [ 4.  8.]\n",
            " [16. 32.]]\n",
            "tensor([[ 1.,  2.],\n",
            "        [ 4.,  8.],\n",
            "        [16., 32.]])\n",
            "tf.Tensor(\n",
            "[[ 1.  2.]\n",
            " [ 4.  8.]\n",
            " [16. 32.]], shape=(3, 2), dtype=float32)\n"
          ]
        }
      ]
    },
    {
      "cell_type": "markdown",
      "source": [
        "# log (Natural Log)"
      ],
      "metadata": {
        "id": "ajbN0mhJl6kO"
      }
    },
    {
      "cell_type": "code",
      "source": [
        "c = np.log(a)\n",
        "c_t = torch.log(a_t)\n",
        "c_tf = tf.math.log(a_tf)\n",
        "print(f\"{c   =}\")\n",
        "print(f\"{c_t =}\")\n",
        "print(f\"{c_tf=}\")"
      ],
      "metadata": {
        "colab": {
          "base_uri": "https://localhost:8080/"
        },
        "id": "SaSUAVw1UiT3",
        "outputId": "4bf8354d-ec42-4f71-e5f6-b97de91a8506"
      },
      "execution_count": null,
      "outputs": [
        {
          "output_type": "stream",
          "name": "stdout",
          "text": [
            "c   =array([[     -inf, 0.       ],\n",
            "       [0.6931472, 1.0986123],\n",
            "       [1.3862944, 1.609438 ]], dtype=float32)\n",
            "c_t =tensor([[  -inf, 0.0000],\n",
            "        [0.6931, 1.0986],\n",
            "        [1.3863, 1.6094]])\n",
            "c_tf=<tf.Tensor: shape=(3, 2), dtype=float32, numpy=\n",
            "array([[     -inf, 0.       ],\n",
            "       [0.6931472, 1.0986123],\n",
            "       [1.3862944, 1.609438 ]], dtype=float32)>\n"
          ]
        },
        {
          "output_type": "stream",
          "name": "stderr",
          "text": [
            "<ipython-input-69-5e39c409f201>:1: RuntimeWarning: divide by zero encountered in log\n",
            "  c = np.log(a)\n"
          ]
        }
      ]
    },
    {
      "cell_type": "markdown",
      "source": [
        "## log2"
      ],
      "metadata": {
        "id": "g8urpWHQlOdd"
      }
    },
    {
      "cell_type": "code",
      "source": [
        "c = np.log2(a)\n",
        "c_t = torch.log2(a_t)\n",
        "# c_tf = tf.math.log2(a_tf) # not working\n",
        "c_tf = tf.experimental.numpy.log2(a_tf)\n",
        "print(f\"{c   =}\")\n",
        "print(f\"{c_t =}\")\n",
        "print(f\"{c_tf=}\")"
      ],
      "metadata": {
        "colab": {
          "base_uri": "https://localhost:8080/"
        },
        "id": "qot1QlisUl6H",
        "outputId": "224df1d9-2e79-4cbe-b02d-3c7baa786561"
      },
      "execution_count": null,
      "outputs": [
        {
          "output_type": "stream",
          "name": "stdout",
          "text": [
            "c   =array([[     -inf, 0.       ],\n",
            "       [1.       , 1.5849625],\n",
            "       [2.       , 2.321928 ]], dtype=float32)\n",
            "c_t =tensor([[  -inf, 0.0000],\n",
            "        [1.0000, 1.5850],\n",
            "        [2.0000, 2.3219]])\n",
            "c_tf=<tf.Tensor: shape=(3, 2), dtype=float32, numpy=\n",
            "array([[     -inf, 0.       ],\n",
            "       [1.       , 1.5849625],\n",
            "       [2.       , 2.321928 ]], dtype=float32)>\n"
          ]
        },
        {
          "output_type": "stream",
          "name": "stderr",
          "text": [
            "<ipython-input-65-67042472bafd>:1: RuntimeWarning: divide by zero encountered in log2\n",
            "  c = np.log2(a)\n"
          ]
        }
      ]
    },
    {
      "cell_type": "code",
      "source": [
        "c_tf = tf.math.log(a_tf) / tf.math.log(tf.constant(2.0))\n",
        "print(f\"{c_tf = }\")"
      ],
      "metadata": {
        "id": "EyKEjzD6ltlP",
        "outputId": "1b120043-a221-4a83-b136-1c39660883ea",
        "colab": {
          "base_uri": "https://localhost:8080/"
        }
      },
      "execution_count": null,
      "outputs": [
        {
          "output_type": "stream",
          "name": "stdout",
          "text": [
            "c_tf = <tf.Tensor: shape=(3, 2), dtype=float32, numpy=\n",
            "array([[     -inf, 0.       ],\n",
            "       [1.       , 1.5849625],\n",
            "       [2.       , 2.321928 ]], dtype=float32)>\n"
          ]
        }
      ]
    },
    {
      "cell_type": "markdown",
      "source": [
        "## common log"
      ],
      "metadata": {
        "id": "vF1CLNxHlAs4"
      }
    },
    {
      "cell_type": "code",
      "source": [
        "c = np.log10(a)\n",
        "c_t = torch.log10(a_t)\n",
        "# c_tf = tf.math.log10(a_tf) # not working\n",
        "c_tf = tf.experimental.numpy.log10(a_tf)\n",
        "print(f\"{c   =}\")\n",
        "print(f\"{c_t =}\")\n",
        "print(f\"{c_tf=}\")"
      ],
      "metadata": {
        "colab": {
          "base_uri": "https://localhost:8080/"
        },
        "id": "W_WBq3sNU-0X",
        "outputId": "76a26faf-e6cf-46b9-a728-c65546137fad"
      },
      "execution_count": null,
      "outputs": [
        {
          "output_type": "stream",
          "name": "stdout",
          "text": [
            "c   =array([[      -inf, 0.        ],\n",
            "       [0.30103   , 0.47712123],\n",
            "       [0.60206   , 0.69897   ]], dtype=float32)\n",
            "c_t =tensor([[  -inf, 0.0000],\n",
            "        [0.3010, 0.4771],\n",
            "        [0.6021, 0.6990]])\n",
            "c_tf=<tf.Tensor: shape=(3, 2), dtype=float32, numpy=\n",
            "array([[      -inf, 0.        ],\n",
            "       [0.30102998, 0.47712126],\n",
            "       [0.60205996, 0.69897   ]], dtype=float32)>\n"
          ]
        },
        {
          "output_type": "stream",
          "name": "stderr",
          "text": [
            "<ipython-input-67-0ebbc1a7bccb>:1: RuntimeWarning: divide by zero encountered in log10\n",
            "  c = np.log10(a)\n"
          ]
        }
      ]
    },
    {
      "cell_type": "markdown",
      "source": [
        "# Square root (제곱근)"
      ],
      "metadata": {
        "id": "Jtu3GoTGkFT2"
      }
    },
    {
      "cell_type": "code",
      "source": [
        "c = np.sqrt(a)\n",
        "c_t = torch.sqrt(a_t)\n",
        "c_tf = tf.sqrt(a_tf)\n",
        "print(f\"{c   =}\")\n",
        "print(f\"{c_t =}\")\n",
        "print(f\"{c_tf=}\")"
      ],
      "metadata": {
        "colab": {
          "base_uri": "https://localhost:8080/"
        },
        "id": "rR386xPheqOV",
        "outputId": "1bf224b9-88f7-4945-b1e5-6943f0a393d9"
      },
      "execution_count": null,
      "outputs": [
        {
          "output_type": "stream",
          "name": "stdout",
          "text": [
            "c   =array([[0.       , 1.       ],\n",
            "       [1.4142135, 1.7320508],\n",
            "       [2.       , 2.236068 ]], dtype=float32)\n",
            "c_t =tensor([[0.0000, 1.0000],\n",
            "        [1.4142, 1.7321],\n",
            "        [2.0000, 2.2361]])\n",
            "c_tf=<tf.Tensor: shape=(3, 2), dtype=float32, numpy=\n",
            "array([[0.       , 1.       ],\n",
            "       [1.4142135, 1.7320508],\n",
            "       [2.       , 2.236068 ]], dtype=float32)>\n"
          ]
        }
      ]
    },
    {
      "cell_type": "markdown",
      "source": [
        "`pow` 를 이용해도 된다."
      ],
      "metadata": {
        "id": "zAVmUR72k5xl"
      }
    },
    {
      "cell_type": "code",
      "source": [
        "c = np.power   (a   ,1/2)\n",
        "c_t = torch.pow(a_t ,1/2)\n",
        "c_tf = tf.pow  (a_tf,1/2)\n",
        "print(f\"{c   =}\")\n",
        "print(f\"{c_t =}\")\n",
        "print(f\"{c_tf=}\")"
      ],
      "metadata": {
        "id": "Xecpdvy_kLJU",
        "outputId": "2d2a1abb-7470-4283-93f8-a9c2c741f004",
        "colab": {
          "base_uri": "https://localhost:8080/"
        }
      },
      "execution_count": null,
      "outputs": [
        {
          "output_type": "stream",
          "name": "stdout",
          "text": [
            "c   =array([[0.       , 1.       ],\n",
            "       [1.4142135, 1.7320508],\n",
            "       [2.       , 2.236068 ]], dtype=float32)\n",
            "c_t =tensor([[0.0000, 1.0000],\n",
            "        [1.4142, 1.7321],\n",
            "        [2.0000, 2.2361]])\n",
            "c_tf=<tf.Tensor: shape=(3, 2), dtype=float32, numpy=\n",
            "array([[0.       , 1.       ],\n",
            "       [1.4142135, 1.7320508],\n",
            "       [2.       , 2.236068 ]], dtype=float32)>\n"
          ]
        }
      ]
    },
    {
      "cell_type": "markdown",
      "source": [
        "# absolute value"
      ],
      "metadata": {
        "id": "E_DbRb2vj2ja"
      }
    },
    {
      "cell_type": "code",
      "source": [
        "c = np.abs(a)\n",
        "print(c)\n",
        "c_t = torch.abs(a_t)\n",
        "print(c_t)\n",
        "c_tf = tf.abs(a_tf)\n",
        "print(c_tf)"
      ],
      "metadata": {
        "colab": {
          "base_uri": "https://localhost:8080/"
        },
        "id": "eRwMx69aexa8",
        "outputId": "71a19595-b530-4cd6-ee75-1366ba754b27"
      },
      "execution_count": null,
      "outputs": [
        {
          "output_type": "stream",
          "name": "stdout",
          "text": [
            "[[0. 1.]\n",
            " [2. 3.]\n",
            " [4. 5.]]\n",
            "tensor([[0., 1.],\n",
            "        [2., 3.],\n",
            "        [4., 5.]])\n",
            "tf.Tensor(\n",
            "[[0. 1.]\n",
            " [2. 3.]\n",
            " [4. 5.]], shape=(3, 2), dtype=float32)\n"
          ]
        }
      ]
    },
    {
      "cell_type": "markdown",
      "source": [
        "# Rational Operations"
      ],
      "metadata": {
        "id": "a9dhq2Y-jyVd"
      }
    },
    {
      "cell_type": "code",
      "source": [
        "c = a > b\n",
        "print(c)\n",
        "c_t = a_t > b_t\n",
        "print(c_t)\n",
        "c_tf = a_tf > b_tf\n",
        "print(c_tf)"
      ],
      "metadata": {
        "colab": {
          "base_uri": "https://localhost:8080/"
        },
        "id": "Xz88HFnnfhSK",
        "outputId": "e8426911-3650-48d4-b9ca-310bba194dcc"
      },
      "execution_count": null,
      "outputs": [
        {
          "output_type": "stream",
          "name": "stdout",
          "text": [
            "[[False False]\n",
            " [ True  True]\n",
            " [ True  True]]\n",
            "tensor([[False, False],\n",
            "        [ True,  True],\n",
            "        [ True,  True]])\n",
            "tf.Tensor(\n",
            "[[False False]\n",
            " [ True  True]\n",
            " [ True  True]], shape=(3, 2), dtype=bool)\n"
          ]
        }
      ]
    },
    {
      "cell_type": "markdown",
      "source": [
        "# Trigonometric Functions\n",
        "\n",
        "radian 기준"
      ],
      "metadata": {
        "id": "pSoxgQ-DjrmD"
      }
    },
    {
      "cell_type": "code",
      "source": [
        "c = np.sin(a)\n",
        "print(c)\n",
        "c_t = torch.sin(a_t)\n",
        "print(c_t)\n",
        "c_tf = tf.sin(a_tf)\n",
        "print(c_tf)"
      ],
      "metadata": {
        "colab": {
          "base_uri": "https://localhost:8080/"
        },
        "id": "OZmS7FKqfomg",
        "outputId": "a5871a60-6a8f-42f8-d97e-f68d0249423c"
      },
      "execution_count": null,
      "outputs": [
        {
          "output_type": "stream",
          "name": "stdout",
          "text": [
            "[[ 0.         0.841471 ]\n",
            " [ 0.9092974  0.14112  ]\n",
            " [-0.7568025 -0.9589243]]\n",
            "tensor([[ 0.0000,  0.8415],\n",
            "        [ 0.9093,  0.1411],\n",
            "        [-0.7568, -0.9589]])\n",
            "tf.Tensor(\n",
            "[[ 0.          0.84147096]\n",
            " [ 0.9092974   0.14112   ]\n",
            " [-0.7568025  -0.9589243 ]], shape=(3, 2), dtype=float32)\n"
          ]
        }
      ]
    },
    {
      "cell_type": "code",
      "source": [
        "c = np.cos(a)\n",
        "print(c)\n",
        "c_t = torch.cos(a_t)\n",
        "print(c_t)\n",
        "c_tf = tf.cos(a_tf)\n",
        "print(c_tf)"
      ],
      "metadata": {
        "colab": {
          "base_uri": "https://localhost:8080/"
        },
        "id": "1sUfbfMffvNM",
        "outputId": "67357083-2994-4807-8591-ef9b9163828f"
      },
      "execution_count": null,
      "outputs": [
        {
          "output_type": "stream",
          "name": "stdout",
          "text": [
            "[[ 1.          0.5403023 ]\n",
            " [-0.4161468  -0.9899925 ]\n",
            " [-0.6536436   0.28366217]]\n",
            "tensor([[ 1.0000,  0.5403],\n",
            "        [-0.4161, -0.9900],\n",
            "        [-0.6536,  0.2837]])\n",
            "tf.Tensor(\n",
            "[[ 1.          0.5403023 ]\n",
            " [-0.41614684 -0.9899925 ]\n",
            " [-0.6536436   0.2836622 ]], shape=(3, 2), dtype=float32)\n"
          ]
        }
      ]
    },
    {
      "cell_type": "code",
      "source": [
        "c = np.tan(a)\n",
        "print(c)\n",
        "c_t = torch.tan(a_t)\n",
        "print(c_t)\n",
        "c_tf = tf.tan(a_tf)\n",
        "print(c_tf)"
      ],
      "metadata": {
        "colab": {
          "base_uri": "https://localhost:8080/"
        },
        "id": "pfuG5enXf8Tj",
        "outputId": "d22303f6-113e-4cad-b97e-636810cab23e"
      },
      "execution_count": null,
      "outputs": [
        {
          "output_type": "stream",
          "name": "stdout",
          "text": [
            "[[ 0.          1.5574077 ]\n",
            " [-2.1850398  -0.14254655]\n",
            " [ 1.1578213  -3.380515  ]]\n",
            "tensor([[ 0.0000,  1.5574],\n",
            "        [-2.1850, -0.1425],\n",
            "        [ 1.1578, -3.3805]])\n",
            "tf.Tensor(\n",
            "[[ 0.          1.5574077 ]\n",
            " [-2.1850398  -0.14254655]\n",
            " [ 1.1578213  -3.380515  ]], shape=(3, 2), dtype=float32)\n"
          ]
        }
      ]
    },
    {
      "cell_type": "markdown",
      "source": [
        "# hyperbolic functions"
      ],
      "metadata": {
        "id": "G1sKKRtMjj-c"
      }
    },
    {
      "cell_type": "code",
      "source": [
        "c = np.tanh(a)\n",
        "print(f\"{c = }\")\n",
        "c_t = torch.tanh(a_t)\n",
        "print(f\"{c_t = }\")\n",
        "c_tf = tf.tanh(a_tf)\n",
        "print(f\"{c_t = }\")"
      ],
      "metadata": {
        "id": "DIfPOvcjista",
        "outputId": "80483e51-cd43-412f-b750-fb864d01b79e",
        "colab": {
          "base_uri": "https://localhost:8080/"
        }
      },
      "execution_count": null,
      "outputs": [
        {
          "output_type": "stream",
          "name": "stdout",
          "text": [
            "c = array([[0.       , 0.7615942],\n",
            "       [0.9640276, 0.9950548],\n",
            "       [0.9993293, 0.9999092]], dtype=float32)\n",
            "c_t = tensor([[0.0000, 0.7616],\n",
            "        [0.9640, 0.9951],\n",
            "        [0.9993, 0.9999]])\n",
            "c_t = tensor([[0.0000, 0.7616],\n",
            "        [0.9640, 0.9951],\n",
            "        [0.9993, 0.9999]])\n"
          ]
        }
      ]
    },
    {
      "cell_type": "markdown",
      "source": [
        "# Aggregation (집계) 연산\n"
      ],
      "metadata": {
        "id": "Dh56Q6ygfqnP"
      }
    },
    {
      "cell_type": "markdown",
      "source": [
        "## 전체에 대해서"
      ],
      "metadata": {
        "id": "CwEVqXQmhIZf"
      }
    },
    {
      "cell_type": "code",
      "source": [
        "c = np.max(a)\n",
        "print(c)\n",
        "c_t = torch.max(a_t)\n",
        "print(c_t)\n",
        "c_tf = tf.reduce_max(a_tf)\n",
        "print(c_tf)"
      ],
      "metadata": {
        "colab": {
          "base_uri": "https://localhost:8080/"
        },
        "id": "BISZZPTvf-Nv",
        "outputId": "74c1fa77-f8a3-4413-86a5-02bbfeda3d1b"
      },
      "execution_count": null,
      "outputs": [
        {
          "output_type": "stream",
          "name": "stdout",
          "text": [
            "5.0\n",
            "tensor(5.)\n",
            "tf.Tensor(5.0, shape=(), dtype=float32)\n"
          ]
        }
      ]
    },
    {
      "cell_type": "code",
      "source": [
        "c = np.min(a)\n",
        "print(c)\n",
        "c_t = torch.min(a_t)\n",
        "print(c_t)\n",
        "c_tf = tf.reduce_min(a_tf)\n",
        "print(c_tf)"
      ],
      "metadata": {
        "colab": {
          "base_uri": "https://localhost:8080/"
        },
        "id": "Pg_8e5JYgD7Z",
        "outputId": "da2f103c-b8a4-44cb-9b0e-30f0e88544f8"
      },
      "execution_count": null,
      "outputs": [
        {
          "output_type": "stream",
          "name": "stdout",
          "text": [
            "0.0\n",
            "tensor(0.)\n",
            "tf.Tensor(0.0, shape=(), dtype=float32)\n"
          ]
        }
      ]
    },
    {
      "cell_type": "code",
      "source": [
        "c = np.sum(a)\n",
        "print(c)\n",
        "c_t = torch.sum(a_t)\n",
        "print(c_t)\n",
        "c_tf = tf.reduce_sum(a_tf)\n",
        "print(c_tf)"
      ],
      "metadata": {
        "colab": {
          "base_uri": "https://localhost:8080/"
        },
        "id": "OKvFYKOBgGBF",
        "outputId": "140c5c67-25a1-4d67-cde5-7fa91975ca44"
      },
      "execution_count": null,
      "outputs": [
        {
          "output_type": "stream",
          "name": "stdout",
          "text": [
            "15.0\n",
            "tensor(15.)\n",
            "tf.Tensor(15.0, shape=(), dtype=float32)\n"
          ]
        }
      ]
    },
    {
      "cell_type": "code",
      "source": [
        "c = np.mean(a, axis=0)\n",
        "print(c)\n",
        "c_t = torch.mean(a_t, dim=0)\n",
        "print(c_t)\n",
        "c_tf = tf.reduce_mean(a_tf, axis=0)\n",
        "print(c_tf)"
      ],
      "metadata": {
        "colab": {
          "base_uri": "https://localhost:8080/"
        },
        "id": "Z8W9Exs7gLqX",
        "outputId": "3995b509-f3de-4506-b4e1-664c8a5b9966"
      },
      "execution_count": null,
      "outputs": [
        {
          "output_type": "stream",
          "name": "stdout",
          "text": [
            "[2. 3.]\n",
            "tensor([2., 3.])\n",
            "tf.Tensor([2. 3.], shape=(2,), dtype=float32)\n"
          ]
        }
      ]
    },
    {
      "cell_type": "markdown",
      "source": [
        "## 특정 축(or 차원) 상에서 aggregation\n",
        "\n",
        "특정 축상에서의 집계 연산시 해당 축이 제거됨.\n",
        "\n",
        "* 해당 축(or 차원)의 크기가 1이 되므로\n",
        "* 보관하고자 하면 keep_dim = True를 사용."
      ],
      "metadata": {
        "id": "j6q0QO6DhPlJ"
      }
    },
    {
      "cell_type": "code",
      "source": [
        "c = np.median(a, axis=0)\n",
        "print(c)\n",
        "c_t = torch.median(a_t, dim=0).values # indices도 구함.\n",
        "print(c_t)\n",
        "c_tf = tf.math.reduce_mean(a_tf, axis=0)\n",
        "print(c_tf)"
      ],
      "metadata": {
        "colab": {
          "base_uri": "https://localhost:8080/"
        },
        "id": "NlL_o6zogU-K",
        "outputId": "b2fb2391-5f82-45cb-9f47-1d52c19345b2"
      },
      "execution_count": null,
      "outputs": [
        {
          "output_type": "stream",
          "name": "stdout",
          "text": [
            "[2. 3.]\n",
            "tensor([2., 3.])\n",
            "tf.Tensor([2. 3.], shape=(2,), dtype=float32)\n"
          ]
        }
      ]
    },
    {
      "cell_type": "code",
      "source": [
        "# pytorch는 indices를 통해 위치도 반환\n",
        "print(f\"{a_t = }\")\n",
        "c_t = torch.median(a_t, dim=0) # indices도 구함.\n",
        "print(c_t)"
      ],
      "metadata": {
        "id": "kiBBnYILhi0J",
        "outputId": "a6027a8a-e42a-4e8c-bee8-6f2a2f5eb5b6",
        "colab": {
          "base_uri": "https://localhost:8080/"
        }
      },
      "execution_count": null,
      "outputs": [
        {
          "output_type": "stream",
          "name": "stdout",
          "text": [
            "a_t = tensor([[0., 1.],\n",
            "        [2., 3.],\n",
            "        [4., 5.]])\n",
            "torch.return_types.median(\n",
            "values=tensor([2., 3.]),\n",
            "indices=tensor([1, 1]))\n"
          ]
        }
      ]
    },
    {
      "cell_type": "code",
      "source": [
        "# keepdim은 크기가 1인된 aggregated axis도 보존.\n",
        "print(f\"{a_t.size() = }\")\n",
        "print(\"---------------\")\n",
        "c_t = torch.max(a_t, dim=0, keepdim=True)\n",
        "print(f\"{c_t.values.size() = }\")\n",
        "print(\"---------------\")\n",
        "print(f\"{c_t = }\")"
      ],
      "metadata": {
        "id": "1WXe6n0BgvQE",
        "outputId": "d6c68cdd-2c8e-4dfb-88b0-62ee07b9a715",
        "colab": {
          "base_uri": "https://localhost:8080/"
        }
      },
      "execution_count": null,
      "outputs": [
        {
          "output_type": "stream",
          "name": "stdout",
          "text": [
            "a_t.size() = torch.Size([3, 2])\n",
            "---------------\n",
            "c_t.values.size() = torch.Size([1, 2])\n",
            "---------------\n",
            "c_t = torch.return_types.max(\n",
            "values=tensor([[4., 5.]]),\n",
            "indices=tensor([[2, 2]]))\n"
          ]
        }
      ]
    },
    {
      "cell_type": "markdown",
      "source": [
        "# boolean operations"
      ],
      "metadata": {
        "id": "15TcOqXnbGyq"
      }
    },
    {
      "cell_type": "code",
      "source": [
        "import torch\n",
        "import numpy as np\n",
        "import tensorflow as tf\n",
        "\n",
        "bm0 = a > 2.5\n",
        "bm1 = a > 3.5\n",
        "print(f'{bm0=}')\n",
        "print(f'{bm1=}')\n",
        "print(f'{bm0.dtype=} / {bm1.dtype=}')\n",
        "print(\"-----------------------\")\n",
        "bm0_t = a_t > 2.5\n",
        "bm1_t = a_t > 3.5\n",
        "print(f'{bm0_t=}')\n",
        "print(f'{bm1_t=}')\n",
        "print(\"-----------------------\")\n",
        "bm0_tf = a_tf > 2.5\n",
        "bm1_tf = a_tf > 3.5\n",
        "print(f'{bm0_tf=}')\n",
        "print(f'{bm1_tf=}')"
      ],
      "metadata": {
        "colab": {
          "base_uri": "https://localhost:8080/"
        },
        "id": "CiQnR7-yifDz",
        "outputId": "c686885f-881d-4967-f7ff-937ace0088be"
      },
      "execution_count": null,
      "outputs": [
        {
          "output_type": "stream",
          "name": "stdout",
          "text": [
            "bm0=array([[False, False],\n",
            "       [False,  True],\n",
            "       [ True,  True]])\n",
            "bm1=array([[False, False],\n",
            "       [False, False],\n",
            "       [ True,  True]])\n",
            "bm0.dtype=dtype('bool') / bm1.dtype=dtype('bool')\n",
            "-----------------------\n",
            "bm0_t=tensor([[False, False],\n",
            "        [False,  True],\n",
            "        [ True,  True]])\n",
            "bm1_t=tensor([[False, False],\n",
            "        [False, False],\n",
            "        [ True,  True]])\n",
            "-----------------------\n",
            "bm0_tf=<tf.Tensor: shape=(3, 2), dtype=bool, numpy=\n",
            "array([[False, False],\n",
            "       [False,  True],\n",
            "       [ True,  True]])>\n",
            "bm1_tf=<tf.Tensor: shape=(3, 2), dtype=bool, numpy=\n",
            "array([[False, False],\n",
            "       [False, False],\n",
            "       [ True,  True]])>\n"
          ]
        }
      ]
    },
    {
      "cell_type": "code",
      "source": [
        "c = bm0 & bm1 # and\n",
        "print(f\"{c=}\")\n",
        "c_t = bm0_t & bm1_t\n",
        "print(f\"{c_t=}\")\n",
        "c_tf = bm0_tf & bm1_tf\n",
        "print(f\"{c_tf=}\")"
      ],
      "metadata": {
        "colab": {
          "base_uri": "https://localhost:8080/"
        },
        "id": "DSVsFWJltRUP",
        "outputId": "42cbde09-2fce-4132-d2f3-7ade23998c4f"
      },
      "execution_count": null,
      "outputs": [
        {
          "output_type": "stream",
          "name": "stdout",
          "text": [
            "c=array([[False, False],\n",
            "       [False, False],\n",
            "       [ True,  True]])\n",
            "c_t=tensor([[False, False],\n",
            "        [False, False],\n",
            "        [ True,  True]])\n",
            "c_tf=<tf.Tensor: shape=(3, 2), dtype=bool, numpy=\n",
            "array([[False, False],\n",
            "       [False, False],\n",
            "       [ True,  True]])>\n"
          ]
        }
      ]
    },
    {
      "cell_type": "code",
      "source": [
        "c = np.bitwise_and(bm0, bm1)\n",
        "print(c)\n",
        "c_t = torch.bitwise_and(bm0_t, bm1_t)\n",
        "print(c_t)\n",
        "# c_tf = tf.bitwise.bitwise_and(tf.cast(bm0_tf,tf.int32), tf.cast(bm1_tf, tf.int32))\n",
        "# print(tf.cast(c_tf,tf.bool))\n",
        "c_tf = tf.logical_and(bm0_tf, bm1_tf)\n",
        "print(f\"{c_tf=}\")"
      ],
      "metadata": {
        "id": "zH0MSwR4ZXZf",
        "outputId": "bb67944f-5bea-4d34-ca3d-492c39f11776",
        "colab": {
          "base_uri": "https://localhost:8080/"
        }
      },
      "execution_count": null,
      "outputs": [
        {
          "output_type": "stream",
          "name": "stdout",
          "text": [
            "[[False False]\n",
            " [False False]\n",
            " [ True  True]]\n",
            "tensor([[False, False],\n",
            "        [False, False],\n",
            "        [ True,  True]])\n",
            "c_tf=<tf.Tensor: shape=(3, 2), dtype=bool, numpy=\n",
            "array([[False, False],\n",
            "       [False, False],\n",
            "       [ True,  True]])>\n"
          ]
        }
      ]
    },
    {
      "cell_type": "markdown",
      "source": [
        "## 참고: TensorFlow에서 bitwise_xxx 연산\n",
        "\n",
        "* `tf.int32`, `tf.int64` 등의 int 형으로 casting이 필요.\n",
        "\n",
        "TensorFlow의 경우,\n",
        "\n",
        "* `|`, `&`, `^`, `~` 등의 연산자에서 operand의 종류에 따라,\n",
        "* `bitwise_xxx` 가 호출되기도 하고, `logical_xxx`가 호출됨."
      ],
      "metadata": {
        "id": "s7PGbeE_c0XO"
      }
    },
    {
      "cell_type": "code",
      "source": [
        "c_tf = tf.bitwise.bitwise_and(tf.cast(bm0_tf,tf.int64), tf.cast(bm1_tf, tf.int64))\n",
        "print(tf.cast(c_tf,tf.bool))"
      ],
      "metadata": {
        "id": "Dv3H5633ctxk",
        "outputId": "c73f82d8-5cd2-4263-cac1-c5ad85fa1036",
        "colab": {
          "base_uri": "https://localhost:8080/"
        }
      },
      "execution_count": null,
      "outputs": [
        {
          "output_type": "stream",
          "name": "stdout",
          "text": [
            "tf.Tensor(\n",
            "[[False False]\n",
            " [False False]\n",
            " [ True  True]], shape=(3, 2), dtype=bool)\n"
          ]
        }
      ]
    },
    {
      "cell_type": "markdown",
      "source": [
        "## or 연산: `|`"
      ],
      "metadata": {
        "id": "cxWAHOjIfJ2k"
      }
    },
    {
      "cell_type": "code",
      "source": [
        "c = bm0 | bm1 # or\n",
        "print(f\"{c=}\")\n",
        "c_t = bm0_t | bm1_t\n",
        "print(f\"{c_t=}\")\n",
        "c_tf = bm0_tf | bm1_tf\n",
        "print(f\"{c_tf=}\")"
      ],
      "metadata": {
        "colab": {
          "base_uri": "https://localhost:8080/"
        },
        "id": "-ILLkCpmtgd5",
        "outputId": "68c48014-30b9-4707-9599-6ae944ed7f80"
      },
      "execution_count": null,
      "outputs": [
        {
          "output_type": "stream",
          "name": "stdout",
          "text": [
            "c=array([[False, False],\n",
            "       [False,  True],\n",
            "       [ True,  True]])\n",
            "c_t=tensor([[False, False],\n",
            "        [False,  True],\n",
            "        [ True,  True]])\n",
            "c_tf=<tf.Tensor: shape=(3, 2), dtype=bool, numpy=\n",
            "array([[False, False],\n",
            "       [False,  True],\n",
            "       [ True,  True]])>\n"
          ]
        }
      ]
    },
    {
      "cell_type": "markdown",
      "source": [
        "## xor 연산: `^`"
      ],
      "metadata": {
        "id": "SVK_zuj8fN2v"
      }
    },
    {
      "cell_type": "code",
      "source": [
        "c = bm0 ^ bm1 # xor\n",
        "print(f\"{c=}\")\n",
        "c_t = bm0_t ^ bm1_t\n",
        "print(f\"{c_t=}\")\n",
        "c_tf = bm0_tf ^ bm1_tf\n",
        "print(f\"{c_tf=}\")"
      ],
      "metadata": {
        "colab": {
          "base_uri": "https://localhost:8080/"
        },
        "id": "JbhlGtnTuLKd",
        "outputId": "10e79a8c-36c3-456d-fbe0-46eb93c9607d"
      },
      "execution_count": null,
      "outputs": [
        {
          "output_type": "stream",
          "name": "stdout",
          "text": [
            "c=array([[False, False],\n",
            "       [False,  True],\n",
            "       [False, False]])\n",
            "c_t=tensor([[False, False],\n",
            "        [False,  True],\n",
            "        [False, False]])\n",
            "c_tf=<tf.Tensor: shape=(3, 2), dtype=bool, numpy=\n",
            "array([[False, False],\n",
            "       [False,  True],\n",
            "       [False, False]])>\n"
          ]
        }
      ]
    },
    {
      "cell_type": "markdown",
      "source": [
        "## not 연산: `~`"
      ],
      "metadata": {
        "id": "Ecf-HkhffRdG"
      }
    },
    {
      "cell_type": "code",
      "source": [
        "c = ~bm0 # not\n",
        "print(f\"{c=}\")\n",
        "c_t = ~bm0_t\n",
        "print(f\"{c_t=}\")\n",
        "c_tf = ~bm0_tf\n",
        "print(f\"{c_tf=}\")"
      ],
      "metadata": {
        "colab": {
          "base_uri": "https://localhost:8080/"
        },
        "id": "oVMbl2nXuPz4",
        "outputId": "d9a57d42-0a8d-4628-cd4a-f6b6d79b1442"
      },
      "execution_count": null,
      "outputs": [
        {
          "output_type": "stream",
          "name": "stdout",
          "text": [
            "c=array([[ True,  True],\n",
            "       [ True, False],\n",
            "       [False, False]])\n",
            "c_t=tensor([[ True,  True],\n",
            "        [ True, False],\n",
            "        [False, False]])\n",
            "c_tf=<tf.Tensor: shape=(3, 2), dtype=bool, numpy=\n",
            "array([[ True,  True],\n",
            "       [ True, False],\n",
            "       [False, False]])>\n"
          ]
        }
      ]
    },
    {
      "cell_type": "markdown",
      "source": [
        "## 참고: 다음의 코드로 TensorFlow에서 실제 처리를 확인 가능.\n",
        "\n",
        "TensorFlow는 operand에 따라 bitwise_xxx 와 logical_xxx 중에 하나가 호출됨."
      ],
      "metadata": {
        "id": "DKEwiSPUe-x-"
      }
    },
    {
      "cell_type": "code",
      "source": [
        "import tensorflow as tf\n",
        "\n",
        "@tf.function\n",
        "def or_test(a, b):\n",
        "    return a | b  # 논리 OR인지 비트 OR인지 확인\n",
        "\n",
        "@tf.function\n",
        "def xor_test(a, b):\n",
        "    return a ^ b  # 논리 XOR인지 비트 XOR인지 확인\n",
        "\n",
        "@tf.function\n",
        "def not_test(a):\n",
        "    return ~a  # 논리 NOT인지 비트 NOT인지 확인\n",
        "\n",
        "# 입력값 정의 (bool 텐서)\n",
        "a = tf.constant([True, False, True, False])\n",
        "b = tf.constant([False, False, True, True])\n",
        "\n",
        "# Concrete Function 변환\n",
        "or_concrete = or_test.get_concrete_function(a, b)\n",
        "xor_concrete = xor_test.get_concrete_function(a, b)\n",
        "not_concrete = not_test.get_concrete_function(a)\n",
        "\n",
        "# 내부 그래프 출력\n",
        "print(\"OR Graph:\")\n",
        "print(or_concrete.graph.as_graph_def())\n",
        "\n",
        "print(\"\\nXOR Graph:\")\n",
        "print(xor_concrete.graph.as_graph_def())\n",
        "\n",
        "print(\"\\nNOT Graph:\")\n",
        "print(not_concrete.graph.as_graph_def())\n"
      ],
      "metadata": {
        "id": "tPdmMWf9eAMj",
        "outputId": "fff8d861-9a62-44ad-b72a-f8c69ebfa2d7",
        "colab": {
          "base_uri": "https://localhost:8080/"
        }
      },
      "execution_count": null,
      "outputs": [
        {
          "output_type": "stream",
          "name": "stdout",
          "text": [
            "OR Graph:\n",
            "node {\n",
            "  name: \"a\"\n",
            "  op: \"Placeholder\"\n",
            "  attr {\n",
            "    key: \"shape\"\n",
            "    value {\n",
            "      shape {\n",
            "        dim {\n",
            "          size: 4\n",
            "        }\n",
            "      }\n",
            "    }\n",
            "  }\n",
            "  attr {\n",
            "    key: \"dtype\"\n",
            "    value {\n",
            "      type: DT_BOOL\n",
            "    }\n",
            "  }\n",
            "  attr {\n",
            "    key: \"_user_specified_name\"\n",
            "    value {\n",
            "      s: \"a\"\n",
            "    }\n",
            "  }\n",
            "}\n",
            "node {\n",
            "  name: \"b\"\n",
            "  op: \"Placeholder\"\n",
            "  attr {\n",
            "    key: \"shape\"\n",
            "    value {\n",
            "      shape {\n",
            "        dim {\n",
            "          size: 4\n",
            "        }\n",
            "      }\n",
            "    }\n",
            "  }\n",
            "  attr {\n",
            "    key: \"dtype\"\n",
            "    value {\n",
            "      type: DT_BOOL\n",
            "    }\n",
            "  }\n",
            "  attr {\n",
            "    key: \"_user_specified_name\"\n",
            "    value {\n",
            "      s: \"b\"\n",
            "    }\n",
            "  }\n",
            "}\n",
            "node {\n",
            "  name: \"or\"\n",
            "  op: \"LogicalOr\"\n",
            "  input: \"a\"\n",
            "  input: \"b\"\n",
            "}\n",
            "node {\n",
            "  name: \"Identity\"\n",
            "  op: \"Identity\"\n",
            "  input: \"or\"\n",
            "  attr {\n",
            "    key: \"T\"\n",
            "    value {\n",
            "      type: DT_BOOL\n",
            "    }\n",
            "  }\n",
            "}\n",
            "versions {\n",
            "  producer: 1994\n",
            "}\n",
            "\n",
            "\n",
            "XOR Graph:\n",
            "node {\n",
            "  name: \"a\"\n",
            "  op: \"Placeholder\"\n",
            "  attr {\n",
            "    key: \"shape\"\n",
            "    value {\n",
            "      shape {\n",
            "        dim {\n",
            "          size: 4\n",
            "        }\n",
            "      }\n",
            "    }\n",
            "  }\n",
            "  attr {\n",
            "    key: \"dtype\"\n",
            "    value {\n",
            "      type: DT_BOOL\n",
            "    }\n",
            "  }\n",
            "  attr {\n",
            "    key: \"_user_specified_name\"\n",
            "    value {\n",
            "      s: \"a\"\n",
            "    }\n",
            "  }\n",
            "}\n",
            "node {\n",
            "  name: \"b\"\n",
            "  op: \"Placeholder\"\n",
            "  attr {\n",
            "    key: \"shape\"\n",
            "    value {\n",
            "      shape {\n",
            "        dim {\n",
            "          size: 4\n",
            "        }\n",
            "      }\n",
            "    }\n",
            "  }\n",
            "  attr {\n",
            "    key: \"dtype\"\n",
            "    value {\n",
            "      type: DT_BOOL\n",
            "    }\n",
            "  }\n",
            "  attr {\n",
            "    key: \"_user_specified_name\"\n",
            "    value {\n",
            "      s: \"b\"\n",
            "    }\n",
            "  }\n",
            "}\n",
            "node {\n",
            "  name: \"xor/LogicalOr\"\n",
            "  op: \"LogicalOr\"\n",
            "  input: \"a\"\n",
            "  input: \"b\"\n",
            "}\n",
            "node {\n",
            "  name: \"xor/LogicalAnd\"\n",
            "  op: \"LogicalAnd\"\n",
            "  input: \"a\"\n",
            "  input: \"b\"\n",
            "}\n",
            "node {\n",
            "  name: \"xor/LogicalNot\"\n",
            "  op: \"LogicalNot\"\n",
            "  input: \"xor/LogicalAnd\"\n",
            "}\n",
            "node {\n",
            "  name: \"xor\"\n",
            "  op: \"LogicalAnd\"\n",
            "  input: \"xor/LogicalOr\"\n",
            "  input: \"xor/LogicalNot\"\n",
            "}\n",
            "node {\n",
            "  name: \"Identity\"\n",
            "  op: \"Identity\"\n",
            "  input: \"xor\"\n",
            "  attr {\n",
            "    key: \"T\"\n",
            "    value {\n",
            "      type: DT_BOOL\n",
            "    }\n",
            "  }\n",
            "}\n",
            "versions {\n",
            "  producer: 1994\n",
            "}\n",
            "\n",
            "\n",
            "NOT Graph:\n",
            "node {\n",
            "  name: \"a\"\n",
            "  op: \"Placeholder\"\n",
            "  attr {\n",
            "    key: \"shape\"\n",
            "    value {\n",
            "      shape {\n",
            "        dim {\n",
            "          size: 4\n",
            "        }\n",
            "      }\n",
            "    }\n",
            "  }\n",
            "  attr {\n",
            "    key: \"dtype\"\n",
            "    value {\n",
            "      type: DT_BOOL\n",
            "    }\n",
            "  }\n",
            "  attr {\n",
            "    key: \"_user_specified_name\"\n",
            "    value {\n",
            "      s: \"a\"\n",
            "    }\n",
            "  }\n",
            "}\n",
            "node {\n",
            "  name: \"LogicalNot\"\n",
            "  op: \"LogicalNot\"\n",
            "  input: \"a\"\n",
            "}\n",
            "node {\n",
            "  name: \"Identity\"\n",
            "  op: \"Identity\"\n",
            "  input: \"LogicalNot\"\n",
            "  attr {\n",
            "    key: \"T\"\n",
            "    value {\n",
            "      type: DT_BOOL\n",
            "    }\n",
            "  }\n",
            "}\n",
            "versions {\n",
            "  producer: 1994\n",
            "}\n",
            "\n"
          ]
        }
      ]
    },
    {
      "cell_type": "code",
      "source": [
        "# 입력값 정의 (int32 텐서)\n",
        "a = tf.constant([1, 0, 1, 0])\n",
        "b = tf.constant([0, 1, 0, 1])\n",
        "\n",
        "# Concrete Function 변환\n",
        "or_concrete = or_test.get_concrete_function(a, b)\n",
        "xor_concrete = xor_test.get_concrete_function(a, b)\n",
        "not_concrete = not_test.get_concrete_function(a)\n",
        "\n",
        "# 내부 그래프 출력\n",
        "print(\"OR Graph:\")\n",
        "print(or_concrete.graph.as_graph_def())\n",
        "\n",
        "print(\"\\nXOR Graph:\")\n",
        "print(xor_concrete.graph.as_graph_def())\n",
        "\n",
        "print(\"\\nNOT Graph:\")\n",
        "print(not_concrete.graph.as_graph_def())"
      ],
      "metadata": {
        "id": "F9bE0jDIeBzI",
        "outputId": "187e463c-e31b-422a-efd3-721c64f69a59",
        "colab": {
          "base_uri": "https://localhost:8080/"
        }
      },
      "execution_count": null,
      "outputs": [
        {
          "output_type": "stream",
          "name": "stdout",
          "text": [
            "OR Graph:\n",
            "node {\n",
            "  name: \"a\"\n",
            "  op: \"Placeholder\"\n",
            "  attr {\n",
            "    key: \"shape\"\n",
            "    value {\n",
            "      shape {\n",
            "        dim {\n",
            "          size: 4\n",
            "        }\n",
            "      }\n",
            "    }\n",
            "  }\n",
            "  attr {\n",
            "    key: \"dtype\"\n",
            "    value {\n",
            "      type: DT_INT32\n",
            "    }\n",
            "  }\n",
            "  attr {\n",
            "    key: \"_user_specified_name\"\n",
            "    value {\n",
            "      s: \"a\"\n",
            "    }\n",
            "  }\n",
            "}\n",
            "node {\n",
            "  name: \"b\"\n",
            "  op: \"Placeholder\"\n",
            "  attr {\n",
            "    key: \"shape\"\n",
            "    value {\n",
            "      shape {\n",
            "        dim {\n",
            "          size: 4\n",
            "        }\n",
            "      }\n",
            "    }\n",
            "  }\n",
            "  attr {\n",
            "    key: \"dtype\"\n",
            "    value {\n",
            "      type: DT_INT32\n",
            "    }\n",
            "  }\n",
            "  attr {\n",
            "    key: \"_user_specified_name\"\n",
            "    value {\n",
            "      s: \"b\"\n",
            "    }\n",
            "  }\n",
            "}\n",
            "node {\n",
            "  name: \"or/BitwiseOr\"\n",
            "  op: \"BitwiseOr\"\n",
            "  input: \"a\"\n",
            "  input: \"b\"\n",
            "  attr {\n",
            "    key: \"T\"\n",
            "    value {\n",
            "      type: DT_INT32\n",
            "    }\n",
            "  }\n",
            "}\n",
            "node {\n",
            "  name: \"Identity\"\n",
            "  op: \"Identity\"\n",
            "  input: \"or/BitwiseOr\"\n",
            "  attr {\n",
            "    key: \"T\"\n",
            "    value {\n",
            "      type: DT_INT32\n",
            "    }\n",
            "  }\n",
            "}\n",
            "versions {\n",
            "  producer: 1994\n",
            "}\n",
            "\n",
            "\n",
            "XOR Graph:\n",
            "node {\n",
            "  name: \"a\"\n",
            "  op: \"Placeholder\"\n",
            "  attr {\n",
            "    key: \"shape\"\n",
            "    value {\n",
            "      shape {\n",
            "        dim {\n",
            "          size: 4\n",
            "        }\n",
            "      }\n",
            "    }\n",
            "  }\n",
            "  attr {\n",
            "    key: \"dtype\"\n",
            "    value {\n",
            "      type: DT_INT32\n",
            "    }\n",
            "  }\n",
            "  attr {\n",
            "    key: \"_user_specified_name\"\n",
            "    value {\n",
            "      s: \"a\"\n",
            "    }\n",
            "  }\n",
            "}\n",
            "node {\n",
            "  name: \"b\"\n",
            "  op: \"Placeholder\"\n",
            "  attr {\n",
            "    key: \"shape\"\n",
            "    value {\n",
            "      shape {\n",
            "        dim {\n",
            "          size: 4\n",
            "        }\n",
            "      }\n",
            "    }\n",
            "  }\n",
            "  attr {\n",
            "    key: \"dtype\"\n",
            "    value {\n",
            "      type: DT_INT32\n",
            "    }\n",
            "  }\n",
            "  attr {\n",
            "    key: \"_user_specified_name\"\n",
            "    value {\n",
            "      s: \"b\"\n",
            "    }\n",
            "  }\n",
            "}\n",
            "node {\n",
            "  name: \"xor/BitwiseXor\"\n",
            "  op: \"BitwiseXor\"\n",
            "  input: \"a\"\n",
            "  input: \"b\"\n",
            "  attr {\n",
            "    key: \"T\"\n",
            "    value {\n",
            "      type: DT_INT32\n",
            "    }\n",
            "  }\n",
            "}\n",
            "node {\n",
            "  name: \"Identity\"\n",
            "  op: \"Identity\"\n",
            "  input: \"xor/BitwiseXor\"\n",
            "  attr {\n",
            "    key: \"T\"\n",
            "    value {\n",
            "      type: DT_INT32\n",
            "    }\n",
            "  }\n",
            "}\n",
            "versions {\n",
            "  producer: 1994\n",
            "}\n",
            "\n",
            "\n",
            "NOT Graph:\n",
            "node {\n",
            "  name: \"a\"\n",
            "  op: \"Placeholder\"\n",
            "  attr {\n",
            "    key: \"shape\"\n",
            "    value {\n",
            "      shape {\n",
            "        dim {\n",
            "          size: 4\n",
            "        }\n",
            "      }\n",
            "    }\n",
            "  }\n",
            "  attr {\n",
            "    key: \"dtype\"\n",
            "    value {\n",
            "      type: DT_INT32\n",
            "    }\n",
            "  }\n",
            "  attr {\n",
            "    key: \"_user_specified_name\"\n",
            "    value {\n",
            "      s: \"a\"\n",
            "    }\n",
            "  }\n",
            "}\n",
            "node {\n",
            "  name: \"Invert\"\n",
            "  op: \"Invert\"\n",
            "  input: \"a\"\n",
            "  attr {\n",
            "    key: \"T\"\n",
            "    value {\n",
            "      type: DT_INT32\n",
            "    }\n",
            "  }\n",
            "}\n",
            "node {\n",
            "  name: \"Identity\"\n",
            "  op: \"Identity\"\n",
            "  input: \"Invert\"\n",
            "  attr {\n",
            "    key: \"T\"\n",
            "    value {\n",
            "      type: DT_INT32\n",
            "    }\n",
            "  }\n",
            "}\n",
            "versions {\n",
            "  producer: 1994\n",
            "}\n",
            "\n"
          ]
        }
      ]
    },
    {
      "cell_type": "code",
      "source": [],
      "metadata": {
        "id": "V8g-6XQBe7f6"
      },
      "execution_count": null,
      "outputs": []
    }
  ]
}