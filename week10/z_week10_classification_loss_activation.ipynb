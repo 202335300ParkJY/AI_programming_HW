{
  "nbformat": 4,
  "nbformat_minor": 0,
  "metadata": {
    "colab": {
      "provenance": []
    },
    "kernelspec": {
      "name": "python3",
      "display_name": "Python 3"
    },
    "language_info": {
      "name": "python"
    }
  },
  "cells": [
    {
      "cell_type": "code",
      "execution_count": 1,
      "metadata": {
        "id": "X-JXv5QutUi_"
      },
      "outputs": [],
      "source": [
        "import torch"
      ]
    },
    {
      "cell_type": "code",
      "source": [
        "torch.set_printoptions(precision=2) # 너무 많은 소수점 나오는 것을 방지하기 위해 소수점 2자리까지. 2"
      ],
      "metadata": {
        "id": "-T-iosRguGKW"
      },
      "execution_count": 6,
      "outputs": []
    },
    {
      "cell_type": "code",
      "source": [
        "import torch\n",
        "# import torch.nn.functional as F\n",
        "\n",
        "# 원시 출력값 (logits)\n",
        "logits = torch.tensor([2.0, -1.0, 0.5])\n",
        "\n",
        "# Sigmoid 적용\n",
        "sigmoid_outputs = torch.sigmoid(logits)\n",
        "\n",
        "# Print Output\n",
        "torch.set_printoptions(precision=2) # 너무 많은 소수점 나오는 것을 방지하기 위해 소수점 2자리까지. 2\n",
        "print('Sigmoid outputs:', sigmoid_outputs)"
      ],
      "metadata": {
        "colab": {
          "base_uri": "https://localhost:8080/"
        },
        "id": "O1_0cGhKtthB",
        "outputId": "73f8230b-7aad-4101-a601-273fedd8370e"
      },
      "execution_count": 7,
      "outputs": [
        {
          "output_type": "stream",
          "name": "stdout",
          "text": [
            "Sigmoid outputs: tensor([0.88, 0.27, 0.62])\n"
          ]
        }
      ]
    },
    {
      "cell_type": "code",
      "source": [
        "import torch\n",
        "import torch.nn.functional as F\n",
        "\n",
        "# 출려값 (logits)\n",
        "logits = torch.tensor([2.0, 1.0, 0.1])\n",
        "\n",
        "# softmax\n",
        "softmax_outputs = F.softmax(logits, dim=-1) # dim=-1로 해서 마지막 차원을 기준으로 적용.(Softmax 모듈 초기화)\n",
        "# softmax_outputs = F.softmax(logits, dim=0) # dim=0로 해서 0번 차원 즉, 첫번째 차원을 기준으로 적용.\n",
        "print(f\"{softmax_outputs=}\")"
      ],
      "metadata": {
        "colab": {
          "base_uri": "https://localhost:8080/"
        },
        "id": "5n8ulrNiuLz-",
        "outputId": "d4f225bf-4091-41ca-b019-5fb9013a4d89"
      },
      "execution_count": 12,
      "outputs": [
        {
          "output_type": "stream",
          "name": "stdout",
          "text": [
            "softmax_outputs=tensor([0.66, 0.24, 0.10])\n"
          ]
        }
      ]
    },
    {
      "cell_type": "markdown",
      "source": [
        "아래 코드는 dim=0과 dim=-1의 결과값을 같이 볼 수 있게 한 코드."
      ],
      "metadata": {
        "id": "6wLuMTiPy9wB"
      }
    },
    {
      "cell_type": "code",
      "source": [
        "import torch\n",
        "import torch.nn.functional as F\n",
        "\n",
        "# 원시 출력값 (logits)\n",
        "logits = torch.tensor([2.0, 1.0, 0.1])\n",
        "\n",
        "# Softmax 적용\n",
        "softmax_outputs_1 = F.softmax(logits, dim=0)\n",
        "softmax_outputs_2 = F.softmax(logits, dim=-1)\n",
        "\n",
        "# 출력 결과\n",
        "print(f'{softmax_outputs_1=}')\n",
        "print(f'{softmax_outputs_2=}')"
      ],
      "metadata": {
        "colab": {
          "base_uri": "https://localhost:8080/"
        },
        "id": "rxRVlEqKy0kB",
        "outputId": "fa5c3149-982d-44f3-e2e6-83b21341c4f0"
      },
      "execution_count": 13,
      "outputs": [
        {
          "output_type": "stream",
          "name": "stdout",
          "text": [
            "softmax_outputs_1=tensor([0.66, 0.24, 0.10])\n",
            "softmax_outputs_2=tensor([0.66, 0.24, 0.10])\n"
          ]
        }
      ]
    },
    {
      "cell_type": "markdown",
      "source": [
        "# LogSoftmax"
      ],
      "metadata": {
        "id": "wV6ZxT7x5GRi"
      }
    },
    {
      "cell_type": "code",
      "source": [
        "import torch.nn as nn"
      ],
      "metadata": {
        "id": "GOx1IcJb5NZi"
      },
      "execution_count": 16,
      "outputs": []
    },
    {
      "cell_type": "code",
      "source": [
        "# 모델 출력\n",
        "logits = torch.tensor(\n",
        "\t[[0.1, 0.2, 0.7], # max idx 2\n",
        "     \t [0.8, 0.1, 0.1], # max idx 0\n",
        "     \t [0.3, 0.5, 0.2]], # max idx 1\n",
        "    \trequires_grad=True).float()\n",
        "\n",
        "# 타겟 클래스 인덱스\n",
        "targets = torch.tensor([2, 0, 1]).long()\n",
        "\n",
        "# 로그 소프트맥스 적용\n",
        "log_softmax = F.log_softmax(logits, dim=1)\n",
        "\n",
        "# NLLLoss 선언\n",
        "criterion = nn.NLLLoss()\n",
        "loss = criterion(log_softmax, targets)\n",
        "print(f'NLLLoss with LogSoftmax: {loss.item():.2f}')"
      ],
      "metadata": {
        "colab": {
          "base_uri": "https://localhost:8080/"
        },
        "id": "lH0takNv5LgS",
        "outputId": "c9604274-067b-4b83-95e4-469dd2a3c3e5"
      },
      "execution_count": 17,
      "outputs": [
        {
          "output_type": "stream",
          "name": "stdout",
          "text": [
            "NLLLoss with LogSoftmax: 0.80\n"
          ]
        }
      ]
    },
    {
      "cell_type": "markdown",
      "source": [
        "# BCELoss"
      ],
      "metadata": {
        "id": "L34LkKsHzhXJ"
      }
    },
    {
      "cell_type": "code",
      "source": [
        "import torch.nn as nn\n",
        "\n",
        "# 예측값과 실제값\n",
        "outputs = torch.tensor([0.7, 0.2, 1.0], requires_grad=True).float()\n",
        "targets = torch.tensor([1.0, 0.0, 1.0]).float()\n",
        "\n",
        "# BCELoss 선언\n",
        "criterion = nn.BCELoss()\n",
        "\n",
        "# 시그모이드 활성화 적용\n",
        "outputs = torch.sigmoid(outputs)\n",
        "\n",
        "# 손실 계산\n",
        "loss = criterion(outputs, targets)\n",
        "print('BCELoss:', loss.item())"
      ],
      "metadata": {
        "colab": {
          "base_uri": "https://localhost:8080/"
        },
        "id": "T20bQOqqyTe-",
        "outputId": "4aacc555-2754-443d-df3f-eb3365f521b2"
      },
      "execution_count": 21,
      "outputs": [
        {
          "output_type": "stream",
          "name": "stdout",
          "text": [
            "BCELoss: 0.5048621892929077\n"
          ]
        }
      ]
    },
    {
      "cell_type": "code",
      "source": [
        "import torch.nn as nn\n",
        "\n",
        "# 예측값과 실제값\n",
        "outputs = torch.tensor([0.7, -10.4, 11.0], requires_grad=True).float()\n",
        "targets = torch.tensor([1.0, 0.0, 1.0]).float()\n",
        "\n",
        "# BCELoss 선언\n",
        "criterion = nn.BCELoss()\n",
        "\n",
        "# 시그모이드 활성화 적용\n",
        "outputs = torch.sigmoid(outputs)\n",
        "\n",
        "# 손실 계산\n",
        "loss = criterion(outputs, targets)\n",
        "print('BCELoss:', loss.item())"
      ],
      "metadata": {
        "colab": {
          "base_uri": "https://localhost:8080/"
        },
        "id": "4siwUU3z7GHU",
        "outputId": "59c17d7e-78f3-4448-cd95-e9bf42c506e6"
      },
      "execution_count": 22,
      "outputs": [
        {
          "output_type": "stream",
          "name": "stdout",
          "text": [
            "BCELoss: 0.13441108167171478\n"
          ]
        }
      ]
    },
    {
      "cell_type": "code",
      "source": [
        "import torch\n",
        "import torch.nn as nn\n",
        "\n",
        "outputs = torch.tensor([5.0, -5.0, 5.0], requires_grad=True).float()\n",
        "targets = torch.tensor([1.0, 0.0, 1.0]).float()\n",
        "\n",
        "# BCELoss 선언\n",
        "criterion = nn.BCELoss()\n",
        "\n",
        "# 시그모이드 적용\n",
        "outputs = torch.sigmoid(outputs)\n",
        "\n",
        "# 손실 계산\n",
        "loss = criterion(outputs, targets)\n",
        "print('BCELoss:', loss.item())"
      ],
      "metadata": {
        "colab": {
          "base_uri": "https://localhost:8080/"
        },
        "id": "czwQLWhu7Idq",
        "outputId": "a9ad179c-e27f-41f6-ed9e-9ab8e718c8db"
      },
      "execution_count": 28,
      "outputs": [
        {
          "output_type": "stream",
          "name": "stdout",
          "text": [
            "BCELoss: 0.0067153326235711575\n"
          ]
        }
      ]
    },
    {
      "cell_type": "code",
      "source": [
        "import torch\n",
        "import torch.nn as nn\n",
        "\n",
        "\n",
        "logits = torch.tensor([10.0, -10.0, 10.0], requires_grad=True).float()\n",
        "targets = torch.tensor([1.0, 0.0, 1.0]).float()\n",
        "\n",
        "# 시그모이드 적용\n",
        "outputs = torch.sigmoid(logits)\n",
        "\n",
        "# BCE 손실 함수\n",
        "criterion = nn.BCELoss()\n",
        "loss = criterion(outputs, targets)\n",
        "\n",
        "print(\"BCELoss:\", loss.item())"
      ],
      "metadata": {
        "colab": {
          "base_uri": "https://localhost:8080/"
        },
        "id": "mIIVqHhF7dvD",
        "outputId": "7cabb036-c32b-4b40-b7fc-2c56efa5599b"
      },
      "execution_count": 30,
      "outputs": [
        {
          "output_type": "stream",
          "name": "stdout",
          "text": [
            "BCELoss: 4.541281668934971e-05\n"
          ]
        }
      ]
    },
    {
      "cell_type": "markdown",
      "source": [
        "# BCEWithLogitsLoss"
      ],
      "metadata": {
        "id": "mtl3jY4S9L6F"
      }
    },
    {
      "cell_type": "code",
      "source": [
        "import torch\n",
        "import torch.nn as nn\n",
        "\n",
        "# 원시 출력값 (시그모이드 활성화 적용 전 raw score)\n",
        "raw_outputs = torch.tensor([0.5, -1.0, 2.0], requires_grad=True)\n",
        "targets = torch.tensor([1.0, 0.0, 1.0])\n",
        "\n",
        "# BCEWithLogitsLoss 선언\n",
        "criterion = nn.BCEWithLogitsLoss()\n",
        "\n",
        "# 손실 계산 (시그모이드 내부 적용)\n",
        "loss = criterion(raw_outputs, targets)\n",
        "print(f'BCEWithLogitsLoss: {loss.item():.4f}')"
      ],
      "metadata": {
        "colab": {
          "base_uri": "https://localhost:8080/"
        },
        "id": "Gmrmmd4480KW",
        "outputId": "a603664d-0433-4908-ed6a-7d7b82e4e87c"
      },
      "execution_count": 27,
      "outputs": [
        {
          "output_type": "stream",
          "name": "stdout",
          "text": [
            "BCEWithLogitsLoss: 0.3048\n"
          ]
        }
      ]
    },
    {
      "cell_type": "markdown",
      "source": [
        "# Corss Entropy Loss"
      ],
      "metadata": {
        "id": "jkUmzprAAXJm"
      }
    },
    {
      "cell_type": "code",
      "source": [
        "import torch\n",
        "import torch.nn as nn\n",
        "\n",
        "# 원시 출력값 (softmax 활성화 적용 전)\n",
        "raw_outputs = torch.tensor(\n",
        "    [[1.0, 2.0, 3.0],\n",
        "     [1.0, 2.0, 0.0],\n",
        "     [0.0, 2.0, 1.0]],\n",
        "    requires_grad=True).float()\n",
        "targets = torch.tensor([2, 0, 1]).long()  # 각 샘플의 클래스 인덱스\n",
        "print(targets.dtype)\n",
        "# CrossEntropyLoss 선언\n",
        "criterion = nn.CrossEntropyLoss()\n",
        "\n",
        "# 손실 계산 (softmax 내부 적용)\n",
        "loss = criterion(raw_outputs, targets)\n",
        "print(f'CrossEntropyLoss: {loss.item():.2f}')"
      ],
      "metadata": {
        "colab": {
          "base_uri": "https://localhost:8080/"
        },
        "id": "9U0-6UAzA9Ya",
        "outputId": "917c834c-64f6-4fcf-c1f7-21df78dbf6f2"
      },
      "execution_count": 34,
      "outputs": [
        {
          "output_type": "stream",
          "name": "stdout",
          "text": [
            "torch.int64\n",
            "CrossEntropyLoss: 0.74\n"
          ]
        }
      ]
    },
    {
      "cell_type": "markdown",
      "source": [
        "# NLLLoss"
      ],
      "metadata": {
        "id": "lBT_ZIo3DNtQ"
      }
    },
    {
      "cell_type": "code",
      "source": [
        "import torch\n",
        "import torch.nn\n",
        "\n",
        "# 모델 출력\n",
        "logits = torch.tensor(\n",
        "    [[0.1, 0.2, 0.7], # max idx 2\n",
        "     [0.8, 0.1, 0.1], # max idx 0\n",
        "     [0.3, 0.5, 0.2]], # max idx 1\n",
        "    requires_grad=True).float()\n",
        "\n",
        "# 타겟 클래스 인덱스\n",
        "tatgets = torch.tensor([2, 0, 1]).long()\n",
        "\n",
        "# 로그 ㅅ프트맥스 적용\n",
        "log_softmax = F.log_softmax(logits, dim=1)\n",
        "\n",
        "# NLLLoss 선언\n",
        "criterion = nn.NLLLoss()\n",
        "loss = criterion(log_softmax, targets)\n",
        "print(f'NLLLoss with LogSoftmax: {loss.item():.2f}')"
      ],
      "metadata": {
        "colab": {
          "base_uri": "https://localhost:8080/"
        },
        "id": "23M5zmM0BAzp",
        "outputId": "e9c8fe34-26e9-48a3-bc8b-3adebc5c85a4"
      },
      "execution_count": 36,
      "outputs": [
        {
          "output_type": "stream",
          "name": "stdout",
          "text": [
            "NLLLoss with LogSoftmax: 0.80\n"
          ]
        }
      ]
    },
    {
      "cell_type": "code",
      "source": [],
      "metadata": {
        "id": "McdsWsmpDP1y"
      },
      "execution_count": null,
      "outputs": []
    }
  ]
}
